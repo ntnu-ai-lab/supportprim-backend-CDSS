{
 "cells": [
  {
   "cell_type": "markdown",
   "metadata": {},
   "source": [
    "# Inser or Upsert documents to Elastic search"
   ]
  },
  {
   "cell_type": "code",
   "execution_count": 1,
   "metadata": {},
   "outputs": [],
   "source": [
    "es_base_url = 'http://localhost:9200'\n",
    "headers = {'Content-Type': 'application/json'}"
   ]
  },
  {
   "cell_type": "code",
   "execution_count": 2,
   "metadata": {},
   "outputs": [],
   "source": [
    "# auto sugestion with tab\n",
    "%config IPCompleter.greedy=True\n",
    "%config InlineBackend.figure_format = 'retina'\n",
    "%matplotlib inline "
   ]
  },
  {
   "cell_type": "code",
   "execution_count": 3,
   "metadata": {},
   "outputs": [
    {
     "data": {
      "text/plain": [
       "'/lhome/amardj/ISM/python_code/es_scripts'"
      ]
     },
     "execution_count": 3,
     "metadata": {},
     "output_type": "execute_result"
    }
   ],
   "source": [
    "import pandas as pd\n",
    "import numpy as np\n",
    "import seaborn as sns\n",
    "import matplotlib.pyplot as plt\n",
    "\n",
    "import datetime as datetime\n",
    "\n",
    "import requests\n",
    "import json\n",
    "\n",
    "import os\n",
    "os.getcwd()"
   ]
  },
  {
   "cell_type": "code",
   "execution_count": 4,
   "metadata": {},
   "outputs": [],
   "source": [
    "sys_date = datetime.datetime.today().strftime( '%y%m%d')"
   ]
  },
  {
   "cell_type": "code",
   "execution_count": 5,
   "metadata": {},
   "outputs": [],
   "source": [
    "file_name = '/lhome/amardj/ISM/python_code/es_scripts/resources/backend_supportprim_data/2020-10/gen/' + '2_sp_dataset_clean_201009.csv'"
   ]
  },
  {
   "cell_type": "code",
   "execution_count": 6,
   "metadata": {},
   "outputs": [],
   "source": [
    "df_csv = pd.read_csv(file_name, index_col='id')"
   ]
  },
  {
   "cell_type": "code",
   "execution_count": 7,
   "metadata": {},
   "outputs": [
    {
     "data": {
      "text/html": [
       "<div>\n",
       "<style scoped>\n",
       "    .dataframe tbody tr th:only-of-type {\n",
       "        vertical-align: middle;\n",
       "    }\n",
       "\n",
       "    .dataframe tbody tr th {\n",
       "        vertical-align: top;\n",
       "    }\n",
       "\n",
       "    .dataframe thead th {\n",
       "        text-align: right;\n",
       "    }\n",
       "</style>\n",
       "<table border=\"1\" class=\"dataframe\">\n",
       "  <thead>\n",
       "    <tr style=\"text-align: right;\">\n",
       "      <th></th>\n",
       "      <th>activity_1</th>\n",
       "      <th>age_1</th>\n",
       "      <th>back_nevro_pow_1</th>\n",
       "      <th>back_nevro_reflex_1</th>\n",
       "      <th>back_nevro_sens_1</th>\n",
       "      <th>back_slr_1</th>\n",
       "      <th>birth_year</th>\n",
       "      <th>bmi_1</th>\n",
       "      <th>body_main_1</th>\n",
       "      <th>childhood_1</th>\n",
       "      <th>...</th>\n",
       "      <th>walk_aid_1</th>\n",
       "      <th>weight_1</th>\n",
       "      <th>work_ability_1</th>\n",
       "      <th>work_ability_3</th>\n",
       "      <th>work_ability_w2</th>\n",
       "      <th>work_ability_w4</th>\n",
       "      <th>work_ability_w8</th>\n",
       "      <th>work_type_1</th>\n",
       "      <th>clinic_id</th>\n",
       "      <th>patient_id</th>\n",
       "    </tr>\n",
       "    <tr>\n",
       "      <th>id</th>\n",
       "      <th></th>\n",
       "      <th></th>\n",
       "      <th></th>\n",
       "      <th></th>\n",
       "      <th></th>\n",
       "      <th></th>\n",
       "      <th></th>\n",
       "      <th></th>\n",
       "      <th></th>\n",
       "      <th></th>\n",
       "      <th></th>\n",
       "      <th></th>\n",
       "      <th></th>\n",
       "      <th></th>\n",
       "      <th></th>\n",
       "      <th></th>\n",
       "      <th></th>\n",
       "      <th></th>\n",
       "      <th></th>\n",
       "      <th></th>\n",
       "      <th></th>\n",
       "    </tr>\n",
       "  </thead>\n",
       "  <tbody>\n",
       "    <tr>\n",
       "      <td>0</td>\n",
       "      <td>slightly reduced</td>\n",
       "      <td>22.0</td>\n",
       "      <td>NaN</td>\n",
       "      <td>NaN</td>\n",
       "      <td>NaN</td>\n",
       "      <td>NaN</td>\n",
       "      <td>1998</td>\n",
       "      <td>27.636057</td>\n",
       "      <td>hip</td>\n",
       "      <td>very good</td>\n",
       "      <td>...</td>\n",
       "      <td>no walkaid</td>\n",
       "      <td>78</td>\n",
       "      <td>10</td>\n",
       "      <td>9</td>\n",
       "      <td>9.0</td>\n",
       "      <td>9.0</td>\n",
       "      <td>NaN</td>\n",
       "      <td>NaN</td>\n",
       "      <td>adam_saso</td>\n",
       "      <td>adam_saso_38888_1998</td>\n",
       "    </tr>\n",
       "    <tr>\n",
       "      <td>1</td>\n",
       "      <td>slightly reduced</td>\n",
       "      <td>23.0</td>\n",
       "      <td>NaN</td>\n",
       "      <td>NaN</td>\n",
       "      <td>NaN</td>\n",
       "      <td>NaN</td>\n",
       "      <td>1997</td>\n",
       "      <td>18.339100</td>\n",
       "      <td>knee</td>\n",
       "      <td>moderate</td>\n",
       "      <td>...</td>\n",
       "      <td>no walkaid</td>\n",
       "      <td>53</td>\n",
       "      <td>6</td>\n",
       "      <td>5</td>\n",
       "      <td>3.0</td>\n",
       "      <td>3.0</td>\n",
       "      <td>7.0</td>\n",
       "      <td>NaN</td>\n",
       "      <td>adam_saso</td>\n",
       "      <td>adam_saso_39151_1997</td>\n",
       "    </tr>\n",
       "    <tr>\n",
       "      <td>2</td>\n",
       "      <td>not reduced</td>\n",
       "      <td>21.0</td>\n",
       "      <td>NaN</td>\n",
       "      <td>NaN</td>\n",
       "      <td>NaN</td>\n",
       "      <td>not applicable</td>\n",
       "      <td>1999</td>\n",
       "      <td>20.160700</td>\n",
       "      <td>back</td>\n",
       "      <td>good</td>\n",
       "      <td>...</td>\n",
       "      <td>no walkaid</td>\n",
       "      <td>69</td>\n",
       "      <td>8</td>\n",
       "      <td>9</td>\n",
       "      <td>NaN</td>\n",
       "      <td>NaN</td>\n",
       "      <td>NaN</td>\n",
       "      <td>work demand much walking</td>\n",
       "      <td>adam_saso</td>\n",
       "      <td>adam_saso_39178_1999</td>\n",
       "    </tr>\n",
       "    <tr>\n",
       "      <td>3</td>\n",
       "      <td>quite reduced</td>\n",
       "      <td>27.0</td>\n",
       "      <td>NaN</td>\n",
       "      <td>NaN</td>\n",
       "      <td>NaN</td>\n",
       "      <td>no</td>\n",
       "      <td>1993</td>\n",
       "      <td>25.217360</td>\n",
       "      <td>back</td>\n",
       "      <td>difficult</td>\n",
       "      <td>...</td>\n",
       "      <td>no walkaid</td>\n",
       "      <td>67</td>\n",
       "      <td>6</td>\n",
       "      <td>7</td>\n",
       "      <td>5.0</td>\n",
       "      <td>5.0</td>\n",
       "      <td>4.0</td>\n",
       "      <td>mostly seated</td>\n",
       "      <td>adam_saso</td>\n",
       "      <td>adam_saso_39185_1993</td>\n",
       "    </tr>\n",
       "    <tr>\n",
       "      <td>4</td>\n",
       "      <td>very reduced</td>\n",
       "      <td>31.0</td>\n",
       "      <td>NaN</td>\n",
       "      <td>NaN</td>\n",
       "      <td>NaN</td>\n",
       "      <td>NaN</td>\n",
       "      <td>1989</td>\n",
       "      <td>24.464602</td>\n",
       "      <td>neck</td>\n",
       "      <td>very good</td>\n",
       "      <td>...</td>\n",
       "      <td>no walkaid</td>\n",
       "      <td>65</td>\n",
       "      <td>0</td>\n",
       "      <td>2</td>\n",
       "      <td>3.0</td>\n",
       "      <td>3.0</td>\n",
       "      <td>2.0</td>\n",
       "      <td>mostly seated</td>\n",
       "      <td>adam_saso</td>\n",
       "      <td>adam_saso_39442_1989</td>\n",
       "    </tr>\n",
       "  </tbody>\n",
       "</table>\n",
       "<p>5 rows × 355 columns</p>\n",
       "</div>"
      ],
      "text/plain": [
       "          activity_1  age_1 back_nevro_pow_1  back_nevro_reflex_1  \\\n",
       "id                                                                  \n",
       "0   slightly reduced   22.0              NaN                  NaN   \n",
       "1   slightly reduced   23.0              NaN                  NaN   \n",
       "2        not reduced   21.0              NaN                  NaN   \n",
       "3      quite reduced   27.0              NaN                  NaN   \n",
       "4       very reduced   31.0              NaN                  NaN   \n",
       "\n",
       "   back_nevro_sens_1      back_slr_1  birth_year      bmi_1 body_main_1  \\\n",
       "id                                                                        \n",
       "0                NaN             NaN        1998  27.636057         hip   \n",
       "1                NaN             NaN        1997  18.339100        knee   \n",
       "2                NaN  not applicable        1999  20.160700        back   \n",
       "3                NaN              no        1993  25.217360        back   \n",
       "4                NaN             NaN        1989  24.464602        neck   \n",
       "\n",
       "   childhood_1  ...  walk_aid_1  weight_1 work_ability_1  work_ability_3  \\\n",
       "id              ...                                                        \n",
       "0    very good  ...  no walkaid        78             10               9   \n",
       "1     moderate  ...  no walkaid        53              6               5   \n",
       "2         good  ...  no walkaid        69              8               9   \n",
       "3    difficult  ...  no walkaid        67              6               7   \n",
       "4    very good  ...  no walkaid        65              0               2   \n",
       "\n",
       "    work_ability_w2  work_ability_w4  work_ability_w8  \\\n",
       "id                                                      \n",
       "0               9.0              9.0              NaN   \n",
       "1               3.0              3.0              7.0   \n",
       "2               NaN              NaN              NaN   \n",
       "3               5.0              5.0              4.0   \n",
       "4               3.0              3.0              2.0   \n",
       "\n",
       "                 work_type_1  clinic_id            patient_id  \n",
       "id                                                             \n",
       "0                        NaN  adam_saso  adam_saso_38888_1998  \n",
       "1                        NaN  adam_saso  adam_saso_39151_1997  \n",
       "2   work demand much walking  adam_saso  adam_saso_39178_1999  \n",
       "3              mostly seated  adam_saso  adam_saso_39185_1993  \n",
       "4              mostly seated  adam_saso  adam_saso_39442_1989  \n",
       "\n",
       "[5 rows x 355 columns]"
      ]
     },
     "execution_count": 7,
     "metadata": {},
     "output_type": "execute_result"
    }
   ],
   "source": [
    "df_csv.head()"
   ]
  },
  {
   "cell_type": "code",
   "execution_count": 8,
   "metadata": {},
   "outputs": [],
   "source": [
    "js = df_csv.to_json(orient='index')"
   ]
  },
  {
   "cell_type": "code",
   "execution_count": 9,
   "metadata": {},
   "outputs": [],
   "source": [
    "df1 = df_csv.fillna( value=\"\")"
   ]
  },
  {
   "cell_type": "code",
   "execution_count": 10,
   "metadata": {},
   "outputs": [],
   "source": [
    "dict_csv = df1.to_dict( orient='index')"
   ]
  },
  {
   "cell_type": "code",
   "execution_count": null,
   "metadata": {},
   "outputs": [],
   "source": []
  },
  {
   "cell_type": "code",
   "execution_count": 11,
   "metadata": {},
   "outputs": [],
   "source": [
    "json_str = json.dumps( dict_csv, allow_nan=True, ensure_ascii=False)"
   ]
  },
  {
   "cell_type": "code",
   "execution_count": 12,
   "metadata": {},
   "outputs": [],
   "source": [
    "#print(json_str)"
   ]
  },
  {
   "cell_type": "code",
   "execution_count": 13,
   "metadata": {},
   "outputs": [],
   "source": [
    "import codecs\n",
    "import json\n",
    "\n",
    "with codecs.open('2_sp_dataset_clean_201009.json', 'w', encoding='utf-8') as f:\n",
    "    json.dump(dict_csv, f, ensure_ascii=False)"
   ]
  },
  {
   "cell_type": "code",
   "execution_count": 14,
   "metadata": {},
   "outputs": [
    {
     "data": {
      "text/plain": [
       "'2020-10-09T14:32:02.326648+02:00'"
      ]
     },
     "execution_count": 14,
     "metadata": {},
     "output_type": "execute_result"
    }
   ],
   "source": [
    "import datetime\n",
    "datetime.datetime.now().astimezone().isoformat()"
   ]
  },
  {
   "cell_type": "code",
   "execution_count": null,
   "metadata": {},
   "outputs": [],
   "source": []
  },
  {
   "cell_type": "code",
   "execution_count": 15,
   "metadata": {},
   "outputs": [],
   "source": [
    "es_main_index = 'manual_patients'\n",
    "es_trace_index = 'manual_patient_traces'"
   ]
  },
  {
   "cell_type": "markdown",
   "metadata": {},
   "source": [
    "# "
   ]
  },
  {
   "cell_type": "code",
   "execution_count": null,
   "metadata": {},
   "outputs": [],
   "source": []
  },
  {
   "cell_type": "code",
   "execution_count": 16,
   "metadata": {},
   "outputs": [],
   "source": [
    "def get_id_for_pid( pid, es_index):\n",
    "    params = (('filter_path', 'hits.hits._source'))\n",
    "    data = '{  \"query\": {    \"match\": {      \"patientId\": \"'+pid+'\"    }  }}'\n",
    "    response = requests.get(f'{es_base_url}/{es_index}/_search?filter_path=hits.hits._id', headers=headers, data=data)\n",
    "    response_json = response.json()\n",
    "    return response_json.get('hits', {}).get('hits', [{}])[0].get('_id')"
   ]
  },
  {
   "cell_type": "code",
   "execution_count": 17,
   "metadata": {},
   "outputs": [],
   "source": [
    "def get_created_date_for_pid( pid, es_index):\n",
    "    params = (('filter_path', 'hits.hits._source'))\n",
    "    data = '{  \"query\": {    \"match\": {      \"patientId\": \"'+pid+'\"    }  }}'\n",
    "    response = requests.get(f'{es_base_url}/{es_index}/_search?filter_path=hits.hits._source.dateCreated', headers=headers, data=data)\n",
    "    response_json = response.json()\n",
    "    return response_json.get('hits', {}).get('hits', [{}])[0].get('_source',{}).get('dateCreated')"
   ]
  },
  {
   "cell_type": "code",
   "execution_count": 18,
   "metadata": {},
   "outputs": [],
   "source": [
    "get_created_date_for_pid('adam_saso_38888_1998', 'manual_patient_traces')"
   ]
  },
  {
   "cell_type": "code",
   "execution_count": 19,
   "metadata": {},
   "outputs": [],
   "source": [
    "def insert_es_new_doc(json_doc, es_index):\n",
    "    doc = json.dumps(json_doc)\n",
    "    response = requests.post(f'{es_base_url}/{es_index}/_doc', headers=headers, data=doc)\n",
    "    return response.json()"
   ]
  },
  {
   "cell_type": "raw",
   "metadata": {},
   "source": [
    "#insert_es_new_doc( {\"amar\":\"1234\"}, es_index)"
   ]
  },
  {
   "cell_type": "code",
   "execution_count": 20,
   "metadata": {},
   "outputs": [],
   "source": [
    "def update_es_doc_for_id( _id, json_doc, es_index):\n",
    "    upsert_doc = json.dumps({'doc': json.dumps(json_doc), 'doc_as_upsert': True})\n",
    "    response = requests.post(f'{es_base_url}/{es_index}/_update/{_id}?pretty', headers=headers, data=upsert_doc)\n",
    "    return response.json()"
   ]
  },
  {
   "cell_type": "code",
   "execution_count": 21,
   "metadata": {},
   "outputs": [],
   "source": [
    "def upadate_es_index(dict_csv, es_index):     \n",
    "    \n",
    "    es_trace_index = 'manual_patient_traces'\n",
    "    \n",
    "    for val in dict_csv:\n",
    "\n",
    "        doc_json = {}\n",
    "        \n",
    "        patientDetails = dict_csv[val]\n",
    "\n",
    "        patientId = patientDetails.get('patient_id')\n",
    "        clinicId = patientDetails.get('clinic_id')\n",
    "\n",
    "        current_date_time = datetime.datetime.now().astimezone().isoformat(timespec='milliseconds')\n",
    "\n",
    "        doc_json.update(\n",
    "            {\n",
    "                \"patientId\" : patientId, \n",
    "                \"clinicId\" : clinicId, \n",
    "                \"dateCreated\" : current_date_time,\n",
    "                \"dateUpdated\" : current_date_time, \n",
    "                \"status\" : \"INITIAL\", \n",
    "                \"similarPatients\" : { }, \n",
    "                \"patientDetails\": patientDetails\n",
    "            }\n",
    "        )\n",
    "        \n",
    "        #print(patientId)\n",
    "        _id = get_id_for_pid( patientId, es_index)\n",
    "        #print(_id)\n",
    "        \n",
    "        \n",
    "        if _id is None:\n",
    "            print('_id was None, thus inserting doc for pid', patientId)\n",
    "                    \n",
    "            insert_es_new_doc(doc_json, es_index)\n",
    "            insert_es_new_doc(doc_json, es_trace_index)\n",
    "        else :\n",
    "            print('Upserting doc for pid:', patientId, ' and _id: ', _id)\n",
    "            \n",
    "            doc_json['dateCreated'] = get_created_date_for_pid( patientId, es_index)\n",
    "            \n",
    "            insert_es_new_doc(doc_json, es_trace_index)\n",
    "            update_es_doc_for_id(_id, doc_json, es_index)"
   ]
  },
  {
   "cell_type": "code",
   "execution_count": 22,
   "metadata": {},
   "outputs": [
    {
     "name": "stdout",
     "output_type": "stream",
     "text": [
      "_id was None, thus inserting doc for pid adam_saso_38888_1998\n",
      "_id was None, thus inserting doc for pid adam_saso_39151_1997\n",
      "_id was None, thus inserting doc for pid adam_saso_39178_1999\n",
      "_id was None, thus inserting doc for pid adam_saso_39185_1993\n",
      "_id was None, thus inserting doc for pid adam_saso_39442_1989\n",
      "_id was None, thus inserting doc for pid alette_bade_rygh_1808_1969\n",
      "_id was None, thus inserting doc for pid alette_bade_rygh_1810_1989\n",
      "_id was None, thus inserting doc for pid astrid_holmen_8853_1968\n",
      "_id was None, thus inserting doc for pid astrid_holmen_39465_1967\n",
      "_id was None, thus inserting doc for pid fredrik_paulsberg_31903_1972\n",
      "_id was None, thus inserting doc for pid fredrik_paulsberg_31910_1968\n",
      "_id was None, thus inserting doc for pid fredrik_paulsberg_31992_1961\n",
      "_id was None, thus inserting doc for pid fredrik_paulsberg_32035_1969\n",
      "_id was None, thus inserting doc for pid gaute_alstad_sunde_2748_1996\n",
      "_id was None, thus inserting doc for pid gaute_alstad_sunde_8017_1973\n",
      "_id was None, thus inserting doc for pid gaute_alstad_sunde_8092_1982\n",
      "_id was None, thus inserting doc for pid gaute_alstad_sunde_9145_1975\n",
      "_id was None, thus inserting doc for pid gaute_alstad_sunde_9327_1955\n",
      "_id was None, thus inserting doc for pid helge_pedersen_1_1963\n",
      "_id was None, thus inserting doc for pid helge_pedersen_2_1965\n",
      "_id was None, thus inserting doc for pid helge_pedersen_5_1983\n",
      "_id was None, thus inserting doc for pid helge_pedersen_7_1956\n",
      "_id was None, thus inserting doc for pid helge_pedersen_8_1967\n",
      "_id was None, thus inserting doc for pid helge_pedersen_9_1966\n",
      "_id was None, thus inserting doc for pid helge_pedersen_10_1964\n",
      "_id was None, thus inserting doc for pid helge_pedersen_11_1966\n",
      "_id was None, thus inserting doc for pid helge_pedersen_12_1950\n",
      "_id was None, thus inserting doc for pid marianne_bakka_31894_1956\n",
      "_id was None, thus inserting doc for pid marianne_bakka_31909_1995\n",
      "_id was None, thus inserting doc for pid marianne_bakka_32177_1961\n",
      "_id was None, thus inserting doc for pid vidar_guttormsen_11785_1956\n",
      "_id was None, thus inserting doc for pid vidar_guttormsen_17504_1973\n",
      "_id was None, thus inserting doc for pid vidar_guttormsen_26296_1962\n",
      "_id was None, thus inserting doc for pid vidar_guttormsen_30160_1992\n",
      "_id was None, thus inserting doc for pid vidar_guttormsen_31911_1995\n",
      "_id was None, thus inserting doc for pid vidar_guttormsen_31912_1971\n",
      "_id was None, thus inserting doc for pid vidar_guttormsen_31959_1969\n",
      "_id was None, thus inserting doc for pid vidar_guttormsen_32015_1965\n",
      "_id was None, thus inserting doc for pid vidar_guttormsen_32110_1959\n",
      "_id was None, thus inserting doc for pid vidar_guttormsen_32111_1998\n",
      "_id was None, thus inserting doc for pid support15_6245_1969\n",
      "_id was None, thus inserting doc for pid support19_5191_1968\n",
      "_id was None, thus inserting doc for pid support23_3_1950\n",
      "_id was None, thus inserting doc for pid support24_101_1984\n",
      "_id was None, thus inserting doc for pid support24_102_1978\n",
      "_id was None, thus inserting doc for pid support26_1001_1950\n",
      "_id was None, thus inserting doc for pid support28_2000_1973\n",
      "_id was None, thus inserting doc for pid support28_2002_1981\n",
      "_id was None, thus inserting doc for pid support31_32359_1979\n",
      "_id was None, thus inserting doc for pid support7_3816_1984\n",
      "_id was None, thus inserting doc for pid support7_5655_1992\n"
     ]
    }
   ],
   "source": [
    "upadate_es_index( dict_csv, es_main_index)"
   ]
  },
  {
   "cell_type": "code",
   "execution_count": null,
   "metadata": {},
   "outputs": [],
   "source": []
  },
  {
   "cell_type": "code",
   "execution_count": null,
   "metadata": {},
   "outputs": [],
   "source": []
  },
  {
   "cell_type": "code",
   "execution_count": null,
   "metadata": {},
   "outputs": [],
   "source": []
  },
  {
   "cell_type": "code",
   "execution_count": null,
   "metadata": {},
   "outputs": [],
   "source": []
  },
  {
   "cell_type": "code",
   "execution_count": null,
   "metadata": {},
   "outputs": [],
   "source": []
  },
  {
   "cell_type": "code",
   "execution_count": null,
   "metadata": {},
   "outputs": [],
   "source": []
  },
  {
   "cell_type": "code",
   "execution_count": null,
   "metadata": {},
   "outputs": [],
   "source": []
  },
  {
   "cell_type": "code",
   "execution_count": null,
   "metadata": {},
   "outputs": [],
   "source": []
  },
  {
   "cell_type": "code",
   "execution_count": null,
   "metadata": {},
   "outputs": [],
   "source": []
  },
  {
   "cell_type": "code",
   "execution_count": null,
   "metadata": {},
   "outputs": [],
   "source": []
  },
  {
   "cell_type": "code",
   "execution_count": null,
   "metadata": {},
   "outputs": [],
   "source": []
  },
  {
   "cell_type": "code",
   "execution_count": null,
   "metadata": {},
   "outputs": [],
   "source": []
  },
  {
   "cell_type": "code",
   "execution_count": null,
   "metadata": {},
   "outputs": [],
   "source": []
  },
  {
   "cell_type": "code",
   "execution_count": null,
   "metadata": {},
   "outputs": [],
   "source": []
  },
  {
   "cell_type": "code",
   "execution_count": null,
   "metadata": {},
   "outputs": [],
   "source": []
  },
  {
   "cell_type": "code",
   "execution_count": null,
   "metadata": {},
   "outputs": [],
   "source": []
  },
  {
   "cell_type": "code",
   "execution_count": null,
   "metadata": {},
   "outputs": [],
   "source": []
  },
  {
   "cell_type": "code",
   "execution_count": null,
   "metadata": {},
   "outputs": [],
   "source": []
  },
  {
   "cell_type": "code",
   "execution_count": null,
   "metadata": {},
   "outputs": [],
   "source": []
  },
  {
   "cell_type": "code",
   "execution_count": null,
   "metadata": {},
   "outputs": [],
   "source": []
  },
  {
   "cell_type": "code",
   "execution_count": null,
   "metadata": {},
   "outputs": [],
   "source": []
  },
  {
   "cell_type": "code",
   "execution_count": null,
   "metadata": {},
   "outputs": [],
   "source": []
  },
  {
   "cell_type": "code",
   "execution_count": null,
   "metadata": {},
   "outputs": [],
   "source": []
  },
  {
   "cell_type": "code",
   "execution_count": null,
   "metadata": {},
   "outputs": [],
   "source": []
  },
  {
   "cell_type": "code",
   "execution_count": null,
   "metadata": {},
   "outputs": [],
   "source": []
  },
  {
   "cell_type": "code",
   "execution_count": null,
   "metadata": {},
   "outputs": [],
   "source": []
  },
  {
   "cell_type": "code",
   "execution_count": null,
   "metadata": {},
   "outputs": [],
   "source": []
  },
  {
   "cell_type": "code",
   "execution_count": null,
   "metadata": {},
   "outputs": [],
   "source": []
  },
  {
   "cell_type": "code",
   "execution_count": null,
   "metadata": {},
   "outputs": [],
   "source": []
  },
  {
   "cell_type": "code",
   "execution_count": null,
   "metadata": {},
   "outputs": [],
   "source": []
  },
  {
   "cell_type": "code",
   "execution_count": null,
   "metadata": {},
   "outputs": [],
   "source": []
  },
  {
   "cell_type": "code",
   "execution_count": null,
   "metadata": {},
   "outputs": [],
   "source": []
  },
  {
   "cell_type": "code",
   "execution_count": null,
   "metadata": {},
   "outputs": [],
   "source": []
  },
  {
   "cell_type": "code",
   "execution_count": null,
   "metadata": {},
   "outputs": [],
   "source": []
  },
  {
   "cell_type": "code",
   "execution_count": null,
   "metadata": {},
   "outputs": [],
   "source": []
  },
  {
   "cell_type": "code",
   "execution_count": null,
   "metadata": {},
   "outputs": [],
   "source": []
  },
  {
   "cell_type": "code",
   "execution_count": null,
   "metadata": {},
   "outputs": [],
   "source": []
  },
  {
   "cell_type": "code",
   "execution_count": null,
   "metadata": {},
   "outputs": [],
   "source": []
  },
  {
   "cell_type": "code",
   "execution_count": null,
   "metadata": {},
   "outputs": [],
   "source": []
  },
  {
   "cell_type": "code",
   "execution_count": null,
   "metadata": {},
   "outputs": [],
   "source": []
  },
  {
   "cell_type": "code",
   "execution_count": null,
   "metadata": {},
   "outputs": [],
   "source": []
  },
  {
   "cell_type": "code",
   "execution_count": null,
   "metadata": {},
   "outputs": [],
   "source": []
  },
  {
   "cell_type": "code",
   "execution_count": null,
   "metadata": {},
   "outputs": [],
   "source": []
  },
  {
   "cell_type": "code",
   "execution_count": null,
   "metadata": {},
   "outputs": [],
   "source": []
  },
  {
   "cell_type": "code",
   "execution_count": 24,
   "metadata": {},
   "outputs": [
    {
     "data": {
      "text/plain": [
       "'2020-10-09T14:26:08.689+02:00'"
      ]
     },
     "execution_count": 24,
     "metadata": {},
     "output_type": "execute_result"
    }
   ],
   "source": [
    "datetime.datetime.now().astimezone().isoformat(timespec='milliseconds')"
   ]
  },
  {
   "cell_type": "code",
   "execution_count": null,
   "metadata": {},
   "outputs": [],
   "source": []
  },
  {
   "cell_type": "code",
   "execution_count": null,
   "metadata": {},
   "outputs": [],
   "source": []
  },
  {
   "cell_type": "code",
   "execution_count": null,
   "metadata": {},
   "outputs": [],
   "source": [
    "import requests\n",
    "\n",
    "headers = {\n",
    "    'Content-Type': 'application/json',\n",
    "}\n",
    "\n",
    "data = '{  \"query\": {    \"match_all\": {}  }}'\n",
    "\n",
    "response = requests.post('http://supportprim.idi.ntnu.no:9200/manual_patients/_search', headers=headers, data=data)\n",
    "response.json()"
   ]
  },
  {
   "cell_type": "code",
   "execution_count": null,
   "metadata": {},
   "outputs": [],
   "source": []
  },
  {
   "cell_type": "code",
   "execution_count": null,
   "metadata": {},
   "outputs": [],
   "source": []
  },
  {
   "cell_type": "code",
   "execution_count": null,
   "metadata": {},
   "outputs": [],
   "source": []
  },
  {
   "cell_type": "code",
   "execution_count": null,
   "metadata": {},
   "outputs": [],
   "source": []
  },
  {
   "cell_type": "code",
   "execution_count": null,
   "metadata": {},
   "outputs": [],
   "source": []
  },
  {
   "cell_type": "code",
   "execution_count": null,
   "metadata": {},
   "outputs": [],
   "source": []
  },
  {
   "cell_type": "code",
   "execution_count": null,
   "metadata": {},
   "outputs": [],
   "source": []
  },
  {
   "cell_type": "markdown",
   "metadata": {},
   "source": [
    "# Elasticsearch Operations"
   ]
  },
  {
   "cell_type": "markdown",
   "metadata": {},
   "source": [
    "## Code for getting a patient by patientId from the ES"
   ]
  },
  {
   "cell_type": "raw",
   "metadata": {},
   "source": [
    "curl -XGET \"http://localhost:9200/manual_patients/_search\" -H 'Content-Type: application/json' -d'{\"query\": {\"match\": {\"patientId\": \"Adam_Saso_38888_1998\"}}}'"
   ]
  },
  {
   "cell_type": "markdown",
   "metadata": {},
   "source": [
    "# \n",
    "## Set the elasticsearch (es) index name\n",
    "## "
   ]
  },
  {
   "cell_type": "code",
   "execution_count": 20,
   "metadata": {},
   "outputs": [],
   "source": [
    "es_index = 'test_patients'"
   ]
  },
  {
   "cell_type": "markdown",
   "metadata": {},
   "source": [
    "# "
   ]
  },
  {
   "cell_type": "code",
   "execution_count": 21,
   "metadata": {},
   "outputs": [],
   "source": [
    "import requests\n",
    "\n",
    "es_base_url = 'http://localhost:9200'\n",
    "headers = {'Content-Type': 'application/json'}"
   ]
  },
  {
   "cell_type": "code",
   "execution_count": 22,
   "metadata": {},
   "outputs": [],
   "source": [
    "def get_all_docs(es_index=es_index):\n",
    "    response = requests.post(es_base_url+'/'+es_index+'/_search?pretty', headers=headers, data='{}')\n",
    "    return response.json()"
   ]
  },
  {
   "cell_type": "code",
   "execution_count": 23,
   "metadata": {},
   "outputs": [],
   "source": [
    "def get_doc_by_pid(pid, es_index=es_index,):\n",
    "    data = '{  \"query\": {    \"match\": {      \"patientId\": \"'+pid+'\"    }  }}'\n",
    "    response = requests.post(es_base_url+'/'+es_index+'/_search?pretty', headers=headers, data=data)\n",
    "    return response.json()"
   ]
  },
  {
   "cell_type": "code",
   "execution_count": 24,
   "metadata": {},
   "outputs": [],
   "source": [
    "result_json = get_doc_by_pid('Vidar_Guttormsen_30160_1992');"
   ]
  },
  {
   "cell_type": "code",
   "execution_count": 25,
   "metadata": {},
   "outputs": [
    {
     "name": "stdout",
     "output_type": "stream",
     "text": [
      "None\n"
     ]
    }
   ],
   "source": [
    "if result_json.get('abc', {}).get('xyz', None) is None:\n",
    "    print('None')"
   ]
  },
  {
   "cell_type": "code",
   "execution_count": 26,
   "metadata": {},
   "outputs": [],
   "source": [
    "a = None\n",
    "\n",
    "if a is None:\n",
    "    pass\n",
    "elif a == False: # elif not a\n",
    "    pass\n",
    "elif a == True: # elif a\n",
    "    pass\n",
    "\n",
    "\n",
    "\n",
    "if not a:\n",
    "    pass\n",
    "elif a:\n",
    "    pass\n"
   ]
  },
  {
   "cell_type": "code",
   "execution_count": 27,
   "metadata": {},
   "outputs": [],
   "source": [
    "def get_id_for_pid( pid, es_index=es_index):\n",
    "    params = (('filter_path', 'hits.hits._source'))\n",
    "    data = '{  \"query\": {    \"match\": {      \"patientId\": \"'+pid+'\"    }  }}'\n",
    "    response = requests.get(f'{es_base_url}/{es_index}/_search?filter_path=hits.hits._id', headers=headers, data=data)\n",
    "    response_json = response.json()\n",
    "    return response_json.get('hits', {}).get('hits', [{}])[0].get('_id')"
   ]
  },
  {
   "cell_type": "code",
   "execution_count": 28,
   "metadata": {},
   "outputs": [],
   "source": [
    "get_id_for_pid('Vidar_Guttormsen_30160_1992')"
   ]
  },
  {
   "cell_type": "markdown",
   "metadata": {},
   "source": [
    "# "
   ]
  },
  {
   "cell_type": "markdown",
   "metadata": {},
   "source": [
    "# "
   ]
  },
  {
   "cell_type": "markdown",
   "metadata": {},
   "source": [
    "## Code for getting only the list of patient ids from the ES"
   ]
  },
  {
   "cell_type": "code",
   "execution_count": 29,
   "metadata": {},
   "outputs": [],
   "source": [
    "def update_es_doc_for_id( _id, json_doc, es_index=es_index):\n",
    "    upsert_doc = json.dumps({'doc': json_doc, 'doc_as_upsert': True})\n",
    "    response = requests.post(f'{es_base_url}/{es_index}/_update/{_id}?pretty', headers=headers, data=upsert_doc)\n",
    "    return response.json()"
   ]
  },
  {
   "cell_type": "code",
   "execution_count": 30,
   "metadata": {},
   "outputs": [
    {
     "ename": "NameError",
     "evalue": "name 'init_es' is not defined",
     "output_type": "error",
     "traceback": [
      "\u001b[0;31m---------------------------------------------------------------------------\u001b[0m",
      "\u001b[0;31mNameError\u001b[0m                                 Traceback (most recent call last)",
      "\u001b[0;32m<ipython-input-30-a6ea0719a81a>\u001b[0m in \u001b[0;36m<module>\u001b[0;34m\u001b[0m\n\u001b[0;32m----> 1\u001b[0;31m \u001b[0;32mdef\u001b[0m \u001b[0mupadate_es_index\u001b[0m\u001b[0;34m(\u001b[0m\u001b[0mbody_maps_list\u001b[0m\u001b[0;34m=\u001b[0m\u001b[0minit_es\u001b[0m\u001b[0;34m,\u001b[0m \u001b[0mes_index\u001b[0m\u001b[0;34m=\u001b[0m\u001b[0mes_index\u001b[0m\u001b[0;34m)\u001b[0m\u001b[0;34m:\u001b[0m\u001b[0;34m\u001b[0m\u001b[0;34m\u001b[0m\u001b[0m\n\u001b[0m\u001b[1;32m      2\u001b[0m     \u001b[0;32mfor\u001b[0m \u001b[0mbody_map\u001b[0m \u001b[0;32min\u001b[0m \u001b[0mbody_maps_list\u001b[0m\u001b[0;34m:\u001b[0m\u001b[0;34m\u001b[0m\u001b[0;34m\u001b[0m\u001b[0m\n\u001b[1;32m      3\u001b[0m         \u001b[0mpid\u001b[0m \u001b[0;34m=\u001b[0m \u001b[0mbody_map\u001b[0m\u001b[0;34m.\u001b[0m\u001b[0mget\u001b[0m\u001b[0;34m(\u001b[0m\u001b[0;34m'patientId'\u001b[0m\u001b[0;34m)\u001b[0m\u001b[0;34m\u001b[0m\u001b[0;34m\u001b[0m\u001b[0m\n\u001b[1;32m      4\u001b[0m         \u001b[0mprint\u001b[0m\u001b[0;34m(\u001b[0m\u001b[0mpid\u001b[0m\u001b[0;34m)\u001b[0m\u001b[0;34m\u001b[0m\u001b[0;34m\u001b[0m\u001b[0m\n\u001b[1;32m      5\u001b[0m         \u001b[0m_id\u001b[0m \u001b[0;34m=\u001b[0m \u001b[0mget_id_for_pid\u001b[0m\u001b[0;34m(\u001b[0m \u001b[0mpid\u001b[0m\u001b[0;34m,\u001b[0m \u001b[0mes_index\u001b[0m\u001b[0;34m)\u001b[0m\u001b[0;34m\u001b[0m\u001b[0;34m\u001b[0m\u001b[0m\n",
      "\u001b[0;31mNameError\u001b[0m: name 'init_es' is not defined"
     ]
    }
   ],
   "source": [
    "def upadate_es_index(body_maps_list=init_es, es_index=es_index):\n",
    "    for body_map in body_maps_list:\n",
    "        pid = body_map.get('patientId')\n",
    "        print(pid)\n",
    "        _id = get_id_for_pid( pid, es_index)\n",
    "        print(_id)\n",
    "        \n",
    "        if _id is None:\n",
    "            print('_id was None')\n",
    "        else :\n",
    "            print('Upserting the pid:',pid, ' and _id: ', _id)\n",
    "            update_es_doc_for_id(_id, body_map, es_index)"
   ]
  },
  {
   "cell_type": "code",
   "execution_count": 31,
   "metadata": {},
   "outputs": [
    {
     "ename": "NameError",
     "evalue": "name 'upadate_es_index' is not defined",
     "output_type": "error",
     "traceback": [
      "\u001b[0;31m---------------------------------------------------------------------------\u001b[0m",
      "\u001b[0;31mNameError\u001b[0m                                 Traceback (most recent call last)",
      "\u001b[0;32m<ipython-input-31-d00224b29bd1>\u001b[0m in \u001b[0;36m<module>\u001b[0;34m\u001b[0m\n\u001b[0;32m----> 1\u001b[0;31m \u001b[0mupadate_es_index\u001b[0m\u001b[0;34m(\u001b[0m \u001b[0minit_es\u001b[0m\u001b[0;34m,\u001b[0m \u001b[0;34m'test_patients'\u001b[0m\u001b[0;34m)\u001b[0m\u001b[0;34m\u001b[0m\u001b[0;34m\u001b[0m\u001b[0m\n\u001b[0m",
      "\u001b[0;31mNameError\u001b[0m: name 'upadate_es_index' is not defined"
     ]
    }
   ],
   "source": [
    "upadate_es_index( init_es, 'test_patients')"
   ]
  },
  {
   "cell_type": "code",
   "execution_count": null,
   "metadata": {},
   "outputs": [],
   "source": []
  },
  {
   "cell_type": "code",
   "execution_count": null,
   "metadata": {},
   "outputs": [],
   "source": []
  },
  {
   "cell_type": "code",
   "execution_count": null,
   "metadata": {},
   "outputs": [],
   "source": []
  },
  {
   "cell_type": "code",
   "execution_count": null,
   "metadata": {},
   "outputs": [],
   "source": []
  },
  {
   "cell_type": "code",
   "execution_count": null,
   "metadata": {},
   "outputs": [],
   "source": []
  },
  {
   "cell_type": "code",
   "execution_count": null,
   "metadata": {},
   "outputs": [],
   "source": []
  },
  {
   "cell_type": "code",
   "execution_count": null,
   "metadata": {},
   "outputs": [],
   "source": []
  },
  {
   "cell_type": "code",
   "execution_count": null,
   "metadata": {},
   "outputs": [],
   "source": []
  },
  {
   "cell_type": "code",
   "execution_count": null,
   "metadata": {},
   "outputs": [],
   "source": []
  },
  {
   "cell_type": "code",
   "execution_count": null,
   "metadata": {},
   "outputs": [],
   "source": []
  },
  {
   "cell_type": "raw",
   "metadata": {},
   "source": [
    "headers = {\n",
    "    'Content-Type': 'application/json',\n",
    "}\n",
    "\n",
    "data = '{\"size\": 100}'\n",
    "\n",
    "response = requests.post('http://localhost:9200/manual_patients/_search', headers=headers, data=data)\n",
    "response.json();"
   ]
  },
  {
   "cell_type": "raw",
   "metadata": {},
   "source": [
    "import requests\n",
    "\n",
    "headers = {\n",
    "    'Content-Type': 'application/json',\n",
    "}\n",
    "\n",
    "params = (\n",
    "    ('filter_path', 'hits.hits._source.dateCreated'),\n",
    ")\n",
    "\n",
    "data = '{ \"query\": { \"match\": { \"patientId\": \"adam_saso_38888_1998\" } }}'\n",
    "\n",
    "response = requests.post('http://localhost:9200/manual_patients/_search', headers=headers, params=params, data=data)\n",
    "response.json()\n",
    "#response = requests.post('http://localhost:9200/manual_patients/_search?filter_path=hits.hits._source.dateCreated', headers=headers, data=data)"
   ]
  }
 ],
 "metadata": {
  "kernelspec": {
   "display_name": "Python 3",
   "language": "python",
   "name": "python3"
  },
  "language_info": {
   "codemirror_mode": {
    "name": "ipython",
    "version": 3
   },
   "file_extension": ".py",
   "mimetype": "text/x-python",
   "name": "python",
   "nbconvert_exporter": "python",
   "pygments_lexer": "ipython3",
   "version": "3.7.4"
  }
 },
 "nbformat": 4,
 "nbformat_minor": 4
}

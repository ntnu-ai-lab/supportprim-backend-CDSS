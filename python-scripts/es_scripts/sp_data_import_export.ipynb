{
 "cells": [
  {
   "cell_type": "markdown",
   "metadata": {},
   "source": [
    "#  Extract dataset and attribute definitions - 2020-10-08\n",
    "##  from supportPrim - STATA files"
   ]
  },
  {
   "cell_type": "code",
   "execution_count": 1,
   "metadata": {},
   "outputs": [],
   "source": [
    "# auto sugestion with tab\n",
    "%config IPCompleter.greedy=True\n",
    "%config InlineBackend.figure_format = 'retina'\n",
    "%matplotlib inline "
   ]
  },
  {
   "cell_type": "code",
   "execution_count": 2,
   "metadata": {},
   "outputs": [
    {
     "data": {
      "text/plain": [
       "'/lhome/amardj/ISM/python_code/es_scripts'"
      ]
     },
     "execution_count": 2,
     "metadata": {},
     "output_type": "execute_result"
    }
   ],
   "source": [
    "import pandas as pd\n",
    "import numpy as np\n",
    "import os\n",
    "os.getcwd()"
   ]
  },
  {
   "cell_type": "markdown",
   "metadata": {},
   "source": [
    "### Define the date format to be appended with file names"
   ]
  },
  {
   "cell_type": "markdown",
   "metadata": {},
   "source": [
    "#### System defined current date"
   ]
  },
  {
   "cell_type": "code",
   "execution_count": 3,
   "metadata": {},
   "outputs": [],
   "source": [
    "import datetime as datetime\n",
    "sys_date = datetime.datetime.today().strftime( '%y%m%d')"
   ]
  },
  {
   "cell_type": "markdown",
   "metadata": {},
   "source": [
    "#### User-defined date"
   ]
  },
  {
   "cell_type": "code",
   "execution_count": 4,
   "metadata": {},
   "outputs": [],
   "source": [
    "user_date = '201008'"
   ]
  },
  {
   "cell_type": "code",
   "execution_count": 5,
   "metadata": {},
   "outputs": [],
   "source": [
    "time_stamp = '_'+ sys_date   # user_date"
   ]
  },
  {
   "cell_type": "markdown",
   "metadata": {},
   "source": [
    "### Location of raw data & generated data"
   ]
  },
  {
   "cell_type": "code",
   "execution_count": 6,
   "metadata": {},
   "outputs": [],
   "source": [
    "# Users⁩ ▸ ⁨amar⁩ ▸ ⁨Dropbox⁩ ▸ ⁨SupportPRIM⁩ ▸ ⁨CBR_evaluation⁩ ▸ ⁨experiments⁩⁩ ▸ ⁨2019_10_14\n",
    "\n",
    "root_dir = '/lhome/amardj/ISM/python_code/es_scripts/resources/backend_supportprim_data/2020-10/'\n",
    "raw_data_loc = root_dir+ 'raw/'\n",
    "gen_data_loc = root_dir+ 'gen/'\n",
    "cbr_data_loc = root_dir+ 'cbr/'"
   ]
  },
  {
   "cell_type": "code",
   "execution_count": 7,
   "metadata": {},
   "outputs": [],
   "source": [
    "index_name = 'id'"
   ]
  },
  {
   "cell_type": "code",
   "execution_count": 8,
   "metadata": {},
   "outputs": [],
   "source": [
    "file_name_labeled = raw_data_loc + 'supportprim_dataset_201008.dta' \n",
    "#Supportprim_merged_labels_new_treatment_24.01.2019_updated.dta'\n",
    "#file_name_numeric = raw_data_loc + 'Supportprim_merged_labels_new_treatment_09.01.2019_updated_numeric.dta'"
   ]
  },
  {
   "cell_type": "code",
   "execution_count": 9,
   "metadata": {},
   "outputs": [],
   "source": [
    "#file_labels = 'SupportPRIM_LCA_variables_vers2.dta'"
   ]
  },
  {
   "cell_type": "markdown",
   "metadata": {},
   "source": [
    "## Import stata files 'xxx.dta' for creating python pandas DataFrames"
   ]
  },
  {
   "cell_type": "code",
   "execution_count": 10,
   "metadata": {},
   "outputs": [
    {
     "name": "stdout",
     "output_type": "stream",
     "text": [
      "(51, 353)\n"
     ]
    }
   ],
   "source": [
    "#df_labeled = pd.read_stata(file_name_labeled, convert_categoricals=False, index_col=index_name)\n",
    "df_labeled = pd.read_stata(file_name_labeled) #, index_col=index_name)\n",
    "#df_numeric = pd.read_stata(file_name_numeric, index_col=index_name)\n",
    "print(df_labeled.shape) # (506, 292)\n",
    "#print(df_numeric.shape) # (506, 292)"
   ]
  },
  {
   "cell_type": "code",
   "execution_count": 11,
   "metadata": {},
   "outputs": [
    {
     "data": {
      "text/plain": [
       "0                   hip\n",
       "1                  knee\n",
       "2                  back\n",
       "3                  back\n",
       "4                  neck\n",
       "5     multisite/complex\n",
       "6     multisite/complex\n",
       "7                  back\n",
       "8                  neck\n",
       "9              shoulder\n",
       "10                 knee\n",
       "11                  hip\n",
       "12                 neck\n",
       "13             shoulder\n",
       "14             shoulder\n",
       "15             shoulder\n",
       "16    multisite/complex\n",
       "17    multisite/complex\n",
       "18                 neck\n",
       "19    multisite/complex\n",
       "20    multisite/complex\n",
       "21                 back\n",
       "22    multisite/complex\n",
       "23                  hip\n",
       "24    multisite/complex\n",
       "25                 neck\n",
       "26             shoulder\n",
       "27                  hip\n",
       "28             shoulder\n",
       "29                 back\n",
       "30                  hip\n",
       "31                  hip\n",
       "32                 back\n",
       "33             shoulder\n",
       "34                 knee\n",
       "35                  hip\n",
       "36    multisite/complex\n",
       "37             shoulder\n",
       "38                 back\n",
       "39             shoulder\n",
       "40                 neck\n",
       "41             shoulder\n",
       "42                 back\n",
       "43                 knee\n",
       "44                 neck\n",
       "45    multisite/complex\n",
       "46                  hip\n",
       "47    multisite/complex\n",
       "48                 neck\n",
       "49                 back\n",
       "50                 neck\n",
       "Name: body_main_1, dtype: category\n",
       "Categories (6, object): [neck < shoulder < back < hip < knee < multisite/complex]"
      ]
     },
     "execution_count": 11,
     "metadata": {},
     "output_type": "execute_result"
    }
   ],
   "source": [
    "df_labeled.body_main_1"
   ]
  },
  {
   "cell_type": "markdown",
   "metadata": {},
   "source": [
    "## Remove '_merege' cloumn form both the dataframes if any"
   ]
  },
  {
   "cell_type": "code",
   "execution_count": 12,
   "metadata": {},
   "outputs": [
    {
     "name": "stdout",
     "output_type": "stream",
     "text": [
      " The DataFrame does not contain any column named as : \" _merge \"\n"
     ]
    }
   ],
   "source": [
    "drop_col_name = '_merge'\n",
    "if drop_col_name in df_labeled.columns:\n",
    "    df_labeled.drop( columns=[drop_col_name], axis=1, inplace=True)\n",
    "    print(' The DataFrame contains column named as : ',drop_col_name, ' - Action : Removed')\n",
    "else :\n",
    "    print(' The DataFrame does not contain any column named as : \"',drop_col_name,'\"')\n",
    "    \n",
    "#if drop_col_name in df_numeric.columns:\n",
    "#    df_numeric.drop( columns=[drop_col_name], axis=1, inplace=True)\n",
    "#    print(' The DataFrame contains column named as : ',drop_col_name, ' - Action : Removed')\n",
    "#else :\n",
    "#    print(' The DataFrame does not contain any column named as : \"',drop_col_name,'\"')"
   ]
  },
  {
   "cell_type": "markdown",
   "metadata": {},
   "source": [
    "## Sort the dataframe column names - alfabetical order"
   ]
  },
  {
   "cell_type": "code",
   "execution_count": 13,
   "metadata": {},
   "outputs": [
    {
     "name": "stdout",
     "output_type": "stream",
     "text": [
      " Shape of old Dataframe :  (51, 353)\n"
     ]
    }
   ],
   "source": [
    "df_labeled = df_labeled.reindex( sorted(df_labeled.columns), axis=1)\n",
    "print(' Shape of old Dataframe : ', df_labeled.shape)  # (506, 292)\n",
    "features_labels = df_labeled.columns\n",
    "\n",
    "#df_numeric = df_numeric.reindex( sorted(df_numeric.columns), axis=1)\n",
    "#print(' Shape of old Dataframe : ', df_numeric.shape)  # (506, 292)\n",
    "#features_numeric = df_numeric.columns\n",
    "\n",
    "# Shape of old Dataframe :  (175, 355)"
   ]
  },
  {
   "cell_type": "code",
   "execution_count": 14,
   "metadata": {},
   "outputs": [
    {
     "data": {
      "text/html": [
       "<div>\n",
       "<style scoped>\n",
       "    .dataframe tbody tr th:only-of-type {\n",
       "        vertical-align: middle;\n",
       "    }\n",
       "\n",
       "    .dataframe tbody tr th {\n",
       "        vertical-align: top;\n",
       "    }\n",
       "\n",
       "    .dataframe thead th {\n",
       "        text-align: right;\n",
       "    }\n",
       "</style>\n",
       "<table border=\"1\" class=\"dataframe\">\n",
       "  <thead>\n",
       "    <tr style=\"text-align: right;\">\n",
       "      <th></th>\n",
       "      <th>activity_1</th>\n",
       "      <th>age_1</th>\n",
       "      <th>back_nevro_pow_1</th>\n",
       "      <th>back_nevro_reflex_1</th>\n",
       "      <th>back_nevro_sens_1</th>\n",
       "      <th>back_slr_1</th>\n",
       "      <th>birth_year</th>\n",
       "      <th>bmi_1</th>\n",
       "      <th>body_main_1</th>\n",
       "      <th>childhood_1</th>\n",
       "      <th>...</th>\n",
       "      <th>treat_setting_self_some_3</th>\n",
       "      <th>treatmentfactor_patient_3</th>\n",
       "      <th>walk_aid_1</th>\n",
       "      <th>weight_1</th>\n",
       "      <th>work_ability_1</th>\n",
       "      <th>work_ability_3</th>\n",
       "      <th>work_ability_w2</th>\n",
       "      <th>work_ability_w4</th>\n",
       "      <th>work_ability_w8</th>\n",
       "      <th>work_type_1</th>\n",
       "    </tr>\n",
       "  </thead>\n",
       "  <tbody>\n",
       "    <tr>\n",
       "      <td>0</td>\n",
       "      <td>slightly reduced</td>\n",
       "      <td>22.0</td>\n",
       "      <td>NaN</td>\n",
       "      <td>NaN</td>\n",
       "      <td>NaN</td>\n",
       "      <td>NaN</td>\n",
       "      <td>1998</td>\n",
       "      <td>27.636057</td>\n",
       "      <td>hip</td>\n",
       "      <td>very good</td>\n",
       "      <td>...</td>\n",
       "      <td>NaN</td>\n",
       "      <td>Fornyet vurdering hos en annen fysioterapeut</td>\n",
       "      <td>no walkaid</td>\n",
       "      <td>78</td>\n",
       "      <td>10</td>\n",
       "      <td>9</td>\n",
       "      <td>9.0</td>\n",
       "      <td>9.0</td>\n",
       "      <td>NaN</td>\n",
       "      <td>NaN</td>\n",
       "    </tr>\n",
       "    <tr>\n",
       "      <td>1</td>\n",
       "      <td>slightly reduced</td>\n",
       "      <td>23.0</td>\n",
       "      <td>NaN</td>\n",
       "      <td>NaN</td>\n",
       "      <td>NaN</td>\n",
       "      <td>NaN</td>\n",
       "      <td>1997</td>\n",
       "      <td>18.339100</td>\n",
       "      <td>knee</td>\n",
       "      <td>moderate</td>\n",
       "      <td>...</td>\n",
       "      <td>NaN</td>\n",
       "      <td>Har føltes litt som manglende bedring ettersom...</td>\n",
       "      <td>no walkaid</td>\n",
       "      <td>53</td>\n",
       "      <td>6</td>\n",
       "      <td>5</td>\n",
       "      <td>3.0</td>\n",
       "      <td>3.0</td>\n",
       "      <td>7.0</td>\n",
       "      <td>NaN</td>\n",
       "    </tr>\n",
       "    <tr>\n",
       "      <td>2</td>\n",
       "      <td>not reduced</td>\n",
       "      <td>21.0</td>\n",
       "      <td>NaN</td>\n",
       "      <td>NaN</td>\n",
       "      <td>NaN</td>\n",
       "      <td>not applicable</td>\n",
       "      <td>1999</td>\n",
       "      <td>20.160700</td>\n",
       "      <td>back</td>\n",
       "      <td>good</td>\n",
       "      <td>...</td>\n",
       "      <td>2.0</td>\n",
       "      <td>Foreløpig venter jeg på oppfølging fra spesial...</td>\n",
       "      <td>no walkaid</td>\n",
       "      <td>69</td>\n",
       "      <td>8</td>\n",
       "      <td>9</td>\n",
       "      <td>NaN</td>\n",
       "      <td>NaN</td>\n",
       "      <td>NaN</td>\n",
       "      <td>work demand much walking</td>\n",
       "    </tr>\n",
       "    <tr>\n",
       "      <td>3</td>\n",
       "      <td>quite reduced</td>\n",
       "      <td>27.0</td>\n",
       "      <td>NaN</td>\n",
       "      <td>NaN</td>\n",
       "      <td>NaN</td>\n",
       "      <td>no</td>\n",
       "      <td>1993</td>\n",
       "      <td>25.217360</td>\n",
       "      <td>back</td>\n",
       "      <td>difficult</td>\n",
       "      <td>...</td>\n",
       "      <td>2.0</td>\n",
       "      <td>Covid-19 og feil fokus på smerter fra behandler</td>\n",
       "      <td>no walkaid</td>\n",
       "      <td>67</td>\n",
       "      <td>6</td>\n",
       "      <td>7</td>\n",
       "      <td>5.0</td>\n",
       "      <td>5.0</td>\n",
       "      <td>4.0</td>\n",
       "      <td>mostly seated</td>\n",
       "    </tr>\n",
       "    <tr>\n",
       "      <td>4</td>\n",
       "      <td>very reduced</td>\n",
       "      <td>31.0</td>\n",
       "      <td>NaN</td>\n",
       "      <td>NaN</td>\n",
       "      <td>NaN</td>\n",
       "      <td>NaN</td>\n",
       "      <td>1989</td>\n",
       "      <td>24.464602</td>\n",
       "      <td>neck</td>\n",
       "      <td>very good</td>\n",
       "      <td>...</td>\n",
       "      <td>2.0</td>\n",
       "      <td>tror dessverre situasjonen ikke kan løses på s...</td>\n",
       "      <td>no walkaid</td>\n",
       "      <td>65</td>\n",
       "      <td>0</td>\n",
       "      <td>2</td>\n",
       "      <td>3.0</td>\n",
       "      <td>3.0</td>\n",
       "      <td>2.0</td>\n",
       "      <td>mostly seated</td>\n",
       "    </tr>\n",
       "  </tbody>\n",
       "</table>\n",
       "<p>5 rows × 353 columns</p>\n",
       "</div>"
      ],
      "text/plain": [
       "         activity_1  age_1 back_nevro_pow_1 back_nevro_reflex_1  \\\n",
       "0  slightly reduced   22.0              NaN                 NaN   \n",
       "1  slightly reduced   23.0              NaN                 NaN   \n",
       "2       not reduced   21.0              NaN                 NaN   \n",
       "3     quite reduced   27.0              NaN                 NaN   \n",
       "4      very reduced   31.0              NaN                 NaN   \n",
       "\n",
       "  back_nevro_sens_1      back_slr_1  birth_year      bmi_1 body_main_1  \\\n",
       "0               NaN             NaN        1998  27.636057         hip   \n",
       "1               NaN             NaN        1997  18.339100        knee   \n",
       "2               NaN  not applicable        1999  20.160700        back   \n",
       "3               NaN              no        1993  25.217360        back   \n",
       "4               NaN             NaN        1989  24.464602        neck   \n",
       "\n",
       "  childhood_1  ...  treat_setting_self_some_3  \\\n",
       "0   very good  ...                        NaN   \n",
       "1    moderate  ...                        NaN   \n",
       "2        good  ...                        2.0   \n",
       "3   difficult  ...                        2.0   \n",
       "4   very good  ...                        2.0   \n",
       "\n",
       "                           treatmentfactor_patient_3   walk_aid_1  weight_1  \\\n",
       "0       Fornyet vurdering hos en annen fysioterapeut   no walkaid        78   \n",
       "1  Har føltes litt som manglende bedring ettersom...   no walkaid        53   \n",
       "2  Foreløpig venter jeg på oppfølging fra spesial...   no walkaid        69   \n",
       "3    Covid-19 og feil fokus på smerter fra behandler   no walkaid        67   \n",
       "4  tror dessverre situasjonen ikke kan løses på s...   no walkaid        65   \n",
       "\n",
       "   work_ability_1  work_ability_3  work_ability_w2  work_ability_w4  \\\n",
       "0              10               9              9.0              9.0   \n",
       "1               6               5              3.0              3.0   \n",
       "2               8               9              NaN              NaN   \n",
       "3               6               7              5.0              5.0   \n",
       "4               0               2              3.0              3.0   \n",
       "\n",
       "   work_ability_w8               work_type_1  \n",
       "0              NaN                       NaN  \n",
       "1              7.0                       NaN  \n",
       "2              NaN  work demand much walking  \n",
       "3              4.0             mostly seated  \n",
       "4              2.0             mostly seated  \n",
       "\n",
       "[5 rows x 353 columns]"
      ]
     },
     "execution_count": 14,
     "metadata": {},
     "output_type": "execute_result"
    }
   ],
   "source": [
    "df_labeled.head()"
   ]
  },
  {
   "cell_type": "code",
   "execution_count": 15,
   "metadata": {},
   "outputs": [],
   "source": [
    "def replace_all_with( old, new, tempdf=df_labeled):\n",
    "    temp = tempdf.replace({old: new}, regex=True)\n",
    "    return temp"
   ]
  },
  {
   "cell_type": "code",
   "execution_count": 16,
   "metadata": {},
   "outputs": [
    {
     "data": {
      "text/plain": [
       "0    Adam Saso\n",
       "1    Adam Saso\n",
       "2    Adam Saso\n",
       "3    Adam Saso\n",
       "4    Adam Saso\n",
       "Name: physio_id, dtype: object"
      ]
     },
     "execution_count": 16,
     "metadata": {},
     "output_type": "execute_result"
    }
   ],
   "source": [
    "df_labeled.physio_id.head()"
   ]
  },
  {
   "cell_type": "code",
   "execution_count": 17,
   "metadata": {},
   "outputs": [],
   "source": [
    "df_labeled['physio_id'] = df_labeled['physio_id'].replace(' ', '_', regex=True).str.lower()\n",
    "df_labeled['clinic_id'] = df_labeled['physio_id']"
   ]
  },
  {
   "cell_type": "code",
   "execution_count": 18,
   "metadata": {},
   "outputs": [
    {
     "data": {
      "text/plain": [
       "0              adam_saso\n",
       "1              adam_saso\n",
       "2              adam_saso\n",
       "3              adam_saso\n",
       "4              adam_saso\n",
       "5       alette_bade_rygh\n",
       "6       alette_bade_rygh\n",
       "7          astrid_holmen\n",
       "8          astrid_holmen\n",
       "9      fredrik_paulsberg\n",
       "10     fredrik_paulsberg\n",
       "11     fredrik_paulsberg\n",
       "12     fredrik_paulsberg\n",
       "13    gaute_alstad_sunde\n",
       "14    gaute_alstad_sunde\n",
       "15    gaute_alstad_sunde\n",
       "16    gaute_alstad_sunde\n",
       "17    gaute_alstad_sunde\n",
       "18        helge_pedersen\n",
       "19        helge_pedersen\n",
       "20        helge_pedersen\n",
       "21        helge_pedersen\n",
       "22        helge_pedersen\n",
       "23        helge_pedersen\n",
       "24        helge_pedersen\n",
       "25        helge_pedersen\n",
       "26        helge_pedersen\n",
       "27        marianne_bakka\n",
       "28        marianne_bakka\n",
       "29        marianne_bakka\n",
       "30      vidar_guttormsen\n",
       "31      vidar_guttormsen\n",
       "32      vidar_guttormsen\n",
       "33      vidar_guttormsen\n",
       "34      vidar_guttormsen\n",
       "35      vidar_guttormsen\n",
       "36      vidar_guttormsen\n",
       "37      vidar_guttormsen\n",
       "38      vidar_guttormsen\n",
       "39      vidar_guttormsen\n",
       "40             support15\n",
       "41             support19\n",
       "42             support23\n",
       "43             support24\n",
       "44             support24\n",
       "45             support26\n",
       "46             support28\n",
       "47             support28\n",
       "48             support31\n",
       "49              support7\n",
       "50              support7\n",
       "Name: physio_id, dtype: object"
      ]
     },
     "execution_count": 18,
     "metadata": {},
     "output_type": "execute_result"
    }
   ],
   "source": [
    "df_labeled.physio_id"
   ]
  },
  {
   "cell_type": "code",
   "execution_count": 19,
   "metadata": {},
   "outputs": [
    {
     "data": {
      "text/plain": [
       "['adam_saso_38888_1998',\n",
       " 'adam_saso_39151_1997',\n",
       " 'adam_saso_39178_1999',\n",
       " 'adam_saso_39185_1993',\n",
       " 'adam_saso_39442_1989',\n",
       " 'alette_bade_rygh_1808_1969',\n",
       " 'alette_bade_rygh_1810_1989',\n",
       " 'astrid_holmen_8853_1968',\n",
       " 'astrid_holmen_39465_1967',\n",
       " 'fredrik_paulsberg_31903_1972',\n",
       " 'fredrik_paulsberg_31910_1968',\n",
       " 'fredrik_paulsberg_31992_1961',\n",
       " 'fredrik_paulsberg_32035_1969',\n",
       " 'gaute_alstad_sunde_2748_1996',\n",
       " 'gaute_alstad_sunde_8017_1973',\n",
       " 'gaute_alstad_sunde_8092_1982',\n",
       " 'gaute_alstad_sunde_9145_1975',\n",
       " 'gaute_alstad_sunde_9327_1955',\n",
       " 'helge_pedersen_1_1963',\n",
       " 'helge_pedersen_2_1965',\n",
       " 'helge_pedersen_5_1983',\n",
       " 'helge_pedersen_7_1956',\n",
       " 'helge_pedersen_8_1967',\n",
       " 'helge_pedersen_9_1966',\n",
       " 'helge_pedersen_10_1964',\n",
       " 'helge_pedersen_11_1966',\n",
       " 'helge_pedersen_12_1950',\n",
       " 'marianne_bakka_31894_1956',\n",
       " 'marianne_bakka_31909_1995',\n",
       " 'marianne_bakka_32177_1961',\n",
       " 'vidar_guttormsen_11785_1956',\n",
       " 'vidar_guttormsen_17504_1973',\n",
       " 'vidar_guttormsen_26296_1962',\n",
       " 'vidar_guttormsen_30160_1992',\n",
       " 'vidar_guttormsen_31911_1995',\n",
       " 'vidar_guttormsen_31912_1971',\n",
       " 'vidar_guttormsen_31959_1969',\n",
       " 'vidar_guttormsen_32015_1965',\n",
       " 'vidar_guttormsen_32110_1959',\n",
       " 'vidar_guttormsen_32111_1998',\n",
       " 'support15_6245_1969',\n",
       " 'support19_5191_1968',\n",
       " 'support23_3_1950',\n",
       " 'support24_101_1984',\n",
       " 'support24_102_1978',\n",
       " 'support26_1001_1950',\n",
       " 'support28_2000_1973',\n",
       " 'support28_2002_1981',\n",
       " 'support31_32359_1979',\n",
       " 'support7_3816_1984',\n",
       " 'support7_5655_1992']"
      ]
     },
     "execution_count": 19,
     "metadata": {},
     "output_type": "execute_result"
    }
   ],
   "source": [
    "cols = ['physio_id', 'journal_id', 'birth_year']\n",
    "df_labeled['patient_id'] = df_labeled[cols].apply(lambda row: '_'.join(row.values.astype(str)), axis=1)\n",
    "df_labeled['patient_id'].tolist()"
   ]
  },
  {
   "cell_type": "code",
   "execution_count": 20,
   "metadata": {},
   "outputs": [
    {
     "data": {
      "text/html": [
       "<div>\n",
       "<style scoped>\n",
       "    .dataframe tbody tr th:only-of-type {\n",
       "        vertical-align: middle;\n",
       "    }\n",
       "\n",
       "    .dataframe tbody tr th {\n",
       "        vertical-align: top;\n",
       "    }\n",
       "\n",
       "    .dataframe thead th {\n",
       "        text-align: right;\n",
       "    }\n",
       "</style>\n",
       "<table border=\"1\" class=\"dataframe\">\n",
       "  <thead>\n",
       "    <tr style=\"text-align: right;\">\n",
       "      <th></th>\n",
       "      <th>activity_1</th>\n",
       "      <th>age_1</th>\n",
       "      <th>back_nevro_pow_1</th>\n",
       "      <th>back_nevro_reflex_1</th>\n",
       "      <th>back_nevro_sens_1</th>\n",
       "      <th>back_slr_1</th>\n",
       "      <th>birth_year</th>\n",
       "      <th>bmi_1</th>\n",
       "      <th>body_main_1</th>\n",
       "      <th>childhood_1</th>\n",
       "      <th>...</th>\n",
       "      <th>walk_aid_1</th>\n",
       "      <th>weight_1</th>\n",
       "      <th>work_ability_1</th>\n",
       "      <th>work_ability_3</th>\n",
       "      <th>work_ability_w2</th>\n",
       "      <th>work_ability_w4</th>\n",
       "      <th>work_ability_w8</th>\n",
       "      <th>work_type_1</th>\n",
       "      <th>clinic_id</th>\n",
       "      <th>patient_id</th>\n",
       "    </tr>\n",
       "    <tr>\n",
       "      <th>id</th>\n",
       "      <th></th>\n",
       "      <th></th>\n",
       "      <th></th>\n",
       "      <th></th>\n",
       "      <th></th>\n",
       "      <th></th>\n",
       "      <th></th>\n",
       "      <th></th>\n",
       "      <th></th>\n",
       "      <th></th>\n",
       "      <th></th>\n",
       "      <th></th>\n",
       "      <th></th>\n",
       "      <th></th>\n",
       "      <th></th>\n",
       "      <th></th>\n",
       "      <th></th>\n",
       "      <th></th>\n",
       "      <th></th>\n",
       "      <th></th>\n",
       "      <th></th>\n",
       "    </tr>\n",
       "  </thead>\n",
       "  <tbody>\n",
       "    <tr>\n",
       "      <td>0</td>\n",
       "      <td>slightly reduced</td>\n",
       "      <td>22.0</td>\n",
       "      <td>NaN</td>\n",
       "      <td>NaN</td>\n",
       "      <td>NaN</td>\n",
       "      <td>NaN</td>\n",
       "      <td>1998</td>\n",
       "      <td>27.636057</td>\n",
       "      <td>hip</td>\n",
       "      <td>very good</td>\n",
       "      <td>...</td>\n",
       "      <td>no walkaid</td>\n",
       "      <td>78</td>\n",
       "      <td>10</td>\n",
       "      <td>9</td>\n",
       "      <td>9.0</td>\n",
       "      <td>9.0</td>\n",
       "      <td>NaN</td>\n",
       "      <td>NaN</td>\n",
       "      <td>adam_saso</td>\n",
       "      <td>adam_saso_38888_1998</td>\n",
       "    </tr>\n",
       "    <tr>\n",
       "      <td>1</td>\n",
       "      <td>slightly reduced</td>\n",
       "      <td>23.0</td>\n",
       "      <td>NaN</td>\n",
       "      <td>NaN</td>\n",
       "      <td>NaN</td>\n",
       "      <td>NaN</td>\n",
       "      <td>1997</td>\n",
       "      <td>18.339100</td>\n",
       "      <td>knee</td>\n",
       "      <td>moderate</td>\n",
       "      <td>...</td>\n",
       "      <td>no walkaid</td>\n",
       "      <td>53</td>\n",
       "      <td>6</td>\n",
       "      <td>5</td>\n",
       "      <td>3.0</td>\n",
       "      <td>3.0</td>\n",
       "      <td>7.0</td>\n",
       "      <td>NaN</td>\n",
       "      <td>adam_saso</td>\n",
       "      <td>adam_saso_39151_1997</td>\n",
       "    </tr>\n",
       "    <tr>\n",
       "      <td>2</td>\n",
       "      <td>not reduced</td>\n",
       "      <td>21.0</td>\n",
       "      <td>NaN</td>\n",
       "      <td>NaN</td>\n",
       "      <td>NaN</td>\n",
       "      <td>not applicable</td>\n",
       "      <td>1999</td>\n",
       "      <td>20.160700</td>\n",
       "      <td>back</td>\n",
       "      <td>good</td>\n",
       "      <td>...</td>\n",
       "      <td>no walkaid</td>\n",
       "      <td>69</td>\n",
       "      <td>8</td>\n",
       "      <td>9</td>\n",
       "      <td>NaN</td>\n",
       "      <td>NaN</td>\n",
       "      <td>NaN</td>\n",
       "      <td>work demand much walking</td>\n",
       "      <td>adam_saso</td>\n",
       "      <td>adam_saso_39178_1999</td>\n",
       "    </tr>\n",
       "    <tr>\n",
       "      <td>3</td>\n",
       "      <td>quite reduced</td>\n",
       "      <td>27.0</td>\n",
       "      <td>NaN</td>\n",
       "      <td>NaN</td>\n",
       "      <td>NaN</td>\n",
       "      <td>no</td>\n",
       "      <td>1993</td>\n",
       "      <td>25.217360</td>\n",
       "      <td>back</td>\n",
       "      <td>difficult</td>\n",
       "      <td>...</td>\n",
       "      <td>no walkaid</td>\n",
       "      <td>67</td>\n",
       "      <td>6</td>\n",
       "      <td>7</td>\n",
       "      <td>5.0</td>\n",
       "      <td>5.0</td>\n",
       "      <td>4.0</td>\n",
       "      <td>mostly seated</td>\n",
       "      <td>adam_saso</td>\n",
       "      <td>adam_saso_39185_1993</td>\n",
       "    </tr>\n",
       "    <tr>\n",
       "      <td>4</td>\n",
       "      <td>very reduced</td>\n",
       "      <td>31.0</td>\n",
       "      <td>NaN</td>\n",
       "      <td>NaN</td>\n",
       "      <td>NaN</td>\n",
       "      <td>NaN</td>\n",
       "      <td>1989</td>\n",
       "      <td>24.464602</td>\n",
       "      <td>neck</td>\n",
       "      <td>very good</td>\n",
       "      <td>...</td>\n",
       "      <td>no walkaid</td>\n",
       "      <td>65</td>\n",
       "      <td>0</td>\n",
       "      <td>2</td>\n",
       "      <td>3.0</td>\n",
       "      <td>3.0</td>\n",
       "      <td>2.0</td>\n",
       "      <td>mostly seated</td>\n",
       "      <td>adam_saso</td>\n",
       "      <td>adam_saso_39442_1989</td>\n",
       "    </tr>\n",
       "  </tbody>\n",
       "</table>\n",
       "<p>5 rows × 355 columns</p>\n",
       "</div>"
      ],
      "text/plain": [
       "          activity_1  age_1 back_nevro_pow_1 back_nevro_reflex_1  \\\n",
       "id                                                                 \n",
       "0   slightly reduced   22.0              NaN                 NaN   \n",
       "1   slightly reduced   23.0              NaN                 NaN   \n",
       "2        not reduced   21.0              NaN                 NaN   \n",
       "3      quite reduced   27.0              NaN                 NaN   \n",
       "4       very reduced   31.0              NaN                 NaN   \n",
       "\n",
       "   back_nevro_sens_1      back_slr_1  birth_year      bmi_1 body_main_1  \\\n",
       "id                                                                        \n",
       "0                NaN             NaN        1998  27.636057         hip   \n",
       "1                NaN             NaN        1997  18.339100        knee   \n",
       "2                NaN  not applicable        1999  20.160700        back   \n",
       "3                NaN              no        1993  25.217360        back   \n",
       "4                NaN             NaN        1989  24.464602        neck   \n",
       "\n",
       "   childhood_1  ...   walk_aid_1  weight_1 work_ability_1  work_ability_3  \\\n",
       "id              ...                                                         \n",
       "0    very good  ...   no walkaid        78             10               9   \n",
       "1     moderate  ...   no walkaid        53              6               5   \n",
       "2         good  ...   no walkaid        69              8               9   \n",
       "3    difficult  ...   no walkaid        67              6               7   \n",
       "4    very good  ...   no walkaid        65              0               2   \n",
       "\n",
       "    work_ability_w2  work_ability_w4  work_ability_w8  \\\n",
       "id                                                      \n",
       "0               9.0              9.0              NaN   \n",
       "1               3.0              3.0              7.0   \n",
       "2               NaN              NaN              NaN   \n",
       "3               5.0              5.0              4.0   \n",
       "4               3.0              3.0              2.0   \n",
       "\n",
       "                 work_type_1  clinic_id            patient_id  \n",
       "id                                                             \n",
       "0                        NaN  adam_saso  adam_saso_38888_1998  \n",
       "1                        NaN  adam_saso  adam_saso_39151_1997  \n",
       "2   work demand much walking  adam_saso  adam_saso_39178_1999  \n",
       "3              mostly seated  adam_saso  adam_saso_39185_1993  \n",
       "4              mostly seated  adam_saso  adam_saso_39442_1989  \n",
       "\n",
       "[5 rows x 355 columns]"
      ]
     },
     "execution_count": 20,
     "metadata": {},
     "output_type": "execute_result"
    }
   ],
   "source": [
    "df_labeled.index.name = 'id'\n",
    "df_labeled.head()"
   ]
  },
  {
   "cell_type": "markdown",
   "metadata": {},
   "source": [
    "# Write the complete updated dataset to an excel sheet\n",
    "## for: labeled and numeric dataset"
   ]
  },
  {
   "cell_type": "code",
   "execution_count": 21,
   "metadata": {},
   "outputs": [],
   "source": [
    "df_labeled.to_csv( gen_data_loc+'1_sp_dataset_labeled'+ time_stamp +'.csv', index=True)\n",
    "#df_numeric.to_csv( gen_data_loc+'1_sp_dataset_numeric'+ time_stamp +'.csv', index=True)"
   ]
  },
  {
   "cell_type": "markdown",
   "metadata": {},
   "source": [
    "## Write attribute and definitions of supportPrim dataset to a excel file"
   ]
  },
  {
   "cell_type": "code",
   "execution_count": 22,
   "metadata": {},
   "outputs": [
    {
     "name": "stdout",
     "output_type": "stream",
     "text": [
      "Data type for STATA labels is : <class 'dict'>\n"
     ]
    },
    {
     "name": "stderr",
     "output_type": "stream",
     "text": [
      "/lhome/amardj/anaconda3/envs/my_env/lib/python3.7/site-packages/ipykernel_launcher.py:10: FutureWarning: The signature of `Series.to_csv` was aligned to that of `DataFrame.to_csv`, and argument 'header' will change its default value from False to True: please pass an explicit value to suppress this warning.\n",
      "  # Remove the CWD from sys.path while we load stuff.\n"
     ]
    }
   ],
   "source": [
    "stata_labels = pd.io.stata.StataReader( file_name_labeled).variable_labels()\n",
    "print('Data type for STATA labels is : {}'.format(type(stata_labels))) # Data type for STATA labels is : <class 'dict'>\n",
    "\n",
    "series_stata_def = pd.Series(stata_labels, name='definition')\n",
    "series_stata_def.index.name = 'attribute'\n",
    "series_stata_def.reset_index();\n",
    "\n",
    "# sort by attribute name\n",
    "series_stata_def.sort_index( inplace=True)\n",
    "series_stata_def.to_csv( gen_data_loc+'1_sp_dataset_labeled_attribute_definition'+ time_stamp +'.csv')"
   ]
  },
  {
   "cell_type": "markdown",
   "metadata": {},
   "source": [
    "def_df = pd.read_excel('support_prim_attribute_definition.xlsx', index_col='sln')\n",
    "def_df.head()"
   ]
  },
  {
   "cell_type": "markdown",
   "metadata": {},
   "source": [
    "stata_labels = pd.io.stata.StataReader( file_name_numeric).variable_labels()\n",
    "print('Data type for STATA labels is : {}'.format(type(stata_labels))) # Data type for STATA labels is : <class 'dict'>\n",
    "\n",
    "series_stata_def = pd.Series(stata_labels, name='definition')\n",
    "series_stata_def.index.name = 'attribute'\n",
    "series_stata_def.reset_index();\n",
    "\n",
    "# sort by attribute name\n",
    "series_stata_def.sort_index( inplace=True)\n",
    "series_stata_def.to_csv( gen_data_loc+'sp_dataset_numeric_attribute_definition'+ time_stamp +'.csv')"
   ]
  },
  {
   "cell_type": "code",
   "execution_count": 23,
   "metadata": {},
   "outputs": [],
   "source": [
    "df_labeled.columns.tolist();"
   ]
  },
  {
   "cell_type": "markdown",
   "metadata": {},
   "source": [
    "test = pd.io.stata.StataReader( file_name_numeric)"
   ]
  },
  {
   "cell_type": "markdown",
   "metadata": {},
   "source": [
    "test.read()"
   ]
  },
  {
   "cell_type": "code",
   "execution_count": 24,
   "metadata": {},
   "outputs": [
    {
     "data": {
      "text/plain": [
       "['activity_1',\n",
       " 'age_1',\n",
       " 'back_nevro_pow_1',\n",
       " 'back_nevro_reflex_1',\n",
       " 'back_nevro_sens_1',\n",
       " 'back_slr_1',\n",
       " 'birth_year',\n",
       " 'bmi_1',\n",
       " 'body_main_1',\n",
       " 'childhood_1',\n",
       " 'como_asthma_1',\n",
       " 'como_cancer_1',\n",
       " 'como_count_1',\n",
       " 'como_dementhia_1',\n",
       " 'como_diabetes_1',\n",
       " 'como_fatigue_1',\n",
       " 'como_headache_1',\n",
       " 'como_heart_1',\n",
       " 'como_neuro_1',\n",
       " 'como_osteoporosis_1',\n",
       " 'como_other_1',\n",
       " 'como_other_spec_1',\n",
       " 'como_psych_1',\n",
       " 'como_ra_1',\n",
       " 'como_stomach_pain_1',\n",
       " 'compliance_3',\n",
       " 'consultation_3',\n",
       " 'date_baseline_patient',\n",
       " 'diagnose_1',\n",
       " 'discussed_employer_3',\n",
       " 'discussed_family_3',\n",
       " 'discussed_nav_3',\n",
       " 'discussed_occupational_3',\n",
       " 'education_1',\n",
       " 'education_othersp_1',\n",
       " 'employ_1',\n",
       " 'employ_assess_1',\n",
       " 'employ_assess_3',\n",
       " 'employ_disability_1',\n",
       " 'employ_disability_3',\n",
       " 'employ_disabilityp_1',\n",
       " 'employ_disabilityp_3',\n",
       " 'employ_paid_1',\n",
       " 'employ_paid_3',\n",
       " 'employ_paidp_1',\n",
       " 'employ_paidp_3',\n",
       " 'employ_parentleave_1',\n",
       " 'employ_parentleave_3',\n",
       " 'employ_retired_1',\n",
       " 'employ_retired_3',\n",
       " 'employ_sick_1',\n",
       " 'employ_sick_3',\n",
       " 'employ_sickp_1',\n",
       " 'employ_sickp_3',\n",
       " 'employ_stud_1',\n",
       " 'employ_stud_3',\n",
       " 'employ_unempl_1',\n",
       " 'employ_unpaid_1',\n",
       " 'employ_unpaid_3',\n",
       " 'eq5d_adl_1',\n",
       " 'eq5d_adl_3',\n",
       " 'eq5d_care_1',\n",
       " 'eq5d_care_3',\n",
       " 'eq5d_depr_1',\n",
       " 'eq5d_depr_3',\n",
       " 'eq5d_pain_1',\n",
       " 'eq5d_pain_3',\n",
       " 'eq5d_walk_1',\n",
       " 'eq5d_walk_3',\n",
       " 'ethnicity_1',\n",
       " 'eval_goal_3',\n",
       " 'family_1',\n",
       " 'family_child_1',\n",
       " 'fear_1',\n",
       " 'gender_1',\n",
       " 'gpe_3',\n",
       " 'gpe_w2',\n",
       " 'gpe_w4',\n",
       " 'gpe_w8',\n",
       " 'health_lit_info_1',\n",
       " 'health_lit_sit_1',\n",
       " 'height_1',\n",
       " 'hscl_q10_1',\n",
       " 'hscl_q10_3',\n",
       " 'hscl_q1_1',\n",
       " 'hscl_q2_1',\n",
       " 'hscl_q2_3',\n",
       " 'hscl_q3_1',\n",
       " 'hscl_q3_3',\n",
       " 'hscl_q4_1',\n",
       " 'hscl_q4_3',\n",
       " 'hscl_q5_1',\n",
       " 'hscl_q5_3',\n",
       " 'hscl_q6_1',\n",
       " 'hscl_q6_3',\n",
       " 'hscl_q7_1',\n",
       " 'hscl_q7_3',\n",
       " 'hscl_q8_1',\n",
       " 'hscl_q8_3',\n",
       " 'hscl_q9_1',\n",
       " 'hscl_q9_3',\n",
       " 'hscl_score_1',\n",
       " 'hscl_score_3',\n",
       " 'icpc_letter_1',\n",
       " 'icpc_nr_1',\n",
       " 'journal_id',\n",
       " 'knee_hydrops_1',\n",
       " 'knee_trumatic_1',\n",
       " 'marital_1',\n",
       " 'medic_1',\n",
       " 'medic_3',\n",
       " 'medic_albyle_1',\n",
       " 'medic_albyle_3',\n",
       " 'medic_ibux_1',\n",
       " 'medic_ibux_3',\n",
       " 'medic_number_1',\n",
       " 'medic_number_3',\n",
       " 'medic_other_1',\n",
       " 'medic_other_3',\n",
       " 'medic_other_spec_1',\n",
       " 'medic_other_spec_3',\n",
       " 'medic_paracet_1',\n",
       " 'medic_paracet_3',\n",
       " 'mskhq_pa_1',\n",
       " 'mskhq_pa_3',\n",
       " 'mskhq_q10_1',\n",
       " 'mskhq_q10_3',\n",
       " 'mskhq_q11_1',\n",
       " 'mskhq_q11_3',\n",
       " 'mskhq_q12_1',\n",
       " 'mskhq_q12_3',\n",
       " 'mskhq_q13_1',\n",
       " 'mskhq_q13_3',\n",
       " 'mskhq_q14_1',\n",
       " 'mskhq_q14_3',\n",
       " 'mskhq_q1_1',\n",
       " 'mskhq_q1_3',\n",
       " 'mskhq_q2_1',\n",
       " 'mskhq_q2_3',\n",
       " 'mskhq_q3_1',\n",
       " 'mskhq_q3_3',\n",
       " 'mskhq_q4_1',\n",
       " 'mskhq_q4_3',\n",
       " 'mskhq_q5_1',\n",
       " 'mskhq_q5_3',\n",
       " 'mskhq_q6_1',\n",
       " 'mskhq_q6_3',\n",
       " 'mskhq_q7_1',\n",
       " 'mskhq_q7_3',\n",
       " 'mskhq_q8_1',\n",
       " 'mskhq_q8_3',\n",
       " 'mskhq_q9_1',\n",
       " 'mskhq_q9_3',\n",
       " 'mskhq_score_1',\n",
       " 'mskhq_score_3',\n",
       " 'mskt_q10_1',\n",
       " 'mskt_q1_1',\n",
       " 'mskt_q2_1',\n",
       " 'mskt_q3_1',\n",
       " 'mskt_q4_1',\n",
       " 'mskt_q5_1',\n",
       " 'mskt_q6_1',\n",
       " 'mskt_q7_1',\n",
       " 'mskt_q8_1',\n",
       " 'mskt_q9_1',\n",
       " 'mskt_risk_1',\n",
       " 'mskt_score_1',\n",
       " 'neck_conclusion_1',\n",
       " 'neck_nevro_pow_1',\n",
       " 'neck_nevro_reflex_1',\n",
       " 'neck_nevro_sens_1',\n",
       " 'neck_spurling_1',\n",
       " 'oreb_q10_1',\n",
       " 'oreb_q1_1',\n",
       " 'oreb_q2_1',\n",
       " 'oreb_q2_3',\n",
       " 'oreb_q2_w2',\n",
       " 'oreb_q2_w4',\n",
       " 'oreb_q2_w8',\n",
       " 'oreb_q3_1',\n",
       " 'oreb_q4_1',\n",
       " 'oreb_q5_1',\n",
       " 'oreb_q6_1',\n",
       " 'oreb_q7_1',\n",
       " 'oreb_q8_1',\n",
       " 'oreb_q9_1',\n",
       " 'oreb_score_1',\n",
       " 'out01',\n",
       " 'pain_continuous_1',\n",
       " 'pain_continuous_3',\n",
       " 'pain_duration_1',\n",
       " 'pain_freq_1',\n",
       " 'pain_freq_3',\n",
       " 'pain_lweek_1',\n",
       " 'pain_variation_1',\n",
       " 'pain_variation_3',\n",
       " 'pain_vary_1',\n",
       " 'pain_vary_3',\n",
       " 'painsite_elbow_1',\n",
       " 'painsite_elbow_3',\n",
       " 'painsite_feet_1',\n",
       " 'painsite_feet_3',\n",
       " 'painsite_hand_1',\n",
       " 'painsite_hand_3',\n",
       " 'painsite_head_1',\n",
       " 'painsite_head_3',\n",
       " 'painsite_knee_1',\n",
       " 'painsite_knee_3',\n",
       " 'painsite_lback_1',\n",
       " 'painsite_lback_3',\n",
       " 'painsite_neck_1',\n",
       " 'painsite_neck_3',\n",
       " 'painsite_number_1',\n",
       " 'painsite_number_3',\n",
       " 'painsite_shou_1',\n",
       " 'painsite_shou_3',\n",
       " 'painsite_thigh_1',\n",
       " 'painsite_thigh_3',\n",
       " 'painsite_uback_1',\n",
       " 'painsite_uback_3',\n",
       " 'patient_therapist_q1_3',\n",
       " 'patient_therapist_q2_3',\n",
       " 'patient_therapist_q3_3',\n",
       " 'physio_id',\n",
       " 'physio_spec_3',\n",
       " 'pseq_q1_1',\n",
       " 'pseq_q1_3',\n",
       " 'pseq_q1_w2',\n",
       " 'pseq_q1_w4',\n",
       " 'pseq_q1_w8',\n",
       " 'pseq_q2_1',\n",
       " 'pseq_q2_3',\n",
       " 'pseq_q2_w2',\n",
       " 'pseq_q2_w4',\n",
       " 'pseq_q2_w8',\n",
       " 'pseq_score_1',\n",
       " 'pseq_score_3',\n",
       " 'psfs1_1',\n",
       " 'psfs1_3',\n",
       " 'psfs1_act_1',\n",
       " 'psfs1_act_3',\n",
       " 'psfs1_act_w2',\n",
       " 'psfs1_act_w4',\n",
       " 'psfs1_act_w8',\n",
       " 'psfs1_w2',\n",
       " 'psfs1_w4',\n",
       " 'psfs1_w8',\n",
       " 'qol15D_q14_vital_1',\n",
       " 'qol15D_q14_vital_3',\n",
       " 'qol15D_q5_sleep_1',\n",
       " 'qol15D_q5_sleep_3',\n",
       " 'red_flag_cancer_1',\n",
       " 'red_flag_nightpain_1',\n",
       " 'red_flag_urination_1',\n",
       " 'red_flag_weight_1',\n",
       " 'shoulder_passive_extrot_1',\n",
       " 'smoking_1',\n",
       " 'treat_active_1_much_3',\n",
       " 'treat_active_1_none_3',\n",
       " 'treat_active_1_some_3',\n",
       " 'treat_active_2_much_3',\n",
       " 'treat_active_2_none_3',\n",
       " 'treat_active_2_some_3',\n",
       " 'treat_active_3_much_3',\n",
       " 'treat_active_3_none_3',\n",
       " 'treat_active_3_some_3',\n",
       " 'treat_active_4_much_3',\n",
       " 'treat_active_4_none_3',\n",
       " 'treat_active_4_some_3',\n",
       " 'treat_active_5_much_3',\n",
       " 'treat_active_5_none_3',\n",
       " 'treat_active_5_some_3',\n",
       " 'treat_active_6_much_3',\n",
       " 'treat_active_6_none_3',\n",
       " 'treat_active_6_some_3',\n",
       " 'treat_advice_10_much_3',\n",
       " 'treat_advice_10_none_3',\n",
       " 'treat_advice_10_some_3',\n",
       " 'treat_advice_1_much_3',\n",
       " 'treat_advice_1_none_3',\n",
       " 'treat_advice_1_some_3',\n",
       " 'treat_advice_2_much_3',\n",
       " 'treat_advice_2_none_3',\n",
       " 'treat_advice_2_some_3',\n",
       " 'treat_advice_3_much_3',\n",
       " 'treat_advice_3_none_3',\n",
       " 'treat_advice_3_some_3',\n",
       " 'treat_advice_4_much_3',\n",
       " 'treat_advice_4_none_3',\n",
       " 'treat_advice_4_some_3',\n",
       " 'treat_advice_5_much_3',\n",
       " 'treat_advice_5_none_3',\n",
       " 'treat_advice_5_some_3',\n",
       " 'treat_advice_6_much_3',\n",
       " 'treat_advice_6_none_3',\n",
       " 'treat_advice_6_some_3',\n",
       " 'treat_advice_7_much_3',\n",
       " 'treat_advice_7_none_3',\n",
       " 'treat_advice_7_some_3',\n",
       " 'treat_advice_8_much_3',\n",
       " 'treat_advice_8_none_3',\n",
       " 'treat_advice_8_some_3',\n",
       " 'treat_advice_9_much_3',\n",
       " 'treat_advice_9_none_3',\n",
       " 'treat_advice_9_some_3',\n",
       " 'treat_belief_1',\n",
       " 'treat_benefit_3',\n",
       " 'treat_contin_3',\n",
       " 'treat_desc1_3',\n",
       " 'treat_desc2_3',\n",
       " 'treat_discuss_gp_3',\n",
       " 'treat_discuss_other_3',\n",
       " 'treat_discuss_physio_3',\n",
       " 'treat_discuss_psycho_3',\n",
       " 'treat_discuss_specialist_3',\n",
       " 'treat_expect_3',\n",
       " 'treat_goal_1',\n",
       " 'treat_home_much_3',\n",
       " 'treat_home_none_3',\n",
       " 'treat_home_some_3',\n",
       " 'treat_passive_joint_much_3',\n",
       " 'treat_passive_joint_none_3',\n",
       " 'treat_passive_joint_some_3',\n",
       " 'treat_passive_massage_much_3',\n",
       " 'treat_passive_massage_none_3',\n",
       " 'treat_passive_massage_some_3',\n",
       " 'treat_passive_shockwave_much_3',\n",
       " 'treat_passive_shockwave_none_3',\n",
       " 'treat_passive_shockwave_some_3',\n",
       " 'treat_passive_stretch_much_3',\n",
       " 'treat_passive_stretch_none_3',\n",
       " 'treat_passive_stretch_some_3',\n",
       " 'treat_passive_trigger_much_3',\n",
       " 'treat_passive_trigger_none_3',\n",
       " 'treat_passive_trigger_some_3',\n",
       " 'treat_setting_group_much_3',\n",
       " 'treat_setting_group_none_3',\n",
       " 'treat_setting_group_some_3',\n",
       " 'treat_setting_individual_much_3',\n",
       " 'treat_setting_individual_none_3',\n",
       " 'treat_setting_individual_some_3',\n",
       " 'treat_setting_self_much_3',\n",
       " 'treat_setting_self_none_3',\n",
       " 'treat_setting_self_some_3',\n",
       " 'treatmentfactor_patient_3',\n",
       " 'walk_aid_1',\n",
       " 'weight_1',\n",
       " 'work_ability_1',\n",
       " 'work_ability_3',\n",
       " 'work_ability_w2',\n",
       " 'work_ability_w4',\n",
       " 'work_ability_w8',\n",
       " 'work_type_1',\n",
       " 'clinic_id',\n",
       " 'patient_id']"
      ]
     },
     "execution_count": 24,
     "metadata": {},
     "output_type": "execute_result"
    }
   ],
   "source": [
    "df_labeled.columns.tolist()"
   ]
  },
  {
   "cell_type": "raw",
   "metadata": {},
   "source": [
    "df_labeled.eq5d_1"
   ]
  },
  {
   "cell_type": "code",
   "execution_count": 25,
   "metadata": {},
   "outputs": [],
   "source": [
    "outcome_list = [\n",
    "'out01',\n",
    "#'out02'\n",
    "]"
   ]
  },
  {
   "cell_type": "code",
   "execution_count": 26,
   "metadata": {},
   "outputs": [
    {
     "data": {
      "text/html": [
       "<div>\n",
       "<style scoped>\n",
       "    .dataframe tbody tr th:only-of-type {\n",
       "        vertical-align: middle;\n",
       "    }\n",
       "\n",
       "    .dataframe tbody tr th {\n",
       "        vertical-align: top;\n",
       "    }\n",
       "\n",
       "    .dataframe thead th {\n",
       "        text-align: right;\n",
       "    }\n",
       "</style>\n",
       "<table border=\"1\" class=\"dataframe\">\n",
       "  <thead>\n",
       "    <tr style=\"text-align: right;\">\n",
       "      <th></th>\n",
       "      <th>out01</th>\n",
       "    </tr>\n",
       "    <tr>\n",
       "      <th>id</th>\n",
       "      <th></th>\n",
       "    </tr>\n",
       "  </thead>\n",
       "  <tbody>\n",
       "    <tr>\n",
       "      <td>0</td>\n",
       "      <td>0.0</td>\n",
       "    </tr>\n",
       "    <tr>\n",
       "      <td>1</td>\n",
       "      <td>0.0</td>\n",
       "    </tr>\n",
       "    <tr>\n",
       "      <td>2</td>\n",
       "      <td>NaN</td>\n",
       "    </tr>\n",
       "    <tr>\n",
       "      <td>3</td>\n",
       "      <td>0.0</td>\n",
       "    </tr>\n",
       "    <tr>\n",
       "      <td>4</td>\n",
       "      <td>0.0</td>\n",
       "    </tr>\n",
       "    <tr>\n",
       "      <td>5</td>\n",
       "      <td>1.0</td>\n",
       "    </tr>\n",
       "    <tr>\n",
       "      <td>6</td>\n",
       "      <td>0.0</td>\n",
       "    </tr>\n",
       "    <tr>\n",
       "      <td>7</td>\n",
       "      <td>1.0</td>\n",
       "    </tr>\n",
       "    <tr>\n",
       "      <td>8</td>\n",
       "      <td>1.0</td>\n",
       "    </tr>\n",
       "    <tr>\n",
       "      <td>9</td>\n",
       "      <td>0.0</td>\n",
       "    </tr>\n",
       "  </tbody>\n",
       "</table>\n",
       "</div>"
      ],
      "text/plain": [
       "    out01\n",
       "id       \n",
       "0     0.0\n",
       "1     0.0\n",
       "2     NaN\n",
       "3     0.0\n",
       "4     0.0\n",
       "5     1.0\n",
       "6     0.0\n",
       "7     1.0\n",
       "8     1.0\n",
       "9     0.0"
      ]
     },
     "execution_count": 26,
     "metadata": {},
     "output_type": "execute_result"
    }
   ],
   "source": [
    "df_labeled[outcome_list][:10]"
   ]
  },
  {
   "cell_type": "code",
   "execution_count": null,
   "metadata": {},
   "outputs": [],
   "source": []
  },
  {
   "cell_type": "code",
   "execution_count": 27,
   "metadata": {},
   "outputs": [],
   "source": [
    "df_attri = pd.read_csv( gen_data_loc+'1_sp_dataset_labeled_attribute_definition'+ time_stamp +'.csv')"
   ]
  },
  {
   "cell_type": "code",
   "execution_count": 28,
   "metadata": {},
   "outputs": [
    {
     "data": {
      "text/plain": [
       "attribute\n",
       "activity_1             Hvor redusert er ditt daglige aktivitetsnivå p...\n",
       "age_1                                                                   \n",
       "back_nevro_pow_1                                          Redusert kraft\n",
       "back_nevro_reflex_1                                   Unormale reflekser\n",
       "back_nevro_sens_1                                  Redusert sensibilitet\n",
       "                                             ...                        \n",
       "work_ability_3                                               Arbeidsevne\n",
       "work_ability_w2                                              Arbeidsevne\n",
       "work_ability_w4                                              Arbeidsevne\n",
       "work_ability_w8                                              Arbeidsevne\n",
       "work_type_1            Hvordan vil du beskrive arbeidet ditt (lønnet ...\n",
       "Name: definition, Length: 353, dtype: object"
      ]
     },
     "execution_count": 28,
     "metadata": {},
     "output_type": "execute_result"
    }
   ],
   "source": [
    "series_stata_def"
   ]
  },
  {
   "cell_type": "code",
   "execution_count": 29,
   "metadata": {},
   "outputs": [
    {
     "name": "stdout",
     "output_type": "stream",
     "text": [
      "Data type for STATA labels is : <class 'dict'>\n"
     ]
    }
   ],
   "source": [
    "stata_labels = pd.io.stata.StataReader( file_name_labeled).variable_labels()\n",
    "print('Data type for STATA labels is : {}'.format(type(stata_labels))) # Data type for STATA labels is : <class 'dict'>\n",
    "\n",
    "series_stata_def = pd.DataFrame(data=stata_labels, index=[0])\n",
    "#series_stata_def.index.name = 'attribute'\n",
    "#series_stata_def.reset_index();\n",
    "\n",
    "# sort by attribute name\n",
    "#series_stata_def.sort_index( inplace=True)\n",
    "#series_stata_def.to_csv( gen_data_loc+'sp_dataset_labeled_attribute_definition'+ time_stamp +'.csv')"
   ]
  },
  {
   "cell_type": "code",
   "execution_count": 30,
   "metadata": {},
   "outputs": [
    {
     "data": {
      "text/html": [
       "<div>\n",
       "<style scoped>\n",
       "    .dataframe tbody tr th:only-of-type {\n",
       "        vertical-align: middle;\n",
       "    }\n",
       "\n",
       "    .dataframe tbody tr th {\n",
       "        vertical-align: top;\n",
       "    }\n",
       "\n",
       "    .dataframe thead th {\n",
       "        text-align: right;\n",
       "    }\n",
       "</style>\n",
       "<table border=\"1\" class=\"dataframe\">\n",
       "  <thead>\n",
       "    <tr style=\"text-align: right;\">\n",
       "      <th></th>\n",
       "      <th>physio_id</th>\n",
       "      <th>journal_id</th>\n",
       "      <th>birth_year</th>\n",
       "      <th>psfs1_act_1</th>\n",
       "      <th>psfs1_1</th>\n",
       "      <th>treat_goal_1</th>\n",
       "      <th>body_main_1</th>\n",
       "      <th>neck_spurling_1</th>\n",
       "      <th>neck_nevro_pow_1</th>\n",
       "      <th>neck_nevro_sens_1</th>\n",
       "      <th>...</th>\n",
       "      <th>pseq_q2_w4</th>\n",
       "      <th>gpe_w4</th>\n",
       "      <th>psfs1_act_w8</th>\n",
       "      <th>psfs1_w8</th>\n",
       "      <th>work_ability_w8</th>\n",
       "      <th>oreb_q2_w8</th>\n",
       "      <th>pseq_q1_w8</th>\n",
       "      <th>pseq_q2_w8</th>\n",
       "      <th>gpe_w8</th>\n",
       "      <th>out01</th>\n",
       "    </tr>\n",
       "  </thead>\n",
       "  <tbody>\n",
       "    <tr>\n",
       "      <td>0</td>\n",
       "      <td>Klinikk</td>\n",
       "      <td>Pasient nr</td>\n",
       "      <td>Fødselsår</td>\n",
       "      <td>smallAktivitet 1/small</td>\n",
       "      <td>smallAktivitet 1/small</td>\n",
       "      <td>Hva er hovedmålet med behandlingen</td>\n",
       "      <td>Definer hovedproblem (dette utløser spesifikke...</td>\n",
       "      <td>Spurling test positiv\\t</td>\n",
       "      <td>Redusert kraft</td>\n",
       "      <td>Redusert sensibilitet</td>\n",
       "      <td>...</td>\n",
       "      <td>2. Jeg kan leve en normal livsstil til tross f...</td>\n",
       "      <td>Siden behandling startet er jeg :</td>\n",
       "      <td>smallAktivitet 1/small</td>\n",
       "      <td>smallAktivitet 1/small</td>\n",
       "      <td>Arbeidsevne</td>\n",
       "      <td>Hvor mye smerter har du hatt den SISTE UKEN?</td>\n",
       "      <td>1. Jeg kan gjøre noen former for arbeid til tr...</td>\n",
       "      <td>2. Jeg kan leve en normal livsstil til tross f...</td>\n",
       "      <td>Siden behandling startet er jeg :</td>\n",
       "      <td></td>\n",
       "    </tr>\n",
       "  </tbody>\n",
       "</table>\n",
       "<p>1 rows × 353 columns</p>\n",
       "</div>"
      ],
      "text/plain": [
       "  physio_id  journal_id birth_year             psfs1_act_1  \\\n",
       "0   Klinikk  Pasient nr  Fødselsår  smallAktivitet 1/small   \n",
       "\n",
       "                  psfs1_1                        treat_goal_1  \\\n",
       "0  smallAktivitet 1/small  Hva er hovedmålet med behandlingen   \n",
       "\n",
       "                                         body_main_1          neck_spurling_1  \\\n",
       "0  Definer hovedproblem (dette utløser spesifikke...  Spurling test positiv\\t   \n",
       "\n",
       "  neck_nevro_pow_1      neck_nevro_sens_1  ...  \\\n",
       "0   Redusert kraft  Redusert sensibilitet  ...   \n",
       "\n",
       "                                          pseq_q2_w4  \\\n",
       "0  2. Jeg kan leve en normal livsstil til tross f...   \n",
       "\n",
       "                              gpe_w4            psfs1_act_w8  \\\n",
       "0  Siden behandling startet er jeg :  smallAktivitet 1/small   \n",
       "\n",
       "                 psfs1_w8 work_ability_w8  \\\n",
       "0  smallAktivitet 1/small     Arbeidsevne   \n",
       "\n",
       "                                     oreb_q2_w8  \\\n",
       "0  Hvor mye smerter har du hatt den SISTE UKEN?   \n",
       "\n",
       "                                          pseq_q1_w8  \\\n",
       "0  1. Jeg kan gjøre noen former for arbeid til tr...   \n",
       "\n",
       "                                          pseq_q2_w8  \\\n",
       "0  2. Jeg kan leve en normal livsstil til tross f...   \n",
       "\n",
       "                              gpe_w8 out01  \n",
       "0  Siden behandling startet er jeg :        \n",
       "\n",
       "[1 rows x 353 columns]"
      ]
     },
     "execution_count": 30,
     "metadata": {},
     "output_type": "execute_result"
    }
   ],
   "source": [
    "series_stata_def.head()"
   ]
  },
  {
   "cell_type": "raw",
   "metadata": {},
   "source": [
    "val = series_stata_def['treat_adl_q1_3']"
   ]
  },
  {
   "cell_type": "raw",
   "metadata": {},
   "source": [
    "val.values"
   ]
  },
  {
   "cell_type": "code",
   "execution_count": null,
   "metadata": {},
   "outputs": [],
   "source": []
  },
  {
   "cell_type": "code",
   "execution_count": null,
   "metadata": {},
   "outputs": [],
   "source": []
  },
  {
   "cell_type": "code",
   "execution_count": null,
   "metadata": {},
   "outputs": [],
   "source": []
  },
  {
   "cell_type": "code",
   "execution_count": null,
   "metadata": {},
   "outputs": [],
   "source": []
  },
  {
   "cell_type": "code",
   "execution_count": null,
   "metadata": {},
   "outputs": [],
   "source": []
  },
  {
   "cell_type": "code",
   "execution_count": null,
   "metadata": {},
   "outputs": [],
   "source": []
  },
  {
   "cell_type": "code",
   "execution_count": null,
   "metadata": {},
   "outputs": [],
   "source": []
  },
  {
   "cell_type": "code",
   "execution_count": 31,
   "metadata": {},
   "outputs": [],
   "source": [
    "#1_sp_dataset_labeled_190708.csv\n",
    "file_labeled = gen_data_loc+'1_sp_dataset_labeled'+ time_stamp + '.csv'\n",
    "#file_numeric = gen_data_loc+'1_sp_dataset_numeric'+ time_stamp + '.csv'"
   ]
  },
  {
   "cell_type": "code",
   "execution_count": 32,
   "metadata": {},
   "outputs": [],
   "source": [
    "df_labeled = pd.read_csv(file_labeled, index_col='id')\n",
    "#df_numeric = pd.read_csv(file_numeric, index_col='id')"
   ]
  },
  {
   "cell_type": "code",
   "execution_count": 33,
   "metadata": {},
   "outputs": [],
   "source": [
    "df = df_labeled.copy( deep=True)"
   ]
  },
  {
   "cell_type": "code",
   "execution_count": 34,
   "metadata": {},
   "outputs": [
    {
     "data": {
      "text/plain": [
       "array(['hip', 'knee', 'back', 'neck', 'multisite/complex', 'shoulder'],\n",
       "      dtype=object)"
      ]
     },
     "execution_count": 34,
     "metadata": {},
     "output_type": "execute_result"
    }
   ],
   "source": [
    "df.body_main_1.unique()"
   ]
  },
  {
   "cell_type": "code",
   "execution_count": 35,
   "metadata": {},
   "outputs": [],
   "source": [
    "outcome_list = [\n",
    " 'out01',\n",
    " #'out02'\n",
    "]"
   ]
  },
  {
   "cell_type": "code",
   "execution_count": 36,
   "metadata": {},
   "outputs": [
    {
     "data": {
      "text/html": [
       "<div>\n",
       "<style scoped>\n",
       "    .dataframe tbody tr th:only-of-type {\n",
       "        vertical-align: middle;\n",
       "    }\n",
       "\n",
       "    .dataframe tbody tr th {\n",
       "        vertical-align: top;\n",
       "    }\n",
       "\n",
       "    .dataframe thead th {\n",
       "        text-align: right;\n",
       "    }\n",
       "</style>\n",
       "<table border=\"1\" class=\"dataframe\">\n",
       "  <thead>\n",
       "    <tr style=\"text-align: right;\">\n",
       "      <th></th>\n",
       "      <th>out01</th>\n",
       "    </tr>\n",
       "    <tr>\n",
       "      <th>id</th>\n",
       "      <th></th>\n",
       "    </tr>\n",
       "  </thead>\n",
       "  <tbody>\n",
       "    <tr>\n",
       "      <td>0</td>\n",
       "      <td>0.0</td>\n",
       "    </tr>\n",
       "    <tr>\n",
       "      <td>1</td>\n",
       "      <td>0.0</td>\n",
       "    </tr>\n",
       "    <tr>\n",
       "      <td>2</td>\n",
       "      <td>NaN</td>\n",
       "    </tr>\n",
       "    <tr>\n",
       "      <td>3</td>\n",
       "      <td>0.0</td>\n",
       "    </tr>\n",
       "    <tr>\n",
       "      <td>4</td>\n",
       "      <td>0.0</td>\n",
       "    </tr>\n",
       "    <tr>\n",
       "      <td>5</td>\n",
       "      <td>1.0</td>\n",
       "    </tr>\n",
       "    <tr>\n",
       "      <td>6</td>\n",
       "      <td>0.0</td>\n",
       "    </tr>\n",
       "    <tr>\n",
       "      <td>7</td>\n",
       "      <td>1.0</td>\n",
       "    </tr>\n",
       "    <tr>\n",
       "      <td>8</td>\n",
       "      <td>1.0</td>\n",
       "    </tr>\n",
       "    <tr>\n",
       "      <td>9</td>\n",
       "      <td>0.0</td>\n",
       "    </tr>\n",
       "  </tbody>\n",
       "</table>\n",
       "</div>"
      ],
      "text/plain": [
       "    out01\n",
       "id       \n",
       "0     0.0\n",
       "1     0.0\n",
       "2     NaN\n",
       "3     0.0\n",
       "4     0.0\n",
       "5     1.0\n",
       "6     0.0\n",
       "7     1.0\n",
       "8     1.0\n",
       "9     0.0"
      ]
     },
     "execution_count": 36,
     "metadata": {},
     "output_type": "execute_result"
    }
   ],
   "source": [
    "df_labeled[outcome_list][:10]"
   ]
  },
  {
   "cell_type": "raw",
   "metadata": {},
   "source": [
    "df_labeled['target_2'] = df_labeled.apply(lambda row: row['outcome01_1'] + row['outcome01_2'] + row['outcome01_3'] + row['outcome01_4'], axis=1)"
   ]
  },
  {
   "cell_type": "raw",
   "metadata": {},
   "source": [
    "#df_labeled.apply(lambda row: row['outcome01_1'] + row['outcome01_2'] + row['outcome01_3'] + row['outcome01_4'], axis=1)\n",
    "df_labeled['target_II'] = df_labeled[['outcome01_1', 'outcome01_2', 'outcome01_3', 'outcome01_4']].sum(axis=1, min_count=1)\n",
    "df_labeled['target_III'] = df_labeled[['outcome02_1', 'outcome02_2', 'outcome02_3', 'outcome02_4']].sum(axis=1, min_count=1)"
   ]
  },
  {
   "cell_type": "raw",
   "metadata": {},
   "source": [
    "df_labeled['target_II'].count() # 277"
   ]
  },
  {
   "cell_type": "raw",
   "metadata": {},
   "source": [
    "df_labeled['target_III'].count() # 277"
   ]
  },
  {
   "cell_type": "raw",
   "metadata": {},
   "source": [
    "df = df_labeled.dropna( subset=['target_II'])"
   ]
  },
  {
   "cell_type": "code",
   "execution_count": 37,
   "metadata": {},
   "outputs": [
    {
     "data": {
      "text/plain": [
       "(51, 355)"
      ]
     },
     "execution_count": 37,
     "metadata": {},
     "output_type": "execute_result"
    }
   ],
   "source": [
    "df.shape"
   ]
  },
  {
   "cell_type": "code",
   "execution_count": 38,
   "metadata": {},
   "outputs": [
    {
     "data": {
      "text/plain": [
       "id\n",
       "0                       high school\n",
       "1                       high school\n",
       "2                       high school\n",
       "3    up to 4 years higher education\n",
       "4    up to 4 years higher education\n",
       "Name: education_1, dtype: object"
      ]
     },
     "execution_count": 38,
     "metadata": {},
     "output_type": "execute_result"
    }
   ],
   "source": [
    "df.education_1.head()"
   ]
  },
  {
   "cell_type": "code",
   "execution_count": 39,
   "metadata": {},
   "outputs": [
    {
     "data": {
      "text/plain": [
       "id\n",
       "0     working or other\n",
       "1     working or other\n",
       "2     working or other\n",
       "3     working or other\n",
       "4           sick leave\n",
       "Name: employ_1, dtype: object"
      ]
     },
     "execution_count": 39,
     "metadata": {},
     "output_type": "execute_result"
    }
   ],
   "source": [
    "df.employ_1.head()"
   ]
  },
  {
   "cell_type": "code",
   "execution_count": 40,
   "metadata": {},
   "outputs": [],
   "source": [
    "df = df_labeled.copy( deep=True)"
   ]
  },
  {
   "cell_type": "markdown",
   "metadata": {},
   "source": [
    "#### Remove a column named as \"_merge\", this is created due to merging process in stata "
   ]
  },
  {
   "cell_type": "code",
   "execution_count": 41,
   "metadata": {},
   "outputs": [
    {
     "name": "stdout",
     "output_type": "stream",
     "text": [
      " The DataFrame does not contain any column named as : \" _merge \"\n"
     ]
    }
   ],
   "source": [
    "drop_col_name = '_merge'\n",
    "if drop_col_name in df_labeled.columns:\n",
    "    df.drop( columns=[drop_col_name], axis=1, inplace=True)\n",
    "    df_labeled.drop( columns=[drop_col_name], axis=1, inplace=True)\n",
    "    print(' The DataFrame contains column named as : ',drop_col_name)\n",
    "else :\n",
    "    print(' The DataFrame does not contain any column named as : \"',drop_col_name,'\"')\n",
    "\n",
    "#if drop_col_name in df_numeric.columns:\n",
    "#    df_numeric.drop( columns=[drop_col_name], axis=1, inplace=True)\n",
    "#    print(' The DataFrame contains column named as : ',drop_col_name)\n",
    "#else :\n",
    "#    print(' The DataFrame does not contain any column named as : \"',drop_col_name,'\"')"
   ]
  },
  {
   "cell_type": "code",
   "execution_count": null,
   "metadata": {},
   "outputs": [],
   "source": []
  },
  {
   "cell_type": "code",
   "execution_count": 42,
   "metadata": {},
   "outputs": [
    {
     "data": {
      "text/html": [
       "<div>\n",
       "<style scoped>\n",
       "    .dataframe tbody tr th:only-of-type {\n",
       "        vertical-align: middle;\n",
       "    }\n",
       "\n",
       "    .dataframe tbody tr th {\n",
       "        vertical-align: top;\n",
       "    }\n",
       "\n",
       "    .dataframe thead th {\n",
       "        text-align: right;\n",
       "    }\n",
       "</style>\n",
       "<table border=\"1\" class=\"dataframe\">\n",
       "  <thead>\n",
       "    <tr style=\"text-align: right;\">\n",
       "      <th></th>\n",
       "      <th>activity_1</th>\n",
       "      <th>age_1</th>\n",
       "      <th>back_nevro_pow_1</th>\n",
       "      <th>back_nevro_reflex_1</th>\n",
       "      <th>back_nevro_sens_1</th>\n",
       "      <th>back_slr_1</th>\n",
       "      <th>birth_year</th>\n",
       "      <th>bmi_1</th>\n",
       "      <th>body_main_1</th>\n",
       "      <th>childhood_1</th>\n",
       "      <th>...</th>\n",
       "      <th>walk_aid_1</th>\n",
       "      <th>weight_1</th>\n",
       "      <th>work_ability_1</th>\n",
       "      <th>work_ability_3</th>\n",
       "      <th>work_ability_w2</th>\n",
       "      <th>work_ability_w4</th>\n",
       "      <th>work_ability_w8</th>\n",
       "      <th>work_type_1</th>\n",
       "      <th>clinic_id</th>\n",
       "      <th>patient_id</th>\n",
       "    </tr>\n",
       "    <tr>\n",
       "      <th>id</th>\n",
       "      <th></th>\n",
       "      <th></th>\n",
       "      <th></th>\n",
       "      <th></th>\n",
       "      <th></th>\n",
       "      <th></th>\n",
       "      <th></th>\n",
       "      <th></th>\n",
       "      <th></th>\n",
       "      <th></th>\n",
       "      <th></th>\n",
       "      <th></th>\n",
       "      <th></th>\n",
       "      <th></th>\n",
       "      <th></th>\n",
       "      <th></th>\n",
       "      <th></th>\n",
       "      <th></th>\n",
       "      <th></th>\n",
       "      <th></th>\n",
       "      <th></th>\n",
       "    </tr>\n",
       "  </thead>\n",
       "  <tbody>\n",
       "    <tr>\n",
       "      <td>0</td>\n",
       "      <td>slightly reduced</td>\n",
       "      <td>22.0</td>\n",
       "      <td>NaN</td>\n",
       "      <td>NaN</td>\n",
       "      <td>NaN</td>\n",
       "      <td>NaN</td>\n",
       "      <td>1998</td>\n",
       "      <td>27.636057</td>\n",
       "      <td>hip</td>\n",
       "      <td>very good</td>\n",
       "      <td>...</td>\n",
       "      <td>no walkaid</td>\n",
       "      <td>78</td>\n",
       "      <td>10</td>\n",
       "      <td>9</td>\n",
       "      <td>9.0</td>\n",
       "      <td>9.0</td>\n",
       "      <td>NaN</td>\n",
       "      <td>NaN</td>\n",
       "      <td>adam_saso</td>\n",
       "      <td>adam_saso_38888_1998</td>\n",
       "    </tr>\n",
       "    <tr>\n",
       "      <td>1</td>\n",
       "      <td>slightly reduced</td>\n",
       "      <td>23.0</td>\n",
       "      <td>NaN</td>\n",
       "      <td>NaN</td>\n",
       "      <td>NaN</td>\n",
       "      <td>NaN</td>\n",
       "      <td>1997</td>\n",
       "      <td>18.339100</td>\n",
       "      <td>knee</td>\n",
       "      <td>moderate</td>\n",
       "      <td>...</td>\n",
       "      <td>no walkaid</td>\n",
       "      <td>53</td>\n",
       "      <td>6</td>\n",
       "      <td>5</td>\n",
       "      <td>3.0</td>\n",
       "      <td>3.0</td>\n",
       "      <td>7.0</td>\n",
       "      <td>NaN</td>\n",
       "      <td>adam_saso</td>\n",
       "      <td>adam_saso_39151_1997</td>\n",
       "    </tr>\n",
       "    <tr>\n",
       "      <td>2</td>\n",
       "      <td>not reduced</td>\n",
       "      <td>21.0</td>\n",
       "      <td>NaN</td>\n",
       "      <td>NaN</td>\n",
       "      <td>NaN</td>\n",
       "      <td>not applicable</td>\n",
       "      <td>1999</td>\n",
       "      <td>20.160700</td>\n",
       "      <td>back</td>\n",
       "      <td>good</td>\n",
       "      <td>...</td>\n",
       "      <td>no walkaid</td>\n",
       "      <td>69</td>\n",
       "      <td>8</td>\n",
       "      <td>9</td>\n",
       "      <td>NaN</td>\n",
       "      <td>NaN</td>\n",
       "      <td>NaN</td>\n",
       "      <td>work demand much walking</td>\n",
       "      <td>adam_saso</td>\n",
       "      <td>adam_saso_39178_1999</td>\n",
       "    </tr>\n",
       "    <tr>\n",
       "      <td>3</td>\n",
       "      <td>quite reduced</td>\n",
       "      <td>27.0</td>\n",
       "      <td>NaN</td>\n",
       "      <td>NaN</td>\n",
       "      <td>NaN</td>\n",
       "      <td>no</td>\n",
       "      <td>1993</td>\n",
       "      <td>25.217360</td>\n",
       "      <td>back</td>\n",
       "      <td>difficult</td>\n",
       "      <td>...</td>\n",
       "      <td>no walkaid</td>\n",
       "      <td>67</td>\n",
       "      <td>6</td>\n",
       "      <td>7</td>\n",
       "      <td>5.0</td>\n",
       "      <td>5.0</td>\n",
       "      <td>4.0</td>\n",
       "      <td>mostly seated</td>\n",
       "      <td>adam_saso</td>\n",
       "      <td>adam_saso_39185_1993</td>\n",
       "    </tr>\n",
       "    <tr>\n",
       "      <td>4</td>\n",
       "      <td>very reduced</td>\n",
       "      <td>31.0</td>\n",
       "      <td>NaN</td>\n",
       "      <td>NaN</td>\n",
       "      <td>NaN</td>\n",
       "      <td>NaN</td>\n",
       "      <td>1989</td>\n",
       "      <td>24.464602</td>\n",
       "      <td>neck</td>\n",
       "      <td>very good</td>\n",
       "      <td>...</td>\n",
       "      <td>no walkaid</td>\n",
       "      <td>65</td>\n",
       "      <td>0</td>\n",
       "      <td>2</td>\n",
       "      <td>3.0</td>\n",
       "      <td>3.0</td>\n",
       "      <td>2.0</td>\n",
       "      <td>mostly seated</td>\n",
       "      <td>adam_saso</td>\n",
       "      <td>adam_saso_39442_1989</td>\n",
       "    </tr>\n",
       "  </tbody>\n",
       "</table>\n",
       "<p>5 rows × 355 columns</p>\n",
       "</div>"
      ],
      "text/plain": [
       "          activity_1  age_1 back_nevro_pow_1  back_nevro_reflex_1  \\\n",
       "id                                                                  \n",
       "0   slightly reduced   22.0              NaN                  NaN   \n",
       "1   slightly reduced   23.0              NaN                  NaN   \n",
       "2        not reduced   21.0              NaN                  NaN   \n",
       "3      quite reduced   27.0              NaN                  NaN   \n",
       "4       very reduced   31.0              NaN                  NaN   \n",
       "\n",
       "   back_nevro_sens_1      back_slr_1  birth_year      bmi_1 body_main_1  \\\n",
       "id                                                                        \n",
       "0                NaN             NaN        1998  27.636057         hip   \n",
       "1                NaN             NaN        1997  18.339100        knee   \n",
       "2                NaN  not applicable        1999  20.160700        back   \n",
       "3                NaN              no        1993  25.217360        back   \n",
       "4                NaN             NaN        1989  24.464602        neck   \n",
       "\n",
       "   childhood_1  ...   walk_aid_1  weight_1 work_ability_1  work_ability_3  \\\n",
       "id              ...                                                         \n",
       "0    very good  ...   no walkaid        78             10               9   \n",
       "1     moderate  ...   no walkaid        53              6               5   \n",
       "2         good  ...   no walkaid        69              8               9   \n",
       "3    difficult  ...   no walkaid        67              6               7   \n",
       "4    very good  ...   no walkaid        65              0               2   \n",
       "\n",
       "    work_ability_w2  work_ability_w4  work_ability_w8  \\\n",
       "id                                                      \n",
       "0               9.0              9.0              NaN   \n",
       "1               3.0              3.0              7.0   \n",
       "2               NaN              NaN              NaN   \n",
       "3               5.0              5.0              4.0   \n",
       "4               3.0              3.0              2.0   \n",
       "\n",
       "                 work_type_1  clinic_id            patient_id  \n",
       "id                                                             \n",
       "0                        NaN  adam_saso  adam_saso_38888_1998  \n",
       "1                        NaN  adam_saso  adam_saso_39151_1997  \n",
       "2   work demand much walking  adam_saso  adam_saso_39178_1999  \n",
       "3              mostly seated  adam_saso  adam_saso_39185_1993  \n",
       "4              mostly seated  adam_saso  adam_saso_39442_1989  \n",
       "\n",
       "[5 rows x 355 columns]"
      ]
     },
     "execution_count": 42,
     "metadata": {},
     "output_type": "execute_result"
    }
   ],
   "source": [
    "df.head()"
   ]
  },
  {
   "cell_type": "markdown",
   "metadata": {},
   "source": [
    "### Rounding of the float variables up to 2 decimal places"
   ]
  },
  {
   "cell_type": "code",
   "execution_count": null,
   "metadata": {},
   "outputs": [],
   "source": []
  },
  {
   "cell_type": "code",
   "execution_count": 43,
   "metadata": {},
   "outputs": [
    {
     "name": "stdout",
     "output_type": "stream",
     "text": [
      "hscl_score_1\n",
      "hscl_score_3\n"
     ]
    }
   ],
   "source": [
    "round_float_list = ['hscl_score_1',\n",
    "                    #'ndi_total_1',  \n",
    "                    #'odi_total_1',  \n",
    "                    #'spadi_total_1',\n",
    "                    #'outcome_allpercent',\n",
    "                    \n",
    "                    'hscl_score_3',\n",
    "                    #'ndi_total_3',  \n",
    "                    #'odi_total_3',\n",
    "                    #'spadi_total_3'\n",
    "                   ]\n",
    "\n",
    "for col_name in round_float_list:\n",
    "    print(col_name)\n",
    "    df[col_name] = df[col_name].round(2)\n",
    "    df_labeled[col_name] = df[col_name].round(2)\n",
    "    #df_numeric[col_name] = df_numeric[col_name].round(2)\n",
    "    \n",
    "# df_labeled.hscl10_mean_1 = df_labeled.hscl10_mean_1.round(2)\n",
    "# df_labeled.ndi_total_1   = df_labeled.ndi_total_1.round(2)\n",
    "# df_labeled.odi_total_1   = df_labeled.odi_total_1.round(2)\n",
    "# df_labeled.spadi_total_1 = df_labeled.spadi_total_1.round(2)\n",
    "# \n",
    "# df_numeric.hscl10_mean_3 = df_numeric.hscl10_mean_3.round(2)\n",
    "# df_numeric.spadi_total_3 = df_numeric.spadi_total_3.round(2)\n",
    "# df_numeric.ndi_total_3   = df_numeric.ndi_total_3.round(2)\n",
    "# df_numeric.odi_total_3   = df_numeric.odi_total_3.round(2)"
   ]
  },
  {
   "cell_type": "code",
   "execution_count": 44,
   "metadata": {},
   "outputs": [],
   "source": [
    "# for testing\n",
    "#print(df_labeled[ round_float_list][:5]);\n",
    "#print(df_numeric[ round_float_list][:5]);"
   ]
  },
  {
   "cell_type": "markdown",
   "metadata": {},
   "source": [
    "## Drop all empty columns"
   ]
  },
  {
   "cell_type": "markdown",
   "metadata": {},
   "source": [
    "#### Issues with complete empty columns ????"
   ]
  },
  {
   "cell_type": "raw",
   "metadata": {},
   "source": [
    "print('Before drop : ', df.shape) # (506, 292)\n",
    "df.dropna( how='all', axis=1, inplace=True)\n",
    "print('After drop : ', df.shape) # (506, 279)\n",
    "\n",
    "print('Before drop : ', df_labeled.shape) # (506, 292)\n",
    "df_labeled.dropna( how='all', axis=1, inplace=True)\n",
    "print('After drop : ', df_labeled.shape) # (506, 279)\n",
    "\n",
    "#print('Before drop : ', df_numeric.shape) # (506, 292)\n",
    "#df_numeric.dropna( how='all', axis=1, inplace=True)\n",
    "#print('After drop : ', df_numeric.shape) # (506, 279)"
   ]
  },
  {
   "cell_type": "markdown",
   "metadata": {},
   "source": [
    "## Function for removing all leading and trailing spaces in a dataframe"
   ]
  },
  {
   "cell_type": "code",
   "execution_count": 45,
   "metadata": {},
   "outputs": [],
   "source": [
    "def remove_leading_trailing_spaces(tempdf=df):\n",
    "    df_obj = tempdf.select_dtypes(['object'])\n",
    "    tempdf[df_obj.columns] = df_obj.apply(lambda x: x.str.strip())\n",
    "    return tempdf"
   ]
  },
  {
   "cell_type": "markdown",
   "metadata": {},
   "source": [
    "## Function to repalce all characters of a string in a dataframe"
   ]
  },
  {
   "cell_type": "code",
   "execution_count": 46,
   "metadata": {},
   "outputs": [],
   "source": [
    "def replace_all_with( old, new, tempdf=df):\n",
    "    temp = tempdf.replace({old: new}, regex=True)\n",
    "    return temp"
   ]
  },
  {
   "cell_type": "raw",
   "metadata": {},
   "source": [
    "df.employment_1 = replace_all_with( 'Working,', 'Working ', df.employment_1)\n",
    "df.employment_1 = replace_all_with( 'Other: Student,retiree,non-paid work', 'Other: Student or retiree or non-paid work', df.employment_1)\n",
    "df_labeled.employment_1 = replace_all_with( 'Working,', 'Working ', df_labeled.employment_1)\n",
    "df_labeled.employment_1 = replace_all_with( 'Other: Student,retiree,non-paid work', 'Other: Student or retiree or non-paid work', df_labeled.employment_1)\n",
    "if( df.columns.contains('employment_3')):\n",
    "    df.employment_3 = replace_all_with( 'Working,', 'Working ', df.employment_3)\n",
    "    df.employment_3 = replace_all_with( 'Other: Student,retiree,non-paid work', 'Other: Student or retiree or non-paid work', df.employment_3)\n",
    "    df.employment_3.unique()"
   ]
  },
  {
   "cell_type": "code",
   "execution_count": 47,
   "metadata": {},
   "outputs": [],
   "source": [
    "# Must throw exception\n",
    "# df_numeric.employment_1 = replace_all_with( 'Working,', 'Working ', df_numeric.employment_1)\n",
    "# df_numeric.employment_1.unique()"
   ]
  },
  {
   "cell_type": "markdown",
   "metadata": {},
   "source": [
    "## Replace all special char"
   ]
  },
  {
   "cell_type": "markdown",
   "metadata": {},
   "source": [
    "### 1. '>' is replaced with 'GT' (Greater Than) and '<' is replaced with 'LT' (Lower/Less Than)"
   ]
  },
  {
   "cell_type": "code",
   "execution_count": 48,
   "metadata": {},
   "outputs": [],
   "source": [
    "#df_labeled.outcome_percent01.unique()"
   ]
  },
  {
   "cell_type": "code",
   "execution_count": 49,
   "metadata": {},
   "outputs": [],
   "source": [
    "df = replace_all_with('>', 'GT ', df)\n",
    "df = replace_all_with('≥', 'GT_EQ ', df)\n",
    "df = replace_all_with('<', 'LT ', df)\n",
    "\n",
    "df_labeled = replace_all_with('>', 'GT ', df_labeled)\n",
    "df_labeled = replace_all_with('≥', 'GT_EQ ', df_labeled)\n",
    "df_labeled = replace_all_with('<', 'LT ', df_labeled)\n",
    "\n",
    "#df_numeric = replace_all_with('>', 'GT ', df_numeric)\n",
    "#df_numeric = replace_all_with('<', 'LT ', df_numeric)"
   ]
  },
  {
   "cell_type": "code",
   "execution_count": 50,
   "metadata": {},
   "outputs": [],
   "source": [
    "#df_labeled.outcome_percent01.unique()"
   ]
  },
  {
   "cell_type": "markdown",
   "metadata": {},
   "source": [
    "### 2. '-'  to  ' - ' for readablity\n",
    "### 3. ';'  to  ':' (colon) to compenseate the next statement (4.) \n",
    "### 4. ','  to  ';' (semicolon) since they represent multiple values for a given attribute, and they will result in a 'csv' file "
   ]
  },
  {
   "cell_type": "code",
   "execution_count": 51,
   "metadata": {},
   "outputs": [],
   "source": [
    "df = replace_all_with( '-', ' - ', df)\n",
    "df = replace_all_with( ';', ' : ', df)\n",
    "df = replace_all_with( ',', ' ; ', df)\n",
    "\n",
    "df_labeled = replace_all_with( '-', ' - ', df_labeled)\n",
    "df_labeled = replace_all_with( ';', ' : ', df_labeled)\n",
    "df_labeled = replace_all_with( ',', ' ; ', df_labeled)\n",
    "\n",
    "#df_numeric = replace_all_with( '-', ' - ', df_numeric)\n",
    "#df_numeric = replace_all_with( ';', ' : ', df_numeric)\n",
    "#df_numeric = replace_all_with( ',', ' ; ', df_numeric)"
   ]
  },
  {
   "cell_type": "markdown",
   "metadata": {},
   "source": [
    "### 5. '%'  to  ' percent' to resolve the special char ambiguity"
   ]
  },
  {
   "cell_type": "code",
   "execution_count": 52,
   "metadata": {},
   "outputs": [],
   "source": [
    "df = replace_all_with( '%', ' percent', df)\n",
    "df_labeled = replace_all_with( '%', ' percent', df_labeled)\n",
    "#df_numeric = replace_all_with( '%', ' percent', df_numeric)"
   ]
  },
  {
   "cell_type": "code",
   "execution_count": 53,
   "metadata": {},
   "outputs": [],
   "source": [
    "df = replace_all_with( '/', '_', df)\n",
    "df_labeled = replace_all_with( '/', '_', df_labeled)"
   ]
  },
  {
   "cell_type": "code",
   "execution_count": 54,
   "metadata": {},
   "outputs": [
    {
     "data": {
      "text/plain": [
       "array(['hip', 'knee', 'back', 'neck', 'multisite_complex', 'shoulder'],\n",
       "      dtype=object)"
      ]
     },
     "execution_count": 54,
     "metadata": {},
     "output_type": "execute_result"
    }
   ],
   "source": [
    "df.body_main_1.unique()"
   ]
  },
  {
   "cell_type": "markdown",
   "metadata": {},
   "source": [
    "### 6. multiple spaces in the text to resolve the ambiguity in categorical values for myCBR"
   ]
  },
  {
   "cell_type": "code",
   "execution_count": 55,
   "metadata": {},
   "outputs": [],
   "source": [
    "df = replace_all_with( '   ', ' ', df)\n",
    "df = replace_all_with( '  ', ' ',  df)\n",
    "\n",
    "df_labeled = replace_all_with( '   ', ' ', df_labeled)\n",
    "df_labeled = replace_all_with( '  ', ' ',  df_labeled)\n",
    "\n",
    "#df_numeric = replace_all_with( '   ', ' ', df_numeric)\n",
    "#df_numeric = replace_all_with( '  ', ' ', df_numeric)"
   ]
  },
  {
   "cell_type": "code",
   "execution_count": 56,
   "metadata": {},
   "outputs": [],
   "source": [
    "#df_labeled.treat_base[:50]"
   ]
  },
  {
   "cell_type": "markdown",
   "metadata": {},
   "source": [
    "### 7. The attribute was originally like ''No, off and on', where  ',' was replaced to  ';'. But  ';' is the representation for multiple value thus we  need to convert  ';' to  ':' for its intended interpretation."
   ]
  },
  {
   "cell_type": "code",
   "execution_count": 57,
   "metadata": {},
   "outputs": [
    {
     "data": {
      "text/plain": [
       "id\n",
       "0     no\n",
       "1     no\n",
       "2     no\n",
       "3    yes\n",
       "4    yes\n",
       "Name: pain_continuous_1, dtype: object"
      ]
     },
     "execution_count": 57,
     "metadata": {},
     "output_type": "execute_result"
    }
   ],
   "source": [
    "df.pain_continuous_1.head()"
   ]
  },
  {
   "cell_type": "raw",
   "metadata": {},
   "source": [
    "df.pain_continuous_1 = replace_all_with( 'No ; off and on', 'No : off and on',       df.pain_continuous_1)\n",
    "df.pain_continuous_1 = replace_all_with( 'Yes ; all the time', 'Yes : all the time', df.pain_continuous_1)\n",
    "df.pain_continuous_3 = replace_all_with( 'No ; off and on', 'No : off and on',       df.pain_continuous_3)\n",
    "df.pain_continuous_3 = replace_all_with( 'Yes ; all the time', 'Yes : all the time', df.pain_continuous_3)\n",
    "print(df.pain_continuous_1.unique())\n",
    "print(df.pain_continuous_3.unique())\n",
    "\n",
    "df_labeled.pain_continuous_1 = replace_all_with( 'No ; off and on', 'No : off and on',       df_labeled.pain_continuous_1)\n",
    "df_labeled.pain_continuous_1 = replace_all_with( 'Yes ; all the time', 'Yes : all the time', df_labeled.pain_continuous_1)\n",
    "df_labeled.pain_continuous_3 = replace_all_with( 'No ; off and on', 'No : off and on',       df_labeled.pain_continuous_3)\n",
    "df_labeled.pain_continuous_3 = replace_all_with( 'Yes ; all the time', 'Yes : all the time', df_labeled.pain_continuous_3)\n",
    "print(df_labeled.pain_continuous_1.unique())\n",
    "print(df_labeled.pain_continuous_3.unique())"
   ]
  },
  {
   "cell_type": "code",
   "execution_count": 58,
   "metadata": {},
   "outputs": [
    {
     "data": {
      "text/plain": [
       "array(['0', '1 - 4', nan, '5 or more'], dtype=object)"
      ]
     },
     "execution_count": 58,
     "metadata": {},
     "output_type": "execute_result"
    }
   ],
   "source": [
    "df_labeled.medic_number_1.unique()"
   ]
  },
  {
   "cell_type": "code",
   "execution_count": 59,
   "metadata": {},
   "outputs": [
    {
     "name": "stdout",
     "output_type": "stream",
     "text": [
      "['0' '1 to 4' nan '5 or more']\n",
      "['0' nan '1 to 4']\n"
     ]
    }
   ],
   "source": [
    "df.medic_number_1 = df.medic_number_1.replace({'-': 'to'}, regex=True)\n",
    "df_labeled.medic_number_1 = df_labeled.medic_number_1.replace({'-': 'to'}, regex=True)\n",
    "print(df.medic_number_1.unique())\n",
    "\n",
    "df.medic_number_3 = df.medic_number_3.replace({'-': 'to'}, regex=True)\n",
    "df_labeled.medic_number_3 = df_labeled.medic_number_3.replace({'-': 'to'}, regex=True)\n",
    "print(df.medic_number_3.unique())\n",
    "#df.treat_int_3 = df.treat_int_3.replace({'-': 'to'}, regex=True)\n",
    "#df.treat_int_3.unique()\n",
    "\n",
    "#df_labeled.treat_int_3 = df_labeled.treat_int_3.replace({'-': 'to'}, regex=True)\n",
    "#df_labeled.treat_int_3.unique()"
   ]
  },
  {
   "cell_type": "code",
   "execution_count": 60,
   "metadata": {},
   "outputs": [
    {
     "name": "stderr",
     "output_type": "stream",
     "text": [
      "/lhome/amardj/anaconda3/envs/my_env/lib/python3.7/site-packages/ipykernel_launcher.py:1: FutureWarning: The 'contains' method is deprecated and will be removed in a future version. Use 'key in index' instead of 'index.contains(key)'\n",
      "  \"\"\"Entry point for launching an IPython kernel.\n"
     ]
    }
   ],
   "source": [
    "if( df.columns.contains('priokey')):\n",
    "    df.priokey.unique()\n",
    "    df.priokey = df.priokey.replace({';': '-'}, regex=True)\n",
    "    df.priokey.unique()"
   ]
  },
  {
   "cell_type": "raw",
   "metadata": {},
   "source": [
    "df.employment_1.unique()"
   ]
  },
  {
   "cell_type": "code",
   "execution_count": 61,
   "metadata": {},
   "outputs": [
    {
     "data": {
      "text/plain": [
       "array([' working or other', 'sick leave',\n",
       "       'disability pension or work assessment'], dtype=object)"
      ]
     },
     "execution_count": 61,
     "metadata": {},
     "output_type": "execute_result"
    }
   ],
   "source": [
    "df.employ_1.unique()"
   ]
  },
  {
   "cell_type": "code",
   "execution_count": 62,
   "metadata": {},
   "outputs": [],
   "source": [
    "#df_numeric.employment_1.unique()"
   ]
  },
  {
   "cell_type": "code",
   "execution_count": 63,
   "metadata": {},
   "outputs": [],
   "source": [
    "#temp_df.bmi_ca.unique()"
   ]
  },
  {
   "cell_type": "code",
   "execution_count": 64,
   "metadata": {},
   "outputs": [
    {
     "data": {
      "text/plain": [
       "(51, 355)"
      ]
     },
     "execution_count": 64,
     "metadata": {},
     "output_type": "execute_result"
    }
   ],
   "source": [
    "df_labeled.shape  # (50, 310)"
   ]
  },
  {
   "cell_type": "code",
   "execution_count": 65,
   "metadata": {},
   "outputs": [
    {
     "data": {
      "text/plain": [
       "(51, 355)"
      ]
     },
     "execution_count": 65,
     "metadata": {},
     "output_type": "execute_result"
    }
   ],
   "source": [
    "df.shape  # (50, 310)"
   ]
  },
  {
   "cell_type": "code",
   "execution_count": 66,
   "metadata": {},
   "outputs": [],
   "source": [
    "#df.outcome_percent01 = df.outcome_percent01.replace({'â¥50': 'GT_EQ 50'}, regex=True)\n",
    "#df.outcome_percent01.unique()"
   ]
  },
  {
   "cell_type": "code",
   "execution_count": 67,
   "metadata": {},
   "outputs": [],
   "source": [
    "#df[['outcome_allpercent','outcome_percent','outcome_percent01']][:100]"
   ]
  },
  {
   "cell_type": "code",
   "execution_count": 68,
   "metadata": {},
   "outputs": [],
   "source": [
    "#df_labeled.outcome_percent.unique()"
   ]
  },
  {
   "cell_type": "code",
   "execution_count": 69,
   "metadata": {},
   "outputs": [],
   "source": [
    "#df_labeled.outcome_percent = df_labeled.outcome_percent.replace({'-': 'to'}, regex=True)\n",
    "#df_labeled.outcome_percent = df_labeled.outcome_percent.replace({'change/worse': 'change_worse'}, regex=True)\n",
    "#df_labeled.outcome_percent.unique()"
   ]
  },
  {
   "cell_type": "markdown",
   "metadata": {},
   "source": [
    "## Remove leading or trailing spaces"
   ]
  },
  {
   "cell_type": "code",
   "execution_count": 70,
   "metadata": {},
   "outputs": [],
   "source": [
    "df = remove_leading_trailing_spaces( tempdf=df)\n",
    "\n",
    "df_labeled = remove_leading_trailing_spaces( tempdf=df_labeled)\n",
    "\n",
    "#df_numeric = remove_leading_trailing_spaces( tempdf=df_numeric)"
   ]
  },
  {
   "cell_type": "code",
   "execution_count": 71,
   "metadata": {},
   "outputs": [
    {
     "data": {
      "text/plain": [
       "array(['working or other', 'sick leave',\n",
       "       'disability pension or work assessment'], dtype=object)"
      ]
     },
     "execution_count": 71,
     "metadata": {},
     "output_type": "execute_result"
    }
   ],
   "source": [
    "df.employ_1.unique()"
   ]
  },
  {
   "cell_type": "markdown",
   "metadata": {},
   "source": [
    "## Write the featured engineered dataframe to a \"csv\" file for myCBR analysis"
   ]
  },
  {
   "cell_type": "code",
   "execution_count": 72,
   "metadata": {},
   "outputs": [],
   "source": [
    "df.to_csv( gen_data_loc+'2_sp_dataset_with_3_month'+ time_stamp +'.csv', index=True)"
   ]
  },
  {
   "cell_type": "code",
   "execution_count": 73,
   "metadata": {},
   "outputs": [],
   "source": [
    "df.drop(df.filter(regex='_3').columns, axis=1);"
   ]
  },
  {
   "cell_type": "raw",
   "metadata": {},
   "source": [
    "exclude_cols = ['outcome01_3', 'outcome02_3']\n",
    "df = df.drop((df.filter(regex='_3').columns).drop( exclude_cols), axis=1)\n",
    "df[df.filter(like='_3',axis=1).columns]\n",
    "df.head()"
   ]
  },
  {
   "cell_type": "markdown",
   "metadata": {},
   "source": [
    "## Check for the outcome variables"
   ]
  },
  {
   "cell_type": "code",
   "execution_count": 74,
   "metadata": {},
   "outputs": [
    {
     "data": {
      "text/html": [
       "<div>\n",
       "<style scoped>\n",
       "    .dataframe tbody tr th:only-of-type {\n",
       "        vertical-align: middle;\n",
       "    }\n",
       "\n",
       "    .dataframe tbody tr th {\n",
       "        vertical-align: top;\n",
       "    }\n",
       "\n",
       "    .dataframe thead th {\n",
       "        text-align: right;\n",
       "    }\n",
       "</style>\n",
       "<table border=\"1\" class=\"dataframe\">\n",
       "  <thead>\n",
       "    <tr style=\"text-align: right;\">\n",
       "      <th></th>\n",
       "      <th>out01</th>\n",
       "    </tr>\n",
       "    <tr>\n",
       "      <th>id</th>\n",
       "      <th></th>\n",
       "    </tr>\n",
       "  </thead>\n",
       "  <tbody>\n",
       "    <tr>\n",
       "      <td>0</td>\n",
       "      <td>0.0</td>\n",
       "    </tr>\n",
       "    <tr>\n",
       "      <td>1</td>\n",
       "      <td>0.0</td>\n",
       "    </tr>\n",
       "    <tr>\n",
       "      <td>2</td>\n",
       "      <td>NaN</td>\n",
       "    </tr>\n",
       "    <tr>\n",
       "      <td>3</td>\n",
       "      <td>0.0</td>\n",
       "    </tr>\n",
       "    <tr>\n",
       "      <td>4</td>\n",
       "      <td>0.0</td>\n",
       "    </tr>\n",
       "  </tbody>\n",
       "</table>\n",
       "</div>"
      ],
      "text/plain": [
       "    out01\n",
       "id       \n",
       "0     0.0\n",
       "1     0.0\n",
       "2     NaN\n",
       "3     0.0\n",
       "4     0.0"
      ]
     },
     "execution_count": 74,
     "metadata": {},
     "output_type": "execute_result"
    }
   ],
   "source": [
    "df[ outcome_list].head()"
   ]
  },
  {
   "cell_type": "code",
   "execution_count": 75,
   "metadata": {},
   "outputs": [],
   "source": [
    "df.to_csv( gen_data_loc+'2_sp_dataset_clean'+ time_stamp +'.csv', index=True)"
   ]
  },
  {
   "cell_type": "markdown",
   "metadata": {},
   "source": [
    "## Remove all the columns containing Special symbols"
   ]
  },
  {
   "cell_type": "code",
   "execution_count": 76,
   "metadata": {},
   "outputs": [],
   "source": [
    "special_char_col = [\n",
    "                    #'physio_diagnosis',\n",
    "                    'psfs1_act_1',\n",
    "                    #'psfs2_act_1',\n",
    "                    #'psfs3_act_1',\n",
    "                    #'treat_base',\n",
    "                    'treat_goal_1',\n",
    "                   ]\n",
    "#special_char_col = ['collab_typesp_3',\n",
    "#                    #'comob_otherspec',\n",
    "#                    'end_othersp_3',\n",
    "#                    #'physio_diagnosis',\n",
    "#                    'psfs1_act_1',\n",
    "#                    'psfs1_act_3',\n",
    "#                    'psfs2_act_1',\n",
    "#                    'psfs2_act_3',\n",
    "#                    'psfs3_act_1',\n",
    "#                    'psfs3_act_3',\n",
    "#                    #'psfs4_act_3',\n",
    "#                    #'psfs5_act_3',\n",
    "#                    'ref_othsp_3',\n",
    "#                    'treat_adl_q6_3',\n",
    "#                    'treat_advice_q15_3',\n",
    "#                    #'treat_base',\n",
    "#                    'treat_exothersp_3',\n",
    "#                    'treat_goal_base',\n",
    "#                    'treat_important_3',\n",
    "#                    'treat_othsp_3',\n",
    "#                    'treat_psychospec_3',\n",
    "#                   ]"
   ]
  },
  {
   "cell_type": "code",
   "execution_count": 77,
   "metadata": {},
   "outputs": [
    {
     "data": {
      "text/html": [
       "<div>\n",
       "<style scoped>\n",
       "    .dataframe tbody tr th:only-of-type {\n",
       "        vertical-align: middle;\n",
       "    }\n",
       "\n",
       "    .dataframe tbody tr th {\n",
       "        vertical-align: top;\n",
       "    }\n",
       "\n",
       "    .dataframe thead th {\n",
       "        text-align: right;\n",
       "    }\n",
       "</style>\n",
       "<table border=\"1\" class=\"dataframe\">\n",
       "  <thead>\n",
       "    <tr style=\"text-align: right;\">\n",
       "      <th></th>\n",
       "      <th>psfs1_act_1</th>\n",
       "      <th>treat_goal_1</th>\n",
       "    </tr>\n",
       "    <tr>\n",
       "      <th>id</th>\n",
       "      <th></th>\n",
       "      <th></th>\n",
       "    </tr>\n",
       "  </thead>\n",
       "  <tbody>\n",
       "    <tr>\n",
       "      <td>0</td>\n",
       "      <td>Turer i terreng_lengre avstander</td>\n",
       "      <td>Informasjon og veiledning om MR svar og videre...</td>\n",
       "    </tr>\n",
       "    <tr>\n",
       "      <td>1</td>\n",
       "      <td>Gå turer i terreng_toppturer</td>\n",
       "      <td>Få stabilitet om kneet og trygghet til å gjøre...</td>\n",
       "    </tr>\n",
       "    <tr>\n",
       "      <td>2</td>\n",
       "      <td>Jeg kan utføre alle aktiviteter nnormalt men t...</td>\n",
       "      <td>Avklare årsak til skjev rygg og vingescapula</td>\n",
       "    </tr>\n",
       "    <tr>\n",
       "      <td>3</td>\n",
       "      <td>Høyere aktivitet som fører til økt respirasjon</td>\n",
       "      <td>Bedre respirasjon (dyp) og bli kvitt smertene ...</td>\n",
       "    </tr>\n",
       "    <tr>\n",
       "      <td>4</td>\n",
       "      <td>Arbeidet_statisk som PC arbeidet</td>\n",
       "      <td>Lette hodepine og redusere smerte_stivhet nakk...</td>\n",
       "    </tr>\n",
       "    <tr>\n",
       "      <td>5</td>\n",
       "      <td>Gåtur</td>\n",
       "      <td>Lære verktøy for påfyll i hverdagen uten å ta ...</td>\n",
       "    </tr>\n",
       "    <tr>\n",
       "      <td>6</td>\n",
       "      <td>Skrive ; hekle ; strikke.</td>\n",
       "      <td>Jobbe med avspenning for dermed å forhåpetligv...</td>\n",
       "    </tr>\n",
       "    <tr>\n",
       "      <td>7</td>\n",
       "      <td>Kjøre bil</td>\n",
       "      <td>Bli bedre ; bli mindre stiv ; styrke muskulatur.</td>\n",
       "    </tr>\n",
       "    <tr>\n",
       "      <td>8</td>\n",
       "      <td>sitte med statisk arbeid</td>\n",
       "      <td>Bli \"smertefri\" - moderert til mindre smerter ...</td>\n",
       "    </tr>\n",
       "    <tr>\n",
       "      <td>9</td>\n",
       "      <td>Sove godt gjennom natta.</td>\n",
       "      <td>Smertefrihet.</td>\n",
       "    </tr>\n",
       "    <tr>\n",
       "      <td>10</td>\n",
       "      <td>Huksitting</td>\n",
       "      <td>Smertefrihet.</td>\n",
       "    </tr>\n",
       "    <tr>\n",
       "      <td>11</td>\n",
       "      <td>Gå langrennski.</td>\n",
       "      <td>Smertefrihet ; tillit til og god funksjon i ho...</td>\n",
       "    </tr>\n",
       "    <tr>\n",
       "      <td>12</td>\n",
       "      <td>Skrive på PC</td>\n",
       "      <td>Bli smertefri</td>\n",
       "    </tr>\n",
       "    <tr>\n",
       "      <td>13</td>\n",
       "      <td>Skøyting på rulleski_ski</td>\n",
       "      <td>Kune trene og konkurere for fullt innen skiori...</td>\n",
       "    </tr>\n",
       "    <tr>\n",
       "      <td>14</td>\n",
       "      <td>Armhevinger</td>\n",
       "      <td>Styrke muskulatur for å kunne løfte og trekke ...</td>\n",
       "    </tr>\n",
       "    <tr>\n",
       "      <td>15</td>\n",
       "      <td>Ta av en genser med armen foran kroppen</td>\n",
       "      <td>Unngå å bli sykemeldt. Klare vanlige daglige a...</td>\n",
       "    </tr>\n",
       "    <tr>\n",
       "      <td>16</td>\n",
       "      <td>Dra opp glidelåsen på jakke</td>\n",
       "      <td>Hun ønsker å bli smertefri. Kunne utføre dagli...</td>\n",
       "    </tr>\n",
       "    <tr>\n",
       "      <td>17</td>\n",
       "      <td>bevege seg_ gå med krykker</td>\n",
       "      <td>Bli sterkere for å kunne gå bedre med krykker ...</td>\n",
       "    </tr>\n",
       "    <tr>\n",
       "      <td>18</td>\n",
       "      <td>Komme tilbake til full jobb uten smerter</td>\n",
       "      <td>Smertefri og full jobb</td>\n",
       "    </tr>\n",
       "    <tr>\n",
       "      <td>19</td>\n",
       "      <td>Ski</td>\n",
       "      <td>Få hjelp til å mestre smertene og riktig tanke...</td>\n",
       "    </tr>\n",
       "    <tr>\n",
       "      <td>20</td>\n",
       "      <td>Tunge løft</td>\n",
       "      <td>mindre smerter - endre livsstil (kost ; søvn ;...</td>\n",
       "    </tr>\n",
       "    <tr>\n",
       "      <td>21</td>\n",
       "      <td>Støvsuging</td>\n",
       "      <td>Mindre smerter og bedre funksjon. Sterkere ryg...</td>\n",
       "    </tr>\n",
       "    <tr>\n",
       "      <td>22</td>\n",
       "      <td>Løping</td>\n",
       "      <td>Opprettholde arbeidsevnen og komme igang med s...</td>\n",
       "    </tr>\n",
       "    <tr>\n",
       "      <td>23</td>\n",
       "      <td>Gå vanlig</td>\n",
       "      <td>Fortsett være i 50 percent arbeid ; gå ned noe...</td>\n",
       "    </tr>\n",
       "    <tr>\n",
       "      <td>24</td>\n",
       "      <td>Sitt på huk - knebøy</td>\n",
       "      <td>Fungere best mulig i hverdag og jobb ; ned noe...</td>\n",
       "    </tr>\n",
       "    <tr>\n",
       "      <td>25</td>\n",
       "      <td>NaN</td>\n",
       "      <td>Være i fullt arbeid ; opprettholde aktivitetsn...</td>\n",
       "    </tr>\n",
       "    <tr>\n",
       "      <td>26</td>\n",
       "      <td>Strikking</td>\n",
       "      <td>Å bli smertefri i skulderen. Samt en generell ...</td>\n",
       "    </tr>\n",
       "    <tr>\n",
       "      <td>27</td>\n",
       "      <td>Løping på tredemølle</td>\n",
       "      <td>Gjenvinne normal funksjon med regelmessig trening</td>\n",
       "    </tr>\n",
       "    <tr>\n",
       "      <td>28</td>\n",
       "      <td>Normal funksjon på jobb</td>\n",
       "      <td>Normal funksjon på jobb og greie å gjennomføre...</td>\n",
       "    </tr>\n",
       "    <tr>\n",
       "      <td>29</td>\n",
       "      <td>Snu seg i senga</td>\n",
       "      <td>Gjenvinne normal funksjon og ikke bli så slite...</td>\n",
       "    </tr>\n",
       "    <tr>\n",
       "      <td>30</td>\n",
       "      <td>Å gå i oppoverbakke - fra Vinjebygget og opp t...</td>\n",
       "      <td>Målrettet ; regelmessig og tilpasset trening o...</td>\n",
       "    </tr>\n",
       "    <tr>\n",
       "      <td>31</td>\n",
       "      <td>Å løpe på mølla i 30 minutter 9 km_t på flat m...</td>\n",
       "      <td>3 mnd evaluering på gjennomføring og effekt av...</td>\n",
       "    </tr>\n",
       "    <tr>\n",
       "      <td>32</td>\n",
       "      <td>Å stå fremoverbøyd når han skal rydde ut av va...</td>\n",
       "      <td>Regelmessig tilpasset trening og aktivitet med...</td>\n",
       "    </tr>\n",
       "    <tr>\n",
       "      <td>33</td>\n",
       "      <td>Bære tunge matposer fra butikken til hjem ( 1p...</td>\n",
       "      <td>Regelmessighet i trening og aktivitet med mest...</td>\n",
       "    </tr>\n",
       "    <tr>\n",
       "      <td>34</td>\n",
       "      <td>Å kunne ta en joggetur på 30 min på mølle</td>\n",
       "      <td>Optimalisere funksjon i i uex (styrke ; uth. ;...</td>\n",
       "    </tr>\n",
       "    <tr>\n",
       "      <td>35</td>\n",
       "      <td>Utføre mønstertrening i tae kwon do (standardi...</td>\n",
       "      <td>Regelmessig tilpasset trening og aktivitet med...</td>\n",
       "    </tr>\n",
       "    <tr>\n",
       "      <td>36</td>\n",
       "      <td>Å gå på en sti som \"luter til høyre\" (ankel i ...</td>\n",
       "      <td>Regelmessighet i trening og aktivitet med mest...</td>\n",
       "    </tr>\n",
       "    <tr>\n",
       "      <td>37</td>\n",
       "      <td>Å løfte barnebarn på 7 mnd fra golvet og opp t...</td>\n",
       "      <td>Optimalisere skulderfunksjon ved å ha regelmes...</td>\n",
       "    </tr>\n",
       "    <tr>\n",
       "      <td>38</td>\n",
       "      <td>Kjøre bil fra hjemmet til Lerkendal</td>\n",
       "      <td>Regelmessig tilpasset trening i hverdagen med ...</td>\n",
       "    </tr>\n",
       "    <tr>\n",
       "      <td>39</td>\n",
       "      <td>Å stelle seg på håret om morgenen med bruk av ...</td>\n",
       "      <td>Regelmessighet i trening og aktivitet med mest...</td>\n",
       "    </tr>\n",
       "    <tr>\n",
       "      <td>40</td>\n",
       "      <td>Søvn</td>\n",
       "      <td>Redusere hodepine og nakkesmerter</td>\n",
       "    </tr>\n",
       "    <tr>\n",
       "      <td>41</td>\n",
       "      <td>klatring</td>\n",
       "      <td>Ønsker forklaring på årsak og hjelp til forbed...</td>\n",
       "    </tr>\n",
       "    <tr>\n",
       "      <td>42</td>\n",
       "      <td>Gange på flatmark uten staver (500m)</td>\n",
       "      <td>Gå 2 km i strekk uten å stoppe pga. ryggen.</td>\n",
       "    </tr>\n",
       "    <tr>\n",
       "      <td>43</td>\n",
       "      <td>Ta på strømper på venstre fot</td>\n",
       "      <td>Trene opp kneet til bedre funksjon</td>\n",
       "    </tr>\n",
       "    <tr>\n",
       "      <td>44</td>\n",
       "      <td>Jogging</td>\n",
       "      <td>Bedre funksjon og minske smerte i nakke og kjeve</td>\n",
       "    </tr>\n",
       "    <tr>\n",
       "      <td>45</td>\n",
       "      <td>Vanskelig å gå turer pga plager i knær</td>\n",
       "      <td>Kunne komme i bedre form</td>\n",
       "    </tr>\n",
       "    <tr>\n",
       "      <td>46</td>\n",
       "      <td>Gå tur i marka</td>\n",
       "      <td>Fjelltur på Ruten til høsten</td>\n",
       "    </tr>\n",
       "    <tr>\n",
       "      <td>47</td>\n",
       "      <td>støvsuging</td>\n",
       "      <td>Fungere _ klare de daglige aktiviteter hjemme</td>\n",
       "    </tr>\n",
       "    <tr>\n",
       "      <td>48</td>\n",
       "      <td>Statiske øvelser for armene</td>\n",
       "      <td>Smertefri</td>\n",
       "    </tr>\n",
       "    <tr>\n",
       "      <td>49</td>\n",
       "      <td>Ligging i sofa</td>\n",
       "      <td>Smertefri ; god funksjon ; slipper bekymring</td>\n",
       "    </tr>\n",
       "    <tr>\n",
       "      <td>50</td>\n",
       "      <td>Rotasjon hode</td>\n",
       "      <td>Smertefrihet. Normalisert bevegelighet</td>\n",
       "    </tr>\n",
       "  </tbody>\n",
       "</table>\n",
       "</div>"
      ],
      "text/plain": [
       "                                          psfs1_act_1  \\\n",
       "id                                                      \n",
       "0                    Turer i terreng_lengre avstander   \n",
       "1                        Gå turer i terreng_toppturer   \n",
       "2   Jeg kan utføre alle aktiviteter nnormalt men t...   \n",
       "3      Høyere aktivitet som fører til økt respirasjon   \n",
       "4                    Arbeidet_statisk som PC arbeidet   \n",
       "5                                               Gåtur   \n",
       "6                           Skrive ; hekle ; strikke.   \n",
       "7                                           Kjøre bil   \n",
       "8                            sitte med statisk arbeid   \n",
       "9                            Sove godt gjennom natta.   \n",
       "10                                         Huksitting   \n",
       "11                                    Gå langrennski.   \n",
       "12                                       Skrive på PC   \n",
       "13                           Skøyting på rulleski_ski   \n",
       "14                                        Armhevinger   \n",
       "15            Ta av en genser med armen foran kroppen   \n",
       "16                        Dra opp glidelåsen på jakke   \n",
       "17                         bevege seg_ gå med krykker   \n",
       "18           Komme tilbake til full jobb uten smerter   \n",
       "19                                                Ski   \n",
       "20                                         Tunge løft   \n",
       "21                                         Støvsuging   \n",
       "22                                             Løping   \n",
       "23                                          Gå vanlig   \n",
       "24                               Sitt på huk - knebøy   \n",
       "25                                                NaN   \n",
       "26                                          Strikking   \n",
       "27                               Løping på tredemølle   \n",
       "28                            Normal funksjon på jobb   \n",
       "29                                    Snu seg i senga   \n",
       "30  Å gå i oppoverbakke - fra Vinjebygget og opp t...   \n",
       "31  Å løpe på mølla i 30 minutter 9 km_t på flat m...   \n",
       "32  Å stå fremoverbøyd når han skal rydde ut av va...   \n",
       "33  Bære tunge matposer fra butikken til hjem ( 1p...   \n",
       "34          Å kunne ta en joggetur på 30 min på mølle   \n",
       "35  Utføre mønstertrening i tae kwon do (standardi...   \n",
       "36  Å gå på en sti som \"luter til høyre\" (ankel i ...   \n",
       "37  Å løfte barnebarn på 7 mnd fra golvet og opp t...   \n",
       "38                Kjøre bil fra hjemmet til Lerkendal   \n",
       "39  Å stelle seg på håret om morgenen med bruk av ...   \n",
       "40                                               Søvn   \n",
       "41                                           klatring   \n",
       "42               Gange på flatmark uten staver (500m)   \n",
       "43                      Ta på strømper på venstre fot   \n",
       "44                                            Jogging   \n",
       "45             Vanskelig å gå turer pga plager i knær   \n",
       "46                                     Gå tur i marka   \n",
       "47                                         støvsuging   \n",
       "48                        Statiske øvelser for armene   \n",
       "49                                     Ligging i sofa   \n",
       "50                                      Rotasjon hode   \n",
       "\n",
       "                                         treat_goal_1  \n",
       "id                                                     \n",
       "0   Informasjon og veiledning om MR svar og videre...  \n",
       "1   Få stabilitet om kneet og trygghet til å gjøre...  \n",
       "2        Avklare årsak til skjev rygg og vingescapula  \n",
       "3   Bedre respirasjon (dyp) og bli kvitt smertene ...  \n",
       "4   Lette hodepine og redusere smerte_stivhet nakk...  \n",
       "5   Lære verktøy for påfyll i hverdagen uten å ta ...  \n",
       "6   Jobbe med avspenning for dermed å forhåpetligv...  \n",
       "7    Bli bedre ; bli mindre stiv ; styrke muskulatur.  \n",
       "8   Bli \"smertefri\" - moderert til mindre smerter ...  \n",
       "9                                       Smertefrihet.  \n",
       "10                                      Smertefrihet.  \n",
       "11  Smertefrihet ; tillit til og god funksjon i ho...  \n",
       "12                                      Bli smertefri  \n",
       "13  Kune trene og konkurere for fullt innen skiori...  \n",
       "14  Styrke muskulatur for å kunne løfte og trekke ...  \n",
       "15  Unngå å bli sykemeldt. Klare vanlige daglige a...  \n",
       "16  Hun ønsker å bli smertefri. Kunne utføre dagli...  \n",
       "17  Bli sterkere for å kunne gå bedre med krykker ...  \n",
       "18                             Smertefri og full jobb  \n",
       "19  Få hjelp til å mestre smertene og riktig tanke...  \n",
       "20  mindre smerter - endre livsstil (kost ; søvn ;...  \n",
       "21  Mindre smerter og bedre funksjon. Sterkere ryg...  \n",
       "22  Opprettholde arbeidsevnen og komme igang med s...  \n",
       "23  Fortsett være i 50 percent arbeid ; gå ned noe...  \n",
       "24  Fungere best mulig i hverdag og jobb ; ned noe...  \n",
       "25  Være i fullt arbeid ; opprettholde aktivitetsn...  \n",
       "26  Å bli smertefri i skulderen. Samt en generell ...  \n",
       "27  Gjenvinne normal funksjon med regelmessig trening  \n",
       "28  Normal funksjon på jobb og greie å gjennomføre...  \n",
       "29  Gjenvinne normal funksjon og ikke bli så slite...  \n",
       "30  Målrettet ; regelmessig og tilpasset trening o...  \n",
       "31  3 mnd evaluering på gjennomføring og effekt av...  \n",
       "32  Regelmessig tilpasset trening og aktivitet med...  \n",
       "33  Regelmessighet i trening og aktivitet med mest...  \n",
       "34  Optimalisere funksjon i i uex (styrke ; uth. ;...  \n",
       "35  Regelmessig tilpasset trening og aktivitet med...  \n",
       "36  Regelmessighet i trening og aktivitet med mest...  \n",
       "37  Optimalisere skulderfunksjon ved å ha regelmes...  \n",
       "38  Regelmessig tilpasset trening i hverdagen med ...  \n",
       "39  Regelmessighet i trening og aktivitet med mest...  \n",
       "40                  Redusere hodepine og nakkesmerter  \n",
       "41  Ønsker forklaring på årsak og hjelp til forbed...  \n",
       "42        Gå 2 km i strekk uten å stoppe pga. ryggen.  \n",
       "43                 Trene opp kneet til bedre funksjon  \n",
       "44   Bedre funksjon og minske smerte i nakke og kjeve  \n",
       "45                           Kunne komme i bedre form  \n",
       "46                       Fjelltur på Ruten til høsten  \n",
       "47      Fungere _ klare de daglige aktiviteter hjemme  \n",
       "48                                          Smertefri  \n",
       "49       Smertefri ; god funksjon ; slipper bekymring  \n",
       "50             Smertefrihet. Normalisert bevegelighet  "
      ]
     },
     "execution_count": 77,
     "metadata": {},
     "output_type": "execute_result"
    }
   ],
   "source": [
    "df[ special_char_col]"
   ]
  },
  {
   "cell_type": "code",
   "execution_count": 78,
   "metadata": {},
   "outputs": [],
   "source": [
    "df_clean = df.drop( columns=special_char_col, axis=1) # [df.columns.tolist()-special_char_col]"
   ]
  },
  {
   "cell_type": "code",
   "execution_count": 79,
   "metadata": {},
   "outputs": [],
   "source": [
    "df_clean.to_csv( gen_data_loc+'2_sp_dataset_no_special_symbols'+ time_stamp +'.csv', index=True)"
   ]
  },
  {
   "cell_type": "code",
   "execution_count": null,
   "metadata": {},
   "outputs": [],
   "source": []
  },
  {
   "cell_type": "raw",
   "metadata": {},
   "source": [
    "numeric_list = ['hscl_score_1','oreb_score_1','oreb_q10_1','oreb_q7_1','pain_lweek_1','painsite_number_1','pseq_1','work_ability_1']\n",
    "plt.figure( figsize=(10,8))\n",
    "pd.DataFrame(df, columns=numeric_list).boxplot()"
   ]
  },
  {
   "cell_type": "code",
   "execution_count": null,
   "metadata": {},
   "outputs": [],
   "source": []
  },
  {
   "cell_type": "code",
   "execution_count": null,
   "metadata": {},
   "outputs": [],
   "source": []
  }
 ],
 "metadata": {
  "kernelspec": {
   "display_name": "Python 3",
   "language": "python",
   "name": "python3"
  },
  "language_info": {
   "codemirror_mode": {
    "name": "ipython",
    "version": 3
   },
   "file_extension": ".py",
   "mimetype": "text/x-python",
   "name": "python",
   "nbconvert_exporter": "python",
   "pygments_lexer": "ipython3",
   "version": "3.7.4"
  }
 },
 "nbformat": 4,
 "nbformat_minor": 4
}

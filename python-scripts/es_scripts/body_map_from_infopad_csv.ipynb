{
 "cells": [
  {
   "cell_type": "raw",
   "metadata": {},
   "source": [
    "lsof -i:9300"
   ]
  },
  {
   "cell_type": "markdown",
   "metadata": {},
   "source": [
    "#  Import Body Map from Infopad csv file"
   ]
  },
  {
   "cell_type": "markdown",
   "metadata": {},
   "source": [
    "#### Last updated on : 3rd Oct 2020  -  Amar Jaiswal"
   ]
  },
  {
   "cell_type": "code",
   "execution_count": 1,
   "metadata": {},
   "outputs": [],
   "source": [
    "es_base_url = 'http://localhost:9200'\n",
    "headers = {'Content-Type': 'application/json'}"
   ]
  },
  {
   "cell_type": "code",
   "execution_count": 2,
   "metadata": {},
   "outputs": [],
   "source": [
    "# auto sugestion with tab\n",
    "%config IPCompleter.greedy=True\n",
    "%config InlineBackend.figure_format = 'retina'\n",
    "%matplotlib inline "
   ]
  },
  {
   "cell_type": "code",
   "execution_count": 3,
   "metadata": {},
   "outputs": [
    {
     "data": {
      "text/plain": [
       "'/lhome/amardj/ISM/python_code/es_scripts'"
      ]
     },
     "execution_count": 3,
     "metadata": {},
     "output_type": "execute_result"
    }
   ],
   "source": [
    "import pandas as pd\n",
    "import numpy as np\n",
    "import seaborn as sns\n",
    "import matplotlib.pyplot as plt\n",
    "import seaborn as sns\n",
    "\n",
    "import datetime as datetime\n",
    "\n",
    "import requests\n",
    "import json\n",
    "\n",
    "import os\n",
    "os.getcwd()"
   ]
  },
  {
   "cell_type": "code",
   "execution_count": 4,
   "metadata": {},
   "outputs": [],
   "source": [
    "body_main_file = '/lhome/amardj/ISM/python_code/es_scripts/resources/backend_supportprim_data/2020-10/body_map/patient_body_map_201008.csv'"
   ]
  },
  {
   "cell_type": "code",
   "execution_count": 5,
   "metadata": {},
   "outputs": [],
   "source": [
    "raw_csv = pd.read_csv( body_main_file, delimiter=';')"
   ]
  },
  {
   "cell_type": "code",
   "execution_count": 6,
   "metadata": {},
   "outputs": [
    {
     "data": {
      "text/html": [
       "<div>\n",
       "<style scoped>\n",
       "    .dataframe tbody tr th:only-of-type {\n",
       "        vertical-align: middle;\n",
       "    }\n",
       "\n",
       "    .dataframe tbody tr th {\n",
       "        vertical-align: top;\n",
       "    }\n",
       "\n",
       "    .dataframe thead th {\n",
       "        text-align: right;\n",
       "    }\n",
       "</style>\n",
       "<table border=\"1\" class=\"dataframe\">\n",
       "  <thead>\n",
       "    <tr style=\"text-align: right;\">\n",
       "      <th></th>\n",
       "      <th>Brukernavn</th>\n",
       "      <th>Journal ID</th>\n",
       "      <th>Fødselsår</th>\n",
       "      <th>Forside 0 0</th>\n",
       "      <th>Forside 0 1</th>\n",
       "      <th>Forside 0 2</th>\n",
       "      <th>Forside 0 3</th>\n",
       "      <th>Forside 0 4</th>\n",
       "      <th>Forside 0 5</th>\n",
       "      <th>Forside 0 6</th>\n",
       "      <th>...</th>\n",
       "      <th>Bakside 7 5</th>\n",
       "      <th>Bakside 7 6</th>\n",
       "      <th>Bakside 7 7</th>\n",
       "      <th>Bakside 7 8</th>\n",
       "      <th>Bakside 7 9</th>\n",
       "      <th>Bakside 7 10</th>\n",
       "      <th>Bakside 7 11</th>\n",
       "      <th>Bakside 7 12</th>\n",
       "      <th>Bakside 7 13</th>\n",
       "      <th>Bakside 7 14</th>\n",
       "    </tr>\n",
       "  </thead>\n",
       "  <tbody>\n",
       "    <tr>\n",
       "      <td>0</td>\n",
       "      <td>support1</td>\n",
       "      <td>150680</td>\n",
       "      <td>1980</td>\n",
       "      <td></td>\n",
       "      <td></td>\n",
       "      <td></td>\n",
       "      <td></td>\n",
       "      <td></td>\n",
       "      <td></td>\n",
       "      <td></td>\n",
       "      <td>...</td>\n",
       "      <td></td>\n",
       "      <td></td>\n",
       "      <td></td>\n",
       "      <td></td>\n",
       "      <td></td>\n",
       "      <td></td>\n",
       "      <td></td>\n",
       "      <td></td>\n",
       "      <td></td>\n",
       "      <td></td>\n",
       "    </tr>\n",
       "    <tr>\n",
       "      <td>1</td>\n",
       "      <td>support1</td>\n",
       "      <td>1506801</td>\n",
       "      <td>1980</td>\n",
       "      <td></td>\n",
       "      <td></td>\n",
       "      <td></td>\n",
       "      <td></td>\n",
       "      <td></td>\n",
       "      <td></td>\n",
       "      <td></td>\n",
       "      <td>...</td>\n",
       "      <td></td>\n",
       "      <td></td>\n",
       "      <td></td>\n",
       "      <td></td>\n",
       "      <td></td>\n",
       "      <td></td>\n",
       "      <td></td>\n",
       "      <td></td>\n",
       "      <td></td>\n",
       "      <td></td>\n",
       "    </tr>\n",
       "    <tr>\n",
       "      <td>2</td>\n",
       "      <td>support1</td>\n",
       "      <td>1506802</td>\n",
       "      <td>1980</td>\n",
       "      <td></td>\n",
       "      <td></td>\n",
       "      <td></td>\n",
       "      <td></td>\n",
       "      <td></td>\n",
       "      <td></td>\n",
       "      <td></td>\n",
       "      <td>...</td>\n",
       "      <td></td>\n",
       "      <td></td>\n",
       "      <td></td>\n",
       "      <td></td>\n",
       "      <td></td>\n",
       "      <td></td>\n",
       "      <td></td>\n",
       "      <td></td>\n",
       "      <td></td>\n",
       "      <td></td>\n",
       "    </tr>\n",
       "    <tr>\n",
       "      <td>3</td>\n",
       "      <td>support1</td>\n",
       "      <td>1506803</td>\n",
       "      <td>1980</td>\n",
       "      <td></td>\n",
       "      <td></td>\n",
       "      <td></td>\n",
       "      <td></td>\n",
       "      <td></td>\n",
       "      <td></td>\n",
       "      <td></td>\n",
       "      <td>...</td>\n",
       "      <td></td>\n",
       "      <td></td>\n",
       "      <td></td>\n",
       "      <td></td>\n",
       "      <td></td>\n",
       "      <td></td>\n",
       "      <td></td>\n",
       "      <td></td>\n",
       "      <td></td>\n",
       "      <td></td>\n",
       "    </tr>\n",
       "    <tr>\n",
       "      <td>4</td>\n",
       "      <td>support1</td>\n",
       "      <td>1506804</td>\n",
       "      <td>1980</td>\n",
       "      <td></td>\n",
       "      <td></td>\n",
       "      <td></td>\n",
       "      <td></td>\n",
       "      <td></td>\n",
       "      <td></td>\n",
       "      <td></td>\n",
       "      <td>...</td>\n",
       "      <td></td>\n",
       "      <td></td>\n",
       "      <td></td>\n",
       "      <td></td>\n",
       "      <td></td>\n",
       "      <td></td>\n",
       "      <td></td>\n",
       "      <td></td>\n",
       "      <td></td>\n",
       "      <td></td>\n",
       "    </tr>\n",
       "  </tbody>\n",
       "</table>\n",
       "<p>5 rows × 243 columns</p>\n",
       "</div>"
      ],
      "text/plain": [
       "  Brukernavn  Journal ID  Fødselsår Forside 0 0 Forside 0 1 Forside 0 2  \\\n",
       "0   support1      150680       1980                                       \n",
       "1   support1     1506801       1980                                       \n",
       "2   support1     1506802       1980                                       \n",
       "3   support1     1506803       1980                                       \n",
       "4   support1     1506804       1980                                       \n",
       "\n",
       "  Forside 0 3 Forside 0 4 Forside 0 5 Forside 0 6  ... Bakside 7 5  \\\n",
       "0                                                  ...               \n",
       "1                                                  ...               \n",
       "2                                                  ...               \n",
       "3                                                  ...               \n",
       "4                                                  ...               \n",
       "\n",
       "  Bakside 7 6 Bakside 7 7 Bakside 7 8 Bakside 7 9 Bakside 7 10 Bakside 7 11  \\\n",
       "0                                                                             \n",
       "1                                                                             \n",
       "2                                                                             \n",
       "3                                                                             \n",
       "4                                                                             \n",
       "\n",
       "  Bakside 7 12 Bakside 7 13 Bakside 7 14  \n",
       "0                                         \n",
       "1                                         \n",
       "2                                         \n",
       "3                                         \n",
       "4                                         \n",
       "\n",
       "[5 rows x 243 columns]"
      ]
     },
     "execution_count": 6,
     "metadata": {},
     "output_type": "execute_result"
    }
   ],
   "source": [
    "raw_csv.head()"
   ]
  },
  {
   "cell_type": "code",
   "execution_count": 7,
   "metadata": {},
   "outputs": [],
   "source": [
    "raw = raw_csv.rename(columns={'Fødselsår': 'birthYear', 'Brukernavn':'clinicId', 'Journal ID':'journalId'})"
   ]
  },
  {
   "cell_type": "raw",
   "metadata": {},
   "source": [
    "print(raw.columns.tolist())"
   ]
  },
  {
   "cell_type": "code",
   "execution_count": 8,
   "metadata": {},
   "outputs": [],
   "source": [
    "exclude_patients_from_clinic = raw[\n",
    "    (raw.clinicId != 'Fredrik Granviken') \n",
    "    & (raw.clinicId != 'Anita Formo Bones')\n",
    "    & (raw.clinicId != 'Ingebrigt Meisingset')\n",
    "    & (raw.clinicId != 'Testinstitutt')\n",
    "    & (raw.clinicId != 'support32')\n",
    "    & (raw.clinicId != 'support3')\n",
    "] #\"Testinstitutt\", \"support32\",\"support3\""
   ]
  },
  {
   "cell_type": "raw",
   "metadata": {},
   "source": [
    "exclude_patients_from_clinic.clinicId.tolist()"
   ]
  },
  {
   "cell_type": "code",
   "execution_count": 9,
   "metadata": {},
   "outputs": [
    {
     "data": {
      "text/plain": [
       "(180, 243)"
      ]
     },
     "execution_count": 9,
     "metadata": {},
     "output_type": "execute_result"
    }
   ],
   "source": [
    "exclude_patients_from_clinic.shape"
   ]
  },
  {
   "cell_type": "code",
   "execution_count": 10,
   "metadata": {},
   "outputs": [
    {
     "data": {
      "text/html": [
       "<div>\n",
       "<style scoped>\n",
       "    .dataframe tbody tr th:only-of-type {\n",
       "        vertical-align: middle;\n",
       "    }\n",
       "\n",
       "    .dataframe tbody tr th {\n",
       "        vertical-align: top;\n",
       "    }\n",
       "\n",
       "    .dataframe thead th {\n",
       "        text-align: right;\n",
       "    }\n",
       "</style>\n",
       "<table border=\"1\" class=\"dataframe\">\n",
       "  <thead>\n",
       "    <tr style=\"text-align: right;\">\n",
       "      <th></th>\n",
       "      <th>clinicId</th>\n",
       "      <th>journalId</th>\n",
       "      <th>birthYear</th>\n",
       "      <th>Forside 0 0</th>\n",
       "      <th>Forside 0 1</th>\n",
       "      <th>Forside 0 2</th>\n",
       "      <th>Forside 0 3</th>\n",
       "      <th>Forside 0 4</th>\n",
       "      <th>Forside 0 5</th>\n",
       "      <th>Forside 0 6</th>\n",
       "      <th>...</th>\n",
       "      <th>Bakside 7 5</th>\n",
       "      <th>Bakside 7 6</th>\n",
       "      <th>Bakside 7 7</th>\n",
       "      <th>Bakside 7 8</th>\n",
       "      <th>Bakside 7 9</th>\n",
       "      <th>Bakside 7 10</th>\n",
       "      <th>Bakside 7 11</th>\n",
       "      <th>Bakside 7 12</th>\n",
       "      <th>Bakside 7 13</th>\n",
       "      <th>Bakside 7 14</th>\n",
       "    </tr>\n",
       "  </thead>\n",
       "  <tbody>\n",
       "    <tr>\n",
       "      <td>0</td>\n",
       "      <td>support1</td>\n",
       "      <td>150680</td>\n",
       "      <td>1980</td>\n",
       "      <td></td>\n",
       "      <td></td>\n",
       "      <td></td>\n",
       "      <td></td>\n",
       "      <td></td>\n",
       "      <td></td>\n",
       "      <td></td>\n",
       "      <td>...</td>\n",
       "      <td></td>\n",
       "      <td></td>\n",
       "      <td></td>\n",
       "      <td></td>\n",
       "      <td></td>\n",
       "      <td></td>\n",
       "      <td></td>\n",
       "      <td></td>\n",
       "      <td></td>\n",
       "      <td></td>\n",
       "    </tr>\n",
       "    <tr>\n",
       "      <td>1</td>\n",
       "      <td>support1</td>\n",
       "      <td>1506801</td>\n",
       "      <td>1980</td>\n",
       "      <td></td>\n",
       "      <td></td>\n",
       "      <td></td>\n",
       "      <td></td>\n",
       "      <td></td>\n",
       "      <td></td>\n",
       "      <td></td>\n",
       "      <td>...</td>\n",
       "      <td></td>\n",
       "      <td></td>\n",
       "      <td></td>\n",
       "      <td></td>\n",
       "      <td></td>\n",
       "      <td></td>\n",
       "      <td></td>\n",
       "      <td></td>\n",
       "      <td></td>\n",
       "      <td></td>\n",
       "    </tr>\n",
       "    <tr>\n",
       "      <td>2</td>\n",
       "      <td>support1</td>\n",
       "      <td>1506802</td>\n",
       "      <td>1980</td>\n",
       "      <td></td>\n",
       "      <td></td>\n",
       "      <td></td>\n",
       "      <td></td>\n",
       "      <td></td>\n",
       "      <td></td>\n",
       "      <td></td>\n",
       "      <td>...</td>\n",
       "      <td></td>\n",
       "      <td></td>\n",
       "      <td></td>\n",
       "      <td></td>\n",
       "      <td></td>\n",
       "      <td></td>\n",
       "      <td></td>\n",
       "      <td></td>\n",
       "      <td></td>\n",
       "      <td></td>\n",
       "    </tr>\n",
       "    <tr>\n",
       "      <td>3</td>\n",
       "      <td>support1</td>\n",
       "      <td>1506803</td>\n",
       "      <td>1980</td>\n",
       "      <td></td>\n",
       "      <td></td>\n",
       "      <td></td>\n",
       "      <td></td>\n",
       "      <td></td>\n",
       "      <td></td>\n",
       "      <td></td>\n",
       "      <td>...</td>\n",
       "      <td></td>\n",
       "      <td></td>\n",
       "      <td></td>\n",
       "      <td></td>\n",
       "      <td></td>\n",
       "      <td></td>\n",
       "      <td></td>\n",
       "      <td></td>\n",
       "      <td></td>\n",
       "      <td></td>\n",
       "    </tr>\n",
       "    <tr>\n",
       "      <td>4</td>\n",
       "      <td>support1</td>\n",
       "      <td>1506804</td>\n",
       "      <td>1980</td>\n",
       "      <td></td>\n",
       "      <td></td>\n",
       "      <td></td>\n",
       "      <td></td>\n",
       "      <td></td>\n",
       "      <td></td>\n",
       "      <td></td>\n",
       "      <td>...</td>\n",
       "      <td></td>\n",
       "      <td></td>\n",
       "      <td></td>\n",
       "      <td></td>\n",
       "      <td></td>\n",
       "      <td></td>\n",
       "      <td></td>\n",
       "      <td></td>\n",
       "      <td></td>\n",
       "      <td></td>\n",
       "    </tr>\n",
       "  </tbody>\n",
       "</table>\n",
       "<p>5 rows × 243 columns</p>\n",
       "</div>"
      ],
      "text/plain": [
       "   clinicId  journalId  birthYear Forside 0 0 Forside 0 1 Forside 0 2  \\\n",
       "0  support1     150680       1980                                       \n",
       "1  support1    1506801       1980                                       \n",
       "2  support1    1506802       1980                                       \n",
       "3  support1    1506803       1980                                       \n",
       "4  support1    1506804       1980                                       \n",
       "\n",
       "  Forside 0 3 Forside 0 4 Forside 0 5 Forside 0 6  ... Bakside 7 5  \\\n",
       "0                                                  ...               \n",
       "1                                                  ...               \n",
       "2                                                  ...               \n",
       "3                                                  ...               \n",
       "4                                                  ...               \n",
       "\n",
       "  Bakside 7 6 Bakside 7 7 Bakside 7 8 Bakside 7 9 Bakside 7 10 Bakside 7 11  \\\n",
       "0                                                                             \n",
       "1                                                                             \n",
       "2                                                                             \n",
       "3                                                                             \n",
       "4                                                                             \n",
       "\n",
       "  Bakside 7 12 Bakside 7 13 Bakside 7 14  \n",
       "0                                         \n",
       "1                                         \n",
       "2                                         \n",
       "3                                         \n",
       "4                                         \n",
       "\n",
       "[5 rows x 243 columns]"
      ]
     },
     "execution_count": 10,
     "metadata": {},
     "output_type": "execute_result"
    }
   ],
   "source": [
    "exclude_patients_from_clinic.head()"
   ]
  },
  {
   "cell_type": "code",
   "execution_count": 11,
   "metadata": {},
   "outputs": [],
   "source": [
    "es = []\n",
    "\n",
    "for index, df in exclude_patients_from_clinic.iterrows():\n",
    "    #print(index)\n",
    "    \n",
    "    patient = {}\n",
    "    patient_details = {}\n",
    "    body_map = {}\n",
    "    \n",
    "    df_1_row = df.replace(' ',np.nan).dropna(axis=0,how=\"all\")\n",
    "    \n",
    "    patient.update({'patientId':\n",
    "                    df_1_row[0].replace(' ','_').lower()\n",
    "                    +'_'+str(df_1_row[1])\n",
    "                    +'_'+str(df_1_row[2])})\n",
    "    \n",
    "    front = []\n",
    "    back = []\n",
    "\n",
    "    for val in df_1_row.index[3:].tolist():\n",
    "        tokens = str(val).split(' ')\n",
    "\n",
    "        if tokens[0] == 'Forside':     \n",
    "            front.append({ 'x':int(tokens[1]), 'y':int(tokens[2])})\n",
    "\n",
    "        if tokens[0] == 'Bakside':\n",
    "            back.append({ 'x':int(tokens[1]), 'y':int(tokens[2])})\n",
    "    \n",
    "    body_map.update({'front':front})\n",
    "    body_map.update({'back':back})\n",
    "    \n",
    "    patient_details.update({'body_map':body_map})\n",
    "    patient.update({'patientDetails':patient_details})\n",
    "\n",
    "    es.append(patient)\n",
    "    \n",
    "es;"
   ]
  },
  {
   "cell_type": "code",
   "execution_count": null,
   "metadata": {
    "jupyter": {
     "source_hidden": true
    }
   },
   "outputs": [],
   "source": []
  },
  {
   "cell_type": "code",
   "execution_count": 12,
   "metadata": {
    "jupyter": {
     "source_hidden": true
    }
   },
   "outputs": [],
   "source": [
    "final_json = json.dumps(es)"
   ]
  },
  {
   "cell_type": "code",
   "execution_count": null,
   "metadata": {
    "jupyter": {
     "source_hidden": true
    }
   },
   "outputs": [],
   "source": []
  },
  {
   "cell_type": "code",
   "execution_count": 13,
   "metadata": {
    "jupyter": {
     "source_hidden": true
    }
   },
   "outputs": [],
   "source": [
    "with open('body_map.json', 'w', encoding='utf-8') as f:\n",
    "    json.dump(es, f, ensure_ascii=False, indent=0)"
   ]
  },
  {
   "cell_type": "code",
   "execution_count": null,
   "metadata": {
    "jupyter": {
     "source_hidden": true
    }
   },
   "outputs": [],
   "source": []
  },
  {
   "cell_type": "code",
   "execution_count": 14,
   "metadata": {
    "collapsed": true,
    "jupyter": {
     "outputs_hidden": true,
     "source_hidden": true
    }
   },
   "outputs": [
    {
     "name": "stdout",
     "output_type": "stream",
     "text": [
      "support1_150680_1980\n",
      "support1_1506801_1980\n",
      "support1_1506802_1980\n",
      "support1_1506803_1980\n",
      "support1_1506804_1980\n",
      "support1_1001_1980\n",
      "support1_1002_1980\n",
      "support1_1003_1980\n",
      "support1_1006_1980\n",
      "support1_1007_1980\n",
      "support1_1013_1980\n",
      "gaute_alstad_sunde_9145_1975\n",
      "vidar_guttormsen_17504_1973\n",
      "astrid_holmen_39164_1999\n",
      "adam_saso_39151_1997\n",
      "adam_saso_39178_1999\n",
      "adam_saso_39185_1993\n",
      "alette_bade_rygh_1803_1999\n",
      "vidar_guttormsen_30160_1992\n",
      "support17_1148_1970\n",
      "helge_pedersen_1_1963\n",
      "helge_pedersen_2_1965\n",
      "support18_11730_1956\n",
      "adam_saso_39224_1969\n",
      "astrid_holmen_8853_1968\n",
      "astrid_holmen_16449_1959\n",
      "support16_13053_1957\n",
      "marianne_bakka_31894_1956\n",
      "fredrik_paulsberg_31903_1972\n",
      "support23_1_1982\n",
      "support23_2_1965\n",
      "support27_1_1970\n",
      "fredrik_paulsberg_31910_1968\n",
      "vidar_guttormsen_31911_1995\n",
      "vidar_guttormsen_31912_1971\n",
      "support23_3_1950\n",
      "support7_5655_1992\n",
      "support26_1001_1950\n",
      "adam_saso_38888_1998\n",
      "support17_1152_1991\n",
      "marianne_bakka_31909_1995\n",
      "vidar_guttormsen_31959_1969\n",
      "alette_bade_rygh_1809_1984\n",
      "support21_17564_1972\n",
      "alette_bade_rygh_1808_1969\n",
      "support24_101_1984\n",
      "support7_3816_1984\n",
      "helge_pedersen_5_1983\n",
      "fredrik_paulsberg_31992_1961\n",
      "support24_102_1978\n",
      "adam_saso_39386_1966\n",
      "adam_saso_39400_1992\n",
      "support14_13082_1959\n",
      "support25_1_1998\n",
      "vidar_guttormsen_32015_1965\n",
      "support15_6245_1969\n",
      "support28_2000_1973\n",
      "fredrik_paulsberg_32035_1969\n",
      "support19_5191_1968\n",
      "fredrik_paulsberg_32041_1978\n",
      "astrid_holmen_39465_1967\n",
      "support30_25803_1993\n",
      "support30_32057_1967\n",
      "astrid_holmen_39433_1995\n",
      "vidar_guttormsen_11785_1956\n",
      "helge_pedersen_6_1958\n",
      "helge_pedersen_7_1956\n",
      "vidar_guttormsen_26296_1962\n",
      "support25_2_1952\n",
      "astrid_holmen_39569_1977\n",
      "vidar_guttormsen_32108_1999\n",
      "vidar_guttormsen_32110_1959\n",
      "vidar_guttormsen_32111_1998\n",
      "helge_pedersen_8_1967\n",
      "helge_pedersen_9_1966\n",
      "adam_saso_39442_1989\n",
      "helge_pedersen_10_1964\n",
      "support14_14470_1950\n",
      "vidar_guttormsen_32132_1978\n",
      "alette_bade_rygh_1810_1989\n",
      "gaute_alstad_sunde_8092_1982\n",
      "gaute_alstad_sunde_9327_1955\n",
      "support30_32146_1970\n",
      "support30_32147_1997\n",
      "support30_18445_1980\n",
      "astrid_holmen_36470_1992\n",
      "helge_pedersen_11_1966\n",
      "gaute_alstad_sunde_8017_1973\n",
      "helge_pedersen_12_1950\n",
      "vidar_guttormsen_32179_1959\n",
      "vidar_guttormsen_32196_1996\n",
      "vidar_guttormsen_32197_1987\n",
      "marianne_bakka_32177_1961\n",
      "gaute_alstad_sunde_4724_1999\n",
      "gaute_alstad_sunde_2748_1996\n",
      "support14_14508_1949\n",
      "helge_pedersen_13_1977\n",
      "support28_2002_1981\n",
      "support31_32359_1979\n",
      "alette_bade_rygh_1499_1977\n",
      "alette_bade_rygh_1822_1981\n",
      "astrid_holmen_39884_1995\n",
      "support28_2004_1986\n",
      "astrid_holmen_39956_1957\n",
      "amar_jaiswal_32_1932\n",
      "support28_2005_1956\n",
      "amar_jaiswal_33_1933\n",
      "astrid_holmen_24778_1984\n",
      "astrid_holmen_8289_1980\n",
      "support27_1002_1990\n",
      "support27_1003_1994\n",
      "astrid_holmen_40051_1961\n",
      "gaute_alstad_sunde_9292_1968\n",
      "support31_32542_1988\n",
      "support31_23493_1973\n",
      "support22_1106_1986\n",
      "support15_12776_1965\n",
      "support15_12854_1980\n",
      "marianne_bakka_29310_2002\n",
      "support31_32581_1985\n",
      "support1_36_1936\n",
      "alette_bade_rygh_1826_2002\n",
      "support28_2006_1957\n",
      "support16_9609_1978\n",
      "support21_32629_1992\n",
      "support21_32645_1987\n",
      "support1_1506805_1980\n",
      "support2_7446_1988\n",
      "support2_31277_1964\n",
      "support34_2_1983\n",
      "support34_3_1968\n",
      "support31_32739_1978\n",
      "support31_32753_1994\n",
      "support36_9544_1974\n",
      "support36_9546_1985\n",
      "support36_9548_1994\n",
      "vidar_guttormsen_8637_1994\n",
      "vidar_guttormsen_32765_1939\n",
      "astrid_holmen_34147_1967\n",
      "support31_25613_1992\n",
      "support31_32790_1957\n",
      "support24_104_1966\n",
      "support34_5_2001\n",
      "support39_11867_1976\n",
      "support1_444_1980\n",
      "support14_14768_1966\n",
      "alette_bade_rygh_1837_1984\n",
      "gaute_alstad_sunde_9653_1958\n",
      "alette_bade_rygh_1865_1994\n",
      "support14_14648_1972\n",
      "support38_11877_1975\n",
      "alette_bade_rygh_1838_1996\n",
      "support31_32925_1987\n",
      "support31_32946_1990\n",
      "astrid_holmen_40660_1994\n",
      "astrid_holmen_40731_1993\n",
      "astrid_holmen_40730_1964\n",
      "helge_pedersen_16_1972\n",
      "alette_bade_rygh_1885_1971\n",
      "alette_bade_rygh_1828_1979\n",
      "support21_33006_1965\n",
      "gaute_alstad_sunde_9696_1992\n",
      "support28_2007_1947\n",
      "support31_33086_1958\n",
      "adam_saso_40946_1987\n",
      "support24_105_1965\n",
      "support24_106_1985\n",
      "support39_11918_1970\n",
      "alette_bade_rygh_1912_1974\n",
      "support39_11932_1992\n",
      "support39_11938_2000\n",
      "support39_11930_1967\n",
      "support31_33151_1966\n",
      "alette_bade_rygh_1903_1996\n",
      "support39_11942_1977\n",
      "support39_11958_1967\n",
      "helge_pedersen_17_1973\n",
      "support31_33049_1980\n",
      "support38_11953_1958\n",
      "support34_1_1953\n"
     ]
    }
   ],
   "source": [
    "for patient in es:\n",
    "    print(patient.get('patientId'))"
   ]
  },
  {
   "cell_type": "code",
   "execution_count": 15,
   "metadata": {
    "jupyter": {
     "source_hidden": true
    }
   },
   "outputs": [],
   "source": [
    "initial_patient_list = [\n",
    " 'adam_saso_38888_1998',\n",
    " 'adam_saso_39151_1997',\n",
    " 'adam_saso_39178_1999',\n",
    " 'adam_saso_39185_1993',\n",
    " 'adam_saso_39442_1989',\n",
    " 'alette_bade_rygh_1808_1969',\n",
    " 'alette_bade_rygh_1810_1989',\n",
    " 'astrid_holmen_8853_1968',\n",
    " 'astrid_holmen_39465_1967',\n",
    " 'fredrik_paulsberg_31903_1972',\n",
    " 'fredrik_paulsberg_31910_1968',\n",
    " 'fredrik_paulsberg_31992_1961',\n",
    " 'fredrik_paulsberg_32035_1969',\n",
    " 'gaute_alstad_sunde_2748_1996',\n",
    " 'gaute_alstad_sunde_8017_1973',\n",
    " 'gaute_alstad_sunde_8092_1982',\n",
    " 'gaute_alstad_sunde_9145_1975',\n",
    " 'gaute_alstad_sunde_9327_1955',\n",
    " 'helge_pedersen_1_1963',\n",
    " 'helge_pedersen_2_1965',\n",
    " 'helge_pedersen_5_1983',\n",
    " 'helge_pedersen_7_1956',\n",
    " 'helge_pedersen_8_1967',\n",
    " 'helge_pedersen_9_1966',\n",
    " 'helge_pedersen_10_1964',\n",
    " 'helge_pedersen_11_1966',\n",
    " 'helge_pedersen_12_1950',\n",
    " 'marianne_bakka_31894_1956',\n",
    " 'marianne_bakka_31909_1995',\n",
    " 'marianne_bakka_32177_1961',\n",
    " 'vidar_guttormsen_11785_1956',\n",
    " 'vidar_guttormsen_17504_1973',\n",
    " 'vidar_guttormsen_26296_1962',\n",
    " 'vidar_guttormsen_30160_1992',\n",
    " 'vidar_guttormsen_31911_1995',\n",
    " 'vidar_guttormsen_31912_1971',\n",
    " 'vidar_guttormsen_31959_1969',\n",
    " 'vidar_guttormsen_32015_1965',\n",
    " 'vidar_guttormsen_32110_1959',\n",
    " 'vidar_guttormsen_32111_1998',\n",
    " 'support15_6245_1969',\n",
    " 'support19_5191_1968',\n",
    " 'support23_3_1950',\n",
    " 'support24_101_1984',\n",
    " 'support24_102_1978',\n",
    " 'support26_1001_1950',\n",
    " 'support28_2000_1973',\n",
    " 'support28_2002_1981',\n",
    " 'support31_32359_1979',\n",
    " 'support7_3816_1984',\n",
    " 'support7_5655_1992'\n",
    "]"
   ]
  },
  {
   "cell_type": "code",
   "execution_count": 16,
   "metadata": {
    "collapsed": true,
    "jupyter": {
     "outputs_hidden": true,
     "source_hidden": true
    }
   },
   "outputs": [
    {
     "data": {
      "text/plain": [
       "['adam_saso_38888_1998',\n",
       " 'adam_saso_39151_1997',\n",
       " 'adam_saso_39178_1999',\n",
       " 'adam_saso_39185_1993',\n",
       " 'adam_saso_39442_1989',\n",
       " 'alette_bade_rygh_1808_1969',\n",
       " 'alette_bade_rygh_1810_1989',\n",
       " 'astrid_holmen_8853_1968',\n",
       " 'astrid_holmen_39465_1967',\n",
       " 'fredrik_paulsberg_31903_1972',\n",
       " 'fredrik_paulsberg_31910_1968',\n",
       " 'fredrik_paulsberg_31992_1961',\n",
       " 'fredrik_paulsberg_32035_1969',\n",
       " 'gaute_alstad_sunde_2748_1996',\n",
       " 'gaute_alstad_sunde_8017_1973',\n",
       " 'gaute_alstad_sunde_8092_1982',\n",
       " 'gaute_alstad_sunde_9145_1975',\n",
       " 'gaute_alstad_sunde_9327_1955',\n",
       " 'helge_pedersen_1_1963',\n",
       " 'helge_pedersen_2_1965',\n",
       " 'helge_pedersen_5_1983',\n",
       " 'helge_pedersen_7_1956',\n",
       " 'helge_pedersen_8_1967',\n",
       " 'helge_pedersen_9_1966',\n",
       " 'helge_pedersen_10_1964',\n",
       " 'helge_pedersen_11_1966',\n",
       " 'helge_pedersen_12_1950',\n",
       " 'marianne_bakka_31894_1956',\n",
       " 'marianne_bakka_31909_1995',\n",
       " 'marianne_bakka_32177_1961',\n",
       " 'vidar_guttormsen_11785_1956',\n",
       " 'vidar_guttormsen_17504_1973',\n",
       " 'vidar_guttormsen_26296_1962',\n",
       " 'vidar_guttormsen_30160_1992',\n",
       " 'vidar_guttormsen_31911_1995',\n",
       " 'vidar_guttormsen_31912_1971',\n",
       " 'vidar_guttormsen_31959_1969',\n",
       " 'vidar_guttormsen_32015_1965',\n",
       " 'vidar_guttormsen_32110_1959',\n",
       " 'vidar_guttormsen_32111_1998',\n",
       " 'support15_6245_1969',\n",
       " 'support19_5191_1968',\n",
       " 'support23_3_1950',\n",
       " 'support24_101_1984',\n",
       " 'support24_102_1978',\n",
       " 'support26_1001_1950',\n",
       " 'support28_2000_1973',\n",
       " 'support28_2002_1981',\n",
       " 'support31_32359_1979',\n",
       " 'support7_3816_1984',\n",
       " 'support7_5655_1992']"
      ]
     },
     "execution_count": 16,
     "metadata": {},
     "output_type": "execute_result"
    }
   ],
   "source": [
    "#initial_patient_list.str.lower()\n",
    "initial_patient_list = [x.lower() for x in initial_patient_list]\n",
    "initial_patient_list"
   ]
  },
  {
   "cell_type": "code",
   "execution_count": 31,
   "metadata": {},
   "outputs": [
    {
     "name": "stdout",
     "output_type": "stream",
     "text": [
      "support1_150680_1980\n",
      "support1_1506801_1980\n",
      "support1_1506802_1980\n",
      "support1_1506803_1980\n",
      "support1_1506804_1980\n",
      "support1_1001_1980\n",
      "support1_1002_1980\n",
      "support1_1003_1980\n",
      "support1_1006_1980\n",
      "support1_1007_1980\n",
      "support1_1013_1980\n",
      "gaute_alstad_sunde_9145_1975\n",
      "vidar_guttormsen_17504_1973\n",
      "astrid_holmen_39164_1999\n",
      "adam_saso_39151_1997\n",
      "adam_saso_39178_1999\n",
      "adam_saso_39185_1993\n",
      "alette_bade_rygh_1803_1999\n",
      "vidar_guttormsen_30160_1992\n",
      "support17_1148_1970\n",
      "helge_pedersen_1_1963\n",
      "helge_pedersen_2_1965\n",
      "support18_11730_1956\n",
      "adam_saso_39224_1969\n",
      "astrid_holmen_8853_1968\n",
      "astrid_holmen_16449_1959\n",
      "support16_13053_1957\n",
      "marianne_bakka_31894_1956\n",
      "fredrik_paulsberg_31903_1972\n",
      "support23_1_1982\n",
      "support23_2_1965\n",
      "support27_1_1970\n",
      "fredrik_paulsberg_31910_1968\n",
      "vidar_guttormsen_31911_1995\n",
      "vidar_guttormsen_31912_1971\n",
      "support23_3_1950\n",
      "support7_5655_1992\n",
      "support26_1001_1950\n",
      "adam_saso_38888_1998\n",
      "support17_1152_1991\n",
      "marianne_bakka_31909_1995\n",
      "vidar_guttormsen_31959_1969\n",
      "alette_bade_rygh_1809_1984\n",
      "support21_17564_1972\n",
      "alette_bade_rygh_1808_1969\n",
      "support24_101_1984\n",
      "support7_3816_1984\n",
      "helge_pedersen_5_1983\n",
      "fredrik_paulsberg_31992_1961\n",
      "support24_102_1978\n",
      "adam_saso_39386_1966\n",
      "adam_saso_39400_1992\n",
      "support14_13082_1959\n",
      "support25_1_1998\n",
      "vidar_guttormsen_32015_1965\n",
      "support15_6245_1969\n",
      "support28_2000_1973\n",
      "fredrik_paulsberg_32035_1969\n",
      "support19_5191_1968\n",
      "fredrik_paulsberg_32041_1978\n",
      "astrid_holmen_39465_1967\n",
      "support30_25803_1993\n",
      "support30_32057_1967\n",
      "astrid_holmen_39433_1995\n",
      "vidar_guttormsen_11785_1956\n",
      "helge_pedersen_6_1958\n",
      "helge_pedersen_7_1956\n",
      "vidar_guttormsen_26296_1962\n",
      "support25_2_1952\n",
      "astrid_holmen_39569_1977\n",
      "vidar_guttormsen_32108_1999\n",
      "vidar_guttormsen_32110_1959\n",
      "vidar_guttormsen_32111_1998\n",
      "helge_pedersen_8_1967\n",
      "helge_pedersen_9_1966\n",
      "adam_saso_39442_1989\n",
      "helge_pedersen_10_1964\n",
      "support14_14470_1950\n",
      "vidar_guttormsen_32132_1978\n",
      "alette_bade_rygh_1810_1989\n",
      "gaute_alstad_sunde_8092_1982\n",
      "gaute_alstad_sunde_9327_1955\n",
      "support30_32146_1970\n",
      "support30_32147_1997\n",
      "support30_18445_1980\n",
      "astrid_holmen_36470_1992\n",
      "helge_pedersen_11_1966\n",
      "gaute_alstad_sunde_8017_1973\n",
      "helge_pedersen_12_1950\n",
      "vidar_guttormsen_32179_1959\n",
      "vidar_guttormsen_32196_1996\n",
      "vidar_guttormsen_32197_1987\n",
      "marianne_bakka_32177_1961\n",
      "gaute_alstad_sunde_4724_1999\n",
      "gaute_alstad_sunde_2748_1996\n",
      "support14_14508_1949\n",
      "helge_pedersen_13_1977\n",
      "support28_2002_1981\n",
      "support31_32359_1979\n",
      "alette_bade_rygh_1499_1977\n",
      "alette_bade_rygh_1822_1981\n",
      "astrid_holmen_39884_1995\n",
      "support28_2004_1986\n",
      "astrid_holmen_39956_1957\n",
      "amar_jaiswal_32_1932\n",
      "support28_2005_1956\n",
      "amar_jaiswal_33_1933\n",
      "astrid_holmen_24778_1984\n",
      "astrid_holmen_8289_1980\n",
      "support27_1002_1990\n",
      "support27_1003_1994\n",
      "astrid_holmen_40051_1961\n",
      "gaute_alstad_sunde_9292_1968\n",
      "support31_32542_1988\n",
      "support31_23493_1973\n",
      "support22_1106_1986\n",
      "support15_12776_1965\n",
      "support15_12854_1980\n",
      "marianne_bakka_29310_2002\n",
      "support31_32581_1985\n",
      "support1_36_1936\n",
      "alette_bade_rygh_1826_2002\n",
      "support28_2006_1957\n",
      "support16_9609_1978\n",
      "support21_32629_1992\n",
      "support21_32645_1987\n",
      "support1_1506805_1980\n",
      "support2_7446_1988\n",
      "support2_31277_1964\n",
      "support34_2_1983\n",
      "support34_3_1968\n",
      "support31_32739_1978\n",
      "support31_32753_1994\n",
      "support36_9544_1974\n",
      "support36_9546_1985\n",
      "support36_9548_1994\n",
      "vidar_guttormsen_8637_1994\n",
      "vidar_guttormsen_32765_1939\n",
      "astrid_holmen_34147_1967\n",
      "support31_25613_1992\n",
      "support31_32790_1957\n",
      "support24_104_1966\n",
      "support34_5_2001\n",
      "support39_11867_1976\n",
      "support1_444_1980\n",
      "support14_14768_1966\n",
      "alette_bade_rygh_1837_1984\n",
      "gaute_alstad_sunde_9653_1958\n",
      "alette_bade_rygh_1865_1994\n",
      "support14_14648_1972\n",
      "support38_11877_1975\n",
      "alette_bade_rygh_1838_1996\n",
      "support31_32925_1987\n",
      "support31_32946_1990\n",
      "astrid_holmen_40660_1994\n",
      "astrid_holmen_40731_1993\n",
      "astrid_holmen_40730_1964\n",
      "helge_pedersen_16_1972\n",
      "alette_bade_rygh_1885_1971\n",
      "alette_bade_rygh_1828_1979\n",
      "support21_33006_1965\n",
      "gaute_alstad_sunde_9696_1992\n",
      "support28_2007_1947\n",
      "support31_33086_1958\n",
      "adam_saso_40946_1987\n",
      "support24_105_1965\n",
      "support24_106_1985\n",
      "support39_11918_1970\n",
      "alette_bade_rygh_1912_1974\n",
      "support39_11932_1992\n",
      "support39_11938_2000\n",
      "support39_11930_1967\n",
      "support31_33151_1966\n",
      "alette_bade_rygh_1903_1996\n",
      "support39_11942_1977\n",
      "support39_11958_1967\n",
      "helge_pedersen_17_1973\n",
      "support31_33049_1980\n",
      "support38_11953_1958\n",
      "support34_1_1953\n"
     ]
    }
   ],
   "source": [
    "init_es = []\n",
    "\n",
    "for index, df in exclude_patients_from_clinic.iterrows():\n",
    "    #print(index)\n",
    "    \n",
    "\n",
    "    \n",
    "    df_1_row = df.replace(' ',np.nan).dropna(axis=0,how=\"all\")\n",
    "    \n",
    "    patient_id = df_1_row[0].replace(' ','_').lower() + '_'+str(df_1_row[1]) +'_'+str(df_1_row[2])\n",
    "            \n",
    "    if patient_id in initial_patient_list:\n",
    "        \n",
    "        print(patient_id)\n",
    "        \n",
    "        patient = {}\n",
    "        patient_details = {}\n",
    "        body_map = {}\n",
    "\n",
    "        patient.update({'patientId': patient_id}) \n",
    "\n",
    "        front = []\n",
    "        back = []\n",
    "\n",
    "        for val in df_1_row.index[3:].tolist():\n",
    "            tokens = str(val).split(' ')\n",
    "\n",
    "            if tokens[0] == 'Forside':     \n",
    "                front.append({ 'x':int(tokens[1]), 'y':int(tokens[2])})\n",
    "\n",
    "            if tokens[0] == 'Bakside':\n",
    "                back.append({ 'x':int(tokens[1]), 'y':int(tokens[2])})\n",
    "\n",
    "        body_map.update({'front':front})\n",
    "        body_map.update({'back':back})\n",
    "\n",
    "        patient_details.update({'body_map':body_map})\n",
    "        patient.update({'patientDetails':patient_details})\n",
    "\n",
    "        init_es.append(patient)\n",
    "    \n",
    "init_es;"
   ]
  },
  {
   "cell_type": "code",
   "execution_count": 18,
   "metadata": {},
   "outputs": [],
   "source": [
    "with open('initial_patient_body_map.json', 'w', encoding='utf-8') as f:\n",
    "    json.dump(init_es, f, ensure_ascii=False, indent=0)"
   ]
  },
  {
   "cell_type": "code",
   "execution_count": 19,
   "metadata": {},
   "outputs": [
    {
     "data": {
      "text/plain": [
       "[{'patientId': 'gaute_alstad_sunde_9145_1975',\n",
       "  'patientDetails': {'body_map': {'front': [],\n",
       "    'back': [{'x': 3, 'y': 12},\n",
       "     {'x': 3, 'y': 13},\n",
       "     {'x': 3, 'y': 14},\n",
       "     {'x': 4, 'y': 2},\n",
       "     {'x': 4, 'y': 13},\n",
       "     {'x': 5, 'y': 13},\n",
       "     {'x': 6, 'y': 5},\n",
       "     {'x': 6, 'y': 8}]}}},\n",
       " {'patientId': 'vidar_guttormsen_17504_1973',\n",
       "  'patientDetails': {'body_map': {'front': [{'x': 2, 'y': 7}],\n",
       "    'back': [{'x': 5, 'y': 7}]}}},\n",
       " {'patientId': 'adam_saso_39151_1997',\n",
       "  'patientDetails': {'body_map': {'front': [{'x': 3, 'y': 10}], 'back': []}}},\n",
       " {'patientId': 'adam_saso_39178_1999',\n",
       "  'patientDetails': {'body_map': {'front': [],\n",
       "    'back': [{'x': 3, 'y': 3}, {'x': 4, 'y': 3}, {'x': 4, 'y': 4}]}}},\n",
       " {'patientId': 'adam_saso_39185_1993',\n",
       "  'patientDetails': {'body_map': {'front': [{'x': 3, 'y': 2},\n",
       "     {'x': 4, 'y': 2}],\n",
       "    'back': [{'x': 3, 'y': 2},\n",
       "     {'x': 4, 'y': 2},\n",
       "     {'x': 4, 'y': 3},\n",
       "     {'x': 4, 'y': 4}]}}}]"
      ]
     },
     "execution_count": 19,
     "metadata": {},
     "output_type": "execute_result"
    }
   ],
   "source": [
    "init_es[:5]"
   ]
  },
  {
   "cell_type": "markdown",
   "metadata": {},
   "source": [
    "# \n",
    "# \n",
    "# "
   ]
  },
  {
   "cell_type": "markdown",
   "metadata": {},
   "source": [
    "# Elasticsearch Operations"
   ]
  },
  {
   "cell_type": "markdown",
   "metadata": {},
   "source": [
    "## Code for getting a patient by patientId from the ES"
   ]
  },
  {
   "cell_type": "raw",
   "metadata": {},
   "source": [
    "curl -XGET \"http://localhost:9200/manual_patients/_search\" -H 'Content-Type: application/json' -d'{\"query\": {\"match\": {\"patientId\": \"Adam_Saso_38888_1998\"}}}'"
   ]
  },
  {
   "cell_type": "markdown",
   "metadata": {},
   "source": [
    "# \n",
    "## Set the elasticsearch (es) index name\n",
    "## "
   ]
  },
  {
   "cell_type": "code",
   "execution_count": 20,
   "metadata": {},
   "outputs": [],
   "source": [
    "es_index = 'manual_patients'"
   ]
  },
  {
   "cell_type": "markdown",
   "metadata": {},
   "source": [
    "# "
   ]
  },
  {
   "cell_type": "code",
   "execution_count": 21,
   "metadata": {},
   "outputs": [],
   "source": [
    "def get_all_docs(es_index=es_index):\n",
    "    response = requests.post(es_base_url+'/'+es_index+'/_search?pretty', headers=headers, data='{}')\n",
    "    return response.json()"
   ]
  },
  {
   "cell_type": "code",
   "execution_count": 22,
   "metadata": {},
   "outputs": [],
   "source": [
    "def get_doc_by_pid(pid, es_index=es_index,):\n",
    "    data = '{  \"query\": {    \"match\": {      \"patientId\": \"'+pid+'\"    }  }}'\n",
    "    response = requests.post(es_base_url+'/'+es_index+'/_search?pretty', headers=headers, data=data)\n",
    "    return response.json()"
   ]
  },
  {
   "cell_type": "code",
   "execution_count": 23,
   "metadata": {},
   "outputs": [],
   "source": [
    "result_json = get_doc_by_pid('vidar_guttormsen_30160_1992');"
   ]
  },
  {
   "cell_type": "code",
   "execution_count": 24,
   "metadata": {},
   "outputs": [
    {
     "name": "stdout",
     "output_type": "stream",
     "text": [
      "None\n"
     ]
    }
   ],
   "source": [
    "if result_json.get('abc', {}).get('xyz', None) is None:\n",
    "    print('None')"
   ]
  },
  {
   "cell_type": "code",
   "execution_count": 25,
   "metadata": {},
   "outputs": [],
   "source": [
    "a = None\n",
    "\n",
    "if a is None:\n",
    "    pass\n",
    "elif a == False: # elif not a\n",
    "    pass\n",
    "elif a == True: # elif a\n",
    "    pass\n",
    "\n",
    "\n",
    "\n",
    "if not a:\n",
    "    pass\n",
    "elif a:\n",
    "    pass\n"
   ]
  },
  {
   "cell_type": "code",
   "execution_count": 26,
   "metadata": {},
   "outputs": [],
   "source": [
    "def get_id_for_pid( pid, es_index=es_index):\n",
    "    params = (('filter_path', 'hits.hits._source'))\n",
    "    data = '{  \"query\": {    \"match\": {      \"patientId\": \"'+pid+'\"    }  }}'\n",
    "    response = requests.get(f'{es_base_url}/{es_index}/_search?filter_path=hits.hits._id', headers=headers, data=data)\n",
    "    response_json = response.json()\n",
    "    return response_json.get('hits', {}).get('hits', [{}])[0].get('_id')"
   ]
  },
  {
   "cell_type": "code",
   "execution_count": 27,
   "metadata": {},
   "outputs": [
    {
     "data": {
      "text/plain": [
       "'NxdYDXUBPCTLibsE0F5U'"
      ]
     },
     "execution_count": 27,
     "metadata": {},
     "output_type": "execute_result"
    }
   ],
   "source": [
    "get_id_for_pid('vidar_guttormsen_30160_1992')"
   ]
  },
  {
   "cell_type": "markdown",
   "metadata": {},
   "source": [
    "# "
   ]
  },
  {
   "cell_type": "markdown",
   "metadata": {},
   "source": [
    "# "
   ]
  },
  {
   "cell_type": "markdown",
   "metadata": {},
   "source": [
    "## Code for getting only the list of patient ids from the ES"
   ]
  },
  {
   "cell_type": "code",
   "execution_count": 28,
   "metadata": {},
   "outputs": [],
   "source": [
    "def update_es_doc_for_id( _id, json_doc, es_index=es_index):\n",
    "    upsert_doc = json.dumps({'doc': json_doc, 'doc_as_upsert': True})\n",
    "    response = requests.post(f'{es_base_url}/{es_index}/_update/{_id}?pretty', headers=headers, data=upsert_doc)\n",
    "    return response.json()"
   ]
  },
  {
   "cell_type": "code",
   "execution_count": 29,
   "metadata": {},
   "outputs": [],
   "source": [
    "def upadate_es_index(body_maps_list=init_es, es_index=es_index):\n",
    "    for body_map in body_maps_list:\n",
    "        pid = body_map.get('patientId')\n",
    "        print(pid)\n",
    "        _id = get_id_for_pid( pid, es_index)\n",
    "        print(_id)\n",
    "        \n",
    "        if _id is None:\n",
    "            print('_id was None')\n",
    "        else :\n",
    "            print('Upserting the pid:',pid, ' and _id: ', _id)\n",
    "            update_es_doc_for_id(_id, body_map, es_index)"
   ]
  },
  {
   "cell_type": "code",
   "execution_count": 30,
   "metadata": {},
   "outputs": [
    {
     "name": "stdout",
     "output_type": "stream",
     "text": [
      "gaute_alstad_sunde_9145_1975\n",
      "FRdYDXUBPCTLibsEz14w\n",
      "Upserting the pid: gaute_alstad_sunde_9145_1975  and _id:  FRdYDXUBPCTLibsEz14w\n",
      "vidar_guttormsen_17504_1973\n",
      "MxdYDXUBPCTLibsE0F4x\n",
      "Upserting the pid: vidar_guttormsen_17504_1973  and _id:  MxdYDXUBPCTLibsE0F4x\n",
      "adam_saso_39151_1997\n",
      "9xdYDXUBPCTLibsEzl0I\n",
      "Upserting the pid: adam_saso_39151_1997  and _id:  9xdYDXUBPCTLibsEzl0I\n",
      "adam_saso_39178_1999\n",
      "-RdYDXUBPCTLibsEzl02\n",
      "Upserting the pid: adam_saso_39178_1999  and _id:  -RdYDXUBPCTLibsEzl02\n",
      "adam_saso_39185_1993\n",
      "-xdYDXUBPCTLibsEzl1M\n",
      "Upserting the pid: adam_saso_39185_1993  and _id:  -xdYDXUBPCTLibsEzl1M\n",
      "vidar_guttormsen_30160_1992\n",
      "NxdYDXUBPCTLibsE0F5U\n",
      "Upserting the pid: vidar_guttormsen_30160_1992  and _id:  NxdYDXUBPCTLibsE0F5U\n",
      "helge_pedersen_1_1963\n",
      "GRdYDXUBPCTLibsEz15T\n",
      "Upserting the pid: helge_pedersen_1_1963  and _id:  GRdYDXUBPCTLibsEz15T\n",
      "helge_pedersen_2_1965\n",
      "GxdYDXUBPCTLibsEz15m\n",
      "Upserting the pid: helge_pedersen_2_1965  and _id:  GxdYDXUBPCTLibsEz15m\n",
      "astrid_holmen_8853_1968\n",
      "AxdYDXUBPCTLibsEzl6Y\n",
      "Upserting the pid: astrid_holmen_8853_1968  and _id:  AxdYDXUBPCTLibsEzl6Y\n",
      "marianne_bakka_31894_1956\n",
      "KxdYDXUBPCTLibsEz17y\n",
      "Upserting the pid: marianne_bakka_31894_1956  and _id:  KxdYDXUBPCTLibsEz17y\n",
      "fredrik_paulsberg_31903_1972\n",
      "BxdYDXUBPCTLibsEzl67\n",
      "Upserting the pid: fredrik_paulsberg_31903_1972  and _id:  BxdYDXUBPCTLibsEzl67\n",
      "fredrik_paulsberg_31910_1968\n",
      "CRdYDXUBPCTLibsEzl7L\n",
      "Upserting the pid: fredrik_paulsberg_31910_1968  and _id:  CRdYDXUBPCTLibsEzl7L\n",
      "vidar_guttormsen_31911_1995\n",
      "ORdYDXUBPCTLibsE0F5m\n",
      "Upserting the pid: vidar_guttormsen_31911_1995  and _id:  ORdYDXUBPCTLibsE0F5m\n",
      "vidar_guttormsen_31912_1971\n",
      "OxdYDXUBPCTLibsE0F59\n",
      "Upserting the pid: vidar_guttormsen_31912_1971  and _id:  OxdYDXUBPCTLibsE0F59\n",
      "support23_3_1950\n",
      "SRdYDXUBPCTLibsE0V5N\n",
      "Upserting the pid: support23_3_1950  and _id:  SRdYDXUBPCTLibsE0V5N\n",
      "support7_5655_1992\n",
      "WRdYDXUBPCTLibsE0l4L\n",
      "Upserting the pid: support7_5655_1992  and _id:  WRdYDXUBPCTLibsE0l4L\n",
      "support26_1001_1950\n",
      "TxdYDXUBPCTLibsE0V6O\n",
      "Upserting the pid: support26_1001_1950  and _id:  TxdYDXUBPCTLibsE0V6O\n",
      "adam_saso_38888_1998\n",
      "9RdYDXUBPCTLibsEzF3m\n",
      "Upserting the pid: adam_saso_38888_1998  and _id:  9RdYDXUBPCTLibsEzF3m\n",
      "marianne_bakka_31909_1995\n",
      "LRdYDXUBPCTLibsE0F4C\n",
      "Upserting the pid: marianne_bakka_31909_1995  and _id:  LRdYDXUBPCTLibsE0F4C\n",
      "vidar_guttormsen_31959_1969\n",
      "PRdYDXUBPCTLibsE0F6O\n",
      "Upserting the pid: vidar_guttormsen_31959_1969  and _id:  PRdYDXUBPCTLibsE0F6O\n",
      "alette_bade_rygh_1808_1969\n",
      "_xdYDXUBPCTLibsEzl1z\n",
      "Upserting the pid: alette_bade_rygh_1808_1969  and _id:  _xdYDXUBPCTLibsEzl1z\n",
      "support24_101_1984\n",
      "SxdYDXUBPCTLibsE0V5k\n",
      "Upserting the pid: support24_101_1984  and _id:  SxdYDXUBPCTLibsE0V5k\n",
      "support7_3816_1984\n",
      "VxdYDXUBPCTLibsE0V7o\n",
      "Upserting the pid: support7_3816_1984  and _id:  VxdYDXUBPCTLibsE0V7o\n",
      "helge_pedersen_5_1983\n",
      "HRdYDXUBPCTLibsEz153\n",
      "Upserting the pid: helge_pedersen_5_1983  and _id:  HRdYDXUBPCTLibsEz153\n",
      "fredrik_paulsberg_31992_1961\n",
      "CxdYDXUBPCTLibsEzl7e\n",
      "Upserting the pid: fredrik_paulsberg_31992_1961  and _id:  CxdYDXUBPCTLibsEzl7e\n",
      "support24_102_1978\n",
      "TRdYDXUBPCTLibsE0V58\n",
      "Upserting the pid: support24_102_1978  and _id:  TRdYDXUBPCTLibsE0V58\n",
      "vidar_guttormsen_32015_1965\n",
      "PxdYDXUBPCTLibsE0F6h\n",
      "Upserting the pid: vidar_guttormsen_32015_1965  and _id:  PxdYDXUBPCTLibsE0F6h\n",
      "support15_6245_1969\n",
      "RRdYDXUBPCTLibsE0V4H\n",
      "Upserting the pid: support15_6245_1969  and _id:  RRdYDXUBPCTLibsE0V4H\n",
      "support28_2000_1973\n",
      "URdYDXUBPCTLibsE0V6h\n",
      "Upserting the pid: support28_2000_1973  and _id:  URdYDXUBPCTLibsE0V6h\n",
      "fredrik_paulsberg_32035_1969\n",
      "DRdYDXUBPCTLibsEzl7v\n",
      "Upserting the pid: fredrik_paulsberg_32035_1969  and _id:  DRdYDXUBPCTLibsEzl7v\n",
      "support19_5191_1968\n",
      "RxdYDXUBPCTLibsE0V4f\n",
      "Upserting the pid: support19_5191_1968  and _id:  RxdYDXUBPCTLibsE0V4f\n",
      "astrid_holmen_39465_1967\n",
      "BRdYDXUBPCTLibsEzl6p\n",
      "Upserting the pid: astrid_holmen_39465_1967  and _id:  BRdYDXUBPCTLibsEzl6p\n",
      "vidar_guttormsen_11785_1956\n",
      "MRdYDXUBPCTLibsE0F4h\n",
      "Upserting the pid: vidar_guttormsen_11785_1956  and _id:  MRdYDXUBPCTLibsE0F4h\n",
      "helge_pedersen_7_1956\n",
      "HxdYDXUBPCTLibsEz16I\n",
      "Upserting the pid: helge_pedersen_7_1956  and _id:  HxdYDXUBPCTLibsEz16I\n",
      "vidar_guttormsen_26296_1962\n",
      "NRdYDXUBPCTLibsE0F5D\n",
      "Upserting the pid: vidar_guttormsen_26296_1962  and _id:  NRdYDXUBPCTLibsE0F5D\n",
      "vidar_guttormsen_32110_1959\n",
      "QRdYDXUBPCTLibsE0F7d\n",
      "Upserting the pid: vidar_guttormsen_32110_1959  and _id:  QRdYDXUBPCTLibsE0F7d\n",
      "vidar_guttormsen_32111_1998\n",
      "QxdYDXUBPCTLibsE0F7z\n",
      "Upserting the pid: vidar_guttormsen_32111_1998  and _id:  QxdYDXUBPCTLibsE0F7z\n",
      "helge_pedersen_8_1967\n",
      "IRdYDXUBPCTLibsEz16c\n",
      "Upserting the pid: helge_pedersen_8_1967  and _id:  IRdYDXUBPCTLibsEz16c\n",
      "helge_pedersen_9_1966\n",
      "IxdYDXUBPCTLibsEz16w\n",
      "Upserting the pid: helge_pedersen_9_1966  and _id:  IxdYDXUBPCTLibsEz16w\n",
      "adam_saso_39442_1989\n",
      "_RdYDXUBPCTLibsEzl1f\n",
      "Upserting the pid: adam_saso_39442_1989  and _id:  _RdYDXUBPCTLibsEzl1f\n",
      "helge_pedersen_10_1964\n",
      "JRdYDXUBPCTLibsEz17C\n",
      "Upserting the pid: helge_pedersen_10_1964  and _id:  JRdYDXUBPCTLibsEz17C\n",
      "alette_bade_rygh_1810_1989\n",
      "ARdYDXUBPCTLibsEzl6F\n",
      "Upserting the pid: alette_bade_rygh_1810_1989  and _id:  ARdYDXUBPCTLibsEzl6F\n",
      "gaute_alstad_sunde_8092_1982\n",
      "ExdYDXUBPCTLibsEz14g\n",
      "Upserting the pid: gaute_alstad_sunde_8092_1982  and _id:  ExdYDXUBPCTLibsEz14g\n",
      "gaute_alstad_sunde_9327_1955\n",
      "FxdYDXUBPCTLibsEz15C\n",
      "Upserting the pid: gaute_alstad_sunde_9327_1955  and _id:  FxdYDXUBPCTLibsEz15C\n",
      "helge_pedersen_11_1966\n",
      "JxdYDXUBPCTLibsEz17S\n",
      "Upserting the pid: helge_pedersen_11_1966  and _id:  JxdYDXUBPCTLibsEz17S\n",
      "gaute_alstad_sunde_8017_1973\n",
      "ERdYDXUBPCTLibsEz14Q\n",
      "Upserting the pid: gaute_alstad_sunde_8017_1973  and _id:  ERdYDXUBPCTLibsEz14Q\n",
      "helge_pedersen_12_1950\n",
      "KRdYDXUBPCTLibsEz17j\n",
      "Upserting the pid: helge_pedersen_12_1950  and _id:  KRdYDXUBPCTLibsEz17j\n",
      "marianne_bakka_32177_1961\n",
      "LxdYDXUBPCTLibsE0F4R\n",
      "Upserting the pid: marianne_bakka_32177_1961  and _id:  LxdYDXUBPCTLibsE0F4R\n",
      "gaute_alstad_sunde_2748_1996\n",
      "DxdYDXUBPCTLibsEz14A\n",
      "Upserting the pid: gaute_alstad_sunde_2748_1996  and _id:  DxdYDXUBPCTLibsEz14A\n",
      "support28_2002_1981\n",
      "UxdYDXUBPCTLibsE0V67\n",
      "Upserting the pid: support28_2002_1981  and _id:  UxdYDXUBPCTLibsE0V67\n",
      "support31_32359_1979\n",
      "VRdYDXUBPCTLibsE0V7N\n",
      "Upserting the pid: support31_32359_1979  and _id:  VRdYDXUBPCTLibsE0V7N\n"
     ]
    }
   ],
   "source": [
    "upadate_es_index( init_es, 'manual_patients')"
   ]
  },
  {
   "cell_type": "code",
   "execution_count": null,
   "metadata": {},
   "outputs": [],
   "source": []
  },
  {
   "cell_type": "code",
   "execution_count": null,
   "metadata": {},
   "outputs": [],
   "source": []
  },
  {
   "cell_type": "code",
   "execution_count": null,
   "metadata": {},
   "outputs": [],
   "source": []
  },
  {
   "cell_type": "code",
   "execution_count": null,
   "metadata": {},
   "outputs": [],
   "source": []
  },
  {
   "cell_type": "code",
   "execution_count": null,
   "metadata": {},
   "outputs": [],
   "source": []
  },
  {
   "cell_type": "code",
   "execution_count": null,
   "metadata": {},
   "outputs": [],
   "source": []
  },
  {
   "cell_type": "code",
   "execution_count": null,
   "metadata": {},
   "outputs": [],
   "source": []
  },
  {
   "cell_type": "code",
   "execution_count": null,
   "metadata": {},
   "outputs": [],
   "source": []
  },
  {
   "cell_type": "code",
   "execution_count": null,
   "metadata": {},
   "outputs": [],
   "source": []
  },
  {
   "cell_type": "code",
   "execution_count": null,
   "metadata": {},
   "outputs": [],
   "source": []
  },
  {
   "cell_type": "code",
   "execution_count": null,
   "metadata": {},
   "outputs": [],
   "source": []
  },
  {
   "cell_type": "code",
   "execution_count": null,
   "metadata": {},
   "outputs": [],
   "source": []
  },
  {
   "cell_type": "code",
   "execution_count": null,
   "metadata": {},
   "outputs": [],
   "source": []
  },
  {
   "cell_type": "code",
   "execution_count": null,
   "metadata": {},
   "outputs": [],
   "source": []
  },
  {
   "cell_type": "code",
   "execution_count": null,
   "metadata": {},
   "outputs": [],
   "source": []
  },
  {
   "cell_type": "code",
   "execution_count": null,
   "metadata": {},
   "outputs": [],
   "source": []
  },
  {
   "cell_type": "code",
   "execution_count": null,
   "metadata": {},
   "outputs": [],
   "source": []
  },
  {
   "cell_type": "code",
   "execution_count": null,
   "metadata": {},
   "outputs": [],
   "source": []
  },
  {
   "cell_type": "code",
   "execution_count": null,
   "metadata": {},
   "outputs": [],
   "source": []
  },
  {
   "cell_type": "code",
   "execution_count": null,
   "metadata": {},
   "outputs": [],
   "source": []
  },
  {
   "cell_type": "code",
   "execution_count": null,
   "metadata": {},
   "outputs": [],
   "source": []
  },
  {
   "cell_type": "code",
   "execution_count": null,
   "metadata": {},
   "outputs": [],
   "source": []
  },
  {
   "cell_type": "code",
   "execution_count": null,
   "metadata": {},
   "outputs": [],
   "source": []
  },
  {
   "cell_type": "code",
   "execution_count": null,
   "metadata": {},
   "outputs": [],
   "source": []
  },
  {
   "cell_type": "code",
   "execution_count": null,
   "metadata": {},
   "outputs": [],
   "source": []
  },
  {
   "cell_type": "code",
   "execution_count": null,
   "metadata": {},
   "outputs": [],
   "source": []
  },
  {
   "cell_type": "code",
   "execution_count": null,
   "metadata": {},
   "outputs": [],
   "source": []
  },
  {
   "cell_type": "code",
   "execution_count": null,
   "metadata": {},
   "outputs": [],
   "source": []
  },
  {
   "cell_type": "code",
   "execution_count": null,
   "metadata": {},
   "outputs": [],
   "source": []
  },
  {
   "cell_type": "code",
   "execution_count": null,
   "metadata": {},
   "outputs": [],
   "source": []
  },
  {
   "cell_type": "code",
   "execution_count": null,
   "metadata": {},
   "outputs": [],
   "source": []
  },
  {
   "cell_type": "code",
   "execution_count": null,
   "metadata": {},
   "outputs": [],
   "source": []
  },
  {
   "cell_type": "code",
   "execution_count": null,
   "metadata": {},
   "outputs": [],
   "source": []
  },
  {
   "cell_type": "code",
   "execution_count": null,
   "metadata": {},
   "outputs": [],
   "source": []
  },
  {
   "cell_type": "code",
   "execution_count": null,
   "metadata": {},
   "outputs": [],
   "source": []
  },
  {
   "cell_type": "code",
   "execution_count": null,
   "metadata": {},
   "outputs": [],
   "source": []
  },
  {
   "cell_type": "markdown",
   "metadata": {},
   "source": [
    "# \n",
    "# \n",
    "# \n",
    "# .....................................................................................................................................................................\n",
    "# \n",
    "# \n",
    "# Code only for testing\n",
    "# "
   ]
  },
  {
   "cell_type": "code",
   "execution_count": null,
   "metadata": {},
   "outputs": [],
   "source": []
  },
  {
   "cell_type": "code",
   "execution_count": 214,
   "metadata": {},
   "outputs": [
    {
     "name": "stdout",
     "output_type": "stream",
     "text": [
      "{\n",
      "   \"error\": \"no handler found for uri [/test/_id/1/_search?pretty] and method [POST]\"\n",
      "}\n"
     ]
    }
   ],
   "source": [
    "#get_docs('test')\n",
    "print(json.dumps(get_docs('test/_id/1'), indent=3))"
   ]
  },
  {
   "cell_type": "code",
   "execution_count": 215,
   "metadata": {},
   "outputs": [],
   "source": [
    "data = '{  \"query\": {    \"match\": {      \"patientId\": \"Adam_Saso_38888_1998\"    }  }}'\n",
    "response = requests.post(es_base_url+'/manual_patients/_search', headers=headers, data=data)\n",
    "patient_details = response.json();"
   ]
  },
  {
   "cell_type": "code",
   "execution_count": null,
   "metadata": {},
   "outputs": [],
   "source": []
  },
  {
   "cell_type": "code",
   "execution_count": 216,
   "metadata": {},
   "outputs": [
    {
     "data": {
      "text/html": [
       "<div>\n",
       "<style scoped>\n",
       "    .dataframe tbody tr th:only-of-type {\n",
       "        vertical-align: middle;\n",
       "    }\n",
       "\n",
       "    .dataframe tbody tr th {\n",
       "        vertical-align: top;\n",
       "    }\n",
       "\n",
       "    .dataframe thead th {\n",
       "        text-align: right;\n",
       "    }\n",
       "</style>\n",
       "<table border=\"1\" class=\"dataframe\">\n",
       "  <thead>\n",
       "    <tr style=\"text-align: right;\">\n",
       "      <th></th>\n",
       "      <th>took</th>\n",
       "      <th>timed_out</th>\n",
       "      <th>_shards</th>\n",
       "      <th>hits</th>\n",
       "    </tr>\n",
       "  </thead>\n",
       "  <tbody>\n",
       "    <tr>\n",
       "      <th>failed</th>\n",
       "      <td>12</td>\n",
       "      <td>False</td>\n",
       "      <td>0.0</td>\n",
       "      <td>NaN</td>\n",
       "    </tr>\n",
       "    <tr>\n",
       "      <th>hits</th>\n",
       "      <td>12</td>\n",
       "      <td>False</td>\n",
       "      <td>NaN</td>\n",
       "      <td>[{'_index': 'manual_patients', '_type': '_doc'...</td>\n",
       "    </tr>\n",
       "    <tr>\n",
       "      <th>max_score</th>\n",
       "      <td>12</td>\n",
       "      <td>False</td>\n",
       "      <td>NaN</td>\n",
       "      <td>3.03495</td>\n",
       "    </tr>\n",
       "    <tr>\n",
       "      <th>skipped</th>\n",
       "      <td>12</td>\n",
       "      <td>False</td>\n",
       "      <td>0.0</td>\n",
       "      <td>NaN</td>\n",
       "    </tr>\n",
       "    <tr>\n",
       "      <th>successful</th>\n",
       "      <td>12</td>\n",
       "      <td>False</td>\n",
       "      <td>1.0</td>\n",
       "      <td>NaN</td>\n",
       "    </tr>\n",
       "    <tr>\n",
       "      <th>total</th>\n",
       "      <td>12</td>\n",
       "      <td>False</td>\n",
       "      <td>1.0</td>\n",
       "      <td>{'value': 1, 'relation': 'eq'}</td>\n",
       "    </tr>\n",
       "  </tbody>\n",
       "</table>\n",
       "</div>"
      ],
      "text/plain": [
       "            took  timed_out  _shards  \\\n",
       "failed        12      False      0.0   \n",
       "hits          12      False      NaN   \n",
       "max_score     12      False      NaN   \n",
       "skipped       12      False      0.0   \n",
       "successful    12      False      1.0   \n",
       "total         12      False      1.0   \n",
       "\n",
       "                                                         hits  \n",
       "failed                                                    NaN  \n",
       "hits        [{'_index': 'manual_patients', '_type': '_doc'...  \n",
       "max_score                                             3.03495  \n",
       "skipped                                                   NaN  \n",
       "successful                                                NaN  \n",
       "total                          {'value': 1, 'relation': 'eq'}  "
      ]
     },
     "execution_count": 216,
     "metadata": {},
     "output_type": "execute_result"
    }
   ],
   "source": [
    "pd.DataFrame(patient_details)"
   ]
  },
  {
   "cell_type": "code",
   "execution_count": 217,
   "metadata": {},
   "outputs": [
    {
     "data": {
      "text/plain": [
       "{'hits': {'hits': [{'_id': 'wjPUeHQBDYD9qlG-Jfxj'}]}}"
      ]
     },
     "execution_count": 217,
     "metadata": {},
     "output_type": "execute_result"
    }
   ],
   "source": [
    "import requests\n",
    "\n",
    "params = (('filter_path', 'hits.hits._source'))\n",
    "data = '{  \"query\": {    \"match\": {      \"patientId\": \"Adam_Saso_38888_1998\"    }  }}'\n",
    "response = requests.get('http://localhost:9200/manual_patients/_search?filter_path=hits.hits._id', headers=headers, data=data)\n",
    "response.json()\n",
    "\n",
    "#NB. Original query string below. It seems impossible to parse and\n",
    "#reproduce query strings 100% accurately so the one below is given\n",
    "#in case the reproduced version is not \"correct\".\n",
    "# response = requests.get('http://localhost:9200/index/type/_search?filter_path=hits.hits._source')"
   ]
  },
  {
   "cell_type": "code",
   "execution_count": 116,
   "metadata": {},
   "outputs": [
    {
     "ename": "NameError",
     "evalue": "name 'response' is not defined",
     "output_type": "error",
     "traceback": [
      "\u001b[0;31m---------------------------------------------------------------------------\u001b[0m",
      "\u001b[0;31mNameError\u001b[0m                                 Traceback (most recent call last)",
      "\u001b[0;32m<ipython-input-116-ddf540860d29>\u001b[0m in \u001b[0;36m<module>\u001b[0;34m()\u001b[0m\n\u001b[0;32m----> 1\u001b[0;31m \u001b[0mresponse\u001b[0m\u001b[0;34m.\u001b[0m\u001b[0mjson\u001b[0m\u001b[0;34m(\u001b[0m\u001b[0;34m)\u001b[0m\u001b[0;34m.\u001b[0m\u001b[0mget\u001b[0m\u001b[0;34m(\u001b[0m\u001b[0;34m'hits'\u001b[0m\u001b[0;34m,\u001b[0m \u001b[0;34m{\u001b[0m\u001b[0;34m}\u001b[0m\u001b[0;34m)\u001b[0m\u001b[0;34m.\u001b[0m\u001b[0mget\u001b[0m\u001b[0;34m(\u001b[0m\u001b[0;34m'hits'\u001b[0m\u001b[0;34m,\u001b[0m \u001b[0;34m[\u001b[0m\u001b[0;34m{\u001b[0m\u001b[0;34m}\u001b[0m\u001b[0;34m]\u001b[0m\u001b[0;34m)\u001b[0m\u001b[0;34m[\u001b[0m\u001b[0;36m0\u001b[0m\u001b[0;34m]\u001b[0m\u001b[0;34m.\u001b[0m\u001b[0mget\u001b[0m\u001b[0;34m(\u001b[0m\u001b[0;34m'_id'\u001b[0m\u001b[0;34m)\u001b[0m\u001b[0;34m\u001b[0m\u001b[0;34m\u001b[0m\u001b[0m\n\u001b[0m",
      "\u001b[0;31mNameError\u001b[0m: name 'response' is not defined"
     ]
    }
   ],
   "source": [
    "response.json().get('hits', {}).get('hits', [{}])[0].get('_id')"
   ]
  },
  {
   "cell_type": "code",
   "execution_count": null,
   "metadata": {},
   "outputs": [],
   "source": []
  },
  {
   "cell_type": "code",
   "execution_count": null,
   "metadata": {},
   "outputs": [],
   "source": []
  },
  {
   "cell_type": "code",
   "execution_count": null,
   "metadata": {},
   "outputs": [],
   "source": []
  },
  {
   "cell_type": "code",
   "execution_count": null,
   "metadata": {},
   "outputs": [],
   "source": []
  },
  {
   "cell_type": "code",
   "execution_count": 241,
   "metadata": {},
   "outputs": [],
   "source": [
    "data = '{\"aggs\" : {\"result_from_es\" : {\"terms\" : { \"field\" : \"patientId.keyword\", \"size\":100}}},\"size\" : 0}';\n",
    "\n",
    "response = requests.post(es_base_url+'/manual_patients/_search?pretty', headers=headers, data=data)\n",
    "\n",
    "raw_json = response.json()\n",
    "\n",
    "patient_list = pd.DataFrame(raw_json.get('aggregations').get('result_from_es').get('buckets')).key.sort_values( ascending=True).tolist()\n",
    "\n",
    "patient_list;"
   ]
  },
  {
   "cell_type": "code",
   "execution_count": 242,
   "metadata": {},
   "outputs": [],
   "source": [
    "test_data = '{\"doc\": { \"name\": \"Jane Doe\" }}'\n",
    "test_rsp = requests.post(es_base_url+'/test/_update/1?pretty', headers=headers, data=test_data)\n",
    "test_json = test_rsp.json()"
   ]
  },
  {
   "cell_type": "code",
   "execution_count": 243,
   "metadata": {},
   "outputs": [
    {
     "data": {
      "text/plain": [
       "{'_index': 'test',\n",
       " '_type': '_doc',\n",
       " '_id': '1',\n",
       " '_version': 8,\n",
       " 'result': 'noop',\n",
       " '_shards': {'total': 0, 'successful': 0, 'failed': 0},\n",
       " '_seq_no': 9,\n",
       " '_primary_term': 1}"
      ]
     },
     "execution_count": 243,
     "metadata": {},
     "output_type": "execute_result"
    }
   ],
   "source": [
    "test_json"
   ]
  },
  {
   "cell_type": "code",
   "execution_count": 244,
   "metadata": {},
   "outputs": [
    {
     "data": {
      "text/plain": [
       "'{\"aggs\" : {\"result_from_es\" : {\"terms\" : { \"field\" : \"patientId.keyword\", \"size\":100}}},\"size\" : 0}'"
      ]
     },
     "execution_count": 244,
     "metadata": {},
     "output_type": "execute_result"
    }
   ],
   "source": [
    "data"
   ]
  },
  {
   "cell_type": "code",
   "execution_count": 247,
   "metadata": {},
   "outputs": [
    {
     "data": {
      "text/plain": [
       "'Adam_Saso_39151_1997'"
      ]
     },
     "execution_count": 247,
     "metadata": {},
     "output_type": "execute_result"
    }
   ],
   "source": [
    "init_es[1].get('patientId')"
   ]
  },
  {
   "cell_type": "code",
   "execution_count": 248,
   "metadata": {},
   "outputs": [
    {
     "data": {
      "text/plain": [
       "'wzPUeHQBDYD9qlG-Jfxj'"
      ]
     },
     "execution_count": 248,
     "metadata": {},
     "output_type": "execute_result"
    }
   ],
   "source": [
    "get_id_for_pid('Adam_Saso_39151_1997')"
   ]
  },
  {
   "cell_type": "code",
   "execution_count": 249,
   "metadata": {},
   "outputs": [
    {
     "name": "stdout",
     "output_type": "stream",
     "text": [
      "wzPUeHQBDYD9qlG-Jfxj\n"
     ]
    }
   ],
   "source": [
    "for i in [1]:\n",
    "    pid = init_es[i].get('patientId')\n",
    "    _id = get_id_for_pid(pid)\n",
    "    print(_id)"
   ]
  },
  {
   "cell_type": "code",
   "execution_count": 170,
   "metadata": {},
   "outputs": [
    {
     "data": {
      "text/plain": [
       "'Vidar_Guttormsen_17504_1973'"
      ]
     },
     "execution_count": 170,
     "metadata": {},
     "output_type": "execute_result"
    }
   ],
   "source": [
    "init_es[0].get('patientId')"
   ]
  },
  {
   "cell_type": "code",
   "execution_count": null,
   "metadata": {},
   "outputs": [],
   "source": []
  },
  {
   "cell_type": "code",
   "execution_count": null,
   "metadata": {},
   "outputs": [],
   "source": []
  },
  {
   "cell_type": "code",
   "execution_count": 254,
   "metadata": {
    "collapsed": true,
    "jupyter": {
     "outputs_hidden": true
    }
   },
   "outputs": [
    {
     "data": {
      "text/plain": [
       "'{\"doc\": {\"patientId\": \"Adam_Saso_39151_1997\", \"patientDetails\": {\"body_map\": {\"front\": [{\"x\": 3, \"y\": 10}], \"back\": []}}}, \"doc_as_upsert\": true}'"
      ]
     },
     "execution_count": 254,
     "metadata": {},
     "output_type": "execute_result"
    }
   ],
   "source": [
    "upsert_doc = {'doc': json_doc_0, 'doc_as_upsert': True}\n",
    "json.dumps(upsert_doc)"
   ]
  },
  {
   "cell_type": "code",
   "execution_count": 188,
   "metadata": {},
   "outputs": [
    {
     "data": {
      "text/plain": [
       "{'patientId': 'Vidar_Guttormsen_17504_1973',\n",
       " 'patientDetails': {'body_map': {'front': [{'x': 2, 'y': 7}],\n",
       "   'back': [{'x': 5, 'y': 7}]}}}"
      ]
     },
     "execution_count": 188,
     "metadata": {},
     "output_type": "execute_result"
    }
   ],
   "source": [
    "json_doc_0"
   ]
  },
  {
   "cell_type": "code",
   "execution_count": 193,
   "metadata": {},
   "outputs": [],
   "source": [
    "upsert_doc = {\n",
    "    'doc': json_doc_0,\n",
    "    'doc_as_upsert': True,\n",
    "}"
   ]
  },
  {
   "cell_type": "code",
   "execution_count": 196,
   "metadata": {},
   "outputs": [
    {
     "data": {
      "text/plain": [
       "'{\"doc\": {\"patientId\": \"Vidar_Guttormsen_17504_1973\", \"patientDetails\": {\"body_map\": {\"front\": [{\"x\": 2, \"y\": 7}], \"back\": [{\"x\": 5, \"y\": 7}]}}}, \"doc_as_upsert\": true}'"
      ]
     },
     "execution_count": 196,
     "metadata": {},
     "output_type": "execute_result"
    }
   ],
   "source": [
    "json.dumps(upsert_doc)"
   ]
  }
 ],
 "metadata": {
  "kernelspec": {
   "display_name": "Python 3",
   "language": "python",
   "name": "python3"
  },
  "language_info": {
   "codemirror_mode": {
    "name": "ipython",
    "version": 3
   },
   "file_extension": ".py",
   "mimetype": "text/x-python",
   "name": "python",
   "nbconvert_exporter": "python",
   "pygments_lexer": "ipython3",
   "version": "3.7.4"
  }
 },
 "nbformat": 4,
 "nbformat_minor": 4
}

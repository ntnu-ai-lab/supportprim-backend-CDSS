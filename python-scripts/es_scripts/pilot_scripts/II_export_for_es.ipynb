{
 "cells": [
  {
   "cell_type": "markdown",
   "metadata": {},
   "source": [
    "# Pilot Patients\n",
    "## Inser or Upsert documents to Elastic search"
   ]
  },
  {
   "cell_type": "code",
   "execution_count": 1,
   "metadata": {},
   "outputs": [],
   "source": [
    "es_base_url = 'http://localhost:9200'\n",
    "headers = {'Content-Type': 'application/json'}"
   ]
  },
  {
   "cell_type": "code",
   "execution_count": 2,
   "metadata": {},
   "outputs": [],
   "source": [
    "# auto sugestion with tab\n",
    "%config IPCompleter.greedy=True\n",
    "%config InlineBackend.figure_format = 'retina'\n",
    "%matplotlib inline "
   ]
  },
  {
   "cell_type": "code",
   "execution_count": 3,
   "metadata": {},
   "outputs": [
    {
     "data": {
      "text/plain": [
       "'/lhome/amardj/ISM/python_code/es_scripts/pilot_scripts'"
      ]
     },
     "execution_count": 3,
     "metadata": {},
     "output_type": "execute_result"
    }
   ],
   "source": [
    "import pandas as pd\n",
    "import numpy as np\n",
    "import seaborn as sns\n",
    "import matplotlib.pyplot as plt\n",
    "\n",
    "import datetime as datetime\n",
    "\n",
    "import requests\n",
    "import json\n",
    "\n",
    "import os\n",
    "os.getcwd()"
   ]
  },
  {
   "cell_type": "code",
   "execution_count": 4,
   "metadata": {},
   "outputs": [
    {
     "data": {
      "text/plain": [
       "'20201026'"
      ]
     },
     "execution_count": 4,
     "metadata": {},
     "output_type": "execute_result"
    }
   ],
   "source": [
    "sys_date = datetime.datetime.today().strftime( '%Y%m%d')\n",
    "sys_date = f'{sys_date}' \n",
    "sys_date"
   ]
  },
  {
   "cell_type": "raw",
   "metadata": {},
   "source": [
    "#sys_date = '20201019'"
   ]
  },
  {
   "cell_type": "code",
   "execution_count": 5,
   "metadata": {},
   "outputs": [],
   "source": [
    "data_dir = f'./data/{sys_date}/'"
   ]
  },
  {
   "cell_type": "code",
   "execution_count": 6,
   "metadata": {},
   "outputs": [],
   "source": [
    "file_name = f'{data_dir}2_sp_dataset_clean.csv'"
   ]
  },
  {
   "cell_type": "code",
   "execution_count": 7,
   "metadata": {},
   "outputs": [],
   "source": [
    "df_csv = pd.read_csv(file_name, index_col='id')"
   ]
  },
  {
   "cell_type": "code",
   "execution_count": 8,
   "metadata": {},
   "outputs": [
    {
     "data": {
      "text/html": [
       "<div>\n",
       "<style scoped>\n",
       "    .dataframe tbody tr th:only-of-type {\n",
       "        vertical-align: middle;\n",
       "    }\n",
       "\n",
       "    .dataframe tbody tr th {\n",
       "        vertical-align: top;\n",
       "    }\n",
       "\n",
       "    .dataframe thead th {\n",
       "        text-align: right;\n",
       "    }\n",
       "</style>\n",
       "<table border=\"1\" class=\"dataframe\">\n",
       "  <thead>\n",
       "    <tr style=\"text-align: right;\">\n",
       "      <th></th>\n",
       "      <th>activity_1</th>\n",
       "      <th>age_1</th>\n",
       "      <th>back_nevro_pow_1</th>\n",
       "      <th>back_nevro_reflex_1</th>\n",
       "      <th>back_nevro_sens_1</th>\n",
       "      <th>back_slr_1</th>\n",
       "      <th>birth_year</th>\n",
       "      <th>bmi_1</th>\n",
       "      <th>body_main_1</th>\n",
       "      <th>childhood_1</th>\n",
       "      <th>...</th>\n",
       "      <th>walk_aid_1</th>\n",
       "      <th>weight_1</th>\n",
       "      <th>work_ability_1</th>\n",
       "      <th>work_ability_3</th>\n",
       "      <th>work_ability_w2</th>\n",
       "      <th>work_ability_w4</th>\n",
       "      <th>work_ability_w8</th>\n",
       "      <th>work_type_1</th>\n",
       "      <th>clinic_id</th>\n",
       "      <th>patient_id</th>\n",
       "    </tr>\n",
       "    <tr>\n",
       "      <th>id</th>\n",
       "      <th></th>\n",
       "      <th></th>\n",
       "      <th></th>\n",
       "      <th></th>\n",
       "      <th></th>\n",
       "      <th></th>\n",
       "      <th></th>\n",
       "      <th></th>\n",
       "      <th></th>\n",
       "      <th></th>\n",
       "      <th></th>\n",
       "      <th></th>\n",
       "      <th></th>\n",
       "      <th></th>\n",
       "      <th></th>\n",
       "      <th></th>\n",
       "      <th></th>\n",
       "      <th></th>\n",
       "      <th></th>\n",
       "      <th></th>\n",
       "      <th></th>\n",
       "    </tr>\n",
       "  </thead>\n",
       "  <tbody>\n",
       "    <tr>\n",
       "      <td>0</td>\n",
       "      <td>quite reduced</td>\n",
       "      <td>59.0</td>\n",
       "      <td>NaN</td>\n",
       "      <td>NaN</td>\n",
       "      <td>NaN</td>\n",
       "      <td>NaN</td>\n",
       "      <td>1961</td>\n",
       "      <td>24.977043</td>\n",
       "      <td>NaN</td>\n",
       "      <td>very good</td>\n",
       "      <td>...</td>\n",
       "      <td>no walkaid</td>\n",
       "      <td>68.0</td>\n",
       "      <td>7</td>\n",
       "      <td>NaN</td>\n",
       "      <td>NaN</td>\n",
       "      <td>NaN</td>\n",
       "      <td>NaN</td>\n",
       "      <td>work demands much walking and lifting</td>\n",
       "      <td>support27</td>\n",
       "      <td>support27_1005_1961</td>\n",
       "    </tr>\n",
       "    <tr>\n",
       "      <td>1</td>\n",
       "      <td>slightly reduced</td>\n",
       "      <td>63.0</td>\n",
       "      <td>NaN</td>\n",
       "      <td>NaN</td>\n",
       "      <td>NaN</td>\n",
       "      <td>NaN</td>\n",
       "      <td>1957</td>\n",
       "      <td>NaN</td>\n",
       "      <td>NaN</td>\n",
       "      <td>good</td>\n",
       "      <td>...</td>\n",
       "      <td>no walkaid</td>\n",
       "      <td>NaN</td>\n",
       "      <td>6</td>\n",
       "      <td>NaN</td>\n",
       "      <td>NaN</td>\n",
       "      <td>NaN</td>\n",
       "      <td>NaN</td>\n",
       "      <td>mostly seated</td>\n",
       "      <td>support27</td>\n",
       "      <td>support27_1006_1957</td>\n",
       "    </tr>\n",
       "    <tr>\n",
       "      <td>2</td>\n",
       "      <td>quite reduced</td>\n",
       "      <td>30.0</td>\n",
       "      <td>NaN</td>\n",
       "      <td>NaN</td>\n",
       "      <td>NaN</td>\n",
       "      <td>NaN</td>\n",
       "      <td>1990</td>\n",
       "      <td>19.151192</td>\n",
       "      <td>NaN</td>\n",
       "      <td>good</td>\n",
       "      <td>...</td>\n",
       "      <td>no walkaid</td>\n",
       "      <td>56.0</td>\n",
       "      <td>5</td>\n",
       "      <td>NaN</td>\n",
       "      <td>NaN</td>\n",
       "      <td>NaN</td>\n",
       "      <td>NaN</td>\n",
       "      <td>mostly seated</td>\n",
       "      <td>support42</td>\n",
       "      <td>support42_3002_1990</td>\n",
       "    </tr>\n",
       "  </tbody>\n",
       "</table>\n",
       "<p>3 rows × 352 columns</p>\n",
       "</div>"
      ],
      "text/plain": [
       "          activity_1  age_1  back_nevro_pow_1  back_nevro_reflex_1  \\\n",
       "id                                                                   \n",
       "0      quite reduced   59.0               NaN                  NaN   \n",
       "1   slightly reduced   63.0               NaN                  NaN   \n",
       "2      quite reduced   30.0               NaN                  NaN   \n",
       "\n",
       "    back_nevro_sens_1  back_slr_1  birth_year      bmi_1  body_main_1  \\\n",
       "id                                                                      \n",
       "0                 NaN         NaN        1961  24.977043          NaN   \n",
       "1                 NaN         NaN        1957        NaN          NaN   \n",
       "2                 NaN         NaN        1990  19.151192          NaN   \n",
       "\n",
       "   childhood_1  ...  walk_aid_1  weight_1 work_ability_1  work_ability_3  \\\n",
       "id              ...                                                        \n",
       "0    very good  ...  no walkaid      68.0              7             NaN   \n",
       "1         good  ...  no walkaid       NaN              6             NaN   \n",
       "2         good  ...  no walkaid      56.0              5             NaN   \n",
       "\n",
       "    work_ability_w2  work_ability_w4  work_ability_w8  \\\n",
       "id                                                      \n",
       "0               NaN              NaN              NaN   \n",
       "1               NaN              NaN              NaN   \n",
       "2               NaN              NaN              NaN   \n",
       "\n",
       "                              work_type_1  clinic_id           patient_id  \n",
       "id                                                                         \n",
       "0   work demands much walking and lifting  support27  support27_1005_1961  \n",
       "1                           mostly seated  support27  support27_1006_1957  \n",
       "2                           mostly seated  support42  support42_3002_1990  \n",
       "\n",
       "[3 rows x 352 columns]"
      ]
     },
     "execution_count": 8,
     "metadata": {},
     "output_type": "execute_result"
    }
   ],
   "source": [
    "df_csv.head()"
   ]
  },
  {
   "cell_type": "code",
   "execution_count": 9,
   "metadata": {},
   "outputs": [],
   "source": [
    "js = df_csv.to_json(orient='index')"
   ]
  },
  {
   "cell_type": "code",
   "execution_count": 10,
   "metadata": {},
   "outputs": [],
   "source": [
    "df1 = df_csv.fillna( value=\"\")"
   ]
  },
  {
   "cell_type": "code",
   "execution_count": 11,
   "metadata": {},
   "outputs": [],
   "source": [
    "dict_csv = df1.to_dict( orient='index')"
   ]
  },
  {
   "cell_type": "code",
   "execution_count": null,
   "metadata": {},
   "outputs": [],
   "source": []
  },
  {
   "cell_type": "code",
   "execution_count": 12,
   "metadata": {},
   "outputs": [],
   "source": [
    "json_str = json.dumps( dict_csv, allow_nan=True, ensure_ascii=False)"
   ]
  },
  {
   "cell_type": "code",
   "execution_count": 13,
   "metadata": {},
   "outputs": [],
   "source": [
    "#print(json_str)"
   ]
  },
  {
   "cell_type": "code",
   "execution_count": 14,
   "metadata": {},
   "outputs": [],
   "source": [
    "import codecs\n",
    "import json\n",
    "\n",
    "with codecs.open(f'{data_dir}2_sp_dataset_clean.json', 'w', encoding='utf-8') as f:\n",
    "    json.dump(dict_csv, f, ensure_ascii=False)"
   ]
  },
  {
   "cell_type": "code",
   "execution_count": 15,
   "metadata": {},
   "outputs": [
    {
     "data": {
      "text/plain": [
       "'2020-10-26T09:54:15.626026+01:00'"
      ]
     },
     "execution_count": 15,
     "metadata": {},
     "output_type": "execute_result"
    }
   ],
   "source": [
    "import datetime\n",
    "datetime.datetime.now().astimezone().isoformat()"
   ]
  },
  {
   "cell_type": "code",
   "execution_count": null,
   "metadata": {},
   "outputs": [],
   "source": []
  },
  {
   "cell_type": "code",
   "execution_count": 16,
   "metadata": {},
   "outputs": [],
   "source": [
    "es_main_index = 'manual_patients'\n",
    "es_trace_index = 'manual_patient_traces'"
   ]
  },
  {
   "cell_type": "markdown",
   "metadata": {},
   "source": [
    "# "
   ]
  },
  {
   "cell_type": "code",
   "execution_count": null,
   "metadata": {},
   "outputs": [],
   "source": []
  },
  {
   "cell_type": "code",
   "execution_count": 17,
   "metadata": {},
   "outputs": [],
   "source": [
    "def get_id_for_pid( pid, es_index):\n",
    "    params = (('filter_path', 'hits.hits._source'))\n",
    "    data = '{  \"query\": {    \"match\": {      \"patientId\": \"'+pid+'\"    }  }}'\n",
    "    response = requests.get(f'{es_base_url}/{es_index}/_search?filter_path=hits.hits._id', headers=headers, data=data)\n",
    "    response_json = response.json()\n",
    "    return response_json.get('hits', {}).get('hits', [{}])[0].get('_id')"
   ]
  },
  {
   "cell_type": "code",
   "execution_count": 18,
   "metadata": {},
   "outputs": [],
   "source": [
    "def get_created_date_for_pid( pid, es_index):\n",
    "    params = (('filter_path', 'hits.hits._source'))\n",
    "    data = '{  \"query\": {    \"match\": {      \"patientId\": \"'+pid+'\"    }  }}'\n",
    "    response = requests.get(f'{es_base_url}/{es_index}/_search?filter_path=hits.hits._source.dateCreated', headers=headers, data=data)\n",
    "    response_json = response.json()\n",
    "    return response_json.get('hits', {}).get('hits', [{}])[0].get('_source',{}).get('dateCreated')"
   ]
  },
  {
   "cell_type": "code",
   "execution_count": 19,
   "metadata": {},
   "outputs": [],
   "source": [
    "get_created_date_for_pid('adam_saso_38888_1998', 'manual_patient_traces')"
   ]
  },
  {
   "cell_type": "code",
   "execution_count": 20,
   "metadata": {},
   "outputs": [],
   "source": [
    "def insert_es_new_doc(json_doc, es_index):\n",
    "    doc = json.dumps(json_doc)\n",
    "    response = requests.post(f'{es_base_url}/{es_index}/_doc', headers=headers, data=doc)\n",
    "    return response.json()"
   ]
  },
  {
   "cell_type": "raw",
   "metadata": {},
   "source": [
    "#insert_es_new_doc( {\"amar\":\"1234\"}, es_index)"
   ]
  },
  {
   "cell_type": "code",
   "execution_count": 21,
   "metadata": {},
   "outputs": [],
   "source": [
    "def update_es_doc_for_id( _id, json_doc, es_index):\n",
    "    upsert_doc = json.dumps({'doc': json.dumps(json_doc), 'doc_as_upsert': True})\n",
    "    response = requests.post(f'{es_base_url}/{es_index}/_update/{_id}?pretty', headers=headers, data=upsert_doc)\n",
    "    return response.json()"
   ]
  },
  {
   "cell_type": "code",
   "execution_count": 22,
   "metadata": {},
   "outputs": [],
   "source": [
    "def upadate_es_index(dict_csv, es_index):     \n",
    "    \n",
    "    es_trace_index = 'manual_patient_traces'\n",
    "    \n",
    "    for val in dict_csv:\n",
    "\n",
    "        doc_json = {}\n",
    "        \n",
    "        patientDetails = dict_csv[val]\n",
    "\n",
    "        patientId = patientDetails.get('patient_id')\n",
    "        clinicId = patientDetails.get('clinic_id')\n",
    "\n",
    "        current_date_time = datetime.datetime.now().astimezone().isoformat(timespec='milliseconds')\n",
    "\n",
    "        doc_json.update(\n",
    "            {\n",
    "                \"patientId\" : patientId, \n",
    "                \"clinicId\" : clinicId, \n",
    "                \"dateCreated\" : current_date_time,\n",
    "                \"dateUpdated\" : current_date_time, \n",
    "                \"status\" : \"INITIAL\", \n",
    "                \"similarPatients\" : { }, \n",
    "                \"patientDetails\": patientDetails\n",
    "            }\n",
    "        )\n",
    "        \n",
    "        #print(patientId)\n",
    "        _id = get_id_for_pid( patientId, es_index)\n",
    "        #print(_id)\n",
    "        \n",
    "        \n",
    "        if _id is None:\n",
    "            print('_id was None, thus inserting doc for pid', patientId)\n",
    "                    \n",
    "            insert_es_new_doc(doc_json, es_index)\n",
    "            #insert_es_new_doc(doc_json, es_trace_index)\n",
    "        else :\n",
    "            print('Upserting doc for pid:', patientId, ' and _id: ', _id)\n",
    "            \n",
    "            doc_json['dateCreated'] = get_created_date_for_pid( patientId, es_index)\n",
    "            \n",
    "            insert_es_new_doc(doc_json, es_trace_index)\n",
    "            update_es_doc_for_id(_id, doc_json, es_index)"
   ]
  },
  {
   "cell_type": "code",
   "execution_count": 23,
   "metadata": {},
   "outputs": [
    {
     "name": "stdout",
     "output_type": "stream",
     "text": [
      "_id was None, thus inserting doc for pid support27_1005_1961\n",
      "_id was None, thus inserting doc for pid support27_1006_1957\n",
      "_id was None, thus inserting doc for pid support42_3002_1990\n"
     ]
    }
   ],
   "source": [
    "upadate_es_index( dict_csv, es_main_index)"
   ]
  },
  {
   "cell_type": "code",
   "execution_count": null,
   "metadata": {},
   "outputs": [],
   "source": []
  },
  {
   "cell_type": "code",
   "execution_count": null,
   "metadata": {},
   "outputs": [],
   "source": []
  }
 ],
 "metadata": {
  "kernelspec": {
   "display_name": "Python 3",
   "language": "python",
   "name": "python3"
  },
  "language_info": {
   "codemirror_mode": {
    "name": "ipython",
    "version": 3
   },
   "file_extension": ".py",
   "mimetype": "text/x-python",
   "name": "python",
   "nbconvert_exporter": "python",
   "pygments_lexer": "ipython3",
   "version": "3.7.4"
  }
 },
 "nbformat": 4,
 "nbformat_minor": 4
}

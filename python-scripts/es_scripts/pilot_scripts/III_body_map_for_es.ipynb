{
 "cells": [
  {
   "cell_type": "raw",
   "metadata": {},
   "source": [
    "lsof -i:9300"
   ]
  },
  {
   "cell_type": "markdown",
   "metadata": {},
   "source": [
    "# Pilot Patient\n",
    "## Import Body Map from Infopad csv file"
   ]
  },
  {
   "cell_type": "markdown",
   "metadata": {},
   "source": [
    "#### Last updated on : 3rd Oct 2020  -  Amar Jaiswal"
   ]
  },
  {
   "cell_type": "code",
   "execution_count": 1,
   "metadata": {},
   "outputs": [],
   "source": [
    "es_base_url = 'http://localhost:9200'\n",
    "headers = {'Content-Type': 'application/json'}"
   ]
  },
  {
   "cell_type": "code",
   "execution_count": 2,
   "metadata": {},
   "outputs": [],
   "source": [
    "# auto sugestion with tab\n",
    "%config IPCompleter.greedy=True\n",
    "%config InlineBackend.figure_format = 'retina'\n",
    "%matplotlib inline "
   ]
  },
  {
   "cell_type": "code",
   "execution_count": 3,
   "metadata": {},
   "outputs": [
    {
     "data": {
      "text/plain": [
       "'/lhome/amardj/ISM/python_code/es_scripts/pilot_scripts'"
      ]
     },
     "execution_count": 3,
     "metadata": {},
     "output_type": "execute_result"
    }
   ],
   "source": [
    "import pandas as pd\n",
    "import numpy as np\n",
    "import seaborn as sns\n",
    "import matplotlib.pyplot as plt\n",
    "import seaborn as sns\n",
    "\n",
    "import datetime as datetime\n",
    "\n",
    "import requests\n",
    "import json\n",
    "\n",
    "import os\n",
    "os.getcwd()"
   ]
  },
  {
   "cell_type": "code",
   "execution_count": 4,
   "metadata": {},
   "outputs": [
    {
     "data": {
      "text/plain": [
       "'20201026'"
      ]
     },
     "execution_count": 4,
     "metadata": {},
     "output_type": "execute_result"
    }
   ],
   "source": [
    "sys_date = datetime.datetime.today().strftime( '%Y%m%d')\n",
    "sys_date = f'{sys_date}' \n",
    "sys_date"
   ]
  },
  {
   "cell_type": "raw",
   "metadata": {},
   "source": [
    "#sys_date = '20201019'"
   ]
  },
  {
   "cell_type": "code",
   "execution_count": 5,
   "metadata": {},
   "outputs": [],
   "source": [
    "data_dir = f'./data/{sys_date}/'"
   ]
  },
  {
   "cell_type": "code",
   "execution_count": 6,
   "metadata": {},
   "outputs": [],
   "source": [
    "body_main_file = f'{data_dir}body_map.csv'"
   ]
  },
  {
   "cell_type": "code",
   "execution_count": 7,
   "metadata": {},
   "outputs": [],
   "source": [
    "raw_csv = pd.read_csv( body_main_file, delimiter=';')"
   ]
  },
  {
   "cell_type": "code",
   "execution_count": 9,
   "metadata": {},
   "outputs": [
    {
     "data": {
      "text/html": [
       "<div>\n",
       "<style scoped>\n",
       "    .dataframe tbody tr th:only-of-type {\n",
       "        vertical-align: middle;\n",
       "    }\n",
       "\n",
       "    .dataframe tbody tr th {\n",
       "        vertical-align: top;\n",
       "    }\n",
       "\n",
       "    .dataframe thead th {\n",
       "        text-align: right;\n",
       "    }\n",
       "</style>\n",
       "<table border=\"1\" class=\"dataframe\">\n",
       "  <thead>\n",
       "    <tr style=\"text-align: right;\">\n",
       "      <th></th>\n",
       "      <th>Brukernavn</th>\n",
       "      <th>Journal ID</th>\n",
       "      <th>Fødselsår</th>\n",
       "      <th>Forside 0 0</th>\n",
       "      <th>Forside 0 1</th>\n",
       "      <th>Forside 0 2</th>\n",
       "      <th>Forside 0 3</th>\n",
       "      <th>Forside 0 4</th>\n",
       "      <th>Forside 0 5</th>\n",
       "      <th>Forside 0 6</th>\n",
       "      <th>...</th>\n",
       "      <th>Bakside 7 5</th>\n",
       "      <th>Bakside 7 6</th>\n",
       "      <th>Bakside 7 7</th>\n",
       "      <th>Bakside 7 8</th>\n",
       "      <th>Bakside 7 9</th>\n",
       "      <th>Bakside 7 10</th>\n",
       "      <th>Bakside 7 11</th>\n",
       "      <th>Bakside 7 12</th>\n",
       "      <th>Bakside 7 13</th>\n",
       "      <th>Bakside 7 14</th>\n",
       "    </tr>\n",
       "  </thead>\n",
       "  <tbody>\n",
       "    <tr>\n",
       "      <td>0</td>\n",
       "      <td>support42</td>\n",
       "      <td>3002</td>\n",
       "      <td>1990</td>\n",
       "      <td></td>\n",
       "      <td></td>\n",
       "      <td></td>\n",
       "      <td></td>\n",
       "      <td></td>\n",
       "      <td></td>\n",
       "      <td></td>\n",
       "      <td>...</td>\n",
       "      <td></td>\n",
       "      <td></td>\n",
       "      <td></td>\n",
       "      <td></td>\n",
       "      <td></td>\n",
       "      <td></td>\n",
       "      <td></td>\n",
       "      <td></td>\n",
       "      <td></td>\n",
       "      <td></td>\n",
       "    </tr>\n",
       "    <tr>\n",
       "      <td>1</td>\n",
       "      <td>support27</td>\n",
       "      <td>1005</td>\n",
       "      <td>1961</td>\n",
       "      <td></td>\n",
       "      <td></td>\n",
       "      <td></td>\n",
       "      <td></td>\n",
       "      <td></td>\n",
       "      <td></td>\n",
       "      <td></td>\n",
       "      <td>...</td>\n",
       "      <td></td>\n",
       "      <td></td>\n",
       "      <td></td>\n",
       "      <td></td>\n",
       "      <td></td>\n",
       "      <td></td>\n",
       "      <td></td>\n",
       "      <td></td>\n",
       "      <td></td>\n",
       "      <td></td>\n",
       "    </tr>\n",
       "    <tr>\n",
       "      <td>2</td>\n",
       "      <td>support27</td>\n",
       "      <td>1006</td>\n",
       "      <td>1957</td>\n",
       "      <td></td>\n",
       "      <td></td>\n",
       "      <td></td>\n",
       "      <td></td>\n",
       "      <td></td>\n",
       "      <td></td>\n",
       "      <td></td>\n",
       "      <td>...</td>\n",
       "      <td></td>\n",
       "      <td></td>\n",
       "      <td></td>\n",
       "      <td></td>\n",
       "      <td></td>\n",
       "      <td></td>\n",
       "      <td></td>\n",
       "      <td></td>\n",
       "      <td></td>\n",
       "      <td></td>\n",
       "    </tr>\n",
       "  </tbody>\n",
       "</table>\n",
       "<p>3 rows × 243 columns</p>\n",
       "</div>"
      ],
      "text/plain": [
       "  Brukernavn  Journal ID  Fødselsår Forside 0 0 Forside 0 1 Forside 0 2  \\\n",
       "0  support42        3002       1990                                       \n",
       "1  support27        1005       1961                                       \n",
       "2  support27        1006       1957                                       \n",
       "\n",
       "  Forside 0 3 Forside 0 4 Forside 0 5 Forside 0 6  ... Bakside 7 5  \\\n",
       "0                                                  ...               \n",
       "1                                                  ...               \n",
       "2                                                  ...               \n",
       "\n",
       "  Bakside 7 6 Bakside 7 7 Bakside 7 8 Bakside 7 9 Bakside 7 10 Bakside 7 11  \\\n",
       "0                                                                             \n",
       "1                                                                             \n",
       "2                                                                             \n",
       "\n",
       "  Bakside 7 12 Bakside 7 13 Bakside 7 14  \n",
       "0                                         \n",
       "1                                         \n",
       "2                                         \n",
       "\n",
       "[3 rows x 243 columns]"
      ]
     },
     "execution_count": 9,
     "metadata": {},
     "output_type": "execute_result"
    }
   ],
   "source": [
    "raw_csv.head()"
   ]
  },
  {
   "cell_type": "code",
   "execution_count": 10,
   "metadata": {},
   "outputs": [],
   "source": [
    "raw = raw_csv.rename(columns={'Fødselsår': 'birthYear', 'Brukernavn':'clinicId', 'Journal ID':'journalId'})"
   ]
  },
  {
   "cell_type": "raw",
   "metadata": {},
   "source": [
    "print(raw.columns.tolist())"
   ]
  },
  {
   "cell_type": "code",
   "execution_count": 11,
   "metadata": {},
   "outputs": [],
   "source": [
    "exclude_patients_from_clinic = raw[\n",
    "    (raw.clinicId != 'Fredrik Granviken') \n",
    "    & (raw.clinicId != 'Anita Formo Bones')\n",
    "    & (raw.clinicId != 'Ingebrigt Meisingset')\n",
    "    & (raw.clinicId != 'Testinstitutt')\n",
    "    & (raw.clinicId != 'support32')\n",
    "    & (raw.clinicId != 'support3')\n",
    "] #\"Testinstitutt\", \"support32\",\"support3\""
   ]
  },
  {
   "cell_type": "raw",
   "metadata": {},
   "source": [
    "exclude_patients_from_clinic.clinicId.tolist()"
   ]
  },
  {
   "cell_type": "code",
   "execution_count": 12,
   "metadata": {},
   "outputs": [
    {
     "data": {
      "text/plain": [
       "(3, 243)"
      ]
     },
     "execution_count": 12,
     "metadata": {},
     "output_type": "execute_result"
    }
   ],
   "source": [
    "exclude_patients_from_clinic.shape #(*, 243)"
   ]
  },
  {
   "cell_type": "code",
   "execution_count": 13,
   "metadata": {},
   "outputs": [
    {
     "data": {
      "text/html": [
       "<div>\n",
       "<style scoped>\n",
       "    .dataframe tbody tr th:only-of-type {\n",
       "        vertical-align: middle;\n",
       "    }\n",
       "\n",
       "    .dataframe tbody tr th {\n",
       "        vertical-align: top;\n",
       "    }\n",
       "\n",
       "    .dataframe thead th {\n",
       "        text-align: right;\n",
       "    }\n",
       "</style>\n",
       "<table border=\"1\" class=\"dataframe\">\n",
       "  <thead>\n",
       "    <tr style=\"text-align: right;\">\n",
       "      <th></th>\n",
       "      <th>clinicId</th>\n",
       "      <th>journalId</th>\n",
       "      <th>birthYear</th>\n",
       "      <th>Forside 0 0</th>\n",
       "      <th>Forside 0 1</th>\n",
       "      <th>Forside 0 2</th>\n",
       "      <th>Forside 0 3</th>\n",
       "      <th>Forside 0 4</th>\n",
       "      <th>Forside 0 5</th>\n",
       "      <th>Forside 0 6</th>\n",
       "      <th>...</th>\n",
       "      <th>Bakside 7 5</th>\n",
       "      <th>Bakside 7 6</th>\n",
       "      <th>Bakside 7 7</th>\n",
       "      <th>Bakside 7 8</th>\n",
       "      <th>Bakside 7 9</th>\n",
       "      <th>Bakside 7 10</th>\n",
       "      <th>Bakside 7 11</th>\n",
       "      <th>Bakside 7 12</th>\n",
       "      <th>Bakside 7 13</th>\n",
       "      <th>Bakside 7 14</th>\n",
       "    </tr>\n",
       "  </thead>\n",
       "  <tbody>\n",
       "    <tr>\n",
       "      <td>0</td>\n",
       "      <td>support42</td>\n",
       "      <td>3002</td>\n",
       "      <td>1990</td>\n",
       "      <td></td>\n",
       "      <td></td>\n",
       "      <td></td>\n",
       "      <td></td>\n",
       "      <td></td>\n",
       "      <td></td>\n",
       "      <td></td>\n",
       "      <td>...</td>\n",
       "      <td></td>\n",
       "      <td></td>\n",
       "      <td></td>\n",
       "      <td></td>\n",
       "      <td></td>\n",
       "      <td></td>\n",
       "      <td></td>\n",
       "      <td></td>\n",
       "      <td></td>\n",
       "      <td></td>\n",
       "    </tr>\n",
       "    <tr>\n",
       "      <td>1</td>\n",
       "      <td>support27</td>\n",
       "      <td>1005</td>\n",
       "      <td>1961</td>\n",
       "      <td></td>\n",
       "      <td></td>\n",
       "      <td></td>\n",
       "      <td></td>\n",
       "      <td></td>\n",
       "      <td></td>\n",
       "      <td></td>\n",
       "      <td>...</td>\n",
       "      <td></td>\n",
       "      <td></td>\n",
       "      <td></td>\n",
       "      <td></td>\n",
       "      <td></td>\n",
       "      <td></td>\n",
       "      <td></td>\n",
       "      <td></td>\n",
       "      <td></td>\n",
       "      <td></td>\n",
       "    </tr>\n",
       "    <tr>\n",
       "      <td>2</td>\n",
       "      <td>support27</td>\n",
       "      <td>1006</td>\n",
       "      <td>1957</td>\n",
       "      <td></td>\n",
       "      <td></td>\n",
       "      <td></td>\n",
       "      <td></td>\n",
       "      <td></td>\n",
       "      <td></td>\n",
       "      <td></td>\n",
       "      <td>...</td>\n",
       "      <td></td>\n",
       "      <td></td>\n",
       "      <td></td>\n",
       "      <td></td>\n",
       "      <td></td>\n",
       "      <td></td>\n",
       "      <td></td>\n",
       "      <td></td>\n",
       "      <td></td>\n",
       "      <td></td>\n",
       "    </tr>\n",
       "  </tbody>\n",
       "</table>\n",
       "<p>3 rows × 243 columns</p>\n",
       "</div>"
      ],
      "text/plain": [
       "    clinicId  journalId  birthYear Forside 0 0 Forside 0 1 Forside 0 2  \\\n",
       "0  support42       3002       1990                                       \n",
       "1  support27       1005       1961                                       \n",
       "2  support27       1006       1957                                       \n",
       "\n",
       "  Forside 0 3 Forside 0 4 Forside 0 5 Forside 0 6  ... Bakside 7 5  \\\n",
       "0                                                  ...               \n",
       "1                                                  ...               \n",
       "2                                                  ...               \n",
       "\n",
       "  Bakside 7 6 Bakside 7 7 Bakside 7 8 Bakside 7 9 Bakside 7 10 Bakside 7 11  \\\n",
       "0                                                                             \n",
       "1                                                                             \n",
       "2                                                                             \n",
       "\n",
       "  Bakside 7 12 Bakside 7 13 Bakside 7 14  \n",
       "0                                         \n",
       "1                                         \n",
       "2                                         \n",
       "\n",
       "[3 rows x 243 columns]"
      ]
     },
     "execution_count": 13,
     "metadata": {},
     "output_type": "execute_result"
    }
   ],
   "source": [
    "exclude_patients_from_clinic.head()"
   ]
  },
  {
   "cell_type": "code",
   "execution_count": null,
   "metadata": {},
   "outputs": [],
   "source": []
  },
  {
   "cell_type": "code",
   "execution_count": 14,
   "metadata": {},
   "outputs": [
    {
     "name": "stdout",
     "output_type": "stream",
     "text": [
      "support42_3002_1990\n",
      "support27_1005_1961\n",
      "support27_1006_1957\n"
     ]
    }
   ],
   "source": [
    "es = []\n",
    "\n",
    "for index, df in exclude_patients_from_clinic.iterrows():\n",
    "    #print(index)\n",
    "\n",
    "    \n",
    "    df_1_row = df.replace(' ',np.nan).dropna(axis=0,how=\"all\")\n",
    "    \n",
    "    patient_id = df_1_row[0].replace(' ','_').lower() + '_'+str(df_1_row[1]) +'_'+str(df_1_row[2])\n",
    "            \n",
    "\n",
    "    print(patient_id)\n",
    "\n",
    "    patient = {}\n",
    "    patient_details = {}\n",
    "    body_map = {}\n",
    "\n",
    "    patient.update({'patientId': patient_id}) \n",
    "\n",
    "    front = []\n",
    "    back = []\n",
    "\n",
    "    for val in df_1_row.index[3:].tolist():\n",
    "        tokens = str(val).split(' ')\n",
    "\n",
    "        if tokens[0] == 'Forside':     \n",
    "            front.append({ 'x':int(tokens[1]), 'y':int(tokens[2])})\n",
    "\n",
    "        if tokens[0] == 'Bakside':\n",
    "            back.append({ 'x':int(tokens[1]), 'y':int(tokens[2])})\n",
    "\n",
    "    body_map.update({'front':front})\n",
    "    body_map.update({'back':back})\n",
    "\n",
    "    patient_details.update({'body_map':body_map})\n",
    "    patient.update({'patientDetails':patient_details})\n",
    "\n",
    "    es.append(patient)\n",
    "    \n",
    "es;"
   ]
  },
  {
   "cell_type": "code",
   "execution_count": 15,
   "metadata": {},
   "outputs": [
    {
     "data": {
      "text/plain": [
       "'[{\"patientId\": \"support42_3002_1990\", \"patientDetails\": {\"body_map\": {\"front\": [{\"x\": 2, \"y\": 5}, {\"x\": 3, \"y\": 2}, {\"x\": 4, \"y\": 2}, {\"x\": 5, \"y\": 5}], \"back\": [{\"x\": 3, \"y\": 1}, {\"x\": 3, \"y\": 2}, {\"x\": 3, \"y\": 3}, {\"x\": 3, \"y\": 6}, {\"x\": 4, \"y\": 1}, {\"x\": 4, \"y\": 2}, {\"x\": 4, \"y\": 3}, {\"x\": 4, \"y\": 6}]}}}, {\"patientId\": \"support27_1005_1961\", \"patientDetails\": {\"body_map\": {\"front\": [{\"x\": 1, \"y\": 7}, {\"x\": 3, \"y\": 10}, {\"x\": 3, \"y\": 13}, {\"x\": 4, \"y\": 10}, {\"x\": 4, \"y\": 13}, {\"x\": 6, \"y\": 7}], \"back\": [{\"x\": 1, \"y\": 7}, {\"x\": 3, \"y\": 10}, {\"x\": 3, \"y\": 13}, {\"x\": 4, \"y\": 7}, {\"x\": 4, \"y\": 10}, {\"x\": 4, \"y\": 13}, {\"x\": 6, \"y\": 7}]}}}, {\"patientId\": \"support27_1006_1957\", \"patientDetails\": {\"body_map\": {\"front\": [{\"x\": 6, \"y\": 9}, {\"x\": 7, \"y\": 9}], \"back\": [{\"x\": 0, \"y\": 9}, {\"x\": 1, \"y\": 9}, {\"x\": 1, \"y\": 12}]}}}]'"
      ]
     },
     "execution_count": 15,
     "metadata": {},
     "output_type": "execute_result"
    }
   ],
   "source": [
    "json.dumps(es)"
   ]
  },
  {
   "cell_type": "code",
   "execution_count": 16,
   "metadata": {},
   "outputs": [],
   "source": [
    "with open(f'{data_dir}body_map.json', 'w', encoding='utf-8') as f:\n",
    "    json.dump(es, f, ensure_ascii=False, indent=0)"
   ]
  },
  {
   "cell_type": "markdown",
   "metadata": {},
   "source": [
    "# \n",
    "# \n",
    "# "
   ]
  },
  {
   "cell_type": "markdown",
   "metadata": {},
   "source": [
    "# Elasticsearch Operations"
   ]
  },
  {
   "cell_type": "markdown",
   "metadata": {},
   "source": [
    "## Code for getting a patient by patientId from the ES"
   ]
  },
  {
   "cell_type": "raw",
   "metadata": {},
   "source": [
    "curl -XGET \"http://localhost:9200/manual_patients/_search\" -H 'Content-Type: application/json' -d'{\"query\": {\"match\": {\"patientId\": \"Adam_Saso_38888_1998\"}}}'"
   ]
  },
  {
   "cell_type": "markdown",
   "metadata": {},
   "source": [
    "# \n",
    "## Set the elasticsearch (es) index name\n",
    "## "
   ]
  },
  {
   "cell_type": "code",
   "execution_count": 17,
   "metadata": {},
   "outputs": [],
   "source": [
    "es_index = 'manual_patients'"
   ]
  },
  {
   "cell_type": "markdown",
   "metadata": {},
   "source": [
    "# "
   ]
  },
  {
   "cell_type": "code",
   "execution_count": 18,
   "metadata": {},
   "outputs": [],
   "source": [
    "def get_all_docs(es_index=es_index):\n",
    "    response = requests.post(es_base_url+'/'+es_index+'/_search?pretty', headers=headers, data='{}')\n",
    "    return response.json()"
   ]
  },
  {
   "cell_type": "code",
   "execution_count": 19,
   "metadata": {},
   "outputs": [],
   "source": [
    "def get_doc_by_pid(pid, es_index=es_index,):\n",
    "    data = '{  \"query\": {    \"match\": {      \"patientId\": \"'+pid+'\"    }  }}'\n",
    "    response = requests.post(es_base_url+'/'+es_index+'/_search?pretty', headers=headers, data=data)\n",
    "    return response.json()"
   ]
  },
  {
   "cell_type": "code",
   "execution_count": 20,
   "metadata": {},
   "outputs": [],
   "source": [
    "def get_id_for_pid( pid, es_index=es_index):\n",
    "    params = (('filter_path', 'hits.hits._source'))\n",
    "    data = '{  \"query\": {    \"match\": {      \"patientId\": \"'+pid+'\"    }  }}'\n",
    "    response = requests.get(f'{es_base_url}/{es_index}/_search?filter_path=hits.hits._id', headers=headers, data=data)\n",
    "    response_json = response.json()\n",
    "    return response_json.get('hits', {}).get('hits', [{}])[0].get('_id')"
   ]
  },
  {
   "cell_type": "code",
   "execution_count": 21,
   "metadata": {},
   "outputs": [],
   "source": [
    "get_id_for_pid('vidar_guttormsen_30160_1992')"
   ]
  },
  {
   "cell_type": "markdown",
   "metadata": {},
   "source": [
    "# "
   ]
  },
  {
   "cell_type": "markdown",
   "metadata": {},
   "source": [
    "# "
   ]
  },
  {
   "cell_type": "markdown",
   "metadata": {},
   "source": [
    "## Code for getting only the list of patient ids from the ES"
   ]
  },
  {
   "cell_type": "code",
   "execution_count": 22,
   "metadata": {},
   "outputs": [],
   "source": [
    "def update_es_doc_for_id( _id, json_doc, es_index=es_index):\n",
    "    upsert_doc = json.dumps({'doc': json_doc, 'doc_as_upsert': True})\n",
    "    response = requests.post(f'{es_base_url}/{es_index}/_update/{_id}?pretty', headers=headers, data=upsert_doc)\n",
    "    return response.json()"
   ]
  },
  {
   "cell_type": "code",
   "execution_count": 23,
   "metadata": {},
   "outputs": [],
   "source": [
    "def upadate_es_index(body_maps_list=es, es_index=es_index):\n",
    "    for body_map in body_maps_list:\n",
    "        pid = body_map.get('patientId')\n",
    "        print(pid)\n",
    "        _id = get_id_for_pid( pid, es_index)\n",
    "        print(_id)\n",
    "        \n",
    "        if _id is None:\n",
    "            print('_id was None')\n",
    "        else :\n",
    "            print('Upserting the pid:',pid, ' and _id: ', _id)\n",
    "            update_es_doc_for_id(_id, body_map, es_index)"
   ]
  },
  {
   "cell_type": "code",
   "execution_count": 24,
   "metadata": {},
   "outputs": [
    {
     "name": "stdout",
     "output_type": "stream",
     "text": [
      "support42_3002_1990\n",
      "QBcdZHUBPCTLibsEh2Di\n",
      "Upserting the pid: support42_3002_1990  and _id:  QBcdZHUBPCTLibsEh2Di\n",
      "support27_1005_1961\n",
      "PhcdZHUBPCTLibsEh2B8\n",
      "Upserting the pid: support27_1005_1961  and _id:  PhcdZHUBPCTLibsEh2B8\n",
      "support27_1006_1957\n",
      "PxcdZHUBPCTLibsEh2Db\n",
      "Upserting the pid: support27_1006_1957  and _id:  PxcdZHUBPCTLibsEh2Db\n"
     ]
    }
   ],
   "source": [
    "upadate_es_index( es, 'manual_patients')"
   ]
  },
  {
   "cell_type": "code",
   "execution_count": null,
   "metadata": {},
   "outputs": [],
   "source": []
  },
  {
   "cell_type": "code",
   "execution_count": null,
   "metadata": {},
   "outputs": [],
   "source": []
  },
  {
   "cell_type": "code",
   "execution_count": null,
   "metadata": {},
   "outputs": [],
   "source": []
  }
 ],
 "metadata": {
  "kernelspec": {
   "display_name": "Python 3",
   "language": "python",
   "name": "python3"
  },
  "language_info": {
   "codemirror_mode": {
    "name": "ipython",
    "version": 3
   },
   "file_extension": ".py",
   "mimetype": "text/x-python",
   "name": "python",
   "nbconvert_exporter": "python",
   "pygments_lexer": "ipython3",
   "version": "3.7.4"
  }
 },
 "nbformat": 4,
 "nbformat_minor": 4
}

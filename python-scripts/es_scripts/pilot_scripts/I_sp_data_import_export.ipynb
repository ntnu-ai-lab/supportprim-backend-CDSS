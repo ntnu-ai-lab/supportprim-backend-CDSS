{
 "cells": [
  {
   "cell_type": "markdown",
   "metadata": {},
   "source": [
    "#  Extract dataset and attribute definitions\n",
    "##  from supportPrim - STATA files"
   ]
  },
  {
   "cell_type": "code",
   "execution_count": 65,
   "metadata": {},
   "outputs": [],
   "source": [
    "# auto sugestion with tab\n",
    "%config IPCompleter.greedy=True\n",
    "%config InlineBackend.figure_format = 'retina'\n",
    "%matplotlib inline "
   ]
  },
  {
   "cell_type": "code",
   "execution_count": 66,
   "metadata": {},
   "outputs": [
    {
     "data": {
      "text/plain": [
       "'/lhome/amardj/ISM/python_code/es_scripts/pilot_scripts'"
      ]
     },
     "execution_count": 66,
     "metadata": {},
     "output_type": "execute_result"
    }
   ],
   "source": [
    "import pandas as pd\n",
    "import numpy as np\n",
    "import os\n",
    "os.getcwd()"
   ]
  },
  {
   "cell_type": "markdown",
   "metadata": {},
   "source": [
    "### Define the date format to be appended with file names"
   ]
  },
  {
   "cell_type": "markdown",
   "metadata": {},
   "source": [
    "#### System defined current date"
   ]
  },
  {
   "cell_type": "code",
   "execution_count": 67,
   "metadata": {},
   "outputs": [
    {
     "data": {
      "text/plain": [
       "'20201026'"
      ]
     },
     "execution_count": 67,
     "metadata": {},
     "output_type": "execute_result"
    }
   ],
   "source": [
    "import datetime as datetime\n",
    "sys_date = datetime.datetime.today().strftime( '%Y%m%d')\n",
    "sys_date = f'{sys_date}' \n",
    "sys_date"
   ]
  },
  {
   "cell_type": "code",
   "execution_count": 68,
   "metadata": {},
   "outputs": [],
   "source": [
    "#sys_date = '20201019'"
   ]
  },
  {
   "cell_type": "markdown",
   "metadata": {},
   "source": [
    "### Location of raw data & generated data"
   ]
  },
  {
   "cell_type": "code",
   "execution_count": 69,
   "metadata": {},
   "outputs": [
    {
     "data": {
      "text/plain": [
       "'./data/20201026/'"
      ]
     },
     "execution_count": 69,
     "metadata": {},
     "output_type": "execute_result"
    }
   ],
   "source": [
    "data_dir = f'./data/{sys_date}/'\n",
    "data_dir"
   ]
  },
  {
   "cell_type": "code",
   "execution_count": 70,
   "metadata": {},
   "outputs": [],
   "source": [
    "index_name = 'id'"
   ]
  },
  {
   "cell_type": "markdown",
   "metadata": {},
   "source": [
    "## Import stata files 'xxx.dta' for creating python pandas DataFrames"
   ]
  },
  {
   "cell_type": "code",
   "execution_count": 71,
   "metadata": {},
   "outputs": [
    {
     "data": {
      "text/plain": [
       "(3, 350)"
      ]
     },
     "execution_count": 71,
     "metadata": {},
     "output_type": "execute_result"
    }
   ],
   "source": [
    "df_labeled = pd.read_stata(f'{data_dir}new_baseline_patient.dta') #, index_col=index_name)\n",
    "df_labeled.shape # (*, 353)"
   ]
  },
  {
   "cell_type": "code",
   "execution_count": 72,
   "metadata": {},
   "outputs": [
    {
     "data": {
      "text/plain": [
       "0    NaN\n",
       "1    NaN\n",
       "2    NaN\n",
       "Name: body_main_1, dtype: category\n",
       "Categories (0, object): []"
      ]
     },
     "execution_count": 72,
     "metadata": {},
     "output_type": "execute_result"
    }
   ],
   "source": [
    "df_labeled.body_main_1"
   ]
  },
  {
   "cell_type": "code",
   "execution_count": 73,
   "metadata": {},
   "outputs": [
    {
     "data": {
      "text/plain": [
       "[working or other]\n",
       "Categories (1, object): [working or other]"
      ]
     },
     "execution_count": 73,
     "metadata": {},
     "output_type": "execute_result"
    }
   ],
   "source": [
    "assert df_labeled.employ_1.dtype.name == 'category' \n",
    "assert df_labeled.employ_1.dtype.name != 'object' \n",
    "\n",
    "df_labeled.employ_1.unique()"
   ]
  },
  {
   "cell_type": "markdown",
   "metadata": {},
   "source": [
    "## Remove '_merege' cloumn form both the dataframes if any"
   ]
  },
  {
   "cell_type": "code",
   "execution_count": 74,
   "metadata": {},
   "outputs": [
    {
     "name": "stdout",
     "output_type": "stream",
     "text": [
      " The DataFrame does not contain any column named as : \" _merge \"\n"
     ]
    }
   ],
   "source": [
    "drop_col_name = '_merge'\n",
    "if drop_col_name in df_labeled.columns:\n",
    "    df_labeled.drop( columns=[drop_col_name], axis=1, inplace=True)\n",
    "    print(' The DataFrame contains column named as : ',drop_col_name, ' - Action : Removed')\n",
    "else :\n",
    "    print(' The DataFrame does not contain any column named as : \"',drop_col_name,'\"')"
   ]
  },
  {
   "cell_type": "markdown",
   "metadata": {},
   "source": [
    "## Sort the dataframe column names - alfabetical order"
   ]
  },
  {
   "cell_type": "code",
   "execution_count": 75,
   "metadata": {},
   "outputs": [
    {
     "name": "stdout",
     "output_type": "stream",
     "text": [
      " Shape of old Dataframe :  (3, 350)\n"
     ]
    }
   ],
   "source": [
    "df_labeled = df_labeled.reindex( sorted(df_labeled.columns), axis=1)\n",
    "print(' Shape of old Dataframe : ', df_labeled.shape)  # (506, 292)\n",
    "features_labels = df_labeled.columns\n",
    "\n",
    "# Shape of old Dataframe :  (175, 353)"
   ]
  },
  {
   "cell_type": "code",
   "execution_count": 76,
   "metadata": {},
   "outputs": [
    {
     "data": {
      "text/html": [
       "<div>\n",
       "<style scoped>\n",
       "    .dataframe tbody tr th:only-of-type {\n",
       "        vertical-align: middle;\n",
       "    }\n",
       "\n",
       "    .dataframe tbody tr th {\n",
       "        vertical-align: top;\n",
       "    }\n",
       "\n",
       "    .dataframe thead th {\n",
       "        text-align: right;\n",
       "    }\n",
       "</style>\n",
       "<table border=\"1\" class=\"dataframe\">\n",
       "  <thead>\n",
       "    <tr style=\"text-align: right;\">\n",
       "      <th></th>\n",
       "      <th>activity_1</th>\n",
       "      <th>age_1</th>\n",
       "      <th>back_nevro_pow_1</th>\n",
       "      <th>back_nevro_reflex_1</th>\n",
       "      <th>back_nevro_sens_1</th>\n",
       "      <th>back_slr_1</th>\n",
       "      <th>birth_year</th>\n",
       "      <th>bmi_1</th>\n",
       "      <th>body_main_1</th>\n",
       "      <th>childhood_1</th>\n",
       "      <th>...</th>\n",
       "      <th>treat_setting_self_some_3</th>\n",
       "      <th>treatmentfactor_patient_3</th>\n",
       "      <th>walk_aid_1</th>\n",
       "      <th>weight_1</th>\n",
       "      <th>work_ability_1</th>\n",
       "      <th>work_ability_3</th>\n",
       "      <th>work_ability_w2</th>\n",
       "      <th>work_ability_w4</th>\n",
       "      <th>work_ability_w8</th>\n",
       "      <th>work_type_1</th>\n",
       "    </tr>\n",
       "  </thead>\n",
       "  <tbody>\n",
       "    <tr>\n",
       "      <td>0</td>\n",
       "      <td>quite reduced</td>\n",
       "      <td>59.0</td>\n",
       "      <td>NaN</td>\n",
       "      <td>NaN</td>\n",
       "      <td>NaN</td>\n",
       "      <td>NaN</td>\n",
       "      <td>1961</td>\n",
       "      <td>24.977043</td>\n",
       "      <td>NaN</td>\n",
       "      <td>very good</td>\n",
       "      <td>...</td>\n",
       "      <td>NaN</td>\n",
       "      <td></td>\n",
       "      <td>no walkaid</td>\n",
       "      <td>68.0</td>\n",
       "      <td>7</td>\n",
       "      <td>NaN</td>\n",
       "      <td>NaN</td>\n",
       "      <td>NaN</td>\n",
       "      <td>NaN</td>\n",
       "      <td>work demands much walking and lifting</td>\n",
       "    </tr>\n",
       "    <tr>\n",
       "      <td>1</td>\n",
       "      <td>slightly reduced</td>\n",
       "      <td>63.0</td>\n",
       "      <td>NaN</td>\n",
       "      <td>NaN</td>\n",
       "      <td>NaN</td>\n",
       "      <td>NaN</td>\n",
       "      <td>1957</td>\n",
       "      <td>NaN</td>\n",
       "      <td>NaN</td>\n",
       "      <td>good</td>\n",
       "      <td>...</td>\n",
       "      <td>NaN</td>\n",
       "      <td></td>\n",
       "      <td>no walkaid</td>\n",
       "      <td>NaN</td>\n",
       "      <td>6</td>\n",
       "      <td>NaN</td>\n",
       "      <td>NaN</td>\n",
       "      <td>NaN</td>\n",
       "      <td>NaN</td>\n",
       "      <td>mostly seated</td>\n",
       "    </tr>\n",
       "    <tr>\n",
       "      <td>2</td>\n",
       "      <td>quite reduced</td>\n",
       "      <td>30.0</td>\n",
       "      <td>NaN</td>\n",
       "      <td>NaN</td>\n",
       "      <td>NaN</td>\n",
       "      <td>NaN</td>\n",
       "      <td>1990</td>\n",
       "      <td>19.151192</td>\n",
       "      <td>NaN</td>\n",
       "      <td>good</td>\n",
       "      <td>...</td>\n",
       "      <td>NaN</td>\n",
       "      <td></td>\n",
       "      <td>no walkaid</td>\n",
       "      <td>56.0</td>\n",
       "      <td>5</td>\n",
       "      <td>NaN</td>\n",
       "      <td>NaN</td>\n",
       "      <td>NaN</td>\n",
       "      <td>NaN</td>\n",
       "      <td>mostly seated</td>\n",
       "    </tr>\n",
       "  </tbody>\n",
       "</table>\n",
       "<p>3 rows × 350 columns</p>\n",
       "</div>"
      ],
      "text/plain": [
       "         activity_1  age_1 back_nevro_pow_1 back_nevro_reflex_1  \\\n",
       "0     quite reduced   59.0              NaN                 NaN   \n",
       "1  slightly reduced   63.0              NaN                 NaN   \n",
       "2     quite reduced   30.0              NaN                 NaN   \n",
       "\n",
       "  back_nevro_sens_1 back_slr_1  birth_year      bmi_1 body_main_1 childhood_1  \\\n",
       "0               NaN        NaN        1961  24.977043         NaN   very good   \n",
       "1               NaN        NaN        1957        NaN         NaN        good   \n",
       "2               NaN        NaN        1990  19.151192         NaN        good   \n",
       "\n",
       "   ...  treat_setting_self_some_3  treatmentfactor_patient_3   walk_aid_1  \\\n",
       "0  ...                        NaN                              no walkaid   \n",
       "1  ...                        NaN                              no walkaid   \n",
       "2  ...                        NaN                              no walkaid   \n",
       "\n",
       "   weight_1  work_ability_1  work_ability_3  work_ability_w2  work_ability_w4  \\\n",
       "0      68.0               7             NaN              NaN              NaN   \n",
       "1       NaN               6             NaN              NaN              NaN   \n",
       "2      56.0               5             NaN              NaN              NaN   \n",
       "\n",
       "   work_ability_w8                            work_type_1  \n",
       "0              NaN  work demands much walking and lifting  \n",
       "1              NaN                          mostly seated  \n",
       "2              NaN                          mostly seated  \n",
       "\n",
       "[3 rows x 350 columns]"
      ]
     },
     "execution_count": 76,
     "metadata": {},
     "output_type": "execute_result"
    }
   ],
   "source": [
    "df_labeled.head()"
   ]
  },
  {
   "cell_type": "code",
   "execution_count": 77,
   "metadata": {},
   "outputs": [],
   "source": [
    "def replace_all_with( old, new, tempdf=df_labeled):\n",
    "    temp = tempdf.replace({old: new}, regex=True)\n",
    "    return temp"
   ]
  },
  {
   "cell_type": "code",
   "execution_count": 78,
   "metadata": {},
   "outputs": [
    {
     "data": {
      "text/plain": [
       "0    support27\n",
       "1    support27\n",
       "2    support42\n",
       "Name: physio_id, dtype: object"
      ]
     },
     "execution_count": 78,
     "metadata": {},
     "output_type": "execute_result"
    }
   ],
   "source": [
    "df_labeled.physio_id.head()"
   ]
  },
  {
   "cell_type": "code",
   "execution_count": 79,
   "metadata": {},
   "outputs": [
    {
     "data": {
      "text/plain": [
       "['', '', '']"
      ]
     },
     "execution_count": 79,
     "metadata": {},
     "output_type": "execute_result"
    }
   ],
   "source": [
    "df_labeled.treat_desc1_3.tolist()"
   ]
  },
  {
   "cell_type": "code",
   "execution_count": null,
   "metadata": {},
   "outputs": [],
   "source": []
  },
  {
   "cell_type": "code",
   "execution_count": 80,
   "metadata": {},
   "outputs": [],
   "source": [
    "df_labeled['physio_id'] = df_labeled['physio_id'].replace(' ', '_', regex=True).str.lower()\n",
    "df_labeled['clinic_id'] = df_labeled['physio_id']"
   ]
  },
  {
   "cell_type": "code",
   "execution_count": 81,
   "metadata": {},
   "outputs": [
    {
     "data": {
      "text/plain": [
       "0    support27\n",
       "1    support27\n",
       "2    support42\n",
       "Name: physio_id, dtype: object"
      ]
     },
     "execution_count": 81,
     "metadata": {},
     "output_type": "execute_result"
    }
   ],
   "source": [
    "df_labeled.physio_id"
   ]
  },
  {
   "cell_type": "code",
   "execution_count": 82,
   "metadata": {},
   "outputs": [
    {
     "data": {
      "text/plain": [
       "['support27_1005_1961', 'support27_1006_1957', 'support42_3002_1990']"
      ]
     },
     "execution_count": 82,
     "metadata": {},
     "output_type": "execute_result"
    }
   ],
   "source": [
    "cols = ['physio_id', 'journal_id', 'birth_year']\n",
    "df_labeled['patient_id'] = df_labeled[cols].apply(lambda row: '_'.join(row.values.astype(str)), axis=1)\n",
    "df_labeled['patient_id'].tolist()"
   ]
  },
  {
   "cell_type": "code",
   "execution_count": 83,
   "metadata": {},
   "outputs": [
    {
     "data": {
      "text/html": [
       "<div>\n",
       "<style scoped>\n",
       "    .dataframe tbody tr th:only-of-type {\n",
       "        vertical-align: middle;\n",
       "    }\n",
       "\n",
       "    .dataframe tbody tr th {\n",
       "        vertical-align: top;\n",
       "    }\n",
       "\n",
       "    .dataframe thead th {\n",
       "        text-align: right;\n",
       "    }\n",
       "</style>\n",
       "<table border=\"1\" class=\"dataframe\">\n",
       "  <thead>\n",
       "    <tr style=\"text-align: right;\">\n",
       "      <th></th>\n",
       "      <th>activity_1</th>\n",
       "      <th>age_1</th>\n",
       "      <th>back_nevro_pow_1</th>\n",
       "      <th>back_nevro_reflex_1</th>\n",
       "      <th>back_nevro_sens_1</th>\n",
       "      <th>back_slr_1</th>\n",
       "      <th>birth_year</th>\n",
       "      <th>bmi_1</th>\n",
       "      <th>body_main_1</th>\n",
       "      <th>childhood_1</th>\n",
       "      <th>...</th>\n",
       "      <th>walk_aid_1</th>\n",
       "      <th>weight_1</th>\n",
       "      <th>work_ability_1</th>\n",
       "      <th>work_ability_3</th>\n",
       "      <th>work_ability_w2</th>\n",
       "      <th>work_ability_w4</th>\n",
       "      <th>work_ability_w8</th>\n",
       "      <th>work_type_1</th>\n",
       "      <th>clinic_id</th>\n",
       "      <th>patient_id</th>\n",
       "    </tr>\n",
       "    <tr>\n",
       "      <th>id</th>\n",
       "      <th></th>\n",
       "      <th></th>\n",
       "      <th></th>\n",
       "      <th></th>\n",
       "      <th></th>\n",
       "      <th></th>\n",
       "      <th></th>\n",
       "      <th></th>\n",
       "      <th></th>\n",
       "      <th></th>\n",
       "      <th></th>\n",
       "      <th></th>\n",
       "      <th></th>\n",
       "      <th></th>\n",
       "      <th></th>\n",
       "      <th></th>\n",
       "      <th></th>\n",
       "      <th></th>\n",
       "      <th></th>\n",
       "      <th></th>\n",
       "      <th></th>\n",
       "    </tr>\n",
       "  </thead>\n",
       "  <tbody>\n",
       "    <tr>\n",
       "      <td>0</td>\n",
       "      <td>quite reduced</td>\n",
       "      <td>59.0</td>\n",
       "      <td>NaN</td>\n",
       "      <td>NaN</td>\n",
       "      <td>NaN</td>\n",
       "      <td>NaN</td>\n",
       "      <td>1961</td>\n",
       "      <td>24.977043</td>\n",
       "      <td>NaN</td>\n",
       "      <td>very good</td>\n",
       "      <td>...</td>\n",
       "      <td>no walkaid</td>\n",
       "      <td>68.0</td>\n",
       "      <td>7</td>\n",
       "      <td>NaN</td>\n",
       "      <td>NaN</td>\n",
       "      <td>NaN</td>\n",
       "      <td>NaN</td>\n",
       "      <td>work demands much walking and lifting</td>\n",
       "      <td>support27</td>\n",
       "      <td>support27_1005_1961</td>\n",
       "    </tr>\n",
       "    <tr>\n",
       "      <td>1</td>\n",
       "      <td>slightly reduced</td>\n",
       "      <td>63.0</td>\n",
       "      <td>NaN</td>\n",
       "      <td>NaN</td>\n",
       "      <td>NaN</td>\n",
       "      <td>NaN</td>\n",
       "      <td>1957</td>\n",
       "      <td>NaN</td>\n",
       "      <td>NaN</td>\n",
       "      <td>good</td>\n",
       "      <td>...</td>\n",
       "      <td>no walkaid</td>\n",
       "      <td>NaN</td>\n",
       "      <td>6</td>\n",
       "      <td>NaN</td>\n",
       "      <td>NaN</td>\n",
       "      <td>NaN</td>\n",
       "      <td>NaN</td>\n",
       "      <td>mostly seated</td>\n",
       "      <td>support27</td>\n",
       "      <td>support27_1006_1957</td>\n",
       "    </tr>\n",
       "    <tr>\n",
       "      <td>2</td>\n",
       "      <td>quite reduced</td>\n",
       "      <td>30.0</td>\n",
       "      <td>NaN</td>\n",
       "      <td>NaN</td>\n",
       "      <td>NaN</td>\n",
       "      <td>NaN</td>\n",
       "      <td>1990</td>\n",
       "      <td>19.151192</td>\n",
       "      <td>NaN</td>\n",
       "      <td>good</td>\n",
       "      <td>...</td>\n",
       "      <td>no walkaid</td>\n",
       "      <td>56.0</td>\n",
       "      <td>5</td>\n",
       "      <td>NaN</td>\n",
       "      <td>NaN</td>\n",
       "      <td>NaN</td>\n",
       "      <td>NaN</td>\n",
       "      <td>mostly seated</td>\n",
       "      <td>support42</td>\n",
       "      <td>support42_3002_1990</td>\n",
       "    </tr>\n",
       "  </tbody>\n",
       "</table>\n",
       "<p>3 rows × 352 columns</p>\n",
       "</div>"
      ],
      "text/plain": [
       "          activity_1  age_1 back_nevro_pow_1 back_nevro_reflex_1  \\\n",
       "id                                                                 \n",
       "0      quite reduced   59.0              NaN                 NaN   \n",
       "1   slightly reduced   63.0              NaN                 NaN   \n",
       "2      quite reduced   30.0              NaN                 NaN   \n",
       "\n",
       "   back_nevro_sens_1 back_slr_1  birth_year      bmi_1 body_main_1  \\\n",
       "id                                                                   \n",
       "0                NaN        NaN        1961  24.977043         NaN   \n",
       "1                NaN        NaN        1957        NaN         NaN   \n",
       "2                NaN        NaN        1990  19.151192         NaN   \n",
       "\n",
       "   childhood_1  ...   walk_aid_1  weight_1 work_ability_1  work_ability_3  \\\n",
       "id              ...                                                         \n",
       "0    very good  ...   no walkaid      68.0              7             NaN   \n",
       "1         good  ...   no walkaid       NaN              6             NaN   \n",
       "2         good  ...   no walkaid      56.0              5             NaN   \n",
       "\n",
       "    work_ability_w2  work_ability_w4  work_ability_w8  \\\n",
       "id                                                      \n",
       "0               NaN              NaN              NaN   \n",
       "1               NaN              NaN              NaN   \n",
       "2               NaN              NaN              NaN   \n",
       "\n",
       "                              work_type_1  clinic_id           patient_id  \n",
       "id                                                                         \n",
       "0   work demands much walking and lifting  support27  support27_1005_1961  \n",
       "1                           mostly seated  support27  support27_1006_1957  \n",
       "2                           mostly seated  support42  support42_3002_1990  \n",
       "\n",
       "[3 rows x 352 columns]"
      ]
     },
     "execution_count": 83,
     "metadata": {},
     "output_type": "execute_result"
    }
   ],
   "source": [
    "df_labeled.index.name = 'id'\n",
    "df_labeled.head()"
   ]
  },
  {
   "cell_type": "markdown",
   "metadata": {},
   "source": [
    "# Write the complete updated dataset to an excel sheet\n",
    "## for: labeled and numeric dataset"
   ]
  },
  {
   "cell_type": "code",
   "execution_count": 84,
   "metadata": {},
   "outputs": [],
   "source": [
    "df_labeled.to_csv( f'{data_dir}1_sp_dataset_labeled.csv', index=True)"
   ]
  },
  {
   "cell_type": "code",
   "execution_count": 85,
   "metadata": {},
   "outputs": [
    {
     "name": "stdout",
     "output_type": "stream",
     "text": [
      "['activity_1', 'age_1', 'back_nevro_pow_1', 'back_nevro_reflex_1', 'back_nevro_sens_1', 'back_slr_1', 'birth_year', 'bmi_1', 'body_main_1', 'childhood_1', 'como_asthma_1', 'como_cancer_1', 'como_count_1', 'como_dementhia_1', 'como_diabetes_1', 'como_fatigue_1', 'como_headache_1', 'como_heart_1', 'como_neuro_1', 'como_osteoporosis_1', 'como_other_1', 'como_other_spec_1', 'como_psych_1', 'como_ra_1', 'como_stomach_pain_1', 'compliance_3', 'consultation_3', 'date_baseline_patient', 'diagnose_1', 'discussed_employer_3', 'discussed_family_3', 'discussed_nav_3', 'discussed_occupational_3', 'education_1', 'education_othersp_1', 'employ_1', 'employ_assess_1', 'employ_assess_3', 'employ_disability_1', 'employ_disability_3', 'employ_disabilityp_1', 'employ_disabilityp_3', 'employ_paid_1', 'employ_paid_3', 'employ_paidp_1', 'employ_paidp_3', 'employ_parentleave_1', 'employ_parentleave_3', 'employ_retired_1', 'employ_retired_3', 'employ_sick_1', 'employ_sick_3', 'employ_sickp_1', 'employ_sickp_3', 'employ_stud_1', 'employ_stud_3', 'employ_unempl_1', 'employ_unpaid_1', 'employ_unpaid_3', 'eq5d_adl_1', 'eq5d_adl_3', 'eq5d_care_1', 'eq5d_care_3', 'eq5d_depr_1', 'eq5d_depr_3', 'eq5d_pain_1', 'eq5d_pain_3', 'eq5d_walk_1', 'eq5d_walk_3', 'ethnicity_1', 'eval_goal_3', 'family_1', 'family_child_1', 'fear_1', 'gender_1', 'gpe_3', 'gpe_w2', 'gpe_w4', 'gpe_w8', 'health_lit_info_1', 'health_lit_sit_1', 'height_1', 'hscl_q10_1', 'hscl_q10_3', 'hscl_q1_1', 'hscl_q2_1', 'hscl_q2_3', 'hscl_q3_1', 'hscl_q3_3', 'hscl_q4_1', 'hscl_q4_3', 'hscl_q5_1', 'hscl_q5_3', 'hscl_q6_1', 'hscl_q6_3', 'hscl_q7_1', 'hscl_q7_3', 'hscl_q8_1', 'hscl_q8_3', 'hscl_q9_1', 'hscl_q9_3', 'hscl_score_1', 'hscl_score_3', 'icpc_letter_1', 'icpc_nr_1', 'journal_id', 'knee_hydrops_1', 'knee_trumatic_1', 'marital_1', 'medic_1', 'medic_3', 'medic_albyle_1', 'medic_albyle_3', 'medic_ibux_1', 'medic_ibux_3', 'medic_number_1', 'medic_number_3', 'medic_other_1', 'medic_other_3', 'medic_other_spec_1', 'medic_other_spec_3', 'medic_paracet_1', 'medic_paracet_3', 'mskhq_pa_1', 'mskhq_pa_3', 'mskhq_q10_1', 'mskhq_q10_3', 'mskhq_q11_1', 'mskhq_q11_3', 'mskhq_q12_1', 'mskhq_q12_3', 'mskhq_q13_1', 'mskhq_q13_3', 'mskhq_q14_1', 'mskhq_q14_3', 'mskhq_q1_1', 'mskhq_q1_3', 'mskhq_q2_1', 'mskhq_q2_3', 'mskhq_q3_1', 'mskhq_q3_3', 'mskhq_q4_1', 'mskhq_q4_3', 'mskhq_q5_1', 'mskhq_q5_3', 'mskhq_q6_1', 'mskhq_q6_3', 'mskhq_q7_1', 'mskhq_q7_3', 'mskhq_q8_1', 'mskhq_q8_3', 'mskhq_q9_1', 'mskhq_q9_3', 'mskhq_score_1', 'mskhq_score_3', 'mskt_q10_1', 'mskt_q1_1', 'mskt_q2_1', 'mskt_q3_1', 'mskt_q4_1', 'mskt_q5_1', 'mskt_q6_1', 'mskt_q7_1', 'mskt_q8_1', 'mskt_q9_1', 'mskt_risk_1', 'mskt_score_1', 'neck_conclusion_1', 'neck_nevro_pow_1', 'neck_nevro_reflex_1', 'neck_nevro_sens_1', 'neck_spurling_1', 'oreb_q10_1', 'oreb_q1_1', 'oreb_q2_1', 'oreb_q2_3', 'oreb_q2_w2', 'oreb_q2_w8', 'oreb_q3_1', 'oreb_q4_1', 'oreb_q5_1', 'oreb_q6_1', 'oreb_q7_1', 'oreb_q8_1', 'oreb_q9_1', 'oreb_score_1', 'out01', 'pain_continuous_1', 'pain_continuous_3', 'pain_duration_1', 'pain_freq_1', 'pain_freq_3', 'pain_lweek_1', 'pain_variation_1', 'pain_variation_3', 'pain_vary_1', 'pain_vary_3', 'painsite_elbow_1', 'painsite_elbow_3', 'painsite_feet_1', 'painsite_feet_3', 'painsite_hand_1', 'painsite_hand_3', 'painsite_head_1', 'painsite_head_3', 'painsite_knee_1', 'painsite_knee_3', 'painsite_lback_1', 'painsite_lback_3', 'painsite_neck_1', 'painsite_neck_3', 'painsite_number_1', 'painsite_number_3', 'painsite_shou_1', 'painsite_shou_3', 'painsite_thigh_1', 'painsite_thigh_3', 'painsite_uback_1', 'painsite_uback_3', 'patient_therapist_q1_3', 'patient_therapist_q2_3', 'patient_therapist_q3_3', 'physio_id', 'physio_spec_3', 'pseq_q1_1', 'pseq_q1_3', 'pseq_q1_w2', 'pseq_q1_w8', 'pseq_q2_1', 'pseq_q2_3', 'pseq_q2_w2', 'pseq_q2_w8', 'pseq_score_1', 'pseq_score_3', 'psfs1_1', 'psfs1_3', 'psfs1_act_1', 'psfs1_act_3', 'psfs1_act_w2', 'psfs1_act_w4', 'psfs1_act_w8', 'psfs1_w2', 'psfs1_w4', 'psfs1_w8', 'qol15D_q14_vital_1', 'qol15D_q14_vital_3', 'qol15D_q5_sleep_1', 'qol15D_q5_sleep_3', 'red_flag_cancer_1', 'red_flag_nightpain_1', 'red_flag_urination_1', 'red_flag_weight_1', 'shoulder_passive_extrot_1', 'smoking_1', 'treat_active_1_much_3', 'treat_active_1_none_3', 'treat_active_1_some_3', 'treat_active_2_much_3', 'treat_active_2_none_3', 'treat_active_2_some_3', 'treat_active_3_much_3', 'treat_active_3_none_3', 'treat_active_3_some_3', 'treat_active_4_much_3', 'treat_active_4_none_3', 'treat_active_4_some_3', 'treat_active_5_much_3', 'treat_active_5_none_3', 'treat_active_5_some_3', 'treat_active_6_much_3', 'treat_active_6_none_3', 'treat_active_6_some_3', 'treat_advice_10_much_3', 'treat_advice_10_none_3', 'treat_advice_10_some_3', 'treat_advice_1_much_3', 'treat_advice_1_none_3', 'treat_advice_1_some_3', 'treat_advice_2_much_3', 'treat_advice_2_none_3', 'treat_advice_2_some_3', 'treat_advice_3_much_3', 'treat_advice_3_none_3', 'treat_advice_3_some_3', 'treat_advice_4_much_3', 'treat_advice_4_none_3', 'treat_advice_4_some_3', 'treat_advice_5_much_3', 'treat_advice_5_none_3', 'treat_advice_5_some_3', 'treat_advice_6_much_3', 'treat_advice_6_none_3', 'treat_advice_6_some_3', 'treat_advice_7_much_3', 'treat_advice_7_none_3', 'treat_advice_7_some_3', 'treat_advice_8_much_3', 'treat_advice_8_none_3', 'treat_advice_8_some_3', 'treat_advice_9_much_3', 'treat_advice_9_none_3', 'treat_advice_9_some_3', 'treat_belief_1', 'treat_benefit_3', 'treat_contin_3', 'treat_desc1_3', 'treat_desc2_3', 'treat_discuss_gp_3', 'treat_discuss_other_3', 'treat_discuss_physio_3', 'treat_discuss_psycho_3', 'treat_discuss_specialist_3', 'treat_expect_3', 'treat_goal_1', 'treat_home_much_3', 'treat_home_none_3', 'treat_home_some_3', 'treat_passive_joint_much_3', 'treat_passive_joint_none_3', 'treat_passive_joint_some_3', 'treat_passive_massage_much_3', 'treat_passive_massage_none_3', 'treat_passive_massage_some_3', 'treat_passive_shockwave_much_3', 'treat_passive_shockwave_none_3', 'treat_passive_shockwave_some_3', 'treat_passive_stretch_much_3', 'treat_passive_stretch_none_3', 'treat_passive_stretch_some_3', 'treat_passive_trigger_much_3', 'treat_passive_trigger_none_3', 'treat_passive_trigger_some_3', 'treat_setting_group_much_3', 'treat_setting_group_none_3', 'treat_setting_group_some_3', 'treat_setting_individual_much_3', 'treat_setting_individual_none_3', 'treat_setting_individual_some_3', 'treat_setting_self_much_3', 'treat_setting_self_none_3', 'treat_setting_self_some_3', 'treatmentfactor_patient_3', 'walk_aid_1', 'weight_1', 'work_ability_1', 'work_ability_3', 'work_ability_w2', 'work_ability_w4', 'work_ability_w8', 'work_type_1', 'clinic_id', 'patient_id']\n"
     ]
    }
   ],
   "source": [
    "print(df_labeled.columns.tolist())"
   ]
  },
  {
   "cell_type": "code",
   "execution_count": null,
   "metadata": {},
   "outputs": [],
   "source": []
  },
  {
   "cell_type": "markdown",
   "metadata": {},
   "source": [
    "## Do not delete the below lines of csv reading code."
   ]
  },
  {
   "cell_type": "code",
   "execution_count": 86,
   "metadata": {},
   "outputs": [],
   "source": [
    "df_labeled = pd.read_csv(f'{data_dir}1_sp_dataset_labeled.csv', index_col='id')\n",
    "#df_numeric = pd.read_csv(file_numeric, index_col='id')"
   ]
  },
  {
   "cell_type": "code",
   "execution_count": 87,
   "metadata": {},
   "outputs": [
    {
     "data": {
      "text/plain": [
       "array([' working or other'], dtype=object)"
      ]
     },
     "execution_count": 87,
     "metadata": {},
     "output_type": "execute_result"
    }
   ],
   "source": [
    "assert df_labeled.employ_1.dtype.name != 'category' \n",
    "assert df_labeled.employ_1.dtype.name == 'object' \n",
    "\n",
    "df_labeled.employ_1.unique()"
   ]
  },
  {
   "cell_type": "code",
   "execution_count": 88,
   "metadata": {},
   "outputs": [],
   "source": [
    "outcome_list = [\n",
    "'out01',\n",
    "#'out02'\n",
    "]"
   ]
  },
  {
   "cell_type": "code",
   "execution_count": 89,
   "metadata": {},
   "outputs": [
    {
     "data": {
      "text/html": [
       "<div>\n",
       "<style scoped>\n",
       "    .dataframe tbody tr th:only-of-type {\n",
       "        vertical-align: middle;\n",
       "    }\n",
       "\n",
       "    .dataframe tbody tr th {\n",
       "        vertical-align: top;\n",
       "    }\n",
       "\n",
       "    .dataframe thead th {\n",
       "        text-align: right;\n",
       "    }\n",
       "</style>\n",
       "<table border=\"1\" class=\"dataframe\">\n",
       "  <thead>\n",
       "    <tr style=\"text-align: right;\">\n",
       "      <th></th>\n",
       "      <th>out01</th>\n",
       "    </tr>\n",
       "    <tr>\n",
       "      <th>id</th>\n",
       "      <th></th>\n",
       "    </tr>\n",
       "  </thead>\n",
       "  <tbody>\n",
       "    <tr>\n",
       "      <td>0</td>\n",
       "      <td>NaN</td>\n",
       "    </tr>\n",
       "    <tr>\n",
       "      <td>1</td>\n",
       "      <td>NaN</td>\n",
       "    </tr>\n",
       "    <tr>\n",
       "      <td>2</td>\n",
       "      <td>NaN</td>\n",
       "    </tr>\n",
       "  </tbody>\n",
       "</table>\n",
       "</div>"
      ],
      "text/plain": [
       "    out01\n",
       "id       \n",
       "0     NaN\n",
       "1     NaN\n",
       "2     NaN"
      ]
     },
     "execution_count": 89,
     "metadata": {},
     "output_type": "execute_result"
    }
   ],
   "source": [
    "df_labeled[outcome_list][:10]"
   ]
  },
  {
   "cell_type": "code",
   "execution_count": 90,
   "metadata": {},
   "outputs": [],
   "source": [
    "df = df_labeled.copy( deep=True)"
   ]
  },
  {
   "cell_type": "code",
   "execution_count": 91,
   "metadata": {},
   "outputs": [
    {
     "data": {
      "text/plain": [
       "array([nan])"
      ]
     },
     "execution_count": 91,
     "metadata": {},
     "output_type": "execute_result"
    }
   ],
   "source": [
    "df.body_main_1.unique()"
   ]
  },
  {
   "cell_type": "code",
   "execution_count": 92,
   "metadata": {},
   "outputs": [
    {
     "data": {
      "text/plain": [
       "(3, 352)"
      ]
     },
     "execution_count": 92,
     "metadata": {},
     "output_type": "execute_result"
    }
   ],
   "source": [
    "df.shape"
   ]
  },
  {
   "cell_type": "code",
   "execution_count": 93,
   "metadata": {},
   "outputs": [
    {
     "data": {
      "text/plain": [
       "id\n",
       "0        up to 4 years higher education\n",
       "1                           high school\n",
       "2    more than 4 years higher education\n",
       "Name: education_1, dtype: object"
      ]
     },
     "execution_count": 93,
     "metadata": {},
     "output_type": "execute_result"
    }
   ],
   "source": [
    "df.education_1.head()"
   ]
  },
  {
   "cell_type": "code",
   "execution_count": 94,
   "metadata": {},
   "outputs": [
    {
     "data": {
      "text/plain": [
       "id\n",
       "0     working or other\n",
       "1     working or other\n",
       "2     working or other\n",
       "Name: employ_1, dtype: object"
      ]
     },
     "execution_count": 94,
     "metadata": {},
     "output_type": "execute_result"
    }
   ],
   "source": [
    "df.employ_1.head()"
   ]
  },
  {
   "cell_type": "markdown",
   "metadata": {},
   "source": [
    "# \n",
    "### Rounding of the float variables up to 2 decimal places"
   ]
  },
  {
   "cell_type": "code",
   "execution_count": 95,
   "metadata": {},
   "outputs": [
    {
     "name": "stdout",
     "output_type": "stream",
     "text": [
      "hscl_score_1\n",
      "hscl_score_3\n"
     ]
    }
   ],
   "source": [
    "round_float_list = ['hscl_score_1',\n",
    "                    #'ndi_total_1',  \n",
    "                    #'odi_total_1',  \n",
    "                    #'spadi_total_1',\n",
    "                    #'outcome_allpercent',\n",
    "                    \n",
    "                    'hscl_score_3',\n",
    "                    #'ndi_total_3',  \n",
    "                    #'odi_total_3',\n",
    "                    #'spadi_total_3'\n",
    "                   ]\n",
    "\n",
    "for col_name in round_float_list:\n",
    "    print(col_name)\n",
    "    df[col_name] = df[col_name].round(2)\n",
    "    df_labeled[col_name] = df[col_name].round(2)\n",
    "    #df_numeric[col_name] = df_numeric[col_name].round(2)\n",
    "    \n",
    "# df_labeled.hscl10_mean_1 = df_labeled.hscl10_mean_1.round(2)\n",
    "# df_labeled.ndi_total_1   = df_labeled.ndi_total_1.round(2)\n",
    "# df_labeled.odi_total_1   = df_labeled.odi_total_1.round(2)\n",
    "# df_labeled.spadi_total_1 = df_labeled.spadi_total_1.round(2)\n",
    "# \n",
    "# df_numeric.hscl10_mean_3 = df_numeric.hscl10_mean_3.round(2)\n",
    "# df_numeric.spadi_total_3 = df_numeric.spadi_total_3.round(2)\n",
    "# df_numeric.ndi_total_3   = df_numeric.ndi_total_3.round(2)\n",
    "# df_numeric.odi_total_3   = df_numeric.odi_total_3.round(2)"
   ]
  },
  {
   "cell_type": "code",
   "execution_count": 96,
   "metadata": {},
   "outputs": [],
   "source": [
    "# for testing\n",
    "#print(df_labeled[ round_float_list][:5]);\n",
    "#print(df_numeric[ round_float_list][:5]);"
   ]
  },
  {
   "cell_type": "markdown",
   "metadata": {},
   "source": [
    "## Drop all empty columns"
   ]
  },
  {
   "cell_type": "markdown",
   "metadata": {},
   "source": [
    "#### Issues with complete empty columns ????"
   ]
  },
  {
   "cell_type": "raw",
   "metadata": {},
   "source": [
    "print('Before drop : ', df.shape) # (506, 292)\n",
    "df.dropna( how='all', axis=1, inplace=True)\n",
    "print('After drop : ', df.shape) # (506, 279)\n",
    "\n",
    "print('Before drop : ', df_labeled.shape) # (506, 292)\n",
    "df_labeled.dropna( how='all', axis=1, inplace=True)\n",
    "print('After drop : ', df_labeled.shape) # (506, 279)\n",
    "\n",
    "#print('Before drop : ', df_numeric.shape) # (506, 292)\n",
    "#df_numeric.dropna( how='all', axis=1, inplace=True)\n",
    "#print('After drop : ', df_numeric.shape) # (506, 279)"
   ]
  },
  {
   "cell_type": "markdown",
   "metadata": {},
   "source": [
    "## Function for removing all leading and trailing spaces in a dataframe"
   ]
  },
  {
   "cell_type": "code",
   "execution_count": 97,
   "metadata": {},
   "outputs": [],
   "source": [
    "def remove_leading_trailing_spaces(tempdf=df):\n",
    "    df_obj = tempdf.select_dtypes(['object'])\n",
    "    tempdf[df_obj.columns] = df_obj.apply(lambda x: x.str.strip())\n",
    "    return tempdf"
   ]
  },
  {
   "cell_type": "markdown",
   "metadata": {},
   "source": [
    "## Function to repalce all characters of a string in a dataframe"
   ]
  },
  {
   "cell_type": "code",
   "execution_count": 98,
   "metadata": {},
   "outputs": [],
   "source": [
    "def replace_all_with( old, new, tempdf=df):\n",
    "    temp = tempdf.replace({old: new}, regex=True)\n",
    "    return temp"
   ]
  },
  {
   "cell_type": "raw",
   "metadata": {},
   "source": [
    "df.employment_1 = replace_all_with( 'Working,', 'Working ', df.employment_1)\n",
    "df.employment_1 = replace_all_with( 'Other: Student,retiree,non-paid work', 'Other: Student or retiree or non-paid work', df.employment_1)\n",
    "df_labeled.employment_1 = replace_all_with( 'Working,', 'Working ', df_labeled.employment_1)\n",
    "df_labeled.employment_1 = replace_all_with( 'Other: Student,retiree,non-paid work', 'Other: Student or retiree or non-paid work', df_labeled.employment_1)\n",
    "if( df.columns.contains('employment_3')):\n",
    "    df.employment_3 = replace_all_with( 'Working,', 'Working ', df.employment_3)\n",
    "    df.employment_3 = replace_all_with( 'Other: Student,retiree,non-paid work', 'Other: Student or retiree or non-paid work', df.employment_3)\n",
    "    df.employment_3.unique()"
   ]
  },
  {
   "cell_type": "code",
   "execution_count": 99,
   "metadata": {},
   "outputs": [],
   "source": [
    "# Must throw exception\n",
    "# df_numeric.employment_1 = replace_all_with( 'Working,', 'Working ', df_numeric.employment_1)\n",
    "# df_numeric.employment_1.unique()"
   ]
  },
  {
   "cell_type": "markdown",
   "metadata": {},
   "source": [
    "## Replace all special char"
   ]
  },
  {
   "cell_type": "markdown",
   "metadata": {},
   "source": [
    "### 1. '>' is replaced with 'GT' (Greater Than) and '<' is replaced with 'LT' (Lower/Less Than)"
   ]
  },
  {
   "cell_type": "code",
   "execution_count": 100,
   "metadata": {},
   "outputs": [],
   "source": [
    "#df_labeled.outcome_percent01.unique()"
   ]
  },
  {
   "cell_type": "code",
   "execution_count": 101,
   "metadata": {},
   "outputs": [],
   "source": [
    "df = replace_all_with('>', 'GT ', df)\n",
    "df = replace_all_with('≥', 'GT_EQ ', df)\n",
    "df = replace_all_with('<', 'LT ', df)\n",
    "\n",
    "df_labeled = replace_all_with('>', 'GT ', df_labeled)\n",
    "df_labeled = replace_all_with('≥', 'GT_EQ ', df_labeled)\n",
    "df_labeled = replace_all_with('<', 'LT ', df_labeled)\n",
    "\n",
    "#df_numeric = replace_all_with('>', 'GT ', df_numeric)\n",
    "#df_numeric = replace_all_with('<', 'LT ', df_numeric)"
   ]
  },
  {
   "cell_type": "code",
   "execution_count": 102,
   "metadata": {},
   "outputs": [],
   "source": [
    "#df_labeled.outcome_percent01.unique()"
   ]
  },
  {
   "cell_type": "markdown",
   "metadata": {},
   "source": [
    "### 2. '-'  to  ' - ' for readablity\n",
    "### 3. ';'  to  ':' (colon) to compenseate the next statement (4.) \n",
    "### 4. ','  to  ';' (semicolon) since they represent multiple values for a given attribute, and they will result in a 'csv' file "
   ]
  },
  {
   "cell_type": "code",
   "execution_count": 103,
   "metadata": {},
   "outputs": [],
   "source": [
    "df = replace_all_with( '-', ' - ', df)\n",
    "#df = replace_all_with( ';', ' : ', df)\n",
    "#df = replace_all_with( ',', ' ; ', df)\n",
    "\n",
    "df_labeled = replace_all_with( '-', ' - ', df_labeled)\n",
    "#df_labeled = replace_all_with( ';', ' : ', df_labeled)\n",
    "#df_labeled = replace_all_with( ',', ' ; ', df_labeled)\n",
    "\n",
    "#df_numeric = replace_all_with( '-', ' - ', df_numeric)\n",
    "#df_numeric = replace_all_with( ';', ' : ', df_numeric)\n",
    "#df_numeric = replace_all_with( ',', ' ; ', df_numeric)"
   ]
  },
  {
   "cell_type": "markdown",
   "metadata": {},
   "source": [
    "### 5. '%'  to  ' percent' to resolve the special char ambiguity"
   ]
  },
  {
   "cell_type": "code",
   "execution_count": 104,
   "metadata": {},
   "outputs": [],
   "source": [
    "df = replace_all_with( '%', ' percent', df)\n",
    "df_labeled = replace_all_with( '%', ' percent', df_labeled)\n",
    "#df_numeric = replace_all_with( '%', ' percent', df_numeric)"
   ]
  },
  {
   "cell_type": "code",
   "execution_count": 105,
   "metadata": {},
   "outputs": [
    {
     "data": {
      "text/plain": [
       "array([nan])"
      ]
     },
     "execution_count": 105,
     "metadata": {},
     "output_type": "execute_result"
    }
   ],
   "source": [
    "df.body_main_1.unique()"
   ]
  },
  {
   "cell_type": "code",
   "execution_count": 106,
   "metadata": {},
   "outputs": [],
   "source": [
    "df = replace_all_with( '/', '_', df)\n",
    "df_labeled = replace_all_with( '/', '_', df_labeled)"
   ]
  },
  {
   "cell_type": "code",
   "execution_count": 107,
   "metadata": {},
   "outputs": [
    {
     "data": {
      "text/plain": [
       "array([nan])"
      ]
     },
     "execution_count": 107,
     "metadata": {},
     "output_type": "execute_result"
    }
   ],
   "source": [
    "df.body_main_1.unique() # The data type should not be cateorical type for python"
   ]
  },
  {
   "cell_type": "code",
   "execution_count": 108,
   "metadata": {},
   "outputs": [],
   "source": [
    "#df.body_main_1.cat.rename_categories({'multisite/complex': 'multisite_complex'}, inplace=True)\n",
    "#df_labeled.body_main_1.cat.rename_categories({'multisite/complex': 'multisite_complex'}, inplace=True)"
   ]
  },
  {
   "cell_type": "code",
   "execution_count": 109,
   "metadata": {},
   "outputs": [
    {
     "data": {
      "text/plain": [
       "array([nan])"
      ]
     },
     "execution_count": 109,
     "metadata": {},
     "output_type": "execute_result"
    }
   ],
   "source": [
    "df.body_main_1.unique()"
   ]
  },
  {
   "cell_type": "code",
   "execution_count": null,
   "metadata": {},
   "outputs": [],
   "source": []
  },
  {
   "cell_type": "markdown",
   "metadata": {},
   "source": [
    "### 6. multiple spaces in the text to resolve the ambiguity in categorical values for myCBR"
   ]
  },
  {
   "cell_type": "code",
   "execution_count": 110,
   "metadata": {},
   "outputs": [],
   "source": [
    "df = replace_all_with( '   ', ' ', df)\n",
    "df = replace_all_with( '  ', ' ',  df)\n",
    "\n",
    "df_labeled = replace_all_with( '   ', ' ', df_labeled)\n",
    "df_labeled = replace_all_with( '  ', ' ',  df_labeled)\n",
    "\n",
    "#df_numeric = replace_all_with( '   ', ' ', df_numeric)\n",
    "#df_numeric = replace_all_with( '  ', ' ', df_numeric)"
   ]
  },
  {
   "cell_type": "code",
   "execution_count": null,
   "metadata": {},
   "outputs": [],
   "source": []
  },
  {
   "cell_type": "code",
   "execution_count": 111,
   "metadata": {},
   "outputs": [],
   "source": [
    "#df_labeled.treat_base[:50]"
   ]
  },
  {
   "cell_type": "markdown",
   "metadata": {},
   "source": [
    "### 7. The attribute was originally like ''No, off and on', where  ',' was replaced to  ';'. But  ';' is the representation for multiple value thus we  need to convert  ';' to  ':' for its intended interpretation."
   ]
  },
  {
   "cell_type": "code",
   "execution_count": 112,
   "metadata": {},
   "outputs": [
    {
     "data": {
      "text/plain": [
       "id\n",
       "0     no\n",
       "1     no\n",
       "2    yes\n",
       "Name: pain_continuous_1, dtype: object"
      ]
     },
     "execution_count": 112,
     "metadata": {},
     "output_type": "execute_result"
    }
   ],
   "source": [
    "df.pain_continuous_1.head()"
   ]
  },
  {
   "cell_type": "raw",
   "metadata": {},
   "source": [
    "df.pain_continuous_1 = replace_all_with( 'No ; off and on', 'No : off and on',       df.pain_continuous_1)\n",
    "df.pain_continuous_1 = replace_all_with( 'Yes ; all the time', 'Yes : all the time', df.pain_continuous_1)\n",
    "df.pain_continuous_3 = replace_all_with( 'No ; off and on', 'No : off and on',       df.pain_continuous_3)\n",
    "df.pain_continuous_3 = replace_all_with( 'Yes ; all the time', 'Yes : all the time', df.pain_continuous_3)\n",
    "print(df.pain_continuous_1.unique())\n",
    "print(df.pain_continuous_3.unique())\n",
    "\n",
    "df_labeled.pain_continuous_1 = replace_all_with( 'No ; off and on', 'No : off and on',       df_labeled.pain_continuous_1)\n",
    "df_labeled.pain_continuous_1 = replace_all_with( 'Yes ; all the time', 'Yes : all the time', df_labeled.pain_continuous_1)\n",
    "df_labeled.pain_continuous_3 = replace_all_with( 'No ; off and on', 'No : off and on',       df_labeled.pain_continuous_3)\n",
    "df_labeled.pain_continuous_3 = replace_all_with( 'Yes ; all the time', 'Yes : all the time', df_labeled.pain_continuous_3)\n",
    "print(df_labeled.pain_continuous_1.unique())\n",
    "print(df_labeled.pain_continuous_3.unique())"
   ]
  },
  {
   "cell_type": "code",
   "execution_count": 113,
   "metadata": {},
   "outputs": [
    {
     "data": {
      "text/plain": [
       "array(['0', '1-4'], dtype=object)"
      ]
     },
     "execution_count": 113,
     "metadata": {},
     "output_type": "execute_result"
    }
   ],
   "source": [
    "df_labeled.medic_number_1.unique()"
   ]
  },
  {
   "cell_type": "code",
   "execution_count": 114,
   "metadata": {},
   "outputs": [
    {
     "name": "stdout",
     "output_type": "stream",
     "text": [
      "['0' '1to4']\n"
     ]
    }
   ],
   "source": [
    "df.medic_number_1 = df.medic_number_1.replace({'-': 'to'}, regex=True)\n",
    "df_labeled.medic_number_1 = df_labeled.medic_number_1.replace({'-': 'to'}, regex=True)\n",
    "print(df.medic_number_1.unique())\n",
    "\n",
    "#df.medic_number_3 = df.medic_number_3.replace({'-': 'to'}, regex=True)\n",
    "#df_labeled.medic_number_3 = df_labeled.medic_number_3.replace({'-': 'to'}, regex=True)\n",
    "#print(df.medic_number_3.unique())\n",
    "\n",
    "#df.medic_number_1.cat.rename_categories({'1-4': '1 to 4'}, inplace=True)\n",
    "#df_labeled.medic_number_1.cat.rename_categories({'1-4': '1 to 4'}, inplace=True)\n",
    "#print(df.medic_number_1.unique())\n",
    "#\n",
    "#df.medic_number_3.cat.rename_categories({'1-4': '1 to 4'}, inplace=True)\n",
    "#df_labeled.medic_number_3.cat.rename_categories({'1-4': '1 to 4'}, inplace=True)\n",
    "#print(df.medic_number_3.unique())\n",
    "##df.treat_int_3 = df.treat_int_3.replace({'-': 'to'}, regex=True)\n",
    "##df.treat_int_3.unique()\n",
    "#\n",
    "##df_labeled.treat_int_3 = df_labeled.treat_int_3.replace({'-': 'to'}, regex=True)\n",
    "##df_labeled.treat_int_3.unique()"
   ]
  },
  {
   "cell_type": "code",
   "execution_count": 115,
   "metadata": {},
   "outputs": [
    {
     "name": "stderr",
     "output_type": "stream",
     "text": [
      "/lhome/amardj/anaconda3/envs/my_env/lib/python3.7/site-packages/ipykernel_launcher.py:1: FutureWarning: The 'contains' method is deprecated and will be removed in a future version. Use 'key in index' instead of 'index.contains(key)'\n",
      "  \"\"\"Entry point for launching an IPython kernel.\n"
     ]
    }
   ],
   "source": [
    "if( df.columns.contains('priokey')):\n",
    "    df.priokey.unique()\n",
    "    df.priokey = df.priokey.replace({';': '-'}, regex=True)\n",
    "\n",
    "    print(df.priokey.unique())"
   ]
  },
  {
   "cell_type": "raw",
   "metadata": {},
   "source": [
    "df.employment_1.unique()"
   ]
  },
  {
   "cell_type": "code",
   "execution_count": 116,
   "metadata": {},
   "outputs": [
    {
     "data": {
      "text/plain": [
       "array([' working or other'], dtype=object)"
      ]
     },
     "execution_count": 116,
     "metadata": {},
     "output_type": "execute_result"
    }
   ],
   "source": [
    "df.employ_1.unique()"
   ]
  },
  {
   "cell_type": "code",
   "execution_count": 117,
   "metadata": {},
   "outputs": [
    {
     "data": {
      "text/plain": [
       "(3, 352)"
      ]
     },
     "execution_count": 117,
     "metadata": {},
     "output_type": "execute_result"
    }
   ],
   "source": [
    "df.shape  # (*, 355)"
   ]
  },
  {
   "cell_type": "code",
   "execution_count": 118,
   "metadata": {},
   "outputs": [
    {
     "data": {
      "text/plain": [
       "[nan]"
      ]
     },
     "execution_count": 118,
     "metadata": {},
     "output_type": "execute_result"
    }
   ],
   "source": [
    "df.como_other_spec_1.unique().tolist()"
   ]
  },
  {
   "cell_type": "code",
   "execution_count": 119,
   "metadata": {},
   "outputs": [],
   "source": [
    "if not df.como_other_spec_1.dtype in [int, float]:\n",
    "    df.como_other_spec_1.replace({' _ ':'-'}, regex=True, inplace=True)"
   ]
  },
  {
   "cell_type": "code",
   "execution_count": 120,
   "metadata": {},
   "outputs": [],
   "source": [
    "if not df.treat_goal_1.dtype in [int, float]:\n",
    "    df.treat_goal_1.replace({' _ ':'-'}, regex=True, inplace=True)"
   ]
  },
  {
   "cell_type": "code",
   "execution_count": 121,
   "metadata": {},
   "outputs": [
    {
     "data": {
      "text/plain": [
       "[nan, nan, nan]"
      ]
     },
     "execution_count": 121,
     "metadata": {},
     "output_type": "execute_result"
    }
   ],
   "source": [
    "df.treat_goal_1.tolist()"
   ]
  },
  {
   "cell_type": "code",
   "execution_count": 122,
   "metadata": {},
   "outputs": [],
   "source": [
    "#df.outcome_percent01 = df.outcome_percent01.replace({'â¥50': 'GT_EQ 50'}, regex=True)\n",
    "#df.outcome_percent01.unique()"
   ]
  },
  {
   "cell_type": "code",
   "execution_count": 123,
   "metadata": {},
   "outputs": [],
   "source": [
    "#df[['outcome_allpercent','outcome_percent','outcome_percent01']][:100]"
   ]
  },
  {
   "cell_type": "code",
   "execution_count": 124,
   "metadata": {},
   "outputs": [],
   "source": [
    "#df_labeled.outcome_percent.unique()"
   ]
  },
  {
   "cell_type": "code",
   "execution_count": 125,
   "metadata": {},
   "outputs": [],
   "source": [
    "#df_labeled.outcome_percent = df_labeled.outcome_percent.replace({'-': 'to'}, regex=True)\n",
    "#df_labeled.outcome_percent = df_labeled.outcome_percent.replace({'change/worse': 'change_worse'}, regex=True)\n",
    "#df_labeled.outcome_percent.unique()"
   ]
  },
  {
   "cell_type": "markdown",
   "metadata": {},
   "source": [
    "## Remove leading or trailing spaces"
   ]
  },
  {
   "cell_type": "code",
   "execution_count": 126,
   "metadata": {},
   "outputs": [],
   "source": [
    "df = remove_leading_trailing_spaces( tempdf=df)\n",
    "\n",
    "df_labeled = remove_leading_trailing_spaces( tempdf=df_labeled)\n",
    "\n",
    "#df_numeric = remove_leading_trailing_spaces( tempdf=df_numeric)"
   ]
  },
  {
   "cell_type": "code",
   "execution_count": 127,
   "metadata": {},
   "outputs": [
    {
     "data": {
      "text/plain": [
       "array(['working or other'], dtype=object)"
      ]
     },
     "execution_count": 127,
     "metadata": {},
     "output_type": "execute_result"
    }
   ],
   "source": [
    "df.employ_1.unique()"
   ]
  },
  {
   "cell_type": "markdown",
   "metadata": {},
   "source": [
    "## Write the feature engineered dataframe to a \"csv\" file for myCBR analysis"
   ]
  },
  {
   "cell_type": "code",
   "execution_count": 128,
   "metadata": {},
   "outputs": [],
   "source": [
    "df.to_csv( f'{data_dir}2_sp_dataset_clean.csv', index=True)"
   ]
  },
  {
   "cell_type": "code",
   "execution_count": null,
   "metadata": {},
   "outputs": [],
   "source": []
  },
  {
   "cell_type": "code",
   "execution_count": null,
   "metadata": {},
   "outputs": [],
   "source": []
  }
 ],
 "metadata": {
  "kernelspec": {
   "display_name": "Python 3",
   "language": "python",
   "name": "python3"
  },
  "language_info": {
   "codemirror_mode": {
    "name": "ipython",
    "version": 3
   },
   "file_extension": ".py",
   "mimetype": "text/x-python",
   "name": "python",
   "nbconvert_exporter": "python",
   "pygments_lexer": "ipython3",
   "version": "3.7.4"
  }
 },
 "nbformat": 4,
 "nbformat_minor": 4
}

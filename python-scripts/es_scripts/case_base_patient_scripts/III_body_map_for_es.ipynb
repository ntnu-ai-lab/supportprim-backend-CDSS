{
 "cells": [
  {
   "cell_type": "raw",
   "metadata": {},
   "source": [
    "lsof -i:9300"
   ]
  },
  {
   "cell_type": "markdown",
   "metadata": {},
   "source": [
    "#  Import Body Map from Infopad csv file"
   ]
  },
  {
   "cell_type": "markdown",
   "metadata": {},
   "source": [
    "#### Last updated on : 3rd Oct 2020  -  Amar Jaiswal"
   ]
  },
  {
   "cell_type": "code",
   "execution_count": 24,
   "metadata": {},
   "outputs": [],
   "source": [
    "es_base_url = 'http://localhost:9200'\n",
    "headers = {'Content-Type': 'application/json'}"
   ]
  },
  {
   "cell_type": "code",
   "execution_count": 25,
   "metadata": {},
   "outputs": [],
   "source": [
    "# auto sugestion with tab\n",
    "%config IPCompleter.greedy=True\n",
    "%config InlineBackend.figure_format = 'retina'\n",
    "%matplotlib inline "
   ]
  },
  {
   "cell_type": "code",
   "execution_count": 26,
   "metadata": {},
   "outputs": [
    {
     "data": {
      "text/plain": [
       "'/lhome/amardj/ISM/python_code/es_scripts/case_base_patient_scripts'"
      ]
     },
     "execution_count": 26,
     "metadata": {},
     "output_type": "execute_result"
    }
   ],
   "source": [
    "import pandas as pd\n",
    "import numpy as np\n",
    "import seaborn as sns\n",
    "import matplotlib.pyplot as plt\n",
    "import seaborn as sns\n",
    "\n",
    "import datetime as datetime\n",
    "\n",
    "import requests\n",
    "import json\n",
    "\n",
    "import os\n",
    "os.getcwd()"
   ]
  },
  {
   "cell_type": "code",
   "execution_count": 27,
   "metadata": {},
   "outputs": [
    {
     "data": {
      "text/plain": [
       "'20201021'"
      ]
     },
     "execution_count": 27,
     "metadata": {},
     "output_type": "execute_result"
    }
   ],
   "source": [
    "sys_date = datetime.datetime.today().strftime( '%Y%m%d')\n",
    "sys_date = f'{sys_date}' \n",
    "sys_date"
   ]
  },
  {
   "cell_type": "code",
   "execution_count": 28,
   "metadata": {},
   "outputs": [],
   "source": [
    "data_dir = f'./data/{sys_date}/'"
   ]
  },
  {
   "cell_type": "code",
   "execution_count": 29,
   "metadata": {},
   "outputs": [],
   "source": [
    "body_main_file = f'{data_dir}body_map.csv'"
   ]
  },
  {
   "cell_type": "code",
   "execution_count": 30,
   "metadata": {},
   "outputs": [],
   "source": [
    "raw_csv = pd.read_csv( body_main_file, delimiter=';')"
   ]
  },
  {
   "cell_type": "code",
   "execution_count": 31,
   "metadata": {},
   "outputs": [
    {
     "data": {
      "text/html": [
       "<div>\n",
       "<style scoped>\n",
       "    .dataframe tbody tr th:only-of-type {\n",
       "        vertical-align: middle;\n",
       "    }\n",
       "\n",
       "    .dataframe tbody tr th {\n",
       "        vertical-align: top;\n",
       "    }\n",
       "\n",
       "    .dataframe thead th {\n",
       "        text-align: right;\n",
       "    }\n",
       "</style>\n",
       "<table border=\"1\" class=\"dataframe\">\n",
       "  <thead>\n",
       "    <tr style=\"text-align: right;\">\n",
       "      <th></th>\n",
       "      <th>Brukernavn</th>\n",
       "      <th>Journal ID</th>\n",
       "      <th>Fødselsår</th>\n",
       "      <th>Forside 0 0</th>\n",
       "      <th>Forside 0 1</th>\n",
       "      <th>Forside 0 2</th>\n",
       "      <th>Forside 0 3</th>\n",
       "      <th>Forside 0 4</th>\n",
       "      <th>Forside 0 5</th>\n",
       "      <th>Forside 0 6</th>\n",
       "      <th>...</th>\n",
       "      <th>Bakside 7 5</th>\n",
       "      <th>Bakside 7 6</th>\n",
       "      <th>Bakside 7 7</th>\n",
       "      <th>Bakside 7 8</th>\n",
       "      <th>Bakside 7 9</th>\n",
       "      <th>Bakside 7 10</th>\n",
       "      <th>Bakside 7 11</th>\n",
       "      <th>Bakside 7 12</th>\n",
       "      <th>Bakside 7 13</th>\n",
       "      <th>Bakside 7 14</th>\n",
       "    </tr>\n",
       "  </thead>\n",
       "  <tbody>\n",
       "    <tr>\n",
       "      <td>0</td>\n",
       "      <td>support10</td>\n",
       "      <td>1</td>\n",
       "      <td>1963</td>\n",
       "      <td></td>\n",
       "      <td></td>\n",
       "      <td></td>\n",
       "      <td></td>\n",
       "      <td></td>\n",
       "      <td></td>\n",
       "      <td></td>\n",
       "      <td>...</td>\n",
       "      <td></td>\n",
       "      <td></td>\n",
       "      <td></td>\n",
       "      <td></td>\n",
       "      <td></td>\n",
       "      <td></td>\n",
       "      <td></td>\n",
       "      <td></td>\n",
       "      <td></td>\n",
       "      <td></td>\n",
       "    </tr>\n",
       "    <tr>\n",
       "      <td>1</td>\n",
       "      <td>support10</td>\n",
       "      <td>2</td>\n",
       "      <td>1965</td>\n",
       "      <td></td>\n",
       "      <td></td>\n",
       "      <td></td>\n",
       "      <td></td>\n",
       "      <td></td>\n",
       "      <td></td>\n",
       "      <td></td>\n",
       "      <td>...</td>\n",
       "      <td></td>\n",
       "      <td></td>\n",
       "      <td></td>\n",
       "      <td></td>\n",
       "      <td></td>\n",
       "      <td></td>\n",
       "      <td></td>\n",
       "      <td></td>\n",
       "      <td></td>\n",
       "      <td></td>\n",
       "    </tr>\n",
       "    <tr>\n",
       "      <td>2</td>\n",
       "      <td>support23</td>\n",
       "      <td>3</td>\n",
       "      <td>1950</td>\n",
       "      <td></td>\n",
       "      <td></td>\n",
       "      <td></td>\n",
       "      <td></td>\n",
       "      <td></td>\n",
       "      <td></td>\n",
       "      <td></td>\n",
       "      <td>...</td>\n",
       "      <td></td>\n",
       "      <td></td>\n",
       "      <td></td>\n",
       "      <td></td>\n",
       "      <td></td>\n",
       "      <td></td>\n",
       "      <td></td>\n",
       "      <td></td>\n",
       "      <td></td>\n",
       "      <td></td>\n",
       "    </tr>\n",
       "    <tr>\n",
       "      <td>3</td>\n",
       "      <td>support10</td>\n",
       "      <td>5</td>\n",
       "      <td>1983</td>\n",
       "      <td></td>\n",
       "      <td></td>\n",
       "      <td></td>\n",
       "      <td></td>\n",
       "      <td></td>\n",
       "      <td></td>\n",
       "      <td></td>\n",
       "      <td>...</td>\n",
       "      <td></td>\n",
       "      <td></td>\n",
       "      <td></td>\n",
       "      <td></td>\n",
       "      <td></td>\n",
       "      <td></td>\n",
       "      <td></td>\n",
       "      <td></td>\n",
       "      <td></td>\n",
       "      <td></td>\n",
       "    </tr>\n",
       "    <tr>\n",
       "      <td>4</td>\n",
       "      <td>support10</td>\n",
       "      <td>6</td>\n",
       "      <td>1958</td>\n",
       "      <td></td>\n",
       "      <td></td>\n",
       "      <td></td>\n",
       "      <td></td>\n",
       "      <td></td>\n",
       "      <td></td>\n",
       "      <td></td>\n",
       "      <td>...</td>\n",
       "      <td></td>\n",
       "      <td></td>\n",
       "      <td></td>\n",
       "      <td></td>\n",
       "      <td></td>\n",
       "      <td></td>\n",
       "      <td></td>\n",
       "      <td></td>\n",
       "      <td></td>\n",
       "      <td></td>\n",
       "    </tr>\n",
       "  </tbody>\n",
       "</table>\n",
       "<p>5 rows × 243 columns</p>\n",
       "</div>"
      ],
      "text/plain": [
       "  Brukernavn  Journal ID  Fødselsår Forside 0 0 Forside 0 1 Forside 0 2  \\\n",
       "0  support10           1       1963                                       \n",
       "1  support10           2       1965                                       \n",
       "2  support23           3       1950                                       \n",
       "3  support10           5       1983                                       \n",
       "4  support10           6       1958                                       \n",
       "\n",
       "  Forside 0 3 Forside 0 4 Forside 0 5 Forside 0 6  ... Bakside 7 5  \\\n",
       "0                                                  ...               \n",
       "1                                                  ...               \n",
       "2                                                  ...               \n",
       "3                                                  ...               \n",
       "4                                                  ...               \n",
       "\n",
       "  Bakside 7 6 Bakside 7 7 Bakside 7 8 Bakside 7 9 Bakside 7 10 Bakside 7 11  \\\n",
       "0                                                                             \n",
       "1                                                                             \n",
       "2                                                                             \n",
       "3                                                                             \n",
       "4                                                                             \n",
       "\n",
       "  Bakside 7 12 Bakside 7 13 Bakside 7 14  \n",
       "0                                         \n",
       "1                                         \n",
       "2                                         \n",
       "3                                         \n",
       "4                                         \n",
       "\n",
       "[5 rows x 243 columns]"
      ]
     },
     "execution_count": 31,
     "metadata": {},
     "output_type": "execute_result"
    }
   ],
   "source": [
    "raw_csv.head()"
   ]
  },
  {
   "cell_type": "code",
   "execution_count": 32,
   "metadata": {},
   "outputs": [],
   "source": [
    "raw = raw_csv.rename(columns={'Fødselsår': 'birthYear', 'Brukernavn':'clinicId', 'Journal ID':'journalId'})"
   ]
  },
  {
   "cell_type": "raw",
   "metadata": {},
   "source": [
    "print(raw.columns.tolist())"
   ]
  },
  {
   "cell_type": "code",
   "execution_count": 33,
   "metadata": {},
   "outputs": [],
   "source": [
    "exclude_patients_from_clinic = raw[\n",
    "    (raw.clinicId != 'Fredrik Granviken') \n",
    "    & (raw.clinicId != 'Anita Formo Bones')\n",
    "    & (raw.clinicId != 'Ingebrigt Meisingset')\n",
    "    & (raw.clinicId != 'Testinstitutt')\n",
    "    & (raw.clinicId != 'support32')\n",
    "    & (raw.clinicId != 'support3')\n",
    "] #\"Testinstitutt\", \"support32\",\"support3\""
   ]
  },
  {
   "cell_type": "raw",
   "metadata": {},
   "source": [
    "exclude_patients_from_clinic.clinicId.tolist()"
   ]
  },
  {
   "cell_type": "code",
   "execution_count": 34,
   "metadata": {},
   "outputs": [
    {
     "data": {
      "text/plain": [
       "(63, 243)"
      ]
     },
     "execution_count": 34,
     "metadata": {},
     "output_type": "execute_result"
    }
   ],
   "source": [
    "exclude_patients_from_clinic.shape #(*, 243)"
   ]
  },
  {
   "cell_type": "code",
   "execution_count": 35,
   "metadata": {},
   "outputs": [
    {
     "data": {
      "text/html": [
       "<div>\n",
       "<style scoped>\n",
       "    .dataframe tbody tr th:only-of-type {\n",
       "        vertical-align: middle;\n",
       "    }\n",
       "\n",
       "    .dataframe tbody tr th {\n",
       "        vertical-align: top;\n",
       "    }\n",
       "\n",
       "    .dataframe thead th {\n",
       "        text-align: right;\n",
       "    }\n",
       "</style>\n",
       "<table border=\"1\" class=\"dataframe\">\n",
       "  <thead>\n",
       "    <tr style=\"text-align: right;\">\n",
       "      <th></th>\n",
       "      <th>clinicId</th>\n",
       "      <th>journalId</th>\n",
       "      <th>birthYear</th>\n",
       "      <th>Forside 0 0</th>\n",
       "      <th>Forside 0 1</th>\n",
       "      <th>Forside 0 2</th>\n",
       "      <th>Forside 0 3</th>\n",
       "      <th>Forside 0 4</th>\n",
       "      <th>Forside 0 5</th>\n",
       "      <th>Forside 0 6</th>\n",
       "      <th>...</th>\n",
       "      <th>Bakside 7 5</th>\n",
       "      <th>Bakside 7 6</th>\n",
       "      <th>Bakside 7 7</th>\n",
       "      <th>Bakside 7 8</th>\n",
       "      <th>Bakside 7 9</th>\n",
       "      <th>Bakside 7 10</th>\n",
       "      <th>Bakside 7 11</th>\n",
       "      <th>Bakside 7 12</th>\n",
       "      <th>Bakside 7 13</th>\n",
       "      <th>Bakside 7 14</th>\n",
       "    </tr>\n",
       "  </thead>\n",
       "  <tbody>\n",
       "    <tr>\n",
       "      <td>0</td>\n",
       "      <td>support10</td>\n",
       "      <td>1</td>\n",
       "      <td>1963</td>\n",
       "      <td></td>\n",
       "      <td></td>\n",
       "      <td></td>\n",
       "      <td></td>\n",
       "      <td></td>\n",
       "      <td></td>\n",
       "      <td></td>\n",
       "      <td>...</td>\n",
       "      <td></td>\n",
       "      <td></td>\n",
       "      <td></td>\n",
       "      <td></td>\n",
       "      <td></td>\n",
       "      <td></td>\n",
       "      <td></td>\n",
       "      <td></td>\n",
       "      <td></td>\n",
       "      <td></td>\n",
       "    </tr>\n",
       "    <tr>\n",
       "      <td>1</td>\n",
       "      <td>support10</td>\n",
       "      <td>2</td>\n",
       "      <td>1965</td>\n",
       "      <td></td>\n",
       "      <td></td>\n",
       "      <td></td>\n",
       "      <td></td>\n",
       "      <td></td>\n",
       "      <td></td>\n",
       "      <td></td>\n",
       "      <td>...</td>\n",
       "      <td></td>\n",
       "      <td></td>\n",
       "      <td></td>\n",
       "      <td></td>\n",
       "      <td></td>\n",
       "      <td></td>\n",
       "      <td></td>\n",
       "      <td></td>\n",
       "      <td></td>\n",
       "      <td></td>\n",
       "    </tr>\n",
       "    <tr>\n",
       "      <td>2</td>\n",
       "      <td>support23</td>\n",
       "      <td>3</td>\n",
       "      <td>1950</td>\n",
       "      <td></td>\n",
       "      <td></td>\n",
       "      <td></td>\n",
       "      <td></td>\n",
       "      <td></td>\n",
       "      <td></td>\n",
       "      <td></td>\n",
       "      <td>...</td>\n",
       "      <td></td>\n",
       "      <td></td>\n",
       "      <td></td>\n",
       "      <td></td>\n",
       "      <td></td>\n",
       "      <td></td>\n",
       "      <td></td>\n",
       "      <td></td>\n",
       "      <td></td>\n",
       "      <td></td>\n",
       "    </tr>\n",
       "    <tr>\n",
       "      <td>3</td>\n",
       "      <td>support10</td>\n",
       "      <td>5</td>\n",
       "      <td>1983</td>\n",
       "      <td></td>\n",
       "      <td></td>\n",
       "      <td></td>\n",
       "      <td></td>\n",
       "      <td></td>\n",
       "      <td></td>\n",
       "      <td></td>\n",
       "      <td>...</td>\n",
       "      <td></td>\n",
       "      <td></td>\n",
       "      <td></td>\n",
       "      <td></td>\n",
       "      <td></td>\n",
       "      <td></td>\n",
       "      <td></td>\n",
       "      <td></td>\n",
       "      <td></td>\n",
       "      <td></td>\n",
       "    </tr>\n",
       "    <tr>\n",
       "      <td>4</td>\n",
       "      <td>support10</td>\n",
       "      <td>6</td>\n",
       "      <td>1958</td>\n",
       "      <td></td>\n",
       "      <td></td>\n",
       "      <td></td>\n",
       "      <td></td>\n",
       "      <td></td>\n",
       "      <td></td>\n",
       "      <td></td>\n",
       "      <td>...</td>\n",
       "      <td></td>\n",
       "      <td></td>\n",
       "      <td></td>\n",
       "      <td></td>\n",
       "      <td></td>\n",
       "      <td></td>\n",
       "      <td></td>\n",
       "      <td></td>\n",
       "      <td></td>\n",
       "      <td></td>\n",
       "    </tr>\n",
       "  </tbody>\n",
       "</table>\n",
       "<p>5 rows × 243 columns</p>\n",
       "</div>"
      ],
      "text/plain": [
       "    clinicId  journalId  birthYear Forside 0 0 Forside 0 1 Forside 0 2  \\\n",
       "0  support10          1       1963                                       \n",
       "1  support10          2       1965                                       \n",
       "2  support23          3       1950                                       \n",
       "3  support10          5       1983                                       \n",
       "4  support10          6       1958                                       \n",
       "\n",
       "  Forside 0 3 Forside 0 4 Forside 0 5 Forside 0 6  ... Bakside 7 5  \\\n",
       "0                                                  ...               \n",
       "1                                                  ...               \n",
       "2                                                  ...               \n",
       "3                                                  ...               \n",
       "4                                                  ...               \n",
       "\n",
       "  Bakside 7 6 Bakside 7 7 Bakside 7 8 Bakside 7 9 Bakside 7 10 Bakside 7 11  \\\n",
       "0                                                                             \n",
       "1                                                                             \n",
       "2                                                                             \n",
       "3                                                                             \n",
       "4                                                                             \n",
       "\n",
       "  Bakside 7 12 Bakside 7 13 Bakside 7 14  \n",
       "0                                         \n",
       "1                                         \n",
       "2                                         \n",
       "3                                         \n",
       "4                                         \n",
       "\n",
       "[5 rows x 243 columns]"
      ]
     },
     "execution_count": 35,
     "metadata": {},
     "output_type": "execute_result"
    }
   ],
   "source": [
    "exclude_patients_from_clinic.head()"
   ]
  },
  {
   "cell_type": "code",
   "execution_count": null,
   "metadata": {},
   "outputs": [],
   "source": []
  },
  {
   "cell_type": "code",
   "execution_count": 36,
   "metadata": {},
   "outputs": [
    {
     "name": "stdout",
     "output_type": "stream",
     "text": [
      "support10_1_1963\n",
      "support10_2_1965\n",
      "support23_3_1950\n",
      "support10_5_1983\n",
      "support10_6_1958\n",
      "support10_7_1956\n",
      "support10_8_1967\n",
      "support10_9_1966\n",
      "support10_10_1964\n",
      "support10_11_1966\n",
      "support10_12_1950\n",
      "support10_13_1977\n",
      "support24_101_1984\n",
      "support24_102_1978\n",
      "support26_1001_1950\n",
      "support27_1002_1990\n",
      "support11_1808_1969\n",
      "support11_1810_1989\n",
      "support28_2000_1973\n",
      "support28_2002_1981\n",
      "support28_2005_1956\n",
      "support28_2006_1957\n",
      "support9_2748_1996\n",
      "support7_3816_1984\n",
      "support19_5191_1968\n",
      "support7_5655_1992\n",
      "support15_6245_1969\n",
      "support9_8017_1973\n",
      "support9_8092_1982\n",
      "support6_8853_1968\n",
      "support9_9145_1975\n",
      "support9_9327_1955\n",
      "support5_11785_1956\n",
      "support5_17504_1973\n",
      "support6_24778_1984\n",
      "support5_26296_1962\n",
      "support13_29310_2002\n",
      "support5_30160_1992\n",
      "support13_31894_1956\n",
      "support12_31903_1972\n",
      "support13_31909_1995\n",
      "support12_31910_1968\n",
      "support5_31911_1995\n",
      "support5_31912_1971\n",
      "support5_31959_1969\n",
      "support12_31992_1961\n",
      "support5_32015_1965\n",
      "support12_32035_1969\n",
      "support5_32110_1959\n",
      "support5_32111_1998\n",
      "support13_32177_1961\n",
      "support31_32359_1979\n",
      "support31_32542_1988\n",
      "support31_32581_1985\n",
      "support31_32753_1994\n",
      "support4_38888_1998\n",
      "support4_39151_1997\n",
      "support4_39178_1999\n",
      "support4_39185_1993\n",
      "support4_39442_1989\n",
      "support6_39465_1967\n",
      "support6_39884_1995\n",
      "support6_39956_1957\n"
     ]
    }
   ],
   "source": [
    "es = []\n",
    "\n",
    "for index, df in exclude_patients_from_clinic.iterrows():\n",
    "    #print(index)\n",
    "\n",
    "    \n",
    "    df_1_row = df.replace(' ',np.nan).dropna(axis=0,how=\"all\")\n",
    "    \n",
    "    patient_id = df_1_row[0].replace(' ','_').lower() + '_'+str(df_1_row[1]) +'_'+str(df_1_row[2])\n",
    "            \n",
    "\n",
    "    print(patient_id)\n",
    "\n",
    "    patient = {}\n",
    "    patient_details = {}\n",
    "    body_map = {}\n",
    "\n",
    "    patient.update({'patientId': patient_id}) \n",
    "\n",
    "    front = []\n",
    "    back = []\n",
    "\n",
    "    for val in df_1_row.index[3:].tolist():\n",
    "        tokens = str(val).split(' ')\n",
    "\n",
    "        if tokens[0] == 'Forside':     \n",
    "            front.append({ 'x':int(tokens[1]), 'y':int(tokens[2])})\n",
    "\n",
    "        if tokens[0] == 'Bakside':\n",
    "            back.append({ 'x':int(tokens[1]), 'y':int(tokens[2])})\n",
    "\n",
    "    body_map.update({'front':front})\n",
    "    body_map.update({'back':back})\n",
    "\n",
    "    patient_details.update({'body_map':body_map})\n",
    "    patient.update({'patientDetails':patient_details})\n",
    "\n",
    "    es.append(patient)\n",
    "    \n",
    "es;"
   ]
  },
  {
   "cell_type": "code",
   "execution_count": 37,
   "metadata": {},
   "outputs": [
    {
     "data": {
      "text/plain": [
       "'[{\"patientId\": \"support10_1_1963\", \"patientDetails\": {\"body_map\": {\"front\": [{\"x\": 1, \"y\": 8}, {\"x\": 6, \"y\": 8}], \"back\": [{\"x\": 1, \"y\": 8}, {\"x\": 3, \"y\": 2}, {\"x\": 4, \"y\": 2}, {\"x\": 6, \"y\": 8}]}}}, {\"patientId\": \"support10_2_1965\", \"patientDetails\": {\"body_map\": {\"front\": [{\"x\": 2, \"y\": 2}, {\"x\": 5, \"y\": 2}, {\"x\": 5, \"y\": 3}], \"back\": [{\"x\": 2, \"y\": 3}, {\"x\": 3, \"y\": 2}, {\"x\": 3, \"y\": 3}, {\"x\": 4, \"y\": 2}, {\"x\": 4, \"y\": 3}, {\"x\": 4, \"y\": 8}, {\"x\": 4, \"y\": 10}, {\"x\": 4, \"y\": 11}, {\"x\": 4, \"y\": 12}, {\"x\": 4, \"y\": 13}, {\"x\": 5, \"y\": 3}, {\"x\": 5, \"y\": 8}]}}}, {\"patientId\": \"support23_3_1950\", \"patientDetails\": {\"body_map\": {\"front\": [{\"x\": 2, \"y\": 3}, {\"x\": 3, \"y\": 10}, {\"x\": 3, \"y\": 14}, {\"x\": 4, \"y\": 10}, {\"x\": 4, \"y\": 14}], \"back\": [{\"x\": 3, \"y\": 6}, {\"x\": 3, \"y\": 10}, {\"x\": 3, \"y\": 14}, {\"x\": 4, \"y\": 6}, {\"x\": 4, \"y\": 10}, {\"x\": 4, \"y\": 14}, {\"x\": 5, \"y\": 3}]}}}, {\"patientId\": \"support10_5_1983\", \"patientDetails\": {\"body_map\": {\"front\": [{\"x\": 2, \"y\": 2}, {\"x\": 2, \"y\": 3}, {\"x\": 3, \"y\": 2}, {\"x\": 3, \"y\": 10}, {\"x\": 4, \"y\": 2}, {\"x\": 5, \"y\": 2}, {\"x\": 5, \"y\": 3}], \"back\": [{\"x\": 2, \"y\": 2}, {\"x\": 2, \"y\": 3}, {\"x\": 3, \"y\": 2}, {\"x\": 3, \"y\": 6}, {\"x\": 4, \"y\": 2}, {\"x\": 4, \"y\": 6}, {\"x\": 4, \"y\": 10}, {\"x\": 5, \"y\": 2}, {\"x\": 5, \"y\": 3}, {\"x\": 5, \"y\": 6}]}}}, {\"patientId\": \"support10_6_1958\", \"patientDetails\": {\"body_map\": {\"front\": [{\"x\": 3, \"y\": 2}, {\"x\": 3, \"y\": 3}, {\"x\": 4, \"y\": 2}, {\"x\": 4, \"y\": 3}], \"back\": [{\"x\": 3, \"y\": 2}, {\"x\": 3, \"y\": 3}, {\"x\": 3, \"y\": 4}, {\"x\": 4, \"y\": 2}, {\"x\": 4, \"y\": 3}, {\"x\": 4, \"y\": 4}]}}}, {\"patientId\": \"support10_7_1956\", \"patientDetails\": {\"body_map\": {\"front\": [{\"x\": 4, \"y\": 10}], \"back\": [{\"x\": 3, \"y\": 3}, {\"x\": 3, \"y\": 5}, {\"x\": 3, \"y\": 6}, {\"x\": 4, \"y\": 3}, {\"x\": 4, \"y\": 5}, {\"x\": 4, \"y\": 6}]}}}, {\"patientId\": \"support10_8_1967\", \"patientDetails\": {\"body_map\": {\"front\": [{\"x\": 0, \"y\": 8}, {\"x\": 1, \"y\": 8}, {\"x\": 3, \"y\": 10}, {\"x\": 6, \"y\": 8}, {\"x\": 7, \"y\": 8}], \"back\": [{\"x\": 3, \"y\": 2}, {\"x\": 4, \"y\": 2}]}}}, {\"patientId\": \"support10_9_1966\", \"patientDetails\": {\"body_map\": {\"front\": [{\"x\": 2, \"y\": 3}, {\"x\": 2, \"y\": 7}, {\"x\": 3, \"y\": 10}], \"back\": [{\"x\": 4, \"y\": 10}, {\"x\": 5, \"y\": 3}, {\"x\": 5, \"y\": 7}]}}}, {\"patientId\": \"support10_10_1964\", \"patientDetails\": {\"body_map\": {\"front\": [{\"x\": 2, \"y\": 4}, {\"x\": 3, \"y\": 10}], \"back\": [{\"x\": 2, \"y\": 7}, {\"x\": 3, \"y\": 2}, {\"x\": 3, \"y\": 6}, {\"x\": 3, \"y\": 7}, {\"x\": 4, \"y\": 2}, {\"x\": 4, \"y\": 6}, {\"x\": 5, \"y\": 2}, {\"x\": 5, \"y\": 3}, {\"x\": 5, \"y\": 4}]}}}, {\"patientId\": \"support10_11_1966\", \"patientDetails\": {\"body_map\": {\"front\": [{\"x\": 3, \"y\": 2}, {\"x\": 4, \"y\": 13}, {\"x\": 4, \"y\": 14}, {\"x\": 5, \"y\": 7}, {\"x\": 5, \"y\": 8}, {\"x\": 5, \"y\": 11}], \"back\": []}}}, {\"patientId\": \"support10_12_1950\", \"patientDetails\": {\"body_map\": {\"front\": [{\"x\": 1, \"y\": 5}, {\"x\": 2, \"y\": 3}, {\"x\": 2, \"y\": 4}, {\"x\": 2, \"y\": 5}, {\"x\": 2, \"y\": 6}, {\"x\": 2, \"y\": 8}, {\"x\": 3, \"y\": 2}, {\"x\": 3, \"y\": 9}, {\"x\": 3, \"y\": 11}, {\"x\": 3, \"y\": 13}], \"back\": [{\"x\": 4, \"y\": 2}, {\"x\": 4, \"y\": 13}, {\"x\": 5, \"y\": 3}, {\"x\": 5, \"y\": 6}, {\"x\": 5, \"y\": 7}, {\"x\": 5, \"y\": 8}, {\"x\": 5, \"y\": 9}, {\"x\": 5, \"y\": 10}, {\"x\": 5, \"y\": 11}, {\"x\": 5, \"y\": 12}, {\"x\": 6, \"y\": 4}, {\"x\": 6, \"y\": 5}, {\"x\": 6, \"y\": 7}]}}}, {\"patientId\": \"support10_13_1977\", \"patientDetails\": {\"body_map\": {\"front\": [{\"x\": 0, \"y\": 8}, {\"x\": 1, \"y\": 5}, {\"x\": 1, \"y\": 6}, {\"x\": 1, \"y\": 8}, {\"x\": 2, \"y\": 2}, {\"x\": 2, \"y\": 3}, {\"x\": 2, \"y\": 4}, {\"x\": 2, \"y\": 5}, {\"x\": 2, \"y\": 6}, {\"x\": 3, \"y\": 0}, {\"x\": 3, \"y\": 1}, {\"x\": 3, \"y\": 2}, {\"x\": 4, \"y\": 0}, {\"x\": 4, \"y\": 1}, {\"x\": 4, \"y\": 2}, {\"x\": 5, \"y\": 2}, {\"x\": 5, \"y\": 3}, {\"x\": 5, \"y\": 4}], \"back\": [{\"x\": 2, \"y\": 2}, {\"x\": 2, \"y\": 3}, {\"x\": 2, \"y\": 4}, {\"x\": 3, \"y\": 0}, {\"x\": 3, \"y\": 1}, {\"x\": 3, \"y\": 2}, {\"x\": 3, \"y\": 4}, {\"x\": 4, \"y\": 0}, {\"x\": 4, \"y\": 1}, {\"x\": 4, \"y\": 2}, {\"x\": 4, \"y\": 4}, {\"x\": 5, \"y\": 2}, {\"x\": 5, \"y\": 3}, {\"x\": 5, \"y\": 4}, {\"x\": 5, \"y\": 5}, {\"x\": 5, \"y\": 6}, {\"x\": 6, \"y\": 5}, {\"x\": 6, \"y\": 6}, {\"x\": 6, \"y\": 8}]}}}, {\"patientId\": \"support24_101_1984\", \"patientDetails\": {\"body_map\": {\"front\": [{\"x\": 3, \"y\": 10}, {\"x\": 4, \"y\": 10}], \"back\": [{\"x\": 2, \"y\": 2}, {\"x\": 2, \"y\": 3}, {\"x\": 3, \"y\": 2}, {\"x\": 3, \"y\": 3}, {\"x\": 3, \"y\": 6}, {\"x\": 3, \"y\": 9}, {\"x\": 3, \"y\": 10}, {\"x\": 3, \"y\": 11}, {\"x\": 4, \"y\": 2}, {\"x\": 4, \"y\": 3}, {\"x\": 4, \"y\": 6}, {\"x\": 5, \"y\": 2}, {\"x\": 5, \"y\": 3}]}}}, {\"patientId\": \"support24_102_1978\", \"patientDetails\": {\"body_map\": {\"front\": [{\"x\": 2, \"y\": 0}, {\"x\": 2, \"y\": 3}, {\"x\": 3, \"y\": 1}, {\"x\": 3, \"y\": 2}, {\"x\": 4, \"y\": 2}, {\"x\": 4, \"y\": 3}, {\"x\": 5, \"y\": 3}], \"back\": [{\"x\": 2, \"y\": 2}, {\"x\": 2, \"y\": 3}, {\"x\": 3, \"y\": 2}, {\"x\": 3, \"y\": 3}, {\"x\": 4, \"y\": 2}, {\"x\": 4, \"y\": 3}, {\"x\": 5, \"y\": 2}, {\"x\": 5, \"y\": 3}, {\"x\": 6, \"y\": 3}]}}}, {\"patientId\": \"support26_1001_1950\", \"patientDetails\": {\"body_map\": {\"front\": [{\"x\": 2, \"y\": 4}, {\"x\": 3, \"y\": 0}, {\"x\": 3, \"y\": 10}, {\"x\": 4, \"y\": 0}, {\"x\": 4, \"y\": 10}], \"back\": [{\"x\": 1, \"y\": 8}, {\"x\": 3, \"y\": 0}, {\"x\": 3, \"y\": 3}, {\"x\": 4, \"y\": 0}, {\"x\": 4, \"y\": 3}, {\"x\": 6, \"y\": 8}]}}}, {\"patientId\": \"support27_1002_1990\", \"patientDetails\": {\"body_map\": {\"front\": [{\"x\": 3, \"y\": 10}, {\"x\": 4, \"y\": 10}], \"back\": []}}}, {\"patientId\": \"support11_1808_1969\", \"patientDetails\": {\"body_map\": {\"front\": [{\"x\": 3, \"y\": 1}, {\"x\": 3, \"y\": 5}, {\"x\": 4, \"y\": 1}, {\"x\": 4, \"y\": 5}], \"back\": [{\"x\": 1, \"y\": 7}, {\"x\": 3, \"y\": 7}, {\"x\": 3, \"y\": 10}, {\"x\": 3, \"y\": 13}, {\"x\": 4, \"y\": 7}, {\"x\": 4, \"y\": 13}, {\"x\": 5, \"y\": 7}, {\"x\": 5, \"y\": 8}, {\"x\": 6, \"y\": 7}]}}}, {\"patientId\": \"support11_1810_1989\", \"patientDetails\": {\"body_map\": {\"front\": [{\"x\": 0, \"y\": 7}, {\"x\": 1, \"y\": 5}, {\"x\": 1, \"y\": 6}, {\"x\": 1, \"y\": 7}, {\"x\": 2, \"y\": 2}, {\"x\": 2, \"y\": 3}, {\"x\": 2, \"y\": 4}, {\"x\": 2, \"y\": 5}, {\"x\": 2, \"y\": 6}, {\"x\": 3, \"y\": 2}], \"back\": [{\"x\": 4, \"y\": 2}, {\"x\": 4, \"y\": 3}, {\"x\": 4, \"y\": 4}, {\"x\": 5, \"y\": 3}, {\"x\": 5, \"y\": 4}, {\"x\": 5, \"y\": 5}, {\"x\": 5, \"y\": 6}, {\"x\": 6, \"y\": 5}, {\"x\": 6, \"y\": 6}, {\"x\": 6, \"y\": 7}, {\"x\": 7, \"y\": 7}]}}}, {\"patientId\": \"support28_2000_1973\", \"patientDetails\": {\"body_map\": {\"front\": [{\"x\": 1, \"y\": 8}, {\"x\": 2, \"y\": 2}, {\"x\": 3, \"y\": 10}, {\"x\": 3, \"y\": 13}, {\"x\": 4, \"y\": 10}, {\"x\": 4, \"y\": 13}, {\"x\": 5, \"y\": 2}, {\"x\": 6, \"y\": 5}, {\"x\": 6, \"y\": 8}], \"back\": [{\"x\": 2, \"y\": 2}, {\"x\": 2, \"y\": 7}, {\"x\": 2, \"y\": 8}, {\"x\": 3, \"y\": 2}, {\"x\": 3, \"y\": 3}, {\"x\": 3, \"y\": 6}, {\"x\": 3, \"y\": 7}, {\"x\": 3, \"y\": 14}, {\"x\": 4, \"y\": 2}, {\"x\": 4, \"y\": 3}, {\"x\": 4, \"y\": 6}, {\"x\": 4, \"y\": 7}, {\"x\": 5, \"y\": 2}, {\"x\": 5, \"y\": 7}, {\"x\": 5, \"y\": 8}]}}}, {\"patientId\": \"support28_2002_1981\", \"patientDetails\": {\"body_map\": {\"front\": [{\"x\": 0, \"y\": 7}, {\"x\": 0, \"y\": 8}, {\"x\": 1, \"y\": 4}, {\"x\": 1, \"y\": 5}, {\"x\": 1, \"y\": 6}, {\"x\": 1, \"y\": 7}, {\"x\": 1, \"y\": 8}, {\"x\": 2, \"y\": 2}, {\"x\": 2, \"y\": 3}, {\"x\": 2, \"y\": 4}, {\"x\": 2, \"y\": 5}, {\"x\": 2, \"y\": 6}, {\"x\": 3, \"y\": 2}, {\"x\": 3, \"y\": 3}, {\"x\": 4, \"y\": 2}, {\"x\": 4, \"y\": 3}, {\"x\": 5, \"y\": 2}, {\"x\": 5, \"y\": 3}, {\"x\": 5, \"y\": 4}, {\"x\": 5, \"y\": 5}, {\"x\": 5, \"y\": 6}, {\"x\": 6, \"y\": 5}, {\"x\": 6, \"y\": 6}, {\"x\": 6, \"y\": 7}, {\"x\": 6, \"y\": 8}, {\"x\": 7, \"y\": 7}, {\"x\": 7, \"y\": 8}], \"back\": [{\"x\": 0, \"y\": 7}, {\"x\": 0, \"y\": 8}, {\"x\": 1, \"y\": 5}, {\"x\": 1, \"y\": 6}, {\"x\": 1, \"y\": 7}, {\"x\": 1, \"y\": 8}, {\"x\": 2, \"y\": 2}, {\"x\": 2, \"y\": 3}, {\"x\": 2, \"y\": 4}, {\"x\": 2, \"y\": 5}, {\"x\": 2, \"y\": 6}, {\"x\": 3, \"y\": 2}, {\"x\": 3, \"y\": 3}, {\"x\": 4, \"y\": 2}, {\"x\": 4, \"y\": 3}, {\"x\": 4, \"y\": 6}, {\"x\": 4, \"y\": 8}, {\"x\": 5, \"y\": 2}, {\"x\": 5, \"y\": 3}, {\"x\": 5, \"y\": 4}, {\"x\": 5, \"y\": 5}, {\"x\": 5, \"y\": 6}, {\"x\": 5, \"y\": 8}, {\"x\": 6, \"y\": 5}, {\"x\": 6, \"y\": 6}, {\"x\": 6, \"y\": 7}, {\"x\": 6, \"y\": 8}, {\"x\": 7, \"y\": 7}, {\"x\": 7, \"y\": 8}]}}}, {\"patientId\": \"support28_2005_1956\", \"patientDetails\": {\"body_map\": {\"front\": [{\"x\": 1, \"y\": 5}, {\"x\": 2, \"y\": 3}, {\"x\": 2, \"y\": 7}, {\"x\": 3, \"y\": 10}, {\"x\": 4, \"y\": 10}, {\"x\": 5, \"y\": 3}, {\"x\": 5, \"y\": 7}, {\"x\": 6, \"y\": 5}], \"back\": [{\"x\": 1, \"y\": 5}, {\"x\": 2, \"y\": 3}, {\"x\": 3, \"y\": 3}, {\"x\": 3, \"y\": 6}, {\"x\": 3, \"y\": 10}, {\"x\": 4, \"y\": 3}, {\"x\": 4, \"y\": 6}, {\"x\": 4, \"y\": 10}, {\"x\": 5, \"y\": 3}, {\"x\": 6, \"y\": 5}]}}}, {\"patientId\": \"support28_2006_1957\", \"patientDetails\": {\"body_map\": {\"front\": [], \"back\": [{\"x\": 2, \"y\": 2}, {\"x\": 2, \"y\": 3}, {\"x\": 2, \"y\": 4}, {\"x\": 3, \"y\": 2}, {\"x\": 3, \"y\": 3}, {\"x\": 3, \"y\": 4}, {\"x\": 4, \"y\": 2}, {\"x\": 4, \"y\": 3}, {\"x\": 4, \"y\": 4}]}}}, {\"patientId\": \"support9_2748_1996\", \"patientDetails\": {\"body_map\": {\"front\": [{\"x\": 2, \"y\": 2}, {\"x\": 2, \"y\": 3}], \"back\": [{\"x\": 5, \"y\": 2}, {\"x\": 5, \"y\": 3}]}}}, {\"patientId\": \"support7_3816_1984\", \"patientDetails\": {\"body_map\": {\"front\": [], \"back\": [{\"x\": 2, \"y\": 6}, {\"x\": 2, \"y\": 7}, {\"x\": 3, \"y\": 6}, {\"x\": 3, \"y\": 7}, {\"x\": 4, \"y\": 6}]}}}, {\"patientId\": \"support19_5191_1968\", \"patientDetails\": {\"body_map\": {\"front\": [{\"x\": 3, \"y\": 13}, {\"x\": 5, \"y\": 3}], \"back\": [{\"x\": 2, \"y\": 3}]}}}, {\"patientId\": \"support7_5655_1992\", \"patientDetails\": {\"body_map\": {\"front\": [{\"x\": 3, \"y\": 6}, {\"x\": 4, \"y\": 6}], \"back\": [{\"x\": 2, \"y\": 2}, {\"x\": 3, \"y\": 2}, {\"x\": 4, \"y\": 2}, {\"x\": 4, \"y\": 3}]}}}, {\"patientId\": \"support15_6245_1969\", \"patientDetails\": {\"body_map\": {\"front\": [{\"x\": 4, \"y\": 0}, {\"x\": 4, \"y\": 1}, {\"x\": 4, \"y\": 2}, {\"x\": 4, \"y\": 3}, {\"x\": 4, \"y\": 4}, {\"x\": 4, \"y\": 5}, {\"x\": 4, \"y\": 6}, {\"x\": 4, \"y\": 7}, {\"x\": 4, \"y\": 8}, {\"x\": 4, \"y\": 9}, {\"x\": 4, \"y\": 10}, {\"x\": 4, \"y\": 11}, {\"x\": 4, \"y\": 12}, {\"x\": 4, \"y\": 13}, {\"x\": 4, \"y\": 14}, {\"x\": 5, \"y\": 2}, {\"x\": 5, \"y\": 3}, {\"x\": 5, \"y\": 7}, {\"x\": 5, \"y\": 8}], \"back\": [{\"x\": 1, \"y\": 7}, {\"x\": 2, \"y\": 2}, {\"x\": 2, \"y\": 3}, {\"x\": 2, \"y\": 4}, {\"x\": 2, \"y\": 7}, {\"x\": 3, \"y\": 0}, {\"x\": 3, \"y\": 1}, {\"x\": 3, \"y\": 2}, {\"x\": 3, \"y\": 3}, {\"x\": 3, \"y\": 4}, {\"x\": 3, \"y\": 5}, {\"x\": 3, \"y\": 6}, {\"x\": 3, \"y\": 7}, {\"x\": 3, \"y\": 8}, {\"x\": 3, \"y\": 9}, {\"x\": 3, \"y\": 10}, {\"x\": 3, \"y\": 11}, {\"x\": 3, \"y\": 12}, {\"x\": 3, \"y\": 13}, {\"x\": 3, \"y\": 14}]}}}, {\"patientId\": \"support9_8017_1973\", \"patientDetails\": {\"body_map\": {\"front\": [{\"x\": 4, \"y\": 2}, {\"x\": 5, \"y\": 2}, {\"x\": 5, \"y\": 3}, {\"x\": 5, \"y\": 5}], \"back\": [{\"x\": 2, \"y\": 2}, {\"x\": 2, \"y\": 3}, {\"x\": 2, \"y\": 5}, {\"x\": 3, \"y\": 2}]}}}, {\"patientId\": \"support9_8092_1982\", \"patientDetails\": {\"body_map\": {\"front\": [{\"x\": 1, \"y\": 6}, {\"x\": 1, \"y\": 7}, {\"x\": 2, \"y\": 2}, {\"x\": 2, \"y\": 3}, {\"x\": 3, \"y\": 2}, {\"x\": 4, \"y\": 2}, {\"x\": 5, \"y\": 2}, {\"x\": 5, \"y\": 3}], \"back\": [{\"x\": 2, \"y\": 3}, {\"x\": 5, \"y\": 3}, {\"x\": 5, \"y\": 5}, {\"x\": 6, \"y\": 5}, {\"x\": 6, \"y\": 6}, {\"x\": 6, \"y\": 7}]}}}, {\"patientId\": \"support6_8853_1968\", \"patientDetails\": {\"body_map\": {\"front\": [{\"x\": 2, \"y\": 6}, {\"x\": 5, \"y\": 6}], \"back\": [{\"x\": 2, \"y\": 6}, {\"x\": 3, \"y\": 6}, {\"x\": 4, \"y\": 6}, {\"x\": 5, \"y\": 6}]}}}, {\"patientId\": \"support9_9145_1975\", \"patientDetails\": {\"body_map\": {\"front\": [], \"back\": [{\"x\": 3, \"y\": 12}, {\"x\": 3, \"y\": 13}, {\"x\": 3, \"y\": 14}, {\"x\": 4, \"y\": 2}, {\"x\": 4, \"y\": 13}, {\"x\": 5, \"y\": 13}, {\"x\": 6, \"y\": 5}, {\"x\": 6, \"y\": 8}]}}}, {\"patientId\": \"support9_9327_1955\", \"patientDetails\": {\"body_map\": {\"front\": [], \"back\": []}}}, {\"patientId\": \"support5_11785_1956\", \"patientDetails\": {\"body_map\": {\"front\": [{\"x\": 4, \"y\": 7}, {\"x\": 4, \"y\": 8}, {\"x\": 5, \"y\": 7}], \"back\": [{\"x\": 2, \"y\": 7}, {\"x\": 3, \"y\": 7}]}}}, {\"patientId\": \"support5_17504_1973\", \"patientDetails\": {\"body_map\": {\"front\": [{\"x\": 2, \"y\": 7}], \"back\": [{\"x\": 5, \"y\": 7}]}}}, {\"patientId\": \"support6_24778_1984\", \"patientDetails\": {\"body_map\": {\"front\": [{\"x\": 3, \"y\": 2}, {\"x\": 4, \"y\": 2}], \"back\": [{\"x\": 3, \"y\": 2}, {\"x\": 3, \"y\": 3}, {\"x\": 3, \"y\": 5}, {\"x\": 3, \"y\": 6}, {\"x\": 4, \"y\": 2}, {\"x\": 4, \"y\": 3}, {\"x\": 4, \"y\": 5}, {\"x\": 4, \"y\": 6}, {\"x\": 5, \"y\": 5}, {\"x\": 6, \"y\": 5}]}}}, {\"patientId\": \"support5_26296_1962\", \"patientDetails\": {\"body_map\": {\"front\": [], \"back\": [{\"x\": 1, \"y\": 5}, {\"x\": 3, \"y\": 6}, {\"x\": 4, \"y\": 2}, {\"x\": 4, \"y\": 3}, {\"x\": 4, \"y\": 4}, {\"x\": 4, \"y\": 6}, {\"x\": 5, \"y\": 3}, {\"x\": 6, \"y\": 5}]}}}, {\"patientId\": \"support13_29310_2002\", \"patientDetails\": {\"body_map\": {\"front\": [], \"back\": [{\"x\": 3, \"y\": 5}, {\"x\": 3, \"y\": 6}, {\"x\": 4, \"y\": 5}, {\"x\": 4, \"y\": 6}]}}}, {\"patientId\": \"support5_30160_1992\", \"patientDetails\": {\"body_map\": {\"front\": [{\"x\": 0, \"y\": 7}, {\"x\": 1, \"y\": 7}, {\"x\": 4, \"y\": 7}, {\"x\": 4, \"y\": 12}, {\"x\": 5, \"y\": 3}, {\"x\": 6, \"y\": 7}, {\"x\": 7, \"y\": 7}], \"back\": [{\"x\": 3, \"y\": 6}, {\"x\": 3, \"y\": 7}, {\"x\": 3, \"y\": 13}, {\"x\": 4, \"y\": 6}, {\"x\": 4, \"y\": 7}]}}}, {\"patientId\": \"support13_31894_1956\", \"patientDetails\": {\"body_map\": {\"front\": [{\"x\": 4, \"y\": 9}, {\"x\": 4, \"y\": 10}, {\"x\": 4, \"y\": 11}, {\"x\": 5, \"y\": 8}, {\"x\": 5, \"y\": 9}], \"back\": [{\"x\": 2, \"y\": 7}, {\"x\": 2, \"y\": 8}, {\"x\": 2, \"y\": 9}, {\"x\": 3, \"y\": 7}]}}}, {\"patientId\": \"support12_31903_1972\", \"patientDetails\": {\"body_map\": {\"front\": [{\"x\": 5, \"y\": 2}, {\"x\": 5, \"y\": 3}], \"back\": [{\"x\": 2, \"y\": 2}, {\"x\": 2, \"y\": 3}]}}}, {\"patientId\": \"support13_31909_1995\", \"patientDetails\": {\"body_map\": {\"front\": [{\"x\": 1, \"y\": 2}, {\"x\": 2, \"y\": 3}, {\"x\": 4, \"y\": 2}, {\"x\": 4, \"y\": 3}, {\"x\": 5, \"y\": 3}], \"back\": [{\"x\": 3, \"y\": 6}, {\"x\": 4, \"y\": 6}]}}}, {\"patientId\": \"support12_31910_1968\", \"patientDetails\": {\"body_map\": {\"front\": [{\"x\": 4, \"y\": 10}, {\"x\": 4, \"y\": 11}], \"back\": [{\"x\": 3, \"y\": 10}, {\"x\": 3, \"y\": 11}]}}}, {\"patientId\": \"support5_31911_1995\", \"patientDetails\": {\"body_map\": {\"front\": [{\"x\": 3, \"y\": 10}, {\"x\": 4, \"y\": 12}, {\"x\": 4, \"y\": 13}], \"back\": [{\"x\": 3, \"y\": 12}, {\"x\": 3, \"y\": 13}]}}}, {\"patientId\": \"support5_31912_1971\", \"patientDetails\": {\"body_map\": {\"front\": [], \"back\": [{\"x\": 3, \"y\": 6}, {\"x\": 3, \"y\": 7}, {\"x\": 4, \"y\": 6}, {\"x\": 4, \"y\": 7}, {\"x\": 4, \"y\": 8}, {\"x\": 5, \"y\": 7}, {\"x\": 5, \"y\": 8}]}}}, {\"patientId\": \"support5_31959_1969\", \"patientDetails\": {\"body_map\": {\"front\": [], \"back\": []}}}, {\"patientId\": \"support12_31992_1961\", \"patientDetails\": {\"body_map\": {\"front\": [{\"x\": 2, \"y\": 7}, {\"x\": 2, \"y\": 8}, {\"x\": 2, \"y\": 9}, {\"x\": 3, \"y\": 7}, {\"x\": 3, \"y\": 8}, {\"x\": 3, \"y\": 9}], \"back\": [{\"x\": 3, \"y\": 6}, {\"x\": 4, \"y\": 6}, {\"x\": 4, \"y\": 7}, {\"x\": 4, \"y\": 8}, {\"x\": 4, \"y\": 9}, {\"x\": 5, \"y\": 7}, {\"x\": 5, \"y\": 8}, {\"x\": 5, \"y\": 9}]}}}, {\"patientId\": \"support5_32015_1965\", \"patientDetails\": {\"body_map\": {\"front\": [{\"x\": 2, \"y\": 3}, {\"x\": 2, \"y\": 6}, {\"x\": 5, \"y\": 3}], \"back\": [{\"x\": 2, \"y\": 3}, {\"x\": 5, \"y\": 3}, {\"x\": 5, \"y\": 7}]}}}, {\"patientId\": \"support12_32035_1969\", \"patientDetails\": {\"body_map\": {\"front\": [], \"back\": [{\"x\": 3, \"y\": 3}, {\"x\": 3, \"y\": 4}]}}}, {\"patientId\": \"support5_32110_1959\", \"patientDetails\": {\"body_map\": {\"front\": [], \"back\": [{\"x\": 3, \"y\": 3}, {\"x\": 4, \"y\": 3}]}}}, {\"patientId\": \"support5_32111_1998\", \"patientDetails\": {\"body_map\": {\"front\": [{\"x\": 1, \"y\": 2}, {\"x\": 2, \"y\": 1}, {\"x\": 2, \"y\": 2}, {\"x\": 2, \"y\": 3}, {\"x\": 2, \"y\": 4}, {\"x\": 3, \"y\": 2}], \"back\": [{\"x\": 4, \"y\": 2}, {\"x\": 4, \"y\": 3}, {\"x\": 5, \"y\": 2}, {\"x\": 5, \"y\": 3}]}}}, {\"patientId\": \"support13_32177_1961\", \"patientDetails\": {\"body_map\": {\"front\": [{\"x\": 4, \"y\": 5}], \"back\": [{\"x\": 3, \"y\": 6}, {\"x\": 3, \"y\": 7}, {\"x\": 3, \"y\": 8}, {\"x\": 4, \"y\": 6}, {\"x\": 4, \"y\": 7}, {\"x\": 4, \"y\": 8}]}}}, {\"patientId\": \"support31_32359_1979\", \"patientDetails\": {\"body_map\": {\"front\": [{\"x\": 0, \"y\": 7}, {\"x\": 1, \"y\": 7}, {\"x\": 2, \"y\": 2}, {\"x\": 2, \"y\": 3}, {\"x\": 2, \"y\": 7}, {\"x\": 3, \"y\": 0}, {\"x\": 3, \"y\": 1}, {\"x\": 3, \"y\": 2}, {\"x\": 3, \"y\": 7}, {\"x\": 4, \"y\": 0}], \"back\": [{\"x\": 4, \"y\": 0}, {\"x\": 4, \"y\": 1}, {\"x\": 4, \"y\": 2}, {\"x\": 4, \"y\": 3}, {\"x\": 4, \"y\": 6}, {\"x\": 5, \"y\": 3}, {\"x\": 5, \"y\": 6}]}}}, {\"patientId\": \"support31_32542_1988\", \"patientDetails\": {\"body_map\": {\"front\": [{\"x\": 1, \"y\": 4}, {\"x\": 1, \"y\": 5}, {\"x\": 1, \"y\": 6}, {\"x\": 1, \"y\": 7}, {\"x\": 2, \"y\": 2}, {\"x\": 2, \"y\": 3}, {\"x\": 2, \"y\": 4}, {\"x\": 2, \"y\": 5}, {\"x\": 2, \"y\": 6}, {\"x\": 2, \"y\": 7}, {\"x\": 2, \"y\": 10}, {\"x\": 3, \"y\": 2}, {\"x\": 3, \"y\": 6}, {\"x\": 3, \"y\": 7}, {\"x\": 3, \"y\": 10}, {\"x\": 3, \"y\": 11}, {\"x\": 3, \"y\": 12}, {\"x\": 4, \"y\": 2}, {\"x\": 4, \"y\": 6}, {\"x\": 4, \"y\": 7}, {\"x\": 4, \"y\": 8}, {\"x\": 4, \"y\": 9}, {\"x\": 4, \"y\": 10}, {\"x\": 4, \"y\": 11}, {\"x\": 4, \"y\": 12}, {\"x\": 4, \"y\": 13}, {\"x\": 4, \"y\": 14}, {\"x\": 5, \"y\": 6}, {\"x\": 5, \"y\": 7}], \"back\": [{\"x\": 1, \"y\": 5}, {\"x\": 1, \"y\": 6}, {\"x\": 1, \"y\": 7}, {\"x\": 2, \"y\": 3}, {\"x\": 2, \"y\": 4}, {\"x\": 2, \"y\": 5}, {\"x\": 2, \"y\": 6}, {\"x\": 3, \"y\": 2}, {\"x\": 3, \"y\": 3}, {\"x\": 3, \"y\": 4}, {\"x\": 3, \"y\": 6}, {\"x\": 3, \"y\": 7}, {\"x\": 3, \"y\": 8}, {\"x\": 3, \"y\": 9}, {\"x\": 3, \"y\": 10}, {\"x\": 3, \"y\": 11}, {\"x\": 3, \"y\": 12}, {\"x\": 3, \"y\": 13}, {\"x\": 4, \"y\": 2}, {\"x\": 4, \"y\": 3}, {\"x\": 4, \"y\": 4}, {\"x\": 4, \"y\": 6}, {\"x\": 4, \"y\": 7}, {\"x\": 4, \"y\": 10}, {\"x\": 4, \"y\": 13}, {\"x\": 5, \"y\": 3}, {\"x\": 5, \"y\": 7}]}}}, {\"patientId\": \"support31_32581_1985\", \"patientDetails\": {\"body_map\": {\"front\": [{\"x\": 1, \"y\": 7}, {\"x\": 3, \"y\": 2}, {\"x\": 4, \"y\": 2}, {\"x\": 6, \"y\": 7}], \"back\": [{\"x\": 1, \"y\": 7}, {\"x\": 3, \"y\": 0}, {\"x\": 3, \"y\": 1}, {\"x\": 3, \"y\": 2}, {\"x\": 4, \"y\": 0}, {\"x\": 4, \"y\": 1}, {\"x\": 4, \"y\": 2}, {\"x\": 6, \"y\": 7}]}}}, {\"patientId\": \"support31_32753_1994\", \"patientDetails\": {\"body_map\": {\"front\": [{\"x\": 5, \"y\": 8}, {\"x\": 5, \"y\": 9}], \"back\": [{\"x\": 2, \"y\": 8}, {\"x\": 2, \"y\": 9}, {\"x\": 3, \"y\": 7}, {\"x\": 3, \"y\": 8}, {\"x\": 3, \"y\": 9}]}}}, {\"patientId\": \"support4_38888_1998\", \"patientDetails\": {\"body_map\": {\"front\": [{\"x\": 2, \"y\": 2}, {\"x\": 2, \"y\": 3}, {\"x\": 2, \"y\": 7}, {\"x\": 2, \"y\": 8}, {\"x\": 3, \"y\": 2}, {\"x\": 3, \"y\": 3}, {\"x\": 3, \"y\": 7}, {\"x\": 3, \"y\": 8}], \"back\": [{\"x\": 3, \"y\": 3}]}}}, {\"patientId\": \"support4_39151_1997\", \"patientDetails\": {\"body_map\": {\"front\": [{\"x\": 3, \"y\": 10}], \"back\": []}}}, {\"patientId\": \"support4_39178_1999\", \"patientDetails\": {\"body_map\": {\"front\": [], \"back\": [{\"x\": 3, \"y\": 3}, {\"x\": 4, \"y\": 3}, {\"x\": 4, \"y\": 4}]}}}, {\"patientId\": \"support4_39185_1993\", \"patientDetails\": {\"body_map\": {\"front\": [{\"x\": 3, \"y\": 2}, {\"x\": 4, \"y\": 2}], \"back\": [{\"x\": 3, \"y\": 2}, {\"x\": 4, \"y\": 2}, {\"x\": 4, \"y\": 3}, {\"x\": 4, \"y\": 4}]}}}, {\"patientId\": \"support4_39442_1989\", \"patientDetails\": {\"body_map\": {\"front\": [{\"x\": 3, \"y\": 0}, {\"x\": 4, \"y\": 0}], \"back\": [{\"x\": 3, \"y\": 2}, {\"x\": 3, \"y\": 3}, {\"x\": 3, \"y\": 4}, {\"x\": 3, \"y\": 5}, {\"x\": 3, \"y\": 6}, {\"x\": 4, \"y\": 2}, {\"x\": 4, \"y\": 3}, {\"x\": 4, \"y\": 4}, {\"x\": 4, \"y\": 5}, {\"x\": 4, \"y\": 6}]}}}, {\"patientId\": \"support6_39465_1967\", \"patientDetails\": {\"body_map\": {\"front\": [{\"x\": 2, \"y\": 3}, {\"x\": 3, \"y\": 2}, {\"x\": 4, \"y\": 2}, {\"x\": 5, \"y\": 3}], \"back\": [{\"x\": 2, \"y\": 3}, {\"x\": 3, \"y\": 2}, {\"x\": 3, \"y\": 6}, {\"x\": 4, \"y\": 2}, {\"x\": 5, \"y\": 3}]}}}, {\"patientId\": \"support6_39884_1995\", \"patientDetails\": {\"body_map\": {\"front\": [{\"x\": 2, \"y\": 3}, {\"x\": 2, \"y\": 7}, {\"x\": 3, \"y\": 7}], \"back\": [{\"x\": 3, \"y\": 2}, {\"x\": 3, \"y\": 3}, {\"x\": 4, \"y\": 2}, {\"x\": 4, \"y\": 3}]}}}, {\"patientId\": \"support6_39956_1957\", \"patientDetails\": {\"body_map\": {\"front\": [{\"x\": 3, \"y\": 5}], \"back\": [{\"x\": 4, \"y\": 5}, {\"x\": 4, \"y\": 6}, {\"x\": 4, \"y\": 7}, {\"x\": 4, \"y\": 8}]}}}]'"
      ]
     },
     "execution_count": 37,
     "metadata": {},
     "output_type": "execute_result"
    }
   ],
   "source": [
    "json.dumps(es)"
   ]
  },
  {
   "cell_type": "code",
   "execution_count": 38,
   "metadata": {},
   "outputs": [],
   "source": [
    "with open(f'{data_dir}body_map.json', 'w', encoding='utf-8') as f:\n",
    "    json.dump(es, f, ensure_ascii=False, indent=0)"
   ]
  },
  {
   "cell_type": "markdown",
   "metadata": {},
   "source": [
    "# \n",
    "# \n",
    "# "
   ]
  },
  {
   "cell_type": "markdown",
   "metadata": {},
   "source": [
    "# Elasticsearch Operations"
   ]
  },
  {
   "cell_type": "markdown",
   "metadata": {},
   "source": [
    "## Code for getting a patient by patientId from the ES"
   ]
  },
  {
   "cell_type": "raw",
   "metadata": {},
   "source": [
    "curl -XGET \"http://localhost:9200/manual_patients/_search\" -H 'Content-Type: application/json' -d'{\"query\": {\"match\": {\"patientId\": \"Adam_Saso_38888_1998\"}}}'"
   ]
  },
  {
   "cell_type": "markdown",
   "metadata": {},
   "source": [
    "# \n",
    "## Set the elasticsearch (es) index name\n",
    "## "
   ]
  },
  {
   "cell_type": "code",
   "execution_count": 39,
   "metadata": {},
   "outputs": [],
   "source": [
    "es_index = 'manual_patients'"
   ]
  },
  {
   "cell_type": "markdown",
   "metadata": {},
   "source": [
    "# "
   ]
  },
  {
   "cell_type": "code",
   "execution_count": 40,
   "metadata": {},
   "outputs": [],
   "source": [
    "def get_all_docs(es_index=es_index):\n",
    "    response = requests.post(es_base_url+'/'+es_index+'/_search?pretty', headers=headers, data='{}')\n",
    "    return response.json()"
   ]
  },
  {
   "cell_type": "code",
   "execution_count": 41,
   "metadata": {},
   "outputs": [],
   "source": [
    "def get_doc_by_pid(pid, es_index=es_index,):\n",
    "    data = '{  \"query\": {    \"match\": {      \"patientId\": \"'+pid+'\"    }  }}'\n",
    "    response = requests.post(es_base_url+'/'+es_index+'/_search?pretty', headers=headers, data=data)\n",
    "    return response.json()"
   ]
  },
  {
   "cell_type": "code",
   "execution_count": 42,
   "metadata": {},
   "outputs": [],
   "source": [
    "def get_id_for_pid( pid, es_index=es_index):\n",
    "    params = (('filter_path', 'hits.hits._source'))\n",
    "    data = '{  \"query\": {    \"match\": {      \"patientId\": \"'+pid+'\"    }  }}'\n",
    "    response = requests.get(f'{es_base_url}/{es_index}/_search?filter_path=hits.hits._id', headers=headers, data=data)\n",
    "    response_json = response.json()\n",
    "    return response_json.get('hits', {}).get('hits', [{}])[0].get('_id')"
   ]
  },
  {
   "cell_type": "code",
   "execution_count": 43,
   "metadata": {},
   "outputs": [],
   "source": [
    "get_id_for_pid('vidar_guttormsen_30160_1992')"
   ]
  },
  {
   "cell_type": "markdown",
   "metadata": {},
   "source": [
    "# "
   ]
  },
  {
   "cell_type": "markdown",
   "metadata": {},
   "source": [
    "# "
   ]
  },
  {
   "cell_type": "markdown",
   "metadata": {},
   "source": [
    "## Code for getting only the list of patient ids from the ES"
   ]
  },
  {
   "cell_type": "code",
   "execution_count": 44,
   "metadata": {},
   "outputs": [],
   "source": [
    "def update_es_doc_for_id( _id, json_doc, es_index=es_index):\n",
    "    upsert_doc = json.dumps({'doc': json_doc, 'doc_as_upsert': True})\n",
    "    response = requests.post(f'{es_base_url}/{es_index}/_update/{_id}?pretty', headers=headers, data=upsert_doc)\n",
    "    return response.json()"
   ]
  },
  {
   "cell_type": "code",
   "execution_count": 45,
   "metadata": {},
   "outputs": [],
   "source": [
    "def upadate_es_index(body_maps_list=es, es_index=es_index):\n",
    "    for body_map in body_maps_list:\n",
    "        pid = body_map.get('patientId')\n",
    "        print(pid)\n",
    "        _id = get_id_for_pid( pid, es_index)\n",
    "        print(_id)\n",
    "        \n",
    "        if _id is None:\n",
    "            print('_id was None')\n",
    "        else :\n",
    "            print('Upserting the pid:',pid, ' and _id: ', _id)\n",
    "            update_es_doc_for_id(_id, body_map, es_index)"
   ]
  },
  {
   "cell_type": "code",
   "execution_count": 46,
   "metadata": {},
   "outputs": [
    {
     "name": "stdout",
     "output_type": "stream",
     "text": [
      "support10_1_1963\n",
      "ZRdLTHUBPCTLibsE6V94\n",
      "Upserting the pid: support10_1_1963  and _id:  ZRdLTHUBPCTLibsE6V94\n",
      "support10_2_1965\n",
      "ZhdLTHUBPCTLibsE6V-y\n",
      "Upserting the pid: support10_2_1965  and _id:  ZhdLTHUBPCTLibsE6V-y\n",
      "support23_3_1950\n",
      "fBdLTHUBPCTLibsE6l9f\n",
      "Upserting the pid: support23_3_1950  and _id:  fBdLTHUBPCTLibsE6l9f\n",
      "support10_5_1983\n",
      "ZxdLTHUBPCTLibsE6V-7\n",
      "Upserting the pid: support10_5_1983  and _id:  ZxdLTHUBPCTLibsE6V-7\n",
      "support10_6_1958\n",
      "aBdLTHUBPCTLibsE6V_C\n",
      "Upserting the pid: support10_6_1958  and _id:  aBdLTHUBPCTLibsE6V_C\n",
      "support10_7_1956\n",
      "aRdLTHUBPCTLibsE6V_N\n",
      "Upserting the pid: support10_7_1956  and _id:  aRdLTHUBPCTLibsE6V_N\n",
      "support10_8_1967\n",
      "ahdLTHUBPCTLibsE6V_W\n",
      "Upserting the pid: support10_8_1967  and _id:  ahdLTHUBPCTLibsE6V_W\n",
      "support10_9_1966\n",
      "axdLTHUBPCTLibsE6V_f\n",
      "Upserting the pid: support10_9_1966  and _id:  axdLTHUBPCTLibsE6V_f\n",
      "support10_10_1964\n",
      "bBdLTHUBPCTLibsE6V_o\n",
      "Upserting the pid: support10_10_1964  and _id:  bBdLTHUBPCTLibsE6V_o\n",
      "support10_11_1966\n",
      "bRdLTHUBPCTLibsE6V_w\n",
      "Upserting the pid: support10_11_1966  and _id:  bRdLTHUBPCTLibsE6V_w\n",
      "support10_12_1950\n",
      "bhdLTHUBPCTLibsE6V_4\n",
      "Upserting the pid: support10_12_1950  and _id:  bhdLTHUBPCTLibsE6V_4\n",
      "support10_13_1977\n",
      "bxdLTHUBPCTLibsE6V__\n",
      "Upserting the pid: support10_13_1977  and _id:  bxdLTHUBPCTLibsE6V__\n",
      "support24_101_1984\n",
      "fRdLTHUBPCTLibsE6l9n\n",
      "Upserting the pid: support24_101_1984  and _id:  fRdLTHUBPCTLibsE6l9n\n",
      "support24_102_1978\n",
      "fhdLTHUBPCTLibsE6l9u\n",
      "Upserting the pid: support24_102_1978  and _id:  fhdLTHUBPCTLibsE6l9u\n",
      "support26_1001_1950\n",
      "fxdLTHUBPCTLibsE6l91\n",
      "Upserting the pid: support26_1001_1950  and _id:  fxdLTHUBPCTLibsE6l91\n",
      "support27_1002_1990\n",
      "gBdLTHUBPCTLibsE6l98\n",
      "Upserting the pid: support27_1002_1990  and _id:  gBdLTHUBPCTLibsE6l98\n",
      "support11_1808_1969\n",
      "cBdLTHUBPCTLibsE6l8G\n",
      "Upserting the pid: support11_1808_1969  and _id:  cBdLTHUBPCTLibsE6l8G\n",
      "support11_1810_1989\n",
      "cRdLTHUBPCTLibsE6l8O\n",
      "Upserting the pid: support11_1810_1989  and _id:  cRdLTHUBPCTLibsE6l8O\n",
      "support28_2000_1973\n",
      "gRdLTHUBPCTLibsE6l-E\n",
      "Upserting the pid: support28_2000_1973  and _id:  gRdLTHUBPCTLibsE6l-E\n",
      "support28_2002_1981\n",
      "ghdLTHUBPCTLibsE6l-L\n",
      "Upserting the pid: support28_2002_1981  and _id:  ghdLTHUBPCTLibsE6l-L\n",
      "support28_2005_1956\n",
      "gxdLTHUBPCTLibsE6l-S\n",
      "Upserting the pid: support28_2005_1956  and _id:  gxdLTHUBPCTLibsE6l-S\n",
      "support28_2006_1957\n",
      "hBdLTHUBPCTLibsE6l-a\n",
      "Upserting the pid: support28_2006_1957  and _id:  hBdLTHUBPCTLibsE6l-a\n",
      "support9_2748_1996\n",
      "nxdLTHUBPCTLibsE61-C\n",
      "Upserting the pid: support9_2748_1996  and _id:  nxdLTHUBPCTLibsE61-C\n",
      "support7_3816_1984\n",
      "nRdLTHUBPCTLibsE619z\n",
      "Upserting the pid: support7_3816_1984  and _id:  nRdLTHUBPCTLibsE619z\n",
      "support19_5191_1968\n",
      "exdLTHUBPCTLibsE6l9X\n",
      "Upserting the pid: support19_5191_1968  and _id:  exdLTHUBPCTLibsE6l9X\n",
      "support7_5655_1992\n",
      "nhdLTHUBPCTLibsE6196\n",
      "Upserting the pid: support7_5655_1992  and _id:  nhdLTHUBPCTLibsE6196\n",
      "support15_6245_1969\n",
      "ehdLTHUBPCTLibsE6l9P\n",
      "Upserting the pid: support15_6245_1969  and _id:  ehdLTHUBPCTLibsE6l9P\n",
      "support9_8017_1973\n",
      "oBdLTHUBPCTLibsE61-J\n",
      "Upserting the pid: support9_8017_1973  and _id:  oBdLTHUBPCTLibsE61-J\n",
      "support9_8092_1982\n",
      "oRdLTHUBPCTLibsE61-R\n",
      "Upserting the pid: support9_8092_1982  and _id:  oRdLTHUBPCTLibsE61-R\n",
      "support6_8853_1968\n",
      "mBdLTHUBPCTLibsE619O\n",
      "Upserting the pid: support6_8853_1968  and _id:  mBdLTHUBPCTLibsE619O\n",
      "support9_9145_1975\n",
      "ohdLTHUBPCTLibsE61-a\n",
      "Upserting the pid: support9_9145_1975  and _id:  ohdLTHUBPCTLibsE61-a\n",
      "support9_9327_1955\n",
      "oxdLTHUBPCTLibsE61-m\n",
      "Upserting the pid: support9_9327_1955  and _id:  oxdLTHUBPCTLibsE61-m\n",
      "support5_11785_1956\n",
      "jhdLTHUBPCTLibsE6l_n\n",
      "Upserting the pid: support5_11785_1956  and _id:  jhdLTHUBPCTLibsE6l_n\n",
      "support5_17504_1973\n",
      "jxdLTHUBPCTLibsE6l_v\n",
      "Upserting the pid: support5_17504_1973  and _id:  jxdLTHUBPCTLibsE6l_v\n",
      "support6_24778_1984\n",
      "mRdLTHUBPCTLibsE619V\n",
      "Upserting the pid: support6_24778_1984  and _id:  mRdLTHUBPCTLibsE619V\n",
      "support5_26296_1962\n",
      "kBdLTHUBPCTLibsE6l_2\n",
      "Upserting the pid: support5_26296_1962  and _id:  kBdLTHUBPCTLibsE6l_2\n",
      "support13_29310_2002\n",
      "dhdLTHUBPCTLibsE6l8z\n",
      "Upserting the pid: support13_29310_2002  and _id:  dhdLTHUBPCTLibsE6l8z\n",
      "support5_30160_1992\n",
      "kRdLTHUBPCTLibsE6l_-\n",
      "Upserting the pid: support5_30160_1992  and _id:  kRdLTHUBPCTLibsE6l_-\n",
      "support13_31894_1956\n",
      "dxdLTHUBPCTLibsE6l86\n",
      "Upserting the pid: support13_31894_1956  and _id:  dxdLTHUBPCTLibsE6l86\n",
      "support12_31903_1972\n",
      "chdLTHUBPCTLibsE6l8W\n",
      "Upserting the pid: support12_31903_1972  and _id:  chdLTHUBPCTLibsE6l8W\n",
      "support13_31909_1995\n",
      "eBdLTHUBPCTLibsE6l9B\n",
      "Upserting the pid: support13_31909_1995  and _id:  eBdLTHUBPCTLibsE6l9B\n",
      "support12_31910_1968\n",
      "cxdLTHUBPCTLibsE6l8d\n",
      "Upserting the pid: support12_31910_1968  and _id:  cxdLTHUBPCTLibsE6l8d\n",
      "support5_31911_1995\n",
      "khdLTHUBPCTLibsE618F\n",
      "Upserting the pid: support5_31911_1995  and _id:  khdLTHUBPCTLibsE618F\n",
      "support5_31912_1971\n",
      "kxdLTHUBPCTLibsE618i\n",
      "Upserting the pid: support5_31912_1971  and _id:  kxdLTHUBPCTLibsE618i\n",
      "support5_31959_1969\n",
      "lBdLTHUBPCTLibsE618u\n",
      "Upserting the pid: support5_31959_1969  and _id:  lBdLTHUBPCTLibsE618u\n",
      "support12_31992_1961\n",
      "dBdLTHUBPCTLibsE6l8k\n",
      "Upserting the pid: support12_31992_1961  and _id:  dBdLTHUBPCTLibsE6l8k\n",
      "support5_32015_1965\n",
      "lRdLTHUBPCTLibsE6184\n",
      "Upserting the pid: support5_32015_1965  and _id:  lRdLTHUBPCTLibsE6184\n",
      "support12_32035_1969\n",
      "dRdLTHUBPCTLibsE6l8s\n",
      "Upserting the pid: support12_32035_1969  and _id:  dRdLTHUBPCTLibsE6l8s\n",
      "support5_32110_1959\n",
      "lhdLTHUBPCTLibsE618_\n",
      "Upserting the pid: support5_32110_1959  and _id:  lhdLTHUBPCTLibsE618_\n",
      "support5_32111_1998\n",
      "lxdLTHUBPCTLibsE619G\n",
      "Upserting the pid: support5_32111_1998  and _id:  lxdLTHUBPCTLibsE619G\n",
      "support13_32177_1961\n",
      "eRdLTHUBPCTLibsE6l9I\n",
      "Upserting the pid: support13_32177_1961  and _id:  eRdLTHUBPCTLibsE6l9I\n",
      "support31_32359_1979\n",
      "hRdLTHUBPCTLibsE6l-h\n",
      "Upserting the pid: support31_32359_1979  and _id:  hRdLTHUBPCTLibsE6l-h\n",
      "support31_32542_1988\n",
      "hhdLTHUBPCTLibsE6l-p\n",
      "Upserting the pid: support31_32542_1988  and _id:  hhdLTHUBPCTLibsE6l-p\n",
      "support31_32581_1985\n",
      "hxdLTHUBPCTLibsE6l-w\n",
      "Upserting the pid: support31_32581_1985  and _id:  hxdLTHUBPCTLibsE6l-w\n",
      "support31_32753_1994\n",
      "iBdLTHUBPCTLibsE6l-3\n",
      "Upserting the pid: support31_32753_1994  and _id:  iBdLTHUBPCTLibsE6l-3\n",
      "support4_38888_1998\n",
      "iRdLTHUBPCTLibsE6l-_\n",
      "Upserting the pid: support4_38888_1998  and _id:  iRdLTHUBPCTLibsE6l-_\n",
      "support4_39151_1997\n",
      "ihdLTHUBPCTLibsE6l_F\n",
      "Upserting the pid: support4_39151_1997  and _id:  ihdLTHUBPCTLibsE6l_F\n",
      "support4_39178_1999\n",
      "ixdLTHUBPCTLibsE6l_N\n",
      "Upserting the pid: support4_39178_1999  and _id:  ixdLTHUBPCTLibsE6l_N\n",
      "support4_39185_1993\n",
      "jBdLTHUBPCTLibsE6l_U\n",
      "Upserting the pid: support4_39185_1993  and _id:  jBdLTHUBPCTLibsE6l_U\n",
      "support4_39442_1989\n",
      "jRdLTHUBPCTLibsE6l_b\n",
      "Upserting the pid: support4_39442_1989  and _id:  jRdLTHUBPCTLibsE6l_b\n",
      "support6_39465_1967\n",
      "mhdLTHUBPCTLibsE619d\n",
      "Upserting the pid: support6_39465_1967  and _id:  mhdLTHUBPCTLibsE619d\n",
      "support6_39884_1995\n",
      "mxdLTHUBPCTLibsE619k\n",
      "Upserting the pid: support6_39884_1995  and _id:  mxdLTHUBPCTLibsE619k\n",
      "support6_39956_1957\n",
      "nBdLTHUBPCTLibsE619r\n",
      "Upserting the pid: support6_39956_1957  and _id:  nBdLTHUBPCTLibsE619r\n"
     ]
    }
   ],
   "source": [
    "upadate_es_index( es, 'manual_patients')"
   ]
  },
  {
   "cell_type": "code",
   "execution_count": null,
   "metadata": {},
   "outputs": [],
   "source": []
  },
  {
   "cell_type": "code",
   "execution_count": null,
   "metadata": {},
   "outputs": [],
   "source": []
  },
  {
   "cell_type": "code",
   "execution_count": null,
   "metadata": {},
   "outputs": [],
   "source": []
  },
  {
   "cell_type": "code",
   "execution_count": null,
   "metadata": {},
   "outputs": [],
   "source": []
  },
  {
   "cell_type": "code",
   "execution_count": null,
   "metadata": {},
   "outputs": [],
   "source": []
  },
  {
   "cell_type": "code",
   "execution_count": null,
   "metadata": {},
   "outputs": [],
   "source": []
  },
  {
   "cell_type": "code",
   "execution_count": null,
   "metadata": {},
   "outputs": [],
   "source": []
  },
  {
   "cell_type": "code",
   "execution_count": null,
   "metadata": {},
   "outputs": [],
   "source": []
  },
  {
   "cell_type": "code",
   "execution_count": null,
   "metadata": {},
   "outputs": [],
   "source": []
  },
  {
   "cell_type": "code",
   "execution_count": null,
   "metadata": {},
   "outputs": [],
   "source": []
  },
  {
   "cell_type": "code",
   "execution_count": null,
   "metadata": {},
   "outputs": [],
   "source": []
  },
  {
   "cell_type": "code",
   "execution_count": null,
   "metadata": {},
   "outputs": [],
   "source": []
  },
  {
   "cell_type": "code",
   "execution_count": null,
   "metadata": {},
   "outputs": [],
   "source": []
  }
 ],
 "metadata": {
  "kernelspec": {
   "display_name": "Python 3",
   "language": "python",
   "name": "python3"
  },
  "language_info": {
   "codemirror_mode": {
    "name": "ipython",
    "version": 3
   },
   "file_extension": ".py",
   "mimetype": "text/x-python",
   "name": "python",
   "nbconvert_exporter": "python",
   "pygments_lexer": "ipython3",
   "version": "3.7.4"
  }
 },
 "nbformat": 4,
 "nbformat_minor": 4
}

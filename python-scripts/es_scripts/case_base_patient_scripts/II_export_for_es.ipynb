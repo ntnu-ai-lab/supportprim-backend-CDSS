{
 "cells": [
  {
   "cell_type": "markdown",
   "metadata": {},
   "source": [
    "# Inser or Upsert documents to Elastic search"
   ]
  },
  {
   "cell_type": "code",
   "execution_count": 1,
   "metadata": {},
   "outputs": [],
   "source": [
    "es_base_url = 'http://localhost:9200'\n",
    "headers = {'Content-Type': 'application/json'}"
   ]
  },
  {
   "cell_type": "code",
   "execution_count": 2,
   "metadata": {},
   "outputs": [],
   "source": [
    "# auto sugestion with tab\n",
    "%config IPCompleter.greedy=True\n",
    "%config InlineBackend.figure_format = 'retina'\n",
    "%matplotlib inline "
   ]
  },
  {
   "cell_type": "code",
   "execution_count": 3,
   "metadata": {},
   "outputs": [
    {
     "data": {
      "text/plain": [
       "'/lhome/amardj/ISM/python_code/es_scripts/case_base_patient_scripts'"
      ]
     },
     "execution_count": 3,
     "metadata": {},
     "output_type": "execute_result"
    }
   ],
   "source": [
    "import pandas as pd\n",
    "import numpy as np\n",
    "import seaborn as sns\n",
    "import matplotlib.pyplot as plt\n",
    "\n",
    "import datetime as datetime\n",
    "\n",
    "import requests\n",
    "import json\n",
    "\n",
    "import os\n",
    "os.getcwd()"
   ]
  },
  {
   "cell_type": "code",
   "execution_count": 4,
   "metadata": {},
   "outputs": [
    {
     "data": {
      "text/plain": [
       "'20201026'"
      ]
     },
     "execution_count": 4,
     "metadata": {},
     "output_type": "execute_result"
    }
   ],
   "source": [
    "sys_date = datetime.datetime.today().strftime( '%Y%m%d')\n",
    "sys_date = f'{sys_date}' \n",
    "sys_date"
   ]
  },
  {
   "cell_type": "code",
   "execution_count": 5,
   "metadata": {},
   "outputs": [],
   "source": [
    "#sys_date = '20201019'"
   ]
  },
  {
   "cell_type": "code",
   "execution_count": 6,
   "metadata": {},
   "outputs": [],
   "source": [
    "data_dir = f'./data/{sys_date}/'"
   ]
  },
  {
   "cell_type": "code",
   "execution_count": 7,
   "metadata": {},
   "outputs": [],
   "source": [
    "file_name = f'{data_dir}2_sp_dataset_clean.csv'"
   ]
  },
  {
   "cell_type": "code",
   "execution_count": 8,
   "metadata": {},
   "outputs": [],
   "source": [
    "df_csv = pd.read_csv(file_name, index_col='id')"
   ]
  },
  {
   "cell_type": "code",
   "execution_count": 9,
   "metadata": {},
   "outputs": [
    {
     "data": {
      "text/html": [
       "<div>\n",
       "<style scoped>\n",
       "    .dataframe tbody tr th:only-of-type {\n",
       "        vertical-align: middle;\n",
       "    }\n",
       "\n",
       "    .dataframe tbody tr th {\n",
       "        vertical-align: top;\n",
       "    }\n",
       "\n",
       "    .dataframe thead th {\n",
       "        text-align: right;\n",
       "    }\n",
       "</style>\n",
       "<table border=\"1\" class=\"dataframe\">\n",
       "  <thead>\n",
       "    <tr style=\"text-align: right;\">\n",
       "      <th></th>\n",
       "      <th>activity_1</th>\n",
       "      <th>age_1</th>\n",
       "      <th>back_nevro_pow_1</th>\n",
       "      <th>back_nevro_reflex_1</th>\n",
       "      <th>back_nevro_sens_1</th>\n",
       "      <th>back_slr_1</th>\n",
       "      <th>birth_year</th>\n",
       "      <th>bmi_1</th>\n",
       "      <th>body_main_1</th>\n",
       "      <th>childhood_1</th>\n",
       "      <th>...</th>\n",
       "      <th>walk_aid_1</th>\n",
       "      <th>weight_1</th>\n",
       "      <th>work_ability_1</th>\n",
       "      <th>work_ability_3</th>\n",
       "      <th>work_ability_w2</th>\n",
       "      <th>work_ability_w4</th>\n",
       "      <th>work_ability_w8</th>\n",
       "      <th>work_type_1</th>\n",
       "      <th>clinic_id</th>\n",
       "      <th>patient_id</th>\n",
       "    </tr>\n",
       "    <tr>\n",
       "      <th>id</th>\n",
       "      <th></th>\n",
       "      <th></th>\n",
       "      <th></th>\n",
       "      <th></th>\n",
       "      <th></th>\n",
       "      <th></th>\n",
       "      <th></th>\n",
       "      <th></th>\n",
       "      <th></th>\n",
       "      <th></th>\n",
       "      <th></th>\n",
       "      <th></th>\n",
       "      <th></th>\n",
       "      <th></th>\n",
       "      <th></th>\n",
       "      <th></th>\n",
       "      <th></th>\n",
       "      <th></th>\n",
       "      <th></th>\n",
       "      <th></th>\n",
       "      <th></th>\n",
       "    </tr>\n",
       "  </thead>\n",
       "  <tbody>\n",
       "    <tr>\n",
       "      <td>0</td>\n",
       "      <td>slightly reduced</td>\n",
       "      <td>57.0</td>\n",
       "      <td>NaN</td>\n",
       "      <td>NaN</td>\n",
       "      <td>NaN</td>\n",
       "      <td>NaN</td>\n",
       "      <td>1963</td>\n",
       "      <td>24.772097</td>\n",
       "      <td>neck</td>\n",
       "      <td>very good</td>\n",
       "      <td>...</td>\n",
       "      <td>no walkaid</td>\n",
       "      <td>75</td>\n",
       "      <td>8</td>\n",
       "      <td>0</td>\n",
       "      <td>6.0</td>\n",
       "      <td>6.0</td>\n",
       "      <td>1.0</td>\n",
       "      <td>work demand much walking</td>\n",
       "      <td>support10</td>\n",
       "      <td>support10_1_1963</td>\n",
       "    </tr>\n",
       "    <tr>\n",
       "      <td>1</td>\n",
       "      <td>slightly reduced</td>\n",
       "      <td>55.0</td>\n",
       "      <td>NaN</td>\n",
       "      <td>NaN</td>\n",
       "      <td>NaN</td>\n",
       "      <td>NaN</td>\n",
       "      <td>1965</td>\n",
       "      <td>26.573132</td>\n",
       "      <td>multisite/complex</td>\n",
       "      <td>very good</td>\n",
       "      <td>...</td>\n",
       "      <td>no walkaid</td>\n",
       "      <td>75</td>\n",
       "      <td>8</td>\n",
       "      <td>8</td>\n",
       "      <td>7.0</td>\n",
       "      <td>8.0</td>\n",
       "      <td>7.0</td>\n",
       "      <td>work demand much walking</td>\n",
       "      <td>support10</td>\n",
       "      <td>support10_2_1965</td>\n",
       "    </tr>\n",
       "    <tr>\n",
       "      <td>2</td>\n",
       "      <td>slightly reduced</td>\n",
       "      <td>37.0</td>\n",
       "      <td>NaN</td>\n",
       "      <td>NaN</td>\n",
       "      <td>NaN</td>\n",
       "      <td>NaN</td>\n",
       "      <td>1983</td>\n",
       "      <td>27.281748</td>\n",
       "      <td>multisite/complex</td>\n",
       "      <td>good</td>\n",
       "      <td>...</td>\n",
       "      <td>no walkaid</td>\n",
       "      <td>77</td>\n",
       "      <td>8</td>\n",
       "      <td>8</td>\n",
       "      <td>5.0</td>\n",
       "      <td>NaN</td>\n",
       "      <td>NaN</td>\n",
       "      <td>mostly seated</td>\n",
       "      <td>support10</td>\n",
       "      <td>support10_5_1983</td>\n",
       "    </tr>\n",
       "    <tr>\n",
       "      <td>3</td>\n",
       "      <td>slightly reduced</td>\n",
       "      <td>62.0</td>\n",
       "      <td>NaN</td>\n",
       "      <td>NaN</td>\n",
       "      <td>NaN</td>\n",
       "      <td>NaN</td>\n",
       "      <td>1958</td>\n",
       "      <td>30.487806</td>\n",
       "      <td>multisite/complex</td>\n",
       "      <td>good</td>\n",
       "      <td>...</td>\n",
       "      <td>no walkaid</td>\n",
       "      <td>82</td>\n",
       "      <td>8</td>\n",
       "      <td>9</td>\n",
       "      <td>9.0</td>\n",
       "      <td>NaN</td>\n",
       "      <td>9.0</td>\n",
       "      <td>work demands much walking and lifting</td>\n",
       "      <td>support10</td>\n",
       "      <td>support10_6_1958</td>\n",
       "    </tr>\n",
       "    <tr>\n",
       "      <td>4</td>\n",
       "      <td>quite reduced</td>\n",
       "      <td>64.0</td>\n",
       "      <td>NaN</td>\n",
       "      <td>NaN</td>\n",
       "      <td>NaN</td>\n",
       "      <td>no</td>\n",
       "      <td>1956</td>\n",
       "      <td>27.428572</td>\n",
       "      <td>back</td>\n",
       "      <td>very good</td>\n",
       "      <td>...</td>\n",
       "      <td>no walkaid</td>\n",
       "      <td>84</td>\n",
       "      <td>3</td>\n",
       "      <td>2</td>\n",
       "      <td>3.0</td>\n",
       "      <td>3.0</td>\n",
       "      <td>3.0</td>\n",
       "      <td>NaN</td>\n",
       "      <td>support10</td>\n",
       "      <td>support10_7_1956</td>\n",
       "    </tr>\n",
       "  </tbody>\n",
       "</table>\n",
       "<p>5 rows × 352 columns</p>\n",
       "</div>"
      ],
      "text/plain": [
       "          activity_1  age_1 back_nevro_pow_1  back_nevro_reflex_1  \\\n",
       "id                                                                  \n",
       "0   slightly reduced   57.0              NaN                  NaN   \n",
       "1   slightly reduced   55.0              NaN                  NaN   \n",
       "2   slightly reduced   37.0              NaN                  NaN   \n",
       "3   slightly reduced   62.0              NaN                  NaN   \n",
       "4      quite reduced   64.0              NaN                  NaN   \n",
       "\n",
       "   back_nevro_sens_1 back_slr_1  birth_year      bmi_1        body_main_1  \\\n",
       "id                                                                          \n",
       "0                NaN        NaN        1963  24.772097               neck   \n",
       "1                NaN        NaN        1965  26.573132  multisite/complex   \n",
       "2                NaN        NaN        1983  27.281748  multisite/complex   \n",
       "3                NaN        NaN        1958  30.487806  multisite/complex   \n",
       "4                NaN         no        1956  27.428572               back   \n",
       "\n",
       "   childhood_1  ...   walk_aid_1  weight_1 work_ability_1  work_ability_3  \\\n",
       "id              ...                                                         \n",
       "0    very good  ...   no walkaid        75              8               0   \n",
       "1    very good  ...   no walkaid        75              8               8   \n",
       "2         good  ...   no walkaid        77              8               8   \n",
       "3         good  ...   no walkaid        82              8               9   \n",
       "4    very good  ...   no walkaid        84              3               2   \n",
       "\n",
       "    work_ability_w2  work_ability_w4  work_ability_w8  \\\n",
       "id                                                      \n",
       "0               6.0              6.0              1.0   \n",
       "1               7.0              8.0              7.0   \n",
       "2               5.0              NaN              NaN   \n",
       "3               9.0              NaN              9.0   \n",
       "4               3.0              3.0              3.0   \n",
       "\n",
       "                              work_type_1  clinic_id        patient_id  \n",
       "id                                                                      \n",
       "0                work demand much walking  support10  support10_1_1963  \n",
       "1                work demand much walking  support10  support10_2_1965  \n",
       "2                           mostly seated  support10  support10_5_1983  \n",
       "3   work demands much walking and lifting  support10  support10_6_1958  \n",
       "4                                     NaN  support10  support10_7_1956  \n",
       "\n",
       "[5 rows x 352 columns]"
      ]
     },
     "execution_count": 9,
     "metadata": {},
     "output_type": "execute_result"
    }
   ],
   "source": [
    "df_csv.head()"
   ]
  },
  {
   "cell_type": "code",
   "execution_count": 10,
   "metadata": {},
   "outputs": [],
   "source": [
    "js = df_csv.to_json(orient='index')"
   ]
  },
  {
   "cell_type": "code",
   "execution_count": 11,
   "metadata": {},
   "outputs": [],
   "source": [
    "df1 = df_csv.fillna( value=\"\")"
   ]
  },
  {
   "cell_type": "code",
   "execution_count": 12,
   "metadata": {},
   "outputs": [],
   "source": [
    "dict_csv = df1.to_dict( orient='index')"
   ]
  },
  {
   "cell_type": "code",
   "execution_count": null,
   "metadata": {},
   "outputs": [],
   "source": []
  },
  {
   "cell_type": "code",
   "execution_count": 13,
   "metadata": {},
   "outputs": [],
   "source": [
    "json_str = json.dumps( dict_csv, allow_nan=True, ensure_ascii=False)"
   ]
  },
  {
   "cell_type": "code",
   "execution_count": 14,
   "metadata": {},
   "outputs": [],
   "source": [
    "#print(json_str)"
   ]
  },
  {
   "cell_type": "code",
   "execution_count": 15,
   "metadata": {},
   "outputs": [],
   "source": [
    "import codecs\n",
    "import json\n",
    "\n",
    "with codecs.open(f'{data_dir}2_sp_dataset_clean.json', 'w', encoding='utf-8') as f:\n",
    "    json.dump(dict_csv, f, ensure_ascii=False)"
   ]
  },
  {
   "cell_type": "code",
   "execution_count": 16,
   "metadata": {},
   "outputs": [
    {
     "data": {
      "text/plain": [
       "'2020-10-26T08:34:02.370257+01:00'"
      ]
     },
     "execution_count": 16,
     "metadata": {},
     "output_type": "execute_result"
    }
   ],
   "source": [
    "import datetime\n",
    "datetime.datetime.now().astimezone().isoformat()"
   ]
  },
  {
   "cell_type": "code",
   "execution_count": null,
   "metadata": {},
   "outputs": [],
   "source": []
  },
  {
   "cell_type": "code",
   "execution_count": 16,
   "metadata": {},
   "outputs": [],
   "source": [
    "es_main_index = 'manual_patients'\n",
    "es_trace_index = 'manual_patient_traces'"
   ]
  },
  {
   "cell_type": "markdown",
   "metadata": {},
   "source": [
    "# "
   ]
  },
  {
   "cell_type": "code",
   "execution_count": null,
   "metadata": {},
   "outputs": [],
   "source": []
  },
  {
   "cell_type": "code",
   "execution_count": 17,
   "metadata": {},
   "outputs": [],
   "source": [
    "def get_id_for_pid( pid, es_index):\n",
    "    params = (('filter_path', 'hits.hits._source'))\n",
    "    data = '{  \"query\": {    \"match\": {      \"patientId\": \"'+pid+'\"    }  }}'\n",
    "    response = requests.get(f'{es_base_url}/{es_index}/_search?filter_path=hits.hits._id', headers=headers, data=data)\n",
    "    response_json = response.json()\n",
    "    return response_json.get('hits', {}).get('hits', [{}])[0].get('_id')"
   ]
  },
  {
   "cell_type": "code",
   "execution_count": 18,
   "metadata": {},
   "outputs": [],
   "source": [
    "def get_created_date_for_pid( pid, es_index):\n",
    "    params = (('filter_path', 'hits.hits._source'))\n",
    "    data = '{  \"query\": {    \"match\": {      \"patientId\": \"'+pid+'\"    }  }}'\n",
    "    response = requests.get(f'{es_base_url}/{es_index}/_search?filter_path=hits.hits._source.dateCreated', headers=headers, data=data)\n",
    "    response_json = response.json()\n",
    "    return response_json.get('hits', {}).get('hits', [{}])[0].get('_source',{}).get('dateCreated')"
   ]
  },
  {
   "cell_type": "code",
   "execution_count": 19,
   "metadata": {},
   "outputs": [],
   "source": [
    "get_created_date_for_pid('adam_saso_38888_1998', 'manual_patient_traces')"
   ]
  },
  {
   "cell_type": "code",
   "execution_count": 20,
   "metadata": {},
   "outputs": [],
   "source": [
    "def insert_es_new_doc(json_doc, es_index):\n",
    "    doc = json.dumps(json_doc)\n",
    "    response = requests.post(f'{es_base_url}/{es_index}/_doc', headers=headers, data=doc)\n",
    "    return response.json()"
   ]
  },
  {
   "cell_type": "raw",
   "metadata": {},
   "source": [
    "#insert_es_new_doc( {\"amar\":\"1234\"}, es_index)"
   ]
  },
  {
   "cell_type": "code",
   "execution_count": 21,
   "metadata": {},
   "outputs": [],
   "source": [
    "def update_es_doc_for_id( _id, json_doc, es_index):\n",
    "    upsert_doc = json.dumps({'doc': json.dumps(json_doc), 'doc_as_upsert': True})\n",
    "    response = requests.post(f'{es_base_url}/{es_index}/_update/{_id}?pretty', headers=headers, data=upsert_doc)\n",
    "    return response.json()"
   ]
  },
  {
   "cell_type": "code",
   "execution_count": 22,
   "metadata": {},
   "outputs": [],
   "source": [
    "def upadate_es_index(dict_csv, es_index):     \n",
    "    \n",
    "    es_trace_index = 'manual_patient_traces'\n",
    "    \n",
    "    for val in dict_csv:\n",
    "\n",
    "        doc_json = {}\n",
    "        \n",
    "        patientDetails = dict_csv[val]\n",
    "\n",
    "        patientId = patientDetails.get('patient_id')\n",
    "        clinicId = patientDetails.get('clinic_id')\n",
    "\n",
    "        current_date_time = datetime.datetime.now().astimezone().isoformat(timespec='milliseconds')\n",
    "\n",
    "        doc_json.update(\n",
    "            {\n",
    "                \"patientId\" : patientId, \n",
    "                \"clinicId\" : clinicId, \n",
    "                \"dateCreated\" : current_date_time,\n",
    "                \"dateUpdated\" : current_date_time, \n",
    "                \"status\" : \"INITIAL\", \n",
    "                \"similarPatients\" : { }, \n",
    "                \"patientDetails\": patientDetails\n",
    "            }\n",
    "        )\n",
    "        \n",
    "        #print(patientId)\n",
    "        _id = get_id_for_pid( patientId, es_index)\n",
    "        #print(_id)\n",
    "        \n",
    "        \n",
    "        if _id is None:\n",
    "            print('_id was None, thus inserting doc for pid', patientId)\n",
    "                    \n",
    "            insert_es_new_doc(doc_json, es_index)\n",
    "            #insert_es_new_doc(doc_json, es_trace_index)\n",
    "        else :\n",
    "            print('Upserting doc for pid:', patientId, ' and _id: ', _id)\n",
    "            \n",
    "            doc_json['dateCreated'] = get_created_date_for_pid( patientId, es_index)\n",
    "            \n",
    "            insert_es_new_doc(doc_json, es_trace_index)\n",
    "            update_es_doc_for_id(_id, doc_json, es_index)"
   ]
  },
  {
   "cell_type": "code",
   "execution_count": 23,
   "metadata": {},
   "outputs": [
    {
     "name": "stdout",
     "output_type": "stream",
     "text": [
      "Upserting doc for pid: support10_1_1963  and _id:  ZRdLTHUBPCTLibsE6V94\n",
      "Upserting doc for pid: support10_2_1965  and _id:  ZhdLTHUBPCTLibsE6V-y\n",
      "Upserting doc for pid: support10_5_1983  and _id:  ZxdLTHUBPCTLibsE6V-7\n",
      "Upserting doc for pid: support10_6_1958  and _id:  aBdLTHUBPCTLibsE6V_C\n",
      "Upserting doc for pid: support10_7_1956  and _id:  aRdLTHUBPCTLibsE6V_N\n",
      "Upserting doc for pid: support10_8_1967  and _id:  ahdLTHUBPCTLibsE6V_W\n",
      "Upserting doc for pid: support10_9_1966  and _id:  axdLTHUBPCTLibsE6V_f\n",
      "Upserting doc for pid: support10_10_1964  and _id:  bBdLTHUBPCTLibsE6V_o\n",
      "Upserting doc for pid: support10_11_1966  and _id:  bRdLTHUBPCTLibsE6V_w\n",
      "Upserting doc for pid: support10_12_1950  and _id:  bhdLTHUBPCTLibsE6V_4\n",
      "Upserting doc for pid: support10_13_1977  and _id:  bxdLTHUBPCTLibsE6V__\n",
      "Upserting doc for pid: support11_1808_1969  and _id:  cBdLTHUBPCTLibsE6l8G\n",
      "Upserting doc for pid: support11_1810_1989  and _id:  cRdLTHUBPCTLibsE6l8O\n",
      "Upserting doc for pid: support12_31903_1972  and _id:  chdLTHUBPCTLibsE6l8W\n",
      "Upserting doc for pid: support12_31910_1968  and _id:  cxdLTHUBPCTLibsE6l8d\n",
      "Upserting doc for pid: support12_31992_1961  and _id:  dBdLTHUBPCTLibsE6l8k\n",
      "Upserting doc for pid: support12_32035_1969  and _id:  dRdLTHUBPCTLibsE6l8s\n",
      "Upserting doc for pid: support13_29310_2002  and _id:  dhdLTHUBPCTLibsE6l8z\n",
      "Upserting doc for pid: support13_31894_1956  and _id:  dxdLTHUBPCTLibsE6l86\n",
      "Upserting doc for pid: support13_31909_1995  and _id:  eBdLTHUBPCTLibsE6l9B\n",
      "Upserting doc for pid: support13_32177_1961  and _id:  eRdLTHUBPCTLibsE6l9I\n",
      "Upserting doc for pid: support15_6245_1969  and _id:  ehdLTHUBPCTLibsE6l9P\n",
      "Upserting doc for pid: support19_5191_1968  and _id:  exdLTHUBPCTLibsE6l9X\n",
      "Upserting doc for pid: support23_3_1950  and _id:  fBdLTHUBPCTLibsE6l9f\n",
      "Upserting doc for pid: support24_101_1984  and _id:  fRdLTHUBPCTLibsE6l9n\n",
      "Upserting doc for pid: support24_102_1978  and _id:  fhdLTHUBPCTLibsE6l9u\n",
      "Upserting doc for pid: support26_1001_1950  and _id:  fxdLTHUBPCTLibsE6l91\n",
      "Upserting doc for pid: support27_1002_1990  and _id:  gBdLTHUBPCTLibsE6l98\n",
      "Upserting doc for pid: support28_2000_1973  and _id:  gRdLTHUBPCTLibsE6l-E\n",
      "Upserting doc for pid: support28_2002_1981  and _id:  ghdLTHUBPCTLibsE6l-L\n",
      "Upserting doc for pid: support28_2005_1956  and _id:  gxdLTHUBPCTLibsE6l-S\n",
      "Upserting doc for pid: support28_2006_1957  and _id:  hBdLTHUBPCTLibsE6l-a\n",
      "Upserting doc for pid: support31_32359_1979  and _id:  hRdLTHUBPCTLibsE6l-h\n",
      "Upserting doc for pid: support31_32542_1988  and _id:  hhdLTHUBPCTLibsE6l-p\n",
      "Upserting doc for pid: support31_32581_1985  and _id:  hxdLTHUBPCTLibsE6l-w\n",
      "Upserting doc for pid: support31_32753_1994  and _id:  iBdLTHUBPCTLibsE6l-3\n",
      "Upserting doc for pid: support4_38888_1998  and _id:  iRdLTHUBPCTLibsE6l-_\n",
      "Upserting doc for pid: support4_39151_1997  and _id:  ihdLTHUBPCTLibsE6l_F\n",
      "Upserting doc for pid: support4_39178_1999  and _id:  ixdLTHUBPCTLibsE6l_N\n",
      "Upserting doc for pid: support4_39185_1993  and _id:  jBdLTHUBPCTLibsE6l_U\n",
      "Upserting doc for pid: support4_39442_1989  and _id:  jRdLTHUBPCTLibsE6l_b\n",
      "Upserting doc for pid: support5_11785_1956  and _id:  jhdLTHUBPCTLibsE6l_n\n",
      "Upserting doc for pid: support5_17504_1973  and _id:  jxdLTHUBPCTLibsE6l_v\n",
      "Upserting doc for pid: support5_26296_1962  and _id:  kBdLTHUBPCTLibsE6l_2\n",
      "Upserting doc for pid: support5_30160_1992  and _id:  kRdLTHUBPCTLibsE6l_-\n",
      "Upserting doc for pid: support5_31911_1995  and _id:  khdLTHUBPCTLibsE618F\n",
      "Upserting doc for pid: support5_31912_1971  and _id:  kxdLTHUBPCTLibsE618i\n",
      "Upserting doc for pid: support5_31959_1969  and _id:  lBdLTHUBPCTLibsE618u\n",
      "Upserting doc for pid: support5_32015_1965  and _id:  lRdLTHUBPCTLibsE6184\n",
      "Upserting doc for pid: support5_32110_1959  and _id:  lhdLTHUBPCTLibsE618_\n",
      "Upserting doc for pid: support5_32111_1998  and _id:  lxdLTHUBPCTLibsE619G\n",
      "Upserting doc for pid: support6_8853_1968  and _id:  mBdLTHUBPCTLibsE619O\n",
      "Upserting doc for pid: support6_24778_1984  and _id:  mRdLTHUBPCTLibsE619V\n",
      "Upserting doc for pid: support6_39465_1967  and _id:  mhdLTHUBPCTLibsE619d\n",
      "Upserting doc for pid: support6_39884_1995  and _id:  mxdLTHUBPCTLibsE619k\n",
      "Upserting doc for pid: support6_39956_1957  and _id:  nBdLTHUBPCTLibsE619r\n",
      "Upserting doc for pid: support7_3816_1984  and _id:  nRdLTHUBPCTLibsE619z\n",
      "Upserting doc for pid: support7_5655_1992  and _id:  nhdLTHUBPCTLibsE6196\n",
      "Upserting doc for pid: support9_2748_1996  and _id:  nxdLTHUBPCTLibsE61-C\n",
      "Upserting doc for pid: support9_8017_1973  and _id:  oBdLTHUBPCTLibsE61-J\n",
      "Upserting doc for pid: support9_8092_1982  and _id:  oRdLTHUBPCTLibsE61-R\n",
      "Upserting doc for pid: support9_9145_1975  and _id:  ohdLTHUBPCTLibsE61-a\n",
      "Upserting doc for pid: support9_9327_1955  and _id:  oxdLTHUBPCTLibsE61-m\n"
     ]
    }
   ],
   "source": [
    "upadate_es_index( dict_csv, es_main_index)"
   ]
  },
  {
   "cell_type": "code",
   "execution_count": null,
   "metadata": {},
   "outputs": [],
   "source": []
  }
 ],
 "metadata": {
  "kernelspec": {
   "display_name": "Python 3",
   "language": "python",
   "name": "python3"
  },
  "language_info": {
   "codemirror_mode": {
    "name": "ipython",
    "version": 3
   },
   "file_extension": ".py",
   "mimetype": "text/x-python",
   "name": "python",
   "nbconvert_exporter": "python",
   "pygments_lexer": "ipython3",
   "version": "3.7.4"
  }
 },
 "nbformat": 4,
 "nbformat_minor": 4
}

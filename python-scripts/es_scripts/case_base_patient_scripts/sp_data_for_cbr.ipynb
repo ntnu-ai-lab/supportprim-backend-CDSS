{
 "cells": [
  {
   "cell_type": "code",
   "execution_count": null,
   "metadata": {},
   "outputs": [],
   "source": []
  },
  {
   "cell_type": "markdown",
   "metadata": {},
   "source": [
    "#  supportPrim dataset preparation for myCBR - 2020-10-08\n",
    "## followed from - sp_data_extraction.ipynb"
   ]
  },
  {
   "cell_type": "markdown",
   "metadata": {},
   "source": [
    "#### System defined current date"
   ]
  },
  {
   "cell_type": "code",
   "execution_count": 1,
   "metadata": {},
   "outputs": [],
   "source": [
    "# auto sugestion with tab\n",
    "%config IPCompleter.greedy=True\n",
    "%config InlineBackend.figure_format = 'retina'\n",
    "%matplotlib inline "
   ]
  },
  {
   "cell_type": "code",
   "execution_count": 2,
   "metadata": {},
   "outputs": [
    {
     "data": {
      "text/plain": [
       "'/lhome/amardj/ISM/python_code/es_scripts/case_base_patient_scripts'"
      ]
     },
     "execution_count": 2,
     "metadata": {},
     "output_type": "execute_result"
    }
   ],
   "source": [
    "import pandas as pd\n",
    "import numpy as np\n",
    "import seaborn as sns\n",
    "import matplotlib.pyplot as plt\n",
    "\n",
    "import datetime as datetime\n",
    "\n",
    "import requests\n",
    "import json\n",
    "\n",
    "import os\n",
    "os.getcwd()"
   ]
  },
  {
   "cell_type": "code",
   "execution_count": 3,
   "metadata": {},
   "outputs": [
    {
     "data": {
      "text/plain": [
       "'20201021'"
      ]
     },
     "execution_count": 3,
     "metadata": {},
     "output_type": "execute_result"
    }
   ],
   "source": [
    "sys_date = datetime.datetime.today().strftime( '%Y%m%d')\n",
    "sys_date = f'{sys_date}' \n",
    "sys_date"
   ]
  },
  {
   "cell_type": "code",
   "execution_count": 4,
   "metadata": {},
   "outputs": [],
   "source": [
    "data_dir = f'./data/{sys_date}/'"
   ]
  },
  {
   "cell_type": "code",
   "execution_count": 5,
   "metadata": {},
   "outputs": [],
   "source": [
    "file_name = f'{data_dir}1_sp_dataset_labeled.csv'"
   ]
  },
  {
   "cell_type": "code",
   "execution_count": 6,
   "metadata": {},
   "outputs": [],
   "source": [
    "df_labeled = pd.read_csv(file_name, index_col='id')\n",
    "#df_numeric = pd.read_csv(file_numeric, index_col='id')"
   ]
  },
  {
   "cell_type": "raw",
   "metadata": {},
   "source": [
    "df_labeled.index.name = 'id'"
   ]
  },
  {
   "cell_type": "code",
   "execution_count": 7,
   "metadata": {},
   "outputs": [
    {
     "data": {
      "text/html": [
       "<div>\n",
       "<style scoped>\n",
       "    .dataframe tbody tr th:only-of-type {\n",
       "        vertical-align: middle;\n",
       "    }\n",
       "\n",
       "    .dataframe tbody tr th {\n",
       "        vertical-align: top;\n",
       "    }\n",
       "\n",
       "    .dataframe thead th {\n",
       "        text-align: right;\n",
       "    }\n",
       "</style>\n",
       "<table border=\"1\" class=\"dataframe\">\n",
       "  <thead>\n",
       "    <tr style=\"text-align: right;\">\n",
       "      <th></th>\n",
       "      <th>activity_1</th>\n",
       "      <th>age_1</th>\n",
       "      <th>back_nevro_pow_1</th>\n",
       "      <th>back_nevro_reflex_1</th>\n",
       "      <th>back_nevro_sens_1</th>\n",
       "      <th>back_slr_1</th>\n",
       "      <th>birth_year</th>\n",
       "      <th>bmi_1</th>\n",
       "      <th>body_main_1</th>\n",
       "      <th>childhood_1</th>\n",
       "      <th>...</th>\n",
       "      <th>walk_aid_1</th>\n",
       "      <th>weight_1</th>\n",
       "      <th>work_ability_1</th>\n",
       "      <th>work_ability_3</th>\n",
       "      <th>work_ability_w2</th>\n",
       "      <th>work_ability_w4</th>\n",
       "      <th>work_ability_w8</th>\n",
       "      <th>work_type_1</th>\n",
       "      <th>clinic_id</th>\n",
       "      <th>patient_id</th>\n",
       "    </tr>\n",
       "    <tr>\n",
       "      <th>id</th>\n",
       "      <th></th>\n",
       "      <th></th>\n",
       "      <th></th>\n",
       "      <th></th>\n",
       "      <th></th>\n",
       "      <th></th>\n",
       "      <th></th>\n",
       "      <th></th>\n",
       "      <th></th>\n",
       "      <th></th>\n",
       "      <th></th>\n",
       "      <th></th>\n",
       "      <th></th>\n",
       "      <th></th>\n",
       "      <th></th>\n",
       "      <th></th>\n",
       "      <th></th>\n",
       "      <th></th>\n",
       "      <th></th>\n",
       "      <th></th>\n",
       "      <th></th>\n",
       "    </tr>\n",
       "  </thead>\n",
       "  <tbody>\n",
       "    <tr>\n",
       "      <td>0</td>\n",
       "      <td>slightly reduced</td>\n",
       "      <td>57.0</td>\n",
       "      <td>NaN</td>\n",
       "      <td>NaN</td>\n",
       "      <td>NaN</td>\n",
       "      <td>NaN</td>\n",
       "      <td>1963</td>\n",
       "      <td>24.772097</td>\n",
       "      <td>neck</td>\n",
       "      <td>very good</td>\n",
       "      <td>...</td>\n",
       "      <td>no walkaid</td>\n",
       "      <td>75</td>\n",
       "      <td>8</td>\n",
       "      <td>0</td>\n",
       "      <td>6.0</td>\n",
       "      <td>6.0</td>\n",
       "      <td>1.0</td>\n",
       "      <td>work demand much walking</td>\n",
       "      <td>support10</td>\n",
       "      <td>support10_1_1963</td>\n",
       "    </tr>\n",
       "    <tr>\n",
       "      <td>1</td>\n",
       "      <td>slightly reduced</td>\n",
       "      <td>55.0</td>\n",
       "      <td>NaN</td>\n",
       "      <td>NaN</td>\n",
       "      <td>NaN</td>\n",
       "      <td>NaN</td>\n",
       "      <td>1965</td>\n",
       "      <td>26.573132</td>\n",
       "      <td>multisite/complex</td>\n",
       "      <td>very good</td>\n",
       "      <td>...</td>\n",
       "      <td>no walkaid</td>\n",
       "      <td>75</td>\n",
       "      <td>8</td>\n",
       "      <td>8</td>\n",
       "      <td>7.0</td>\n",
       "      <td>8.0</td>\n",
       "      <td>7.0</td>\n",
       "      <td>work demand much walking</td>\n",
       "      <td>support10</td>\n",
       "      <td>support10_2_1965</td>\n",
       "    </tr>\n",
       "    <tr>\n",
       "      <td>2</td>\n",
       "      <td>slightly reduced</td>\n",
       "      <td>37.0</td>\n",
       "      <td>NaN</td>\n",
       "      <td>NaN</td>\n",
       "      <td>NaN</td>\n",
       "      <td>NaN</td>\n",
       "      <td>1983</td>\n",
       "      <td>27.281748</td>\n",
       "      <td>multisite/complex</td>\n",
       "      <td>good</td>\n",
       "      <td>...</td>\n",
       "      <td>no walkaid</td>\n",
       "      <td>77</td>\n",
       "      <td>8</td>\n",
       "      <td>8</td>\n",
       "      <td>5.0</td>\n",
       "      <td>NaN</td>\n",
       "      <td>NaN</td>\n",
       "      <td>mostly seated</td>\n",
       "      <td>support10</td>\n",
       "      <td>support10_5_1983</td>\n",
       "    </tr>\n",
       "    <tr>\n",
       "      <td>3</td>\n",
       "      <td>slightly reduced</td>\n",
       "      <td>62.0</td>\n",
       "      <td>NaN</td>\n",
       "      <td>NaN</td>\n",
       "      <td>NaN</td>\n",
       "      <td>NaN</td>\n",
       "      <td>1958</td>\n",
       "      <td>30.487806</td>\n",
       "      <td>multisite/complex</td>\n",
       "      <td>good</td>\n",
       "      <td>...</td>\n",
       "      <td>no walkaid</td>\n",
       "      <td>82</td>\n",
       "      <td>8</td>\n",
       "      <td>9</td>\n",
       "      <td>9.0</td>\n",
       "      <td>NaN</td>\n",
       "      <td>9.0</td>\n",
       "      <td>work demands much walking and lifting</td>\n",
       "      <td>support10</td>\n",
       "      <td>support10_6_1958</td>\n",
       "    </tr>\n",
       "    <tr>\n",
       "      <td>4</td>\n",
       "      <td>quite reduced</td>\n",
       "      <td>64.0</td>\n",
       "      <td>NaN</td>\n",
       "      <td>NaN</td>\n",
       "      <td>NaN</td>\n",
       "      <td>no</td>\n",
       "      <td>1956</td>\n",
       "      <td>27.428572</td>\n",
       "      <td>back</td>\n",
       "      <td>very good</td>\n",
       "      <td>...</td>\n",
       "      <td>no walkaid</td>\n",
       "      <td>84</td>\n",
       "      <td>3</td>\n",
       "      <td>2</td>\n",
       "      <td>3.0</td>\n",
       "      <td>3.0</td>\n",
       "      <td>3.0</td>\n",
       "      <td>NaN</td>\n",
       "      <td>support10</td>\n",
       "      <td>support10_7_1956</td>\n",
       "    </tr>\n",
       "  </tbody>\n",
       "</table>\n",
       "<p>5 rows × 352 columns</p>\n",
       "</div>"
      ],
      "text/plain": [
       "          activity_1  age_1 back_nevro_pow_1  back_nevro_reflex_1  \\\n",
       "id                                                                  \n",
       "0   slightly reduced   57.0              NaN                  NaN   \n",
       "1   slightly reduced   55.0              NaN                  NaN   \n",
       "2   slightly reduced   37.0              NaN                  NaN   \n",
       "3   slightly reduced   62.0              NaN                  NaN   \n",
       "4      quite reduced   64.0              NaN                  NaN   \n",
       "\n",
       "   back_nevro_sens_1 back_slr_1  birth_year      bmi_1        body_main_1  \\\n",
       "id                                                                          \n",
       "0                NaN        NaN        1963  24.772097               neck   \n",
       "1                NaN        NaN        1965  26.573132  multisite/complex   \n",
       "2                NaN        NaN        1983  27.281748  multisite/complex   \n",
       "3                NaN        NaN        1958  30.487806  multisite/complex   \n",
       "4                NaN         no        1956  27.428572               back   \n",
       "\n",
       "   childhood_1  ...   walk_aid_1  weight_1 work_ability_1  work_ability_3  \\\n",
       "id              ...                                                         \n",
       "0    very good  ...   no walkaid        75              8               0   \n",
       "1    very good  ...   no walkaid        75              8               8   \n",
       "2         good  ...   no walkaid        77              8               8   \n",
       "3         good  ...   no walkaid        82              8               9   \n",
       "4    very good  ...   no walkaid        84              3               2   \n",
       "\n",
       "    work_ability_w2  work_ability_w4  work_ability_w8  \\\n",
       "id                                                      \n",
       "0               6.0              6.0              1.0   \n",
       "1               7.0              8.0              7.0   \n",
       "2               5.0              NaN              NaN   \n",
       "3               9.0              NaN              9.0   \n",
       "4               3.0              3.0              3.0   \n",
       "\n",
       "                              work_type_1  clinic_id        patient_id  \n",
       "id                                                                      \n",
       "0                work demand much walking  support10  support10_1_1963  \n",
       "1                work demand much walking  support10  support10_2_1965  \n",
       "2                           mostly seated  support10  support10_5_1983  \n",
       "3   work demands much walking and lifting  support10  support10_6_1958  \n",
       "4                                     NaN  support10  support10_7_1956  \n",
       "\n",
       "[5 rows x 352 columns]"
      ]
     },
     "execution_count": 7,
     "metadata": {},
     "output_type": "execute_result"
    }
   ],
   "source": [
    "df_labeled.head()"
   ]
  },
  {
   "cell_type": "code",
   "execution_count": 8,
   "metadata": {},
   "outputs": [
    {
     "data": {
      "text/plain": [
       "['activity_1',\n",
       " 'age_1',\n",
       " 'back_nevro_pow_1',\n",
       " 'back_nevro_reflex_1',\n",
       " 'back_nevro_sens_1',\n",
       " 'back_slr_1',\n",
       " 'birth_year',\n",
       " 'bmi_1',\n",
       " 'body_main_1',\n",
       " 'childhood_1',\n",
       " 'como_asthma_1',\n",
       " 'como_cancer_1',\n",
       " 'como_count_1',\n",
       " 'como_dementhia_1',\n",
       " 'como_diabetes_1',\n",
       " 'como_fatigue_1',\n",
       " 'como_headache_1',\n",
       " 'como_heart_1',\n",
       " 'como_neuro_1',\n",
       " 'como_osteoporosis_1',\n",
       " 'como_other_1',\n",
       " 'como_other_spec_1',\n",
       " 'como_psych_1',\n",
       " 'como_ra_1',\n",
       " 'como_stomach_pain_1',\n",
       " 'compliance_3',\n",
       " 'consultation_3',\n",
       " 'date_baseline_patient',\n",
       " 'diagnose_1',\n",
       " 'discussed_employer_3']"
      ]
     },
     "execution_count": 8,
     "metadata": {},
     "output_type": "execute_result"
    }
   ],
   "source": [
    "df_labeled.columns.tolist()[:30]"
   ]
  },
  {
   "cell_type": "code",
   "execution_count": 9,
   "metadata": {},
   "outputs": [],
   "source": [
    "df = df_labeled.copy( deep=True)"
   ]
  },
  {
   "cell_type": "code",
   "execution_count": 10,
   "metadata": {},
   "outputs": [
    {
     "data": {
      "text/html": [
       "<div>\n",
       "<style scoped>\n",
       "    .dataframe tbody tr th:only-of-type {\n",
       "        vertical-align: middle;\n",
       "    }\n",
       "\n",
       "    .dataframe tbody tr th {\n",
       "        vertical-align: top;\n",
       "    }\n",
       "\n",
       "    .dataframe thead th {\n",
       "        text-align: right;\n",
       "    }\n",
       "</style>\n",
       "<table border=\"1\" class=\"dataframe\">\n",
       "  <thead>\n",
       "    <tr style=\"text-align: right;\">\n",
       "      <th></th>\n",
       "      <th>activity_1</th>\n",
       "      <th>age_1</th>\n",
       "      <th>back_nevro_pow_1</th>\n",
       "      <th>back_nevro_reflex_1</th>\n",
       "      <th>back_nevro_sens_1</th>\n",
       "      <th>back_slr_1</th>\n",
       "      <th>birth_year</th>\n",
       "      <th>bmi_1</th>\n",
       "      <th>body_main_1</th>\n",
       "      <th>childhood_1</th>\n",
       "      <th>...</th>\n",
       "      <th>walk_aid_1</th>\n",
       "      <th>weight_1</th>\n",
       "      <th>work_ability_1</th>\n",
       "      <th>work_ability_3</th>\n",
       "      <th>work_ability_w2</th>\n",
       "      <th>work_ability_w4</th>\n",
       "      <th>work_ability_w8</th>\n",
       "      <th>work_type_1</th>\n",
       "      <th>clinic_id</th>\n",
       "      <th>patient_id</th>\n",
       "    </tr>\n",
       "    <tr>\n",
       "      <th>id</th>\n",
       "      <th></th>\n",
       "      <th></th>\n",
       "      <th></th>\n",
       "      <th></th>\n",
       "      <th></th>\n",
       "      <th></th>\n",
       "      <th></th>\n",
       "      <th></th>\n",
       "      <th></th>\n",
       "      <th></th>\n",
       "      <th></th>\n",
       "      <th></th>\n",
       "      <th></th>\n",
       "      <th></th>\n",
       "      <th></th>\n",
       "      <th></th>\n",
       "      <th></th>\n",
       "      <th></th>\n",
       "      <th></th>\n",
       "      <th></th>\n",
       "      <th></th>\n",
       "    </tr>\n",
       "  </thead>\n",
       "  <tbody>\n",
       "    <tr>\n",
       "      <td>0</td>\n",
       "      <td>slightly reduced</td>\n",
       "      <td>57.0</td>\n",
       "      <td>NaN</td>\n",
       "      <td>NaN</td>\n",
       "      <td>NaN</td>\n",
       "      <td>NaN</td>\n",
       "      <td>1963</td>\n",
       "      <td>24.772097</td>\n",
       "      <td>neck</td>\n",
       "      <td>very good</td>\n",
       "      <td>...</td>\n",
       "      <td>no walkaid</td>\n",
       "      <td>75</td>\n",
       "      <td>8</td>\n",
       "      <td>0</td>\n",
       "      <td>6.0</td>\n",
       "      <td>6.0</td>\n",
       "      <td>1.0</td>\n",
       "      <td>work demand much walking</td>\n",
       "      <td>support10</td>\n",
       "      <td>support10_1_1963</td>\n",
       "    </tr>\n",
       "    <tr>\n",
       "      <td>1</td>\n",
       "      <td>slightly reduced</td>\n",
       "      <td>55.0</td>\n",
       "      <td>NaN</td>\n",
       "      <td>NaN</td>\n",
       "      <td>NaN</td>\n",
       "      <td>NaN</td>\n",
       "      <td>1965</td>\n",
       "      <td>26.573132</td>\n",
       "      <td>multisite/complex</td>\n",
       "      <td>very good</td>\n",
       "      <td>...</td>\n",
       "      <td>no walkaid</td>\n",
       "      <td>75</td>\n",
       "      <td>8</td>\n",
       "      <td>8</td>\n",
       "      <td>7.0</td>\n",
       "      <td>8.0</td>\n",
       "      <td>7.0</td>\n",
       "      <td>work demand much walking</td>\n",
       "      <td>support10</td>\n",
       "      <td>support10_2_1965</td>\n",
       "    </tr>\n",
       "    <tr>\n",
       "      <td>2</td>\n",
       "      <td>slightly reduced</td>\n",
       "      <td>37.0</td>\n",
       "      <td>NaN</td>\n",
       "      <td>NaN</td>\n",
       "      <td>NaN</td>\n",
       "      <td>NaN</td>\n",
       "      <td>1983</td>\n",
       "      <td>27.281748</td>\n",
       "      <td>multisite/complex</td>\n",
       "      <td>good</td>\n",
       "      <td>...</td>\n",
       "      <td>no walkaid</td>\n",
       "      <td>77</td>\n",
       "      <td>8</td>\n",
       "      <td>8</td>\n",
       "      <td>5.0</td>\n",
       "      <td>NaN</td>\n",
       "      <td>NaN</td>\n",
       "      <td>mostly seated</td>\n",
       "      <td>support10</td>\n",
       "      <td>support10_5_1983</td>\n",
       "    </tr>\n",
       "    <tr>\n",
       "      <td>3</td>\n",
       "      <td>slightly reduced</td>\n",
       "      <td>62.0</td>\n",
       "      <td>NaN</td>\n",
       "      <td>NaN</td>\n",
       "      <td>NaN</td>\n",
       "      <td>NaN</td>\n",
       "      <td>1958</td>\n",
       "      <td>30.487806</td>\n",
       "      <td>multisite/complex</td>\n",
       "      <td>good</td>\n",
       "      <td>...</td>\n",
       "      <td>no walkaid</td>\n",
       "      <td>82</td>\n",
       "      <td>8</td>\n",
       "      <td>9</td>\n",
       "      <td>9.0</td>\n",
       "      <td>NaN</td>\n",
       "      <td>9.0</td>\n",
       "      <td>work demands much walking and lifting</td>\n",
       "      <td>support10</td>\n",
       "      <td>support10_6_1958</td>\n",
       "    </tr>\n",
       "    <tr>\n",
       "      <td>4</td>\n",
       "      <td>quite reduced</td>\n",
       "      <td>64.0</td>\n",
       "      <td>NaN</td>\n",
       "      <td>NaN</td>\n",
       "      <td>NaN</td>\n",
       "      <td>no</td>\n",
       "      <td>1956</td>\n",
       "      <td>27.428572</td>\n",
       "      <td>back</td>\n",
       "      <td>very good</td>\n",
       "      <td>...</td>\n",
       "      <td>no walkaid</td>\n",
       "      <td>84</td>\n",
       "      <td>3</td>\n",
       "      <td>2</td>\n",
       "      <td>3.0</td>\n",
       "      <td>3.0</td>\n",
       "      <td>3.0</td>\n",
       "      <td>NaN</td>\n",
       "      <td>support10</td>\n",
       "      <td>support10_7_1956</td>\n",
       "    </tr>\n",
       "  </tbody>\n",
       "</table>\n",
       "<p>5 rows × 352 columns</p>\n",
       "</div>"
      ],
      "text/plain": [
       "          activity_1  age_1 back_nevro_pow_1  back_nevro_reflex_1  \\\n",
       "id                                                                  \n",
       "0   slightly reduced   57.0              NaN                  NaN   \n",
       "1   slightly reduced   55.0              NaN                  NaN   \n",
       "2   slightly reduced   37.0              NaN                  NaN   \n",
       "3   slightly reduced   62.0              NaN                  NaN   \n",
       "4      quite reduced   64.0              NaN                  NaN   \n",
       "\n",
       "   back_nevro_sens_1 back_slr_1  birth_year      bmi_1        body_main_1  \\\n",
       "id                                                                          \n",
       "0                NaN        NaN        1963  24.772097               neck   \n",
       "1                NaN        NaN        1965  26.573132  multisite/complex   \n",
       "2                NaN        NaN        1983  27.281748  multisite/complex   \n",
       "3                NaN        NaN        1958  30.487806  multisite/complex   \n",
       "4                NaN         no        1956  27.428572               back   \n",
       "\n",
       "   childhood_1  ...   walk_aid_1  weight_1 work_ability_1  work_ability_3  \\\n",
       "id              ...                                                         \n",
       "0    very good  ...   no walkaid        75              8               0   \n",
       "1    very good  ...   no walkaid        75              8               8   \n",
       "2         good  ...   no walkaid        77              8               8   \n",
       "3         good  ...   no walkaid        82              8               9   \n",
       "4    very good  ...   no walkaid        84              3               2   \n",
       "\n",
       "    work_ability_w2  work_ability_w4  work_ability_w8  \\\n",
       "id                                                      \n",
       "0               6.0              6.0              1.0   \n",
       "1               7.0              8.0              7.0   \n",
       "2               5.0              NaN              NaN   \n",
       "3               9.0              NaN              9.0   \n",
       "4               3.0              3.0              3.0   \n",
       "\n",
       "                              work_type_1  clinic_id        patient_id  \n",
       "id                                                                      \n",
       "0                work demand much walking  support10  support10_1_1963  \n",
       "1                work demand much walking  support10  support10_2_1965  \n",
       "2                           mostly seated  support10  support10_5_1983  \n",
       "3   work demands much walking and lifting  support10  support10_6_1958  \n",
       "4                                     NaN  support10  support10_7_1956  \n",
       "\n",
       "[5 rows x 352 columns]"
      ]
     },
     "execution_count": 10,
     "metadata": {},
     "output_type": "execute_result"
    }
   ],
   "source": [
    "df.head()"
   ]
  },
  {
   "cell_type": "markdown",
   "metadata": {},
   "source": [
    "### Rounding of the float variables up to 2 decimal places"
   ]
  },
  {
   "cell_type": "code",
   "execution_count": 11,
   "metadata": {},
   "outputs": [
    {
     "data": {
      "text/plain": [
       "array([174, 168, 164, 175, 163, 185, 173, 165, 160, 182, 177, 169, 184,\n",
       "       183, 167, 181, 171, 166, 158, 186, 176, 178, 172, 152, 170, 180,\n",
       "       189, 190, 150, 162])"
      ]
     },
     "execution_count": 11,
     "metadata": {},
     "output_type": "execute_result"
    }
   ],
   "source": [
    "df.height_1.unique()"
   ]
  },
  {
   "cell_type": "code",
   "execution_count": 12,
   "metadata": {},
   "outputs": [
    {
     "name": "stdout",
     "output_type": "stream",
     "text": [
      "hscl_score_1\n",
      "bmi_1\n",
      "hscl_score_3\n"
     ]
    }
   ],
   "source": [
    "round_float_list = ['hscl_score_1',\n",
    "                    'bmi_1',\n",
    "                    #'ndi_total_1',  \n",
    "                    #'odi_total_1',  \n",
    "                    #'spadi_total_1',\n",
    "                    #'outcome_allpercent',\n",
    "                    \n",
    "                    'hscl_score_3',\n",
    "                    #'ndi_total_3',  \n",
    "                    #'odi_total_3',\n",
    "                    #'spadi_total_3'\n",
    "                   ]\n",
    "\n",
    "for col_name in round_float_list:\n",
    "    print(col_name)\n",
    "    df[col_name] = df[col_name].round(2)\n",
    "    df_labeled[col_name] = df[col_name].round(2)\n",
    "    #df_numeric[col_name] = df_numeric[col_name].round(2)\n",
    "    \n",
    "# df_labeled.hscl10_mean_1 = df_labeled.hscl10_mean_1.round(2)\n",
    "# df_labeled.ndi_total_1   = df_labeled.ndi_total_1.round(2)\n",
    "# df_labeled.odi_total_1   = df_labeled.odi_total_1.round(2)\n",
    "# df_labeled.spadi_total_1 = df_labeled.spadi_total_1.round(2)\n",
    "# \n",
    "# df_numeric.hscl10_mean_3 = df_numeric.hscl10_mean_3.round(2)\n",
    "# df_numeric.spadi_total_3 = df_numeric.spadi_total_3.round(2)\n",
    "# df_numeric.ndi_total_3   = df_numeric.ndi_total_3.round(2)\n",
    "# df_numeric.odi_total_3   = df_numeric.odi_total_3.round(2)"
   ]
  },
  {
   "cell_type": "code",
   "execution_count": 13,
   "metadata": {},
   "outputs": [],
   "source": [
    "# for testing\n",
    "#print(df_labeled[ round_float_list][:5]);\n",
    "#print(df_numeric[ round_float_list][:5]);"
   ]
  },
  {
   "cell_type": "markdown",
   "metadata": {},
   "source": [
    "## Drop all empty columns"
   ]
  },
  {
   "cell_type": "markdown",
   "metadata": {},
   "source": [
    "#### Issues with complete empty columns ????"
   ]
  },
  {
   "cell_type": "code",
   "execution_count": 14,
   "metadata": {},
   "outputs": [
    {
     "name": "stdout",
     "output_type": "stream",
     "text": [
      "Before drop :  (63, 352)\n",
      "After drop :  (63, 338)\n",
      "Before drop :  (63, 352)\n",
      "After drop :  (63, 338)\n"
     ]
    }
   ],
   "source": [
    "print('Before drop : ', df.shape) # (506, 292)\n",
    "df.dropna( how='all', axis=1, inplace=True)\n",
    "print('After drop : ', df.shape) # (506, 279)\n",
    "\n",
    "print('Before drop : ', df_labeled.shape) # (506, 292)\n",
    "df_labeled.dropna( how='all', axis=1, inplace=True)\n",
    "print('After drop : ', df_labeled.shape) # (506, 279)\n",
    "\n",
    "#print('Before drop : ', df_numeric.shape) # (506, 292)\n",
    "#df_numeric.dropna( how='all', axis=1, inplace=True)\n",
    "#print('After drop : ', df_numeric.shape) # (506, 279)"
   ]
  },
  {
   "cell_type": "markdown",
   "metadata": {},
   "source": [
    "## Function for removing all leading and trailing spaces in a dataframe"
   ]
  },
  {
   "cell_type": "code",
   "execution_count": 15,
   "metadata": {},
   "outputs": [],
   "source": [
    "def remove_leading_trailing_spaces(tempdf=df):\n",
    "    df_obj = tempdf.select_dtypes(['object'])\n",
    "    tempdf[df_obj.columns] = df_obj.apply(lambda x: x.str.strip())\n",
    "    return tempdf"
   ]
  },
  {
   "cell_type": "markdown",
   "metadata": {},
   "source": [
    "## Function to repalce all characters of a string in a dataframe"
   ]
  },
  {
   "cell_type": "code",
   "execution_count": 16,
   "metadata": {},
   "outputs": [],
   "source": [
    "def replace_all_with( old, new, tempdf=df):\n",
    "    temp = tempdf.replace({old: new}, regex=True)\n",
    "    return temp"
   ]
  },
  {
   "cell_type": "raw",
   "metadata": {},
   "source": [
    "df.employment_1 = replace_all_with( 'Working,', 'Working ', df.employment_1)\n",
    "df.employment_1 = replace_all_with( 'Other: Student,retiree,non-paid work', 'Other: Student or retiree or non-paid work', df.employment_1)\n",
    "df_labeled.employment_1 = replace_all_with( 'Working,', 'Working ', df_labeled.employment_1)\n",
    "df_labeled.employment_1 = replace_all_with( 'Other: Student,retiree,non-paid work', 'Other: Student or retiree or non-paid work', df_labeled.employment_1)\n",
    "if( df.columns.contains('employment_3')):\n",
    "    df.employment_3 = replace_all_with( 'Working,', 'Working ', df.employment_3)\n",
    "    df.employment_3 = replace_all_with( 'Other: Student,retiree,non-paid work', 'Other: Student or retiree or non-paid work', df.employment_3)\n",
    "    df.employment_3.unique()"
   ]
  },
  {
   "cell_type": "code",
   "execution_count": 17,
   "metadata": {},
   "outputs": [],
   "source": [
    "# Must throw exception\n",
    "# df_numeric.employment_1 = replace_all_with( 'Working,', 'Working ', df_numeric.employment_1)\n",
    "# df_numeric.employment_1.unique()"
   ]
  },
  {
   "cell_type": "markdown",
   "metadata": {},
   "source": [
    "## Replace all special char"
   ]
  },
  {
   "cell_type": "markdown",
   "metadata": {},
   "source": [
    "### 1. '>' is replaced with 'GT' (Greater Than) and '<' is replaced with 'LT' (Lower/Less Than)"
   ]
  },
  {
   "cell_type": "code",
   "execution_count": 18,
   "metadata": {},
   "outputs": [],
   "source": [
    "#df_labeled.outcome_percent01.unique()"
   ]
  },
  {
   "cell_type": "code",
   "execution_count": 19,
   "metadata": {},
   "outputs": [],
   "source": [
    "df = replace_all_with('>', 'GT ', df)\n",
    "df = replace_all_with('≥', 'GT_EQ ', df)\n",
    "df = replace_all_with('<', 'LT ', df)\n",
    "\n",
    "df_labeled = replace_all_with('>', 'GT ', df_labeled)\n",
    "df_labeled = replace_all_with('≥', 'GT_EQ ', df_labeled)\n",
    "df_labeled = replace_all_with('<', 'LT ', df_labeled)\n",
    "\n",
    "#df_numeric = replace_all_with('>', 'GT ', df_numeric)\n",
    "#df_numeric = replace_all_with('<', 'LT ', df_numeric)"
   ]
  },
  {
   "cell_type": "code",
   "execution_count": 20,
   "metadata": {},
   "outputs": [],
   "source": [
    "#df_labeled.outcome_percent01.unique()"
   ]
  },
  {
   "cell_type": "markdown",
   "metadata": {},
   "source": [
    "### 2. '-'  to  ' - ' for readablity\n",
    "### 3. ';'  to  ':' (colon) to compenseate the next statement (4.) \n",
    "### 4. ','  to  ';' (semicolon) since they represent multiple values for a given attribute, and they will result in a 'csv' file "
   ]
  },
  {
   "cell_type": "code",
   "execution_count": 21,
   "metadata": {},
   "outputs": [],
   "source": [
    "df = replace_all_with( '-', ' - ', df)\n",
    "df = replace_all_with( ';', ' : ', df)\n",
    "df = replace_all_with( ',', ' ; ', df)\n",
    "\n",
    "df_labeled = replace_all_with( '-', ' - ', df_labeled)\n",
    "df_labeled = replace_all_with( ';', ' : ', df_labeled)\n",
    "df_labeled = replace_all_with( ',', ' ; ', df_labeled)\n",
    "\n",
    "#df_numeric = replace_all_with( '-', ' - ', df_numeric)\n",
    "#df_numeric = replace_all_with( ';', ' : ', df_numeric)\n",
    "#df_numeric = replace_all_with( ',', ' ; ', df_numeric)"
   ]
  },
  {
   "cell_type": "markdown",
   "metadata": {},
   "source": [
    "### 5. '%'  to  ' percent' to resolve the special char ambiguity"
   ]
  },
  {
   "cell_type": "code",
   "execution_count": 22,
   "metadata": {},
   "outputs": [],
   "source": [
    "df = replace_all_with( '%', ' percent', df)\n",
    "df_labeled = replace_all_with( '%', ' percent', df_labeled)\n",
    "#df_numeric = replace_all_with( '%', ' percent', df_numeric)"
   ]
  },
  {
   "cell_type": "code",
   "execution_count": 23,
   "metadata": {},
   "outputs": [],
   "source": [
    "df = replace_all_with( '/', '_', df)\n",
    "df_labeled = replace_all_with( '/', '_', df_labeled)"
   ]
  },
  {
   "cell_type": "code",
   "execution_count": 24,
   "metadata": {},
   "outputs": [
    {
     "data": {
      "text/plain": [
       "array(['neck', 'multisite_complex', 'back', 'hip', 'shoulder', 'knee'],\n",
       "      dtype=object)"
      ]
     },
     "execution_count": 24,
     "metadata": {},
     "output_type": "execute_result"
    }
   ],
   "source": [
    "df.body_main_1.unique()"
   ]
  },
  {
   "cell_type": "markdown",
   "metadata": {},
   "source": [
    "### 6. multiple spaces in the text to resolve the ambiguity in categorical values for myCBR"
   ]
  },
  {
   "cell_type": "code",
   "execution_count": 25,
   "metadata": {},
   "outputs": [],
   "source": [
    "df = replace_all_with( '   ', ' ', df)\n",
    "df = replace_all_with( '  ', ' ',  df)\n",
    "\n",
    "df_labeled = replace_all_with( '   ', ' ', df_labeled)\n",
    "df_labeled = replace_all_with( '  ', ' ',  df_labeled)\n",
    "\n",
    "#df_numeric = replace_all_with( '   ', ' ', df_numeric)\n",
    "#df_numeric = replace_all_with( '  ', ' ', df_numeric)"
   ]
  },
  {
   "cell_type": "code",
   "execution_count": 26,
   "metadata": {},
   "outputs": [],
   "source": [
    "#df_labeled.treat_base[:50]"
   ]
  },
  {
   "cell_type": "markdown",
   "metadata": {},
   "source": [
    "### 7. The attribute was originally like ''No, off and on', where  ',' was replaced to  ';'. But  ';' is the representation for multiple value thus we  need to convert  ';' to  ':' for its intended interpretation."
   ]
  },
  {
   "cell_type": "raw",
   "metadata": {},
   "source": [
    "df.pain_continuous_1 = replace_all_with( 'No ; off and on', 'No : off and on',       df.pain_continuous_1)\n",
    "df.pain_continuous_1 = replace_all_with( 'Yes ; all the time', 'Yes : all the time', df.pain_continuous_1)\n",
    "df.pain_continuous_3 = replace_all_with( 'No ; off and on', 'No : off and on',       df.pain_continuous_3)\n",
    "df.pain_continuous_3 = replace_all_with( 'Yes ; all the time', 'Yes : all the time', df.pain_continuous_3)\n",
    "print(df.pain_continuous_1.unique())\n",
    "print(df.pain_continuous_3.unique())\n",
    "\n",
    "df_labeled.pain_continuous_1 = replace_all_with( 'No ; off and on', 'No : off and on',       df_labeled.pain_continuous_1)\n",
    "df_labeled.pain_continuous_1 = replace_all_with( 'Yes ; all the time', 'Yes : all the time', df_labeled.pain_continuous_1)\n",
    "df_labeled.pain_continuous_3 = replace_all_with( 'No ; off and on', 'No : off and on',       df_labeled.pain_continuous_3)\n",
    "df_labeled.pain_continuous_3 = replace_all_with( 'Yes ; all the time', 'Yes : all the time', df_labeled.pain_continuous_3)\n",
    "print(df_labeled.pain_continuous_1.unique())\n",
    "print(df_labeled.pain_continuous_3.unique())"
   ]
  },
  {
   "cell_type": "code",
   "execution_count": 27,
   "metadata": {},
   "outputs": [
    {
     "data": {
      "text/plain": [
       "array(['1 - 4', '0', '5 or more', nan], dtype=object)"
      ]
     },
     "execution_count": 27,
     "metadata": {},
     "output_type": "execute_result"
    }
   ],
   "source": [
    "df_labeled.medic_number_1.unique()"
   ]
  },
  {
   "cell_type": "code",
   "execution_count": 28,
   "metadata": {},
   "outputs": [
    {
     "name": "stdout",
     "output_type": "stream",
     "text": [
      "['1 to 4' '0' '5 or more' nan]\n",
      "['0' '1 to 4' nan]\n"
     ]
    }
   ],
   "source": [
    "df.medic_number_1 = df.medic_number_1.replace({'-': 'to'}, regex=True)\n",
    "df_labeled.medic_number_1 = df_labeled.medic_number_1.replace({'-': 'to'}, regex=True)\n",
    "print(df.medic_number_1.unique())\n",
    "\n",
    "df.medic_number_3 = df.medic_number_3.replace({'-': 'to'}, regex=True)\n",
    "df_labeled.medic_number_3 = df_labeled.medic_number_3.replace({'-': 'to'}, regex=True)\n",
    "print(df.medic_number_3.unique())\n",
    "#df.treat_int_3 = df.treat_int_3.replace({'-': 'to'}, regex=True)\n",
    "#df.treat_int_3.unique()\n",
    "\n",
    "#df_labeled.treat_int_3 = df_labeled.treat_int_3.replace({'-': 'to'}, regex=True)\n",
    "#df_labeled.treat_int_3.unique()"
   ]
  },
  {
   "cell_type": "code",
   "execution_count": 29,
   "metadata": {},
   "outputs": [
    {
     "name": "stderr",
     "output_type": "stream",
     "text": [
      "/lhome/amardj/anaconda3/envs/my_env/lib/python3.7/site-packages/ipykernel_launcher.py:1: FutureWarning: The 'contains' method is deprecated and will be removed in a future version. Use 'key in index' instead of 'index.contains(key)'\n",
      "  \"\"\"Entry point for launching an IPython kernel.\n"
     ]
    }
   ],
   "source": [
    "if( df.columns.contains('priokey')):\n",
    "    df.priokey.unique()\n",
    "    df.priokey = df.priokey.replace({';': '-'}, regex=True)\n",
    "    df.priokey.unique()"
   ]
  },
  {
   "cell_type": "raw",
   "metadata": {},
   "source": [
    "df.employment_1.unique()"
   ]
  },
  {
   "cell_type": "code",
   "execution_count": 30,
   "metadata": {},
   "outputs": [
    {
     "data": {
      "text/plain": [
       "array([' working or other', 'disability pension or work assessment',\n",
       "       'sick leave'], dtype=object)"
      ]
     },
     "execution_count": 30,
     "metadata": {},
     "output_type": "execute_result"
    }
   ],
   "source": [
    "df.employ_1.unique()"
   ]
  },
  {
   "cell_type": "code",
   "execution_count": 31,
   "metadata": {},
   "outputs": [],
   "source": [
    "#df_numeric.employment_1.unique()"
   ]
  },
  {
   "cell_type": "code",
   "execution_count": 32,
   "metadata": {},
   "outputs": [],
   "source": [
    "#temp_df.bmi_ca.unique()"
   ]
  },
  {
   "cell_type": "code",
   "execution_count": 33,
   "metadata": {},
   "outputs": [
    {
     "data": {
      "text/plain": [
       "(63, 338)"
      ]
     },
     "execution_count": 33,
     "metadata": {},
     "output_type": "execute_result"
    }
   ],
   "source": [
    "df_labeled.shape  # (506, 233)"
   ]
  },
  {
   "cell_type": "code",
   "execution_count": 34,
   "metadata": {},
   "outputs": [
    {
     "data": {
      "text/plain": [
       "(63, 338)"
      ]
     },
     "execution_count": 34,
     "metadata": {},
     "output_type": "execute_result"
    }
   ],
   "source": [
    "df.shape  # (277, 231)"
   ]
  },
  {
   "cell_type": "code",
   "execution_count": 35,
   "metadata": {},
   "outputs": [],
   "source": [
    "#df.outcome_percent01 = df.outcome_percent01.replace({'â¥50': 'GT_EQ 50'}, regex=True)\n",
    "#df.outcome_percent01.unique()"
   ]
  },
  {
   "cell_type": "code",
   "execution_count": 36,
   "metadata": {},
   "outputs": [],
   "source": [
    "#df[['outcome_allpercent','outcome_percent','outcome_percent01']][:100]"
   ]
  },
  {
   "cell_type": "code",
   "execution_count": 37,
   "metadata": {},
   "outputs": [],
   "source": [
    "#df_labeled.outcome_percent.unique()"
   ]
  },
  {
   "cell_type": "code",
   "execution_count": 38,
   "metadata": {},
   "outputs": [],
   "source": [
    "#df_labeled.outcome_percent = df_labeled.outcome_percent.replace({'-': 'to'}, regex=True)\n",
    "#df_labeled.outcome_percent = df_labeled.outcome_percent.replace({'change/worse': 'change_worse'}, regex=True)\n",
    "#df_labeled.outcome_percent.unique()"
   ]
  },
  {
   "cell_type": "markdown",
   "metadata": {},
   "source": [
    "## Remove leading or trailing spaces"
   ]
  },
  {
   "cell_type": "code",
   "execution_count": 39,
   "metadata": {},
   "outputs": [],
   "source": [
    "df = remove_leading_trailing_spaces( tempdf=df)\n",
    "\n",
    "df_labeled = remove_leading_trailing_spaces( tempdf=df_labeled)\n",
    "\n",
    "#df_numeric = remove_leading_trailing_spaces( tempdf=df_numeric)"
   ]
  },
  {
   "cell_type": "raw",
   "metadata": {},
   "source": [
    "df.employment_1.unique()"
   ]
  },
  {
   "cell_type": "markdown",
   "metadata": {},
   "source": [
    "## Write the featured engineered dataframe to a \"csv\" file for myCBR analysis"
   ]
  },
  {
   "cell_type": "code",
   "execution_count": 40,
   "metadata": {},
   "outputs": [
    {
     "data": {
      "text/html": [
       "<div>\n",
       "<style scoped>\n",
       "    .dataframe tbody tr th:only-of-type {\n",
       "        vertical-align: middle;\n",
       "    }\n",
       "\n",
       "    .dataframe tbody tr th {\n",
       "        vertical-align: top;\n",
       "    }\n",
       "\n",
       "    .dataframe thead th {\n",
       "        text-align: right;\n",
       "    }\n",
       "</style>\n",
       "<table border=\"1\" class=\"dataframe\">\n",
       "  <thead>\n",
       "    <tr style=\"text-align: right;\">\n",
       "      <th></th>\n",
       "      <th>activity_1</th>\n",
       "      <th>age_1</th>\n",
       "      <th>back_nevro_pow_1</th>\n",
       "      <th>back_nevro_sens_1</th>\n",
       "      <th>back_slr_1</th>\n",
       "      <th>birth_year</th>\n",
       "      <th>bmi_1</th>\n",
       "      <th>body_main_1</th>\n",
       "      <th>childhood_1</th>\n",
       "      <th>como_asthma_1</th>\n",
       "      <th>...</th>\n",
       "      <th>treat_goal_1</th>\n",
       "      <th>walk_aid_1</th>\n",
       "      <th>weight_1</th>\n",
       "      <th>work_ability_1</th>\n",
       "      <th>work_ability_w2</th>\n",
       "      <th>work_ability_w4</th>\n",
       "      <th>work_ability_w8</th>\n",
       "      <th>work_type_1</th>\n",
       "      <th>clinic_id</th>\n",
       "      <th>patient_id</th>\n",
       "    </tr>\n",
       "    <tr>\n",
       "      <th>id</th>\n",
       "      <th></th>\n",
       "      <th></th>\n",
       "      <th></th>\n",
       "      <th></th>\n",
       "      <th></th>\n",
       "      <th></th>\n",
       "      <th></th>\n",
       "      <th></th>\n",
       "      <th></th>\n",
       "      <th></th>\n",
       "      <th></th>\n",
       "      <th></th>\n",
       "      <th></th>\n",
       "      <th></th>\n",
       "      <th></th>\n",
       "      <th></th>\n",
       "      <th></th>\n",
       "      <th></th>\n",
       "      <th></th>\n",
       "      <th></th>\n",
       "      <th></th>\n",
       "    </tr>\n",
       "  </thead>\n",
       "  <tbody>\n",
       "    <tr>\n",
       "      <td>0</td>\n",
       "      <td>slightly reduced</td>\n",
       "      <td>57.0</td>\n",
       "      <td>NaN</td>\n",
       "      <td>NaN</td>\n",
       "      <td>NaN</td>\n",
       "      <td>1963</td>\n",
       "      <td>24.77</td>\n",
       "      <td>neck</td>\n",
       "      <td>very good</td>\n",
       "      <td>NaN</td>\n",
       "      <td>...</td>\n",
       "      <td>Smertefri og full jobb</td>\n",
       "      <td>no walkaid</td>\n",
       "      <td>75</td>\n",
       "      <td>8</td>\n",
       "      <td>6.0</td>\n",
       "      <td>6.0</td>\n",
       "      <td>1.0</td>\n",
       "      <td>work demand much walking</td>\n",
       "      <td>support10</td>\n",
       "      <td>support10_1_1963</td>\n",
       "    </tr>\n",
       "    <tr>\n",
       "      <td>1</td>\n",
       "      <td>slightly reduced</td>\n",
       "      <td>55.0</td>\n",
       "      <td>NaN</td>\n",
       "      <td>NaN</td>\n",
       "      <td>NaN</td>\n",
       "      <td>1965</td>\n",
       "      <td>26.57</td>\n",
       "      <td>multisite_complex</td>\n",
       "      <td>very good</td>\n",
       "      <td>NaN</td>\n",
       "      <td>...</td>\n",
       "      <td>Få hjelp til å mestre smertene og riktig tanke...</td>\n",
       "      <td>no walkaid</td>\n",
       "      <td>75</td>\n",
       "      <td>8</td>\n",
       "      <td>7.0</td>\n",
       "      <td>8.0</td>\n",
       "      <td>7.0</td>\n",
       "      <td>work demand much walking</td>\n",
       "      <td>support10</td>\n",
       "      <td>support10_2_1965</td>\n",
       "    </tr>\n",
       "    <tr>\n",
       "      <td>2</td>\n",
       "      <td>slightly reduced</td>\n",
       "      <td>37.0</td>\n",
       "      <td>NaN</td>\n",
       "      <td>NaN</td>\n",
       "      <td>NaN</td>\n",
       "      <td>1983</td>\n",
       "      <td>27.28</td>\n",
       "      <td>multisite_complex</td>\n",
       "      <td>good</td>\n",
       "      <td>NaN</td>\n",
       "      <td>...</td>\n",
       "      <td>mindre smerter - endre livsstil (kost ; søvn ;...</td>\n",
       "      <td>no walkaid</td>\n",
       "      <td>77</td>\n",
       "      <td>8</td>\n",
       "      <td>5.0</td>\n",
       "      <td>NaN</td>\n",
       "      <td>NaN</td>\n",
       "      <td>mostly seated</td>\n",
       "      <td>support10</td>\n",
       "      <td>support10_5_1983</td>\n",
       "    </tr>\n",
       "    <tr>\n",
       "      <td>3</td>\n",
       "      <td>slightly reduced</td>\n",
       "      <td>62.0</td>\n",
       "      <td>NaN</td>\n",
       "      <td>NaN</td>\n",
       "      <td>NaN</td>\n",
       "      <td>1958</td>\n",
       "      <td>30.49</td>\n",
       "      <td>multisite_complex</td>\n",
       "      <td>good</td>\n",
       "      <td>NaN</td>\n",
       "      <td>...</td>\n",
       "      <td>Bli kvitt svimmelheten ; full jobb ; kommer ig...</td>\n",
       "      <td>no walkaid</td>\n",
       "      <td>82</td>\n",
       "      <td>8</td>\n",
       "      <td>9.0</td>\n",
       "      <td>NaN</td>\n",
       "      <td>9.0</td>\n",
       "      <td>work demands much walking and lifting</td>\n",
       "      <td>support10</td>\n",
       "      <td>support10_6_1958</td>\n",
       "    </tr>\n",
       "    <tr>\n",
       "      <td>4</td>\n",
       "      <td>quite reduced</td>\n",
       "      <td>64.0</td>\n",
       "      <td>NaN</td>\n",
       "      <td>NaN</td>\n",
       "      <td>no</td>\n",
       "      <td>1956</td>\n",
       "      <td>27.43</td>\n",
       "      <td>back</td>\n",
       "      <td>very good</td>\n",
       "      <td>NaN</td>\n",
       "      <td>...</td>\n",
       "      <td>Mindre smerter og bedre funksjon. Sterkere ryg...</td>\n",
       "      <td>no walkaid</td>\n",
       "      <td>84</td>\n",
       "      <td>3</td>\n",
       "      <td>3.0</td>\n",
       "      <td>3.0</td>\n",
       "      <td>3.0</td>\n",
       "      <td>NaN</td>\n",
       "      <td>support10</td>\n",
       "      <td>support10_7_1956</td>\n",
       "    </tr>\n",
       "  </tbody>\n",
       "</table>\n",
       "<p>5 rows × 173 columns</p>\n",
       "</div>"
      ],
      "text/plain": [
       "          activity_1  age_1 back_nevro_pow_1 back_nevro_sens_1 back_slr_1  \\\n",
       "id                                                                          \n",
       "0   slightly reduced   57.0              NaN               NaN        NaN   \n",
       "1   slightly reduced   55.0              NaN               NaN        NaN   \n",
       "2   slightly reduced   37.0              NaN               NaN        NaN   \n",
       "3   slightly reduced   62.0              NaN               NaN        NaN   \n",
       "4      quite reduced   64.0              NaN               NaN         no   \n",
       "\n",
       "    birth_year  bmi_1        body_main_1 childhood_1  como_asthma_1  ...  \\\n",
       "id                                                                   ...   \n",
       "0         1963  24.77               neck   very good            NaN  ...   \n",
       "1         1965  26.57  multisite_complex   very good            NaN  ...   \n",
       "2         1983  27.28  multisite_complex        good            NaN  ...   \n",
       "3         1958  30.49  multisite_complex        good            NaN  ...   \n",
       "4         1956  27.43               back   very good            NaN  ...   \n",
       "\n",
       "                                         treat_goal_1  walk_aid_1  weight_1  \\\n",
       "id                                                                            \n",
       "0                              Smertefri og full jobb  no walkaid        75   \n",
       "1   Få hjelp til å mestre smertene og riktig tanke...  no walkaid        75   \n",
       "2   mindre smerter - endre livsstil (kost ; søvn ;...  no walkaid        77   \n",
       "3   Bli kvitt svimmelheten ; full jobb ; kommer ig...  no walkaid        82   \n",
       "4   Mindre smerter og bedre funksjon. Sterkere ryg...  no walkaid        84   \n",
       "\n",
       "    work_ability_1  work_ability_w2  work_ability_w4  work_ability_w8  \\\n",
       "id                                                                      \n",
       "0                8              6.0              6.0              1.0   \n",
       "1                8              7.0              8.0              7.0   \n",
       "2                8              5.0              NaN              NaN   \n",
       "3                8              9.0              NaN              9.0   \n",
       "4                3              3.0              3.0              3.0   \n",
       "\n",
       "                              work_type_1  clinic_id        patient_id  \n",
       "id                                                                      \n",
       "0                work demand much walking  support10  support10_1_1963  \n",
       "1                work demand much walking  support10  support10_2_1965  \n",
       "2                           mostly seated  support10  support10_5_1983  \n",
       "3   work demands much walking and lifting  support10  support10_6_1958  \n",
       "4                                     NaN  support10  support10_7_1956  \n",
       "\n",
       "[5 rows x 173 columns]"
      ]
     },
     "execution_count": 40,
     "metadata": {},
     "output_type": "execute_result"
    }
   ],
   "source": [
    "df.drop(df.filter(regex='_3').columns, axis=1).head()"
   ]
  },
  {
   "cell_type": "raw",
   "metadata": {},
   "source": [
    "exclude_cols = ['outcome01_3', 'outcome02_3']\n",
    "df = df.drop((df.filter(regex='_3').columns).drop( exclude_cols), axis=1)\n",
    "df[df.filter(like='_3',axis=1).columns]\n",
    "df.head()"
   ]
  },
  {
   "cell_type": "markdown",
   "metadata": {},
   "source": [
    "## Check for the outcome variables"
   ]
  },
  {
   "cell_type": "code",
   "execution_count": 41,
   "metadata": {},
   "outputs": [],
   "source": [
    "outcome_list = [\n",
    " 'out01',\n",
    " #'out02'\n",
    "]"
   ]
  },
  {
   "cell_type": "code",
   "execution_count": 42,
   "metadata": {},
   "outputs": [
    {
     "data": {
      "text/html": [
       "<div>\n",
       "<style scoped>\n",
       "    .dataframe tbody tr th:only-of-type {\n",
       "        vertical-align: middle;\n",
       "    }\n",
       "\n",
       "    .dataframe tbody tr th {\n",
       "        vertical-align: top;\n",
       "    }\n",
       "\n",
       "    .dataframe thead th {\n",
       "        text-align: right;\n",
       "    }\n",
       "</style>\n",
       "<table border=\"1\" class=\"dataframe\">\n",
       "  <thead>\n",
       "    <tr style=\"text-align: right;\">\n",
       "      <th></th>\n",
       "      <th>out01</th>\n",
       "    </tr>\n",
       "    <tr>\n",
       "      <th>id</th>\n",
       "      <th></th>\n",
       "    </tr>\n",
       "  </thead>\n",
       "  <tbody>\n",
       "    <tr>\n",
       "      <td>0</td>\n",
       "      <td>0.0</td>\n",
       "    </tr>\n",
       "    <tr>\n",
       "      <td>1</td>\n",
       "      <td>0.0</td>\n",
       "    </tr>\n",
       "    <tr>\n",
       "      <td>2</td>\n",
       "      <td>1.0</td>\n",
       "    </tr>\n",
       "    <tr>\n",
       "      <td>3</td>\n",
       "      <td>1.0</td>\n",
       "    </tr>\n",
       "    <tr>\n",
       "      <td>4</td>\n",
       "      <td>0.0</td>\n",
       "    </tr>\n",
       "  </tbody>\n",
       "</table>\n",
       "</div>"
      ],
      "text/plain": [
       "    out01\n",
       "id       \n",
       "0     0.0\n",
       "1     0.0\n",
       "2     1.0\n",
       "3     1.0\n",
       "4     0.0"
      ]
     },
     "execution_count": 42,
     "metadata": {},
     "output_type": "execute_result"
    }
   ],
   "source": [
    "df[ outcome_list].head()"
   ]
  },
  {
   "cell_type": "code",
   "execution_count": 43,
   "metadata": {},
   "outputs": [],
   "source": [
    "special_char_col = [\n",
    "                    #'physio_diagnosis',\n",
    "                    'psfs1_act_1',\n",
    "                    #'psfs2_act_1',\n",
    "                    #'psfs3_act_1',\n",
    "                    #'treat_base',\n",
    "                    'treat_goal_1',\n",
    "                   ]\n",
    "#special_char_col = ['collab_typesp_3',\n",
    "#                    #'comob_otherspec',\n",
    "#                    'end_othersp_3',\n",
    "#                    #'physio_diagnosis',\n",
    "#                    'psfs1_act_1',\n",
    "#                    'psfs1_act_3',\n",
    "#                    'psfs2_act_1',\n",
    "#                    'psfs2_act_3',\n",
    "#                    'psfs3_act_1',\n",
    "#                    'psfs3_act_3',\n",
    "#                    #'psfs4_act_3',\n",
    "#                    #'psfs5_act_3',\n",
    "#                    'ref_othsp_3',\n",
    "#                    'treat_adl_q6_3',\n",
    "#                    'treat_advice_q15_3',\n",
    "#                    #'treat_base',\n",
    "#                    'treat_exothersp_3',\n",
    "#                    'treat_goal_base',\n",
    "#                    'treat_important_3',\n",
    "#                    'treat_othsp_3',\n",
    "#                    'treat_psychospec_3',\n",
    "#                   ]"
   ]
  },
  {
   "cell_type": "code",
   "execution_count": 44,
   "metadata": {},
   "outputs": [
    {
     "data": {
      "text/html": [
       "<div>\n",
       "<style scoped>\n",
       "    .dataframe tbody tr th:only-of-type {\n",
       "        vertical-align: middle;\n",
       "    }\n",
       "\n",
       "    .dataframe tbody tr th {\n",
       "        vertical-align: top;\n",
       "    }\n",
       "\n",
       "    .dataframe thead th {\n",
       "        text-align: right;\n",
       "    }\n",
       "</style>\n",
       "<table border=\"1\" class=\"dataframe\">\n",
       "  <thead>\n",
       "    <tr style=\"text-align: right;\">\n",
       "      <th></th>\n",
       "      <th>psfs1_act_1</th>\n",
       "      <th>treat_goal_1</th>\n",
       "    </tr>\n",
       "    <tr>\n",
       "      <th>id</th>\n",
       "      <th></th>\n",
       "      <th></th>\n",
       "    </tr>\n",
       "  </thead>\n",
       "  <tbody>\n",
       "    <tr>\n",
       "      <td>0</td>\n",
       "      <td>Komme tilbake til full jobb uten smerter</td>\n",
       "      <td>Smertefri og full jobb</td>\n",
       "    </tr>\n",
       "    <tr>\n",
       "      <td>1</td>\n",
       "      <td>Ski</td>\n",
       "      <td>Få hjelp til å mestre smertene og riktig tanke...</td>\n",
       "    </tr>\n",
       "    <tr>\n",
       "      <td>2</td>\n",
       "      <td>Tunge løft</td>\n",
       "      <td>mindre smerter - endre livsstil (kost ; søvn ;...</td>\n",
       "    </tr>\n",
       "    <tr>\n",
       "      <td>3</td>\n",
       "      <td>NaN</td>\n",
       "      <td>Bli kvitt svimmelheten ; full jobb ; kommer ig...</td>\n",
       "    </tr>\n",
       "    <tr>\n",
       "      <td>4</td>\n",
       "      <td>Støvsuging</td>\n",
       "      <td>Mindre smerter og bedre funksjon. Sterkere ryg...</td>\n",
       "    </tr>\n",
       "    <tr>\n",
       "      <td>...</td>\n",
       "      <td>...</td>\n",
       "      <td>...</td>\n",
       "    </tr>\n",
       "    <tr>\n",
       "      <td>58</td>\n",
       "      <td>Skøyting på rulleski_ski</td>\n",
       "      <td>Kune trene og konkurere for fullt innen skiori...</td>\n",
       "    </tr>\n",
       "    <tr>\n",
       "      <td>59</td>\n",
       "      <td>Armhevinger</td>\n",
       "      <td>Styrke muskulatur for å kunne løfte og trekke ...</td>\n",
       "    </tr>\n",
       "    <tr>\n",
       "      <td>60</td>\n",
       "      <td>Ta av en genser med armen foran kroppen</td>\n",
       "      <td>Unngå å bli sykemeldt. Klare vanlige daglige a...</td>\n",
       "    </tr>\n",
       "    <tr>\n",
       "      <td>61</td>\n",
       "      <td>Dra opp glidelåsen på jakke</td>\n",
       "      <td>Hun ønsker å bli smertefri. Kunne utføre dagli...</td>\n",
       "    </tr>\n",
       "    <tr>\n",
       "      <td>62</td>\n",
       "      <td>bevege seg_ gå med krykker</td>\n",
       "      <td>Bli sterkere for å kunne gå bedre med krykker ...</td>\n",
       "    </tr>\n",
       "  </tbody>\n",
       "</table>\n",
       "<p>63 rows × 2 columns</p>\n",
       "</div>"
      ],
      "text/plain": [
       "                                 psfs1_act_1  \\\n",
       "id                                             \n",
       "0   Komme tilbake til full jobb uten smerter   \n",
       "1                                        Ski   \n",
       "2                                 Tunge løft   \n",
       "3                                        NaN   \n",
       "4                                 Støvsuging   \n",
       "..                                       ...   \n",
       "58                  Skøyting på rulleski_ski   \n",
       "59                               Armhevinger   \n",
       "60   Ta av en genser med armen foran kroppen   \n",
       "61               Dra opp glidelåsen på jakke   \n",
       "62                bevege seg_ gå med krykker   \n",
       "\n",
       "                                         treat_goal_1  \n",
       "id                                                     \n",
       "0                              Smertefri og full jobb  \n",
       "1   Få hjelp til å mestre smertene og riktig tanke...  \n",
       "2   mindre smerter - endre livsstil (kost ; søvn ;...  \n",
       "3   Bli kvitt svimmelheten ; full jobb ; kommer ig...  \n",
       "4   Mindre smerter og bedre funksjon. Sterkere ryg...  \n",
       "..                                                ...  \n",
       "58  Kune trene og konkurere for fullt innen skiori...  \n",
       "59  Styrke muskulatur for å kunne løfte og trekke ...  \n",
       "60  Unngå å bli sykemeldt. Klare vanlige daglige a...  \n",
       "61  Hun ønsker å bli smertefri. Kunne utføre dagli...  \n",
       "62  Bli sterkere for å kunne gå bedre med krykker ...  \n",
       "\n",
       "[63 rows x 2 columns]"
      ]
     },
     "execution_count": 44,
     "metadata": {},
     "output_type": "execute_result"
    }
   ],
   "source": [
    "df[ special_char_col]"
   ]
  },
  {
   "cell_type": "code",
   "execution_count": 45,
   "metadata": {},
   "outputs": [],
   "source": [
    "df_clean = df.drop( columns=special_char_col, axis=1) # [df.columns.tolist()-special_char_col]"
   ]
  },
  {
   "cell_type": "code",
   "execution_count": 46,
   "metadata": {},
   "outputs": [
    {
     "data": {
      "text/plain": [
       "(63, 336)"
      ]
     },
     "execution_count": 46,
     "metadata": {},
     "output_type": "execute_result"
    }
   ],
   "source": [
    "df_clean.shape"
   ]
  },
  {
   "cell_type": "code",
   "execution_count": 47,
   "metadata": {},
   "outputs": [
    {
     "data": {
      "text/plain": [
       "id\n",
       "0    support10_1_1963\n",
       "1    support10_2_1965\n",
       "2    support10_5_1983\n",
       "3    support10_6_1958\n",
       "4    support10_7_1956\n",
       "Name: patient_id, dtype: object"
      ]
     },
     "execution_count": 47,
     "metadata": {},
     "output_type": "execute_result"
    }
   ],
   "source": [
    "df_clean.patient_id.head()"
   ]
  },
  {
   "cell_type": "code",
   "execution_count": 48,
   "metadata": {},
   "outputs": [
    {
     "data": {
      "text/plain": [
       "['activity_1',\n",
       " 'age_1',\n",
       " 'back_nevro_pow_1',\n",
       " 'back_nevro_sens_1',\n",
       " 'back_slr_1',\n",
       " 'birth_year',\n",
       " 'bmi_1',\n",
       " 'body_main_1',\n",
       " 'childhood_1',\n",
       " 'como_asthma_1',\n",
       " 'como_cancer_1',\n",
       " 'como_count_1',\n",
       " 'como_diabetes_1',\n",
       " 'como_fatigue_1',\n",
       " 'como_headache_1',\n",
       " 'como_heart_1',\n",
       " 'como_neuro_1',\n",
       " 'como_osteoporosis_1',\n",
       " 'como_other_1',\n",
       " 'como_other_spec_1',\n",
       " 'como_psych_1',\n",
       " 'como_ra_1',\n",
       " 'como_stomach_pain_1',\n",
       " 'compliance_3',\n",
       " 'consultation_3',\n",
       " 'date_baseline_patient',\n",
       " 'diagnose_1',\n",
       " 'discussed_employer_3',\n",
       " 'discussed_family_3',\n",
       " 'discussed_nav_3',\n",
       " 'discussed_occupational_3',\n",
       " 'education_1',\n",
       " 'education_othersp_1',\n",
       " 'employ_1',\n",
       " 'employ_assess_1',\n",
       " 'employ_assess_3',\n",
       " 'employ_disability_1',\n",
       " 'employ_disability_3',\n",
       " 'employ_disabilityp_1',\n",
       " 'employ_disabilityp_3',\n",
       " 'employ_paid_1',\n",
       " 'employ_paid_3',\n",
       " 'employ_paidp_1',\n",
       " 'employ_paidp_3',\n",
       " 'employ_retired_1',\n",
       " 'employ_retired_3',\n",
       " 'employ_sick_1',\n",
       " 'employ_sick_3',\n",
       " 'employ_sickp_1',\n",
       " 'employ_sickp_3',\n",
       " 'employ_stud_1',\n",
       " 'employ_stud_3',\n",
       " 'employ_unpaid_1',\n",
       " 'eq5d_adl_1',\n",
       " 'eq5d_adl_3',\n",
       " 'eq5d_care_1',\n",
       " 'eq5d_care_3',\n",
       " 'eq5d_depr_1',\n",
       " 'eq5d_depr_3',\n",
       " 'eq5d_pain_1',\n",
       " 'eq5d_pain_3',\n",
       " 'eq5d_walk_1',\n",
       " 'eq5d_walk_3',\n",
       " 'ethnicity_1',\n",
       " 'eval_goal_3',\n",
       " 'family_1',\n",
       " 'family_child_1',\n",
       " 'fear_1',\n",
       " 'gender_1',\n",
       " 'gpe_3',\n",
       " 'gpe_w2',\n",
       " 'gpe_w4',\n",
       " 'gpe_w8',\n",
       " 'health_lit_info_1',\n",
       " 'health_lit_sit_1',\n",
       " 'height_1',\n",
       " 'hscl_q10_1',\n",
       " 'hscl_q10_3',\n",
       " 'hscl_q1_1',\n",
       " 'hscl_q2_1',\n",
       " 'hscl_q2_3',\n",
       " 'hscl_q3_1',\n",
       " 'hscl_q3_3',\n",
       " 'hscl_q4_1',\n",
       " 'hscl_q4_3',\n",
       " 'hscl_q5_1',\n",
       " 'hscl_q5_3',\n",
       " 'hscl_q6_1',\n",
       " 'hscl_q6_3',\n",
       " 'hscl_q7_1',\n",
       " 'hscl_q7_3',\n",
       " 'hscl_q8_1',\n",
       " 'hscl_q8_3',\n",
       " 'hscl_q9_1',\n",
       " 'hscl_q9_3',\n",
       " 'hscl_score_1',\n",
       " 'hscl_score_3',\n",
       " 'icpc_letter_1',\n",
       " 'icpc_nr_1',\n",
       " 'journal_id',\n",
       " 'knee_hydrops_1',\n",
       " 'knee_trumatic_1',\n",
       " 'marital_1',\n",
       " 'medic_1',\n",
       " 'medic_3',\n",
       " 'medic_ibux_1',\n",
       " 'medic_ibux_3',\n",
       " 'medic_number_1',\n",
       " 'medic_number_3',\n",
       " 'medic_other_1',\n",
       " 'medic_other_3',\n",
       " 'medic_other_spec_1',\n",
       " 'medic_other_spec_3',\n",
       " 'medic_paracet_1',\n",
       " 'medic_paracet_3',\n",
       " 'mskhq_pa_1',\n",
       " 'mskhq_pa_3',\n",
       " 'mskhq_q10_1',\n",
       " 'mskhq_q10_3',\n",
       " 'mskhq_q11_1',\n",
       " 'mskhq_q11_3',\n",
       " 'mskhq_q12_1',\n",
       " 'mskhq_q12_3',\n",
       " 'mskhq_q13_1',\n",
       " 'mskhq_q13_3',\n",
       " 'mskhq_q14_1',\n",
       " 'mskhq_q14_3',\n",
       " 'mskhq_q1_1',\n",
       " 'mskhq_q1_3',\n",
       " 'mskhq_q2_1',\n",
       " 'mskhq_q2_3',\n",
       " 'mskhq_q3_1',\n",
       " 'mskhq_q3_3',\n",
       " 'mskhq_q4_1',\n",
       " 'mskhq_q4_3',\n",
       " 'mskhq_q5_1',\n",
       " 'mskhq_q5_3',\n",
       " 'mskhq_q6_1',\n",
       " 'mskhq_q6_3',\n",
       " 'mskhq_q7_1',\n",
       " 'mskhq_q7_3',\n",
       " 'mskhq_q8_1',\n",
       " 'mskhq_q8_3',\n",
       " 'mskhq_q9_1',\n",
       " 'mskhq_q9_3',\n",
       " 'mskhq_score_1',\n",
       " 'mskhq_score_3',\n",
       " 'mskt_q10_1',\n",
       " 'mskt_q1_1',\n",
       " 'mskt_q2_1',\n",
       " 'mskt_q3_1',\n",
       " 'mskt_q4_1',\n",
       " 'mskt_q5_1',\n",
       " 'mskt_q6_1',\n",
       " 'mskt_q7_1',\n",
       " 'mskt_q8_1',\n",
       " 'mskt_q9_1',\n",
       " 'mskt_risk_1',\n",
       " 'mskt_score_1',\n",
       " 'neck_conclusion_1',\n",
       " 'neck_spurling_1',\n",
       " 'oreb_q10_1',\n",
       " 'oreb_q1_1',\n",
       " 'oreb_q2_1',\n",
       " 'oreb_q2_3',\n",
       " 'oreb_q2_w2',\n",
       " 'oreb_q2_w8',\n",
       " 'oreb_q3_1',\n",
       " 'oreb_q4_1',\n",
       " 'oreb_q5_1',\n",
       " 'oreb_q6_1',\n",
       " 'oreb_q7_1',\n",
       " 'oreb_q8_1',\n",
       " 'oreb_q9_1',\n",
       " 'oreb_score_1',\n",
       " 'out01',\n",
       " 'pain_continuous_1',\n",
       " 'pain_continuous_3',\n",
       " 'pain_duration_1',\n",
       " 'pain_freq_1',\n",
       " 'pain_freq_3',\n",
       " 'pain_lweek_1',\n",
       " 'pain_variation_1',\n",
       " 'pain_variation_3',\n",
       " 'pain_vary_1',\n",
       " 'pain_vary_3',\n",
       " 'painsite_elbow_1',\n",
       " 'painsite_elbow_3',\n",
       " 'painsite_feet_1',\n",
       " 'painsite_feet_3',\n",
       " 'painsite_hand_1',\n",
       " 'painsite_hand_3',\n",
       " 'painsite_head_1',\n",
       " 'painsite_head_3',\n",
       " 'painsite_knee_1',\n",
       " 'painsite_knee_3',\n",
       " 'painsite_lback_1',\n",
       " 'painsite_lback_3',\n",
       " 'painsite_neck_1',\n",
       " 'painsite_neck_3',\n",
       " 'painsite_number_1',\n",
       " 'painsite_number_3',\n",
       " 'painsite_shou_1',\n",
       " 'painsite_shou_3',\n",
       " 'painsite_thigh_1',\n",
       " 'painsite_thigh_3',\n",
       " 'painsite_uback_1',\n",
       " 'painsite_uback_3',\n",
       " 'patient_therapist_q1_3',\n",
       " 'patient_therapist_q2_3',\n",
       " 'patient_therapist_q3_3',\n",
       " 'physio_id',\n",
       " 'physio_spec_3',\n",
       " 'pseq_q1_1',\n",
       " 'pseq_q1_3',\n",
       " 'pseq_q1_w2',\n",
       " 'pseq_q1_w8',\n",
       " 'pseq_q2_1',\n",
       " 'pseq_q2_3',\n",
       " 'pseq_q2_w2',\n",
       " 'pseq_q2_w8',\n",
       " 'pseq_score_1',\n",
       " 'pseq_score_3',\n",
       " 'psfs1_1',\n",
       " 'psfs1_3',\n",
       " 'psfs1_act_3',\n",
       " 'psfs1_act_w2',\n",
       " 'psfs1_act_w4',\n",
       " 'psfs1_act_w8',\n",
       " 'psfs1_w2',\n",
       " 'psfs1_w4',\n",
       " 'psfs1_w8',\n",
       " 'qol15D_q14_vital_1',\n",
       " 'qol15D_q14_vital_3',\n",
       " 'qol15D_q5_sleep_1',\n",
       " 'qol15D_q5_sleep_3',\n",
       " 'red_flag_cancer_1',\n",
       " 'red_flag_nightpain_1',\n",
       " 'red_flag_urination_1',\n",
       " 'red_flag_weight_1',\n",
       " 'shoulder_passive_extrot_1',\n",
       " 'smoking_1',\n",
       " 'treat_active_1_much_3',\n",
       " 'treat_active_1_none_3',\n",
       " 'treat_active_1_some_3',\n",
       " 'treat_active_2_much_3',\n",
       " 'treat_active_2_none_3',\n",
       " 'treat_active_2_some_3',\n",
       " 'treat_active_3_much_3',\n",
       " 'treat_active_3_none_3',\n",
       " 'treat_active_3_some_3',\n",
       " 'treat_active_4_much_3',\n",
       " 'treat_active_4_none_3',\n",
       " 'treat_active_4_some_3',\n",
       " 'treat_active_5_much_3',\n",
       " 'treat_active_5_none_3',\n",
       " 'treat_active_5_some_3',\n",
       " 'treat_active_6_much_3',\n",
       " 'treat_active_6_none_3',\n",
       " 'treat_active_6_some_3',\n",
       " 'treat_advice_10_much_3',\n",
       " 'treat_advice_10_none_3',\n",
       " 'treat_advice_10_some_3',\n",
       " 'treat_advice_1_much_3',\n",
       " 'treat_advice_1_none_3',\n",
       " 'treat_advice_1_some_3',\n",
       " 'treat_advice_2_much_3',\n",
       " 'treat_advice_2_none_3',\n",
       " 'treat_advice_2_some_3',\n",
       " 'treat_advice_3_much_3',\n",
       " 'treat_advice_3_none_3',\n",
       " 'treat_advice_3_some_3',\n",
       " 'treat_advice_4_much_3',\n",
       " 'treat_advice_4_none_3',\n",
       " 'treat_advice_4_some_3',\n",
       " 'treat_advice_5_much_3',\n",
       " 'treat_advice_5_none_3',\n",
       " 'treat_advice_5_some_3',\n",
       " 'treat_advice_6_much_3',\n",
       " 'treat_advice_6_none_3',\n",
       " 'treat_advice_6_some_3',\n",
       " 'treat_advice_7_much_3',\n",
       " 'treat_advice_7_none_3',\n",
       " 'treat_advice_7_some_3',\n",
       " 'treat_advice_8_much_3',\n",
       " 'treat_advice_8_none_3',\n",
       " 'treat_advice_8_some_3',\n",
       " 'treat_advice_9_much_3',\n",
       " 'treat_advice_9_none_3',\n",
       " 'treat_advice_9_some_3',\n",
       " 'treat_belief_1',\n",
       " 'treat_benefit_3',\n",
       " 'treat_contin_3',\n",
       " 'treat_desc1_3',\n",
       " 'treat_desc2_3',\n",
       " 'treat_discuss_gp_3',\n",
       " 'treat_discuss_other_3',\n",
       " 'treat_discuss_physio_3',\n",
       " 'treat_discuss_psycho_3',\n",
       " 'treat_discuss_specialist_3',\n",
       " 'treat_expect_3',\n",
       " 'treat_home_much_3',\n",
       " 'treat_home_none_3',\n",
       " 'treat_home_some_3',\n",
       " 'treat_passive_joint_much_3',\n",
       " 'treat_passive_joint_none_3',\n",
       " 'treat_passive_joint_some_3',\n",
       " 'treat_passive_massage_much_3',\n",
       " 'treat_passive_massage_none_3',\n",
       " 'treat_passive_massage_some_3',\n",
       " 'treat_passive_shockwave_none_3',\n",
       " 'treat_passive_stretch_much_3',\n",
       " 'treat_passive_stretch_none_3',\n",
       " 'treat_passive_stretch_some_3',\n",
       " 'treat_passive_trigger_none_3',\n",
       " 'treat_passive_trigger_some_3',\n",
       " 'treat_setting_group_much_3',\n",
       " 'treat_setting_group_none_3',\n",
       " 'treat_setting_group_some_3',\n",
       " 'treat_setting_individual_much_3',\n",
       " 'treat_setting_individual_none_3',\n",
       " 'treat_setting_individual_some_3',\n",
       " 'treat_setting_self_much_3',\n",
       " 'treat_setting_self_none_3',\n",
       " 'treat_setting_self_some_3',\n",
       " 'treatmentfactor_patient_3',\n",
       " 'walk_aid_1',\n",
       " 'weight_1',\n",
       " 'work_ability_1',\n",
       " 'work_ability_3',\n",
       " 'work_ability_w2',\n",
       " 'work_ability_w4',\n",
       " 'work_ability_w8',\n",
       " 'work_type_1',\n",
       " 'clinic_id',\n",
       " 'patient_id']"
      ]
     },
     "execution_count": 48,
     "metadata": {},
     "output_type": "execute_result"
    }
   ],
   "source": [
    "df_clean.columns.tolist()"
   ]
  },
  {
   "cell_type": "code",
   "execution_count": 49,
   "metadata": {},
   "outputs": [],
   "source": [
    "cbr_variables = [   \n",
    "'hscl_score_1',\n",
    "'oreb_q10_1',\n",
    "'pseq_score_1',\n",
    "'activity_1',\n",
    "'oreb_q7_1',\n",
    "'pain_continuous_1',\n",
    "'pain_duration_1',\n",
    "'painsite_number_1',\n",
    "'qol15D_q5_sleep_1',\n",
    "'work_ability_1',\n",
    "'pain_lweek_1',\n",
    "'education_1',\n",
    "'gender_1',\n",
    "'fear_1',\n",
    "'smoking_1',\n",
    "'age_1',\n",
    "'eq5d_depr_1',\n",
    "'qol15D_q14_vital_1',\n",
    "'como_count_1',\n",
    "'mskt_risk_1',\n",
    "'mskhq_q7_1',\n",
    "'body_main_1',\n",
    "'mskhq_pa_1',\n",
    "'walk_aid_1',\n",
    "'work_type_1',\n",
    "'employ_1',\n",
    "'eq5d_walk_1',\n",
    "'eq5d_care_1',\n",
    "'bmi_1',\n",
    "'patient_id', \n",
    "'out01'\n",
    "]"
   ]
  },
  {
   "cell_type": "code",
   "execution_count": 50,
   "metadata": {},
   "outputs": [
    {
     "name": "stdout",
     "output_type": "stream",
     "text": [
      "hscl_score_1  :  1.3\n",
      "oreb_q10_1  :  1\n",
      "pseq_score_1  :  12.0\n",
      "activity_1  :  slightly reduced\n",
      "oreb_q7_1  :  7\n",
      "pain_continuous_1  :  no\n",
      "pain_duration_1  :  GT 12m\n",
      "painsite_number_1  :  6\n",
      "qol15D_q5_sleep_1  :  moderate problems\n",
      "work_ability_1  :  8\n",
      "pain_lweek_1  :  5.0\n",
      "education_1  :  high school\n",
      "gender_1  :  female\n",
      "fear_1  :  0\n",
      "smoking_1  :  no\n",
      "age_1  :  55.0\n",
      "eq5d_depr_1  :  slightly\n",
      "qol15D_q14_vital_1  :  healthy and energetic\n",
      "como_count_1  :  1 comorbidity\n",
      "mskt_risk_1  :  medium risk\n",
      "mskhq_q7_1  :  not at all\n",
      "body_main_1  :  multisite_complex\n",
      "mskhq_pa_1  :  3 days\n",
      "walk_aid_1  :  no walkaid\n",
      "work_type_1  :  work demand much walking\n",
      "employ_1  :  working or other\n",
      "eq5d_walk_1  :  slight problem\n",
      "eq5d_care_1  :  no problem\n",
      "bmi_1  :  26.57\n",
      "patient_id  :  support10_2_1965\n",
      "out01  :  0.0\n"
     ]
    }
   ],
   "source": [
    "for col in cbr_variables:\n",
    "    print(col, ' : ', df_clean[col][1])\n"
   ]
  },
  {
   "cell_type": "code",
   "execution_count": 52,
   "metadata": {},
   "outputs": [],
   "source": [
    "df_clean[ cbr_variables].to_csv( f'{data_dir}3_sp_dataset_for_mycbr.csv', index=True)"
   ]
  },
  {
   "cell_type": "code",
   "execution_count": null,
   "metadata": {},
   "outputs": [],
   "source": []
  }
 ],
 "metadata": {
  "kernelspec": {
   "display_name": "Python 3",
   "language": "python",
   "name": "python3"
  },
  "language_info": {
   "codemirror_mode": {
    "name": "ipython",
    "version": 3
   },
   "file_extension": ".py",
   "mimetype": "text/x-python",
   "name": "python",
   "nbconvert_exporter": "python",
   "pygments_lexer": "ipython3",
   "version": "3.7.4"
  }
 },
 "nbformat": 4,
 "nbformat_minor": 4
}

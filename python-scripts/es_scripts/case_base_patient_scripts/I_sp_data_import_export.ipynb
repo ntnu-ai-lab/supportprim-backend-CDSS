{
 "cells": [
  {
   "cell_type": "markdown",
   "metadata": {},
   "source": [
    "#  Extract dataset and attribute definitions\n",
    "##  from supportPrim - STATA files"
   ]
  },
  {
   "cell_type": "code",
   "execution_count": 1,
   "metadata": {},
   "outputs": [],
   "source": [
    "# auto sugestion with tab\n",
    "%config IPCompleter.greedy=True\n",
    "%config InlineBackend.figure_format = 'retina'\n",
    "%matplotlib inline "
   ]
  },
  {
   "cell_type": "code",
   "execution_count": 2,
   "metadata": {},
   "outputs": [
    {
     "data": {
      "text/plain": [
       "'/lhome/amardj/ISM/python_code/es_scripts/case_base_patient_scripts'"
      ]
     },
     "execution_count": 2,
     "metadata": {},
     "output_type": "execute_result"
    }
   ],
   "source": [
    "import pandas as pd\n",
    "import numpy as np\n",
    "import os\n",
    "os.getcwd()"
   ]
  },
  {
   "cell_type": "markdown",
   "metadata": {},
   "source": [
    "### Define the date format to be appended with file names"
   ]
  },
  {
   "cell_type": "markdown",
   "metadata": {},
   "source": [
    "#### System defined current date"
   ]
  },
  {
   "cell_type": "code",
   "execution_count": 3,
   "metadata": {},
   "outputs": [
    {
     "data": {
      "text/plain": [
       "'20201023'"
      ]
     },
     "execution_count": 3,
     "metadata": {},
     "output_type": "execute_result"
    }
   ],
   "source": [
    "import datetime as datetime\n",
    "sys_date = datetime.datetime.today().strftime( '%Y%m%d')\n",
    "sys_date = f'{sys_date}' \n",
    "sys_date"
   ]
  },
  {
   "cell_type": "markdown",
   "metadata": {},
   "source": [
    "### Location of raw data & generated data"
   ]
  },
  {
   "cell_type": "code",
   "execution_count": 4,
   "metadata": {},
   "outputs": [
    {
     "data": {
      "text/plain": [
       "'./data/20201023/'"
      ]
     },
     "execution_count": 4,
     "metadata": {},
     "output_type": "execute_result"
    }
   ],
   "source": [
    "data_dir = f'./data/{sys_date}/'\n",
    "data_dir ##= './data/20201021/'"
   ]
  },
  {
   "cell_type": "code",
   "execution_count": 5,
   "metadata": {},
   "outputs": [],
   "source": [
    "index_name = 'id'"
   ]
  },
  {
   "cell_type": "markdown",
   "metadata": {},
   "source": [
    "## Import stata files 'xxx.dta' for creating python pandas DataFrames"
   ]
  },
  {
   "cell_type": "code",
   "execution_count": 6,
   "metadata": {},
   "outputs": [
    {
     "data": {
      "text/plain": [
       "(63, 350)"
      ]
     },
     "execution_count": 6,
     "metadata": {},
     "output_type": "execute_result"
    }
   ],
   "source": [
    "df_labeled = pd.read_stata(f'{data_dir}supportprim_merged_datafile.dta') #, index_col=index_name)\n",
    "df_labeled.shape # (*, 353)"
   ]
  },
  {
   "cell_type": "code",
   "execution_count": 7,
   "metadata": {},
   "outputs": [
    {
     "data": {
      "text/plain": [
       "[neck, multisite/complex, back, hip, shoulder, knee]\n",
       "Categories (6, object): [neck < shoulder < back < hip < knee < multisite/complex]"
      ]
     },
     "execution_count": 7,
     "metadata": {},
     "output_type": "execute_result"
    }
   ],
   "source": [
    "df_labeled.body_main_1.unique()"
   ]
  },
  {
   "cell_type": "code",
   "execution_count": null,
   "metadata": {},
   "outputs": [],
   "source": [
    "assert df_labeled.body_main_1.dtype.name == 'category' \n",
    "assert df_labeled.body_main_1.dtype.name != 'object' \n",
    "\n",
    "df_labeled.body_main_1.unique()"
   ]
  },
  {
   "cell_type": "code",
   "execution_count": null,
   "metadata": {},
   "outputs": [],
   "source": [
    "assert df_labeled.employ_1.dtype.name == 'category' \n",
    "assert df_labeled.employ_1.dtype.name != 'object' \n",
    "\n",
    "df_labeled.employ_1.unique()"
   ]
  },
  {
   "cell_type": "markdown",
   "metadata": {},
   "source": [
    "## Remove '_merege' cloumn form both the dataframes if any"
   ]
  },
  {
   "cell_type": "code",
   "execution_count": 8,
   "metadata": {},
   "outputs": [
    {
     "name": "stdout",
     "output_type": "stream",
     "text": [
      " The DataFrame does not contain any column named as : \" _merge \"\n"
     ]
    }
   ],
   "source": [
    "drop_col_name = '_merge'\n",
    "if drop_col_name in df_labeled.columns:\n",
    "    df_labeled.drop( columns=[drop_col_name], axis=1, inplace=True)\n",
    "    print(' The DataFrame contains column named as : ',drop_col_name, ' - Action : Removed')\n",
    "else :\n",
    "    print(' The DataFrame does not contain any column named as : \"',drop_col_name,'\"')"
   ]
  },
  {
   "cell_type": "markdown",
   "metadata": {},
   "source": [
    "## Sort the dataframe column names - alfabetical order"
   ]
  },
  {
   "cell_type": "code",
   "execution_count": 9,
   "metadata": {},
   "outputs": [
    {
     "name": "stdout",
     "output_type": "stream",
     "text": [
      " Shape of old Dataframe :  (63, 350)\n"
     ]
    }
   ],
   "source": [
    "df_labeled = df_labeled.reindex( sorted(df_labeled.columns), axis=1)\n",
    "print(' Shape of old Dataframe : ', df_labeled.shape)  # (506, 292)\n",
    "features_labels = df_labeled.columns\n",
    "\n",
    "# Shape of old Dataframe :  (175, 353)"
   ]
  },
  {
   "cell_type": "code",
   "execution_count": 10,
   "metadata": {},
   "outputs": [
    {
     "data": {
      "text/html": [
       "<div>\n",
       "<style scoped>\n",
       "    .dataframe tbody tr th:only-of-type {\n",
       "        vertical-align: middle;\n",
       "    }\n",
       "\n",
       "    .dataframe tbody tr th {\n",
       "        vertical-align: top;\n",
       "    }\n",
       "\n",
       "    .dataframe thead th {\n",
       "        text-align: right;\n",
       "    }\n",
       "</style>\n",
       "<table border=\"1\" class=\"dataframe\">\n",
       "  <thead>\n",
       "    <tr style=\"text-align: right;\">\n",
       "      <th></th>\n",
       "      <th>activity_1</th>\n",
       "      <th>age_1</th>\n",
       "      <th>back_nevro_pow_1</th>\n",
       "      <th>back_nevro_reflex_1</th>\n",
       "      <th>back_nevro_sens_1</th>\n",
       "      <th>back_slr_1</th>\n",
       "      <th>birth_year</th>\n",
       "      <th>bmi_1</th>\n",
       "      <th>body_main_1</th>\n",
       "      <th>childhood_1</th>\n",
       "      <th>...</th>\n",
       "      <th>treat_setting_self_some_3</th>\n",
       "      <th>treatmentfactor_patient_3</th>\n",
       "      <th>walk_aid_1</th>\n",
       "      <th>weight_1</th>\n",
       "      <th>work_ability_1</th>\n",
       "      <th>work_ability_3</th>\n",
       "      <th>work_ability_w2</th>\n",
       "      <th>work_ability_w4</th>\n",
       "      <th>work_ability_w8</th>\n",
       "      <th>work_type_1</th>\n",
       "    </tr>\n",
       "  </thead>\n",
       "  <tbody>\n",
       "    <tr>\n",
       "      <td>0</td>\n",
       "      <td>slightly reduced</td>\n",
       "      <td>57.0</td>\n",
       "      <td>NaN</td>\n",
       "      <td>NaN</td>\n",
       "      <td>NaN</td>\n",
       "      <td>NaN</td>\n",
       "      <td>1963</td>\n",
       "      <td>24.772097</td>\n",
       "      <td>neck</td>\n",
       "      <td>very good</td>\n",
       "      <td>...</td>\n",
       "      <td>NaN</td>\n",
       "      <td>Håndleddsbrudd for 6 uker siden. Derfor reduse...</td>\n",
       "      <td>no walkaid</td>\n",
       "      <td>75</td>\n",
       "      <td>8</td>\n",
       "      <td>0</td>\n",
       "      <td>6.0</td>\n",
       "      <td>6.0</td>\n",
       "      <td>1.0</td>\n",
       "      <td>work demand much walking</td>\n",
       "    </tr>\n",
       "    <tr>\n",
       "      <td>1</td>\n",
       "      <td>slightly reduced</td>\n",
       "      <td>55.0</td>\n",
       "      <td>NaN</td>\n",
       "      <td>NaN</td>\n",
       "      <td>NaN</td>\n",
       "      <td>NaN</td>\n",
       "      <td>1965</td>\n",
       "      <td>26.573132</td>\n",
       "      <td>multisite/complex</td>\n",
       "      <td>very good</td>\n",
       "      <td>...</td>\n",
       "      <td>NaN</td>\n",
       "      <td>Øvelser, tiden, aktivitet, lengre periode hjem...</td>\n",
       "      <td>no walkaid</td>\n",
       "      <td>75</td>\n",
       "      <td>8</td>\n",
       "      <td>8</td>\n",
       "      <td>7.0</td>\n",
       "      <td>8.0</td>\n",
       "      <td>7.0</td>\n",
       "      <td>work demand much walking</td>\n",
       "    </tr>\n",
       "    <tr>\n",
       "      <td>2</td>\n",
       "      <td>slightly reduced</td>\n",
       "      <td>37.0</td>\n",
       "      <td>NaN</td>\n",
       "      <td>NaN</td>\n",
       "      <td>NaN</td>\n",
       "      <td>NaN</td>\n",
       "      <td>1983</td>\n",
       "      <td>27.281748</td>\n",
       "      <td>multisite/complex</td>\n",
       "      <td>good</td>\n",
       "      <td>...</td>\n",
       "      <td>NaN</td>\n",
       "      <td>Trenings senteret ble stengt, derfor mindte je...</td>\n",
       "      <td>no walkaid</td>\n",
       "      <td>77</td>\n",
       "      <td>8</td>\n",
       "      <td>8</td>\n",
       "      <td>5.0</td>\n",
       "      <td>NaN</td>\n",
       "      <td>NaN</td>\n",
       "      <td>mostly seated</td>\n",
       "    </tr>\n",
       "    <tr>\n",
       "      <td>3</td>\n",
       "      <td>slightly reduced</td>\n",
       "      <td>62.0</td>\n",
       "      <td>NaN</td>\n",
       "      <td>NaN</td>\n",
       "      <td>NaN</td>\n",
       "      <td>NaN</td>\n",
       "      <td>1958</td>\n",
       "      <td>30.487806</td>\n",
       "      <td>multisite/complex</td>\n",
       "      <td>good</td>\n",
       "      <td>...</td>\n",
       "      <td>NaN</td>\n",
       "      <td></td>\n",
       "      <td>no walkaid</td>\n",
       "      <td>82</td>\n",
       "      <td>8</td>\n",
       "      <td>9</td>\n",
       "      <td>9.0</td>\n",
       "      <td>NaN</td>\n",
       "      <td>9.0</td>\n",
       "      <td>work demands much walking and lifting</td>\n",
       "    </tr>\n",
       "    <tr>\n",
       "      <td>4</td>\n",
       "      <td>quite reduced</td>\n",
       "      <td>64.0</td>\n",
       "      <td>NaN</td>\n",
       "      <td>NaN</td>\n",
       "      <td>NaN</td>\n",
       "      <td>no</td>\n",
       "      <td>1956</td>\n",
       "      <td>27.428572</td>\n",
       "      <td>back</td>\n",
       "      <td>very good</td>\n",
       "      <td>...</td>\n",
       "      <td>NaN</td>\n",
       "      <td>Ingen trening/ behandling hos fysioterapeut si...</td>\n",
       "      <td>no walkaid</td>\n",
       "      <td>84</td>\n",
       "      <td>3</td>\n",
       "      <td>2</td>\n",
       "      <td>3.0</td>\n",
       "      <td>3.0</td>\n",
       "      <td>3.0</td>\n",
       "      <td>NaN</td>\n",
       "    </tr>\n",
       "  </tbody>\n",
       "</table>\n",
       "<p>5 rows × 350 columns</p>\n",
       "</div>"
      ],
      "text/plain": [
       "         activity_1  age_1 back_nevro_pow_1 back_nevro_reflex_1  \\\n",
       "0  slightly reduced   57.0              NaN                 NaN   \n",
       "1  slightly reduced   55.0              NaN                 NaN   \n",
       "2  slightly reduced   37.0              NaN                 NaN   \n",
       "3  slightly reduced   62.0              NaN                 NaN   \n",
       "4     quite reduced   64.0              NaN                 NaN   \n",
       "\n",
       "  back_nevro_sens_1 back_slr_1  birth_year      bmi_1        body_main_1  \\\n",
       "0               NaN        NaN        1963  24.772097               neck   \n",
       "1               NaN        NaN        1965  26.573132  multisite/complex   \n",
       "2               NaN        NaN        1983  27.281748  multisite/complex   \n",
       "3               NaN        NaN        1958  30.487806  multisite/complex   \n",
       "4               NaN         no        1956  27.428572               back   \n",
       "\n",
       "  childhood_1  ...  treat_setting_self_some_3  \\\n",
       "0   very good  ...                        NaN   \n",
       "1   very good  ...                        NaN   \n",
       "2        good  ...                        NaN   \n",
       "3        good  ...                        NaN   \n",
       "4   very good  ...                        NaN   \n",
       "\n",
       "                           treatmentfactor_patient_3   walk_aid_1  weight_1  \\\n",
       "0  Håndleddsbrudd for 6 uker siden. Derfor reduse...   no walkaid        75   \n",
       "1  Øvelser, tiden, aktivitet, lengre periode hjem...   no walkaid        75   \n",
       "2  Trenings senteret ble stengt, derfor mindte je...   no walkaid        77   \n",
       "3                                                      no walkaid        82   \n",
       "4  Ingen trening/ behandling hos fysioterapeut si...   no walkaid        84   \n",
       "\n",
       "   work_ability_1  work_ability_3  work_ability_w2  work_ability_w4  \\\n",
       "0               8               0              6.0              6.0   \n",
       "1               8               8              7.0              8.0   \n",
       "2               8               8              5.0              NaN   \n",
       "3               8               9              9.0              NaN   \n",
       "4               3               2              3.0              3.0   \n",
       "\n",
       "   work_ability_w8                            work_type_1  \n",
       "0              1.0               work demand much walking  \n",
       "1              7.0               work demand much walking  \n",
       "2              NaN                          mostly seated  \n",
       "3              9.0  work demands much walking and lifting  \n",
       "4              3.0                                    NaN  \n",
       "\n",
       "[5 rows x 350 columns]"
      ]
     },
     "execution_count": 10,
     "metadata": {},
     "output_type": "execute_result"
    }
   ],
   "source": [
    "df_labeled.head()"
   ]
  },
  {
   "cell_type": "code",
   "execution_count": 11,
   "metadata": {},
   "outputs": [],
   "source": [
    "def replace_all_with( old, new, tempdf=df_labeled):\n",
    "    temp = tempdf.replace({old: new}, regex=True)\n",
    "    return temp"
   ]
  },
  {
   "cell_type": "code",
   "execution_count": 12,
   "metadata": {},
   "outputs": [
    {
     "data": {
      "text/plain": [
       "0    support10\n",
       "1    support10\n",
       "2    support10\n",
       "3    support10\n",
       "4    support10\n",
       "Name: physio_id, dtype: object"
      ]
     },
     "execution_count": 12,
     "metadata": {},
     "output_type": "execute_result"
    }
   ],
   "source": [
    "df_labeled.physio_id.head()"
   ]
  },
  {
   "cell_type": "code",
   "execution_count": 13,
   "metadata": {},
   "outputs": [
    {
     "data": {
      "text/plain": [
       "['Pasienten brøt håndleddet midt i behandlingsforløpet samt stopp i behandlingen pga covid 19. Hun er også midt i overgangsalderen. ',\n",
       " 'Grundig anamnese og skape en god relasjon og trygghet til denne pasienten. Samarbeid med fastlege',\n",
       " 'Motivering til å starte fysisk aktivitet. Tett samtale med mor med tanke på trening på treningssenter. Bevisstgjøring av livsstilsendring mot smerter. ',\n",
       " 'Har vært plaget med denne problemstillingen i flere perioder tidligere. Har vært til meg for flere år siden. Corona pandemien kom og forstyrret behandlingsforløpet. ',\n",
       " 'Har gått til meg tidligere og har hatt en svært god tone da. Ble påvirket av Corona pandemien og ble mindre oppfølging en tenkt ',\n",
       " 'Ble veldig lite oppfølging/tilbud pga Corona. Hadde en del frafall før nedstegningen og har ennå ikke kommet igang med individuell behandling',\n",
       " 'Pasient som har vært til meg tidligere. Kom såvidt igang før Corona pandemien. Har fått beskjed via lege til å oppsøke meg, er under behandling for 50% ufør.',\n",
       " 'Har kommet kjapt igang med strikk øvelser hjemme. Har gjort disse daglig',\n",
       " 'Har blitt avhengig\" av aktive tøyninger selv. Har støttet opp med dette. Hun føler selv hun har god nytte av felles trening 1 x uken i regi av meg. \"',\n",
       " 'Trygging ved at bevegelse er ikke farlig. MR svar støttet opp under dette.',\n",
       " 'Passiv beh med nåler ga en etterdønning med mye mer smerte. Gruppetrening ga en positiv opplevelse med mestringsfølelse, ifølge henne selv.',\n",
       " 'helhets fokus.psykoedukasjon ifht nervesystemet og hva som skjer ved langvarig psykisk belastning',\n",
       " 'Motivert pasient.',\n",
       " 'Mangeårige skulderplager som tiltok et års tid før behandlingsoppstart. Ingen billeddiagnostikk er gjort. Oppgir å være ellers frisk, men at skulderplagene forstyrrer nattesøvn. ',\n",
       " 'Pas. fikk tidlig tro på egen mestring, noe jeg mener har hatt verdi for utfallet. ',\n",
       " 'Pas. hadde god tiltro til egen mestring, og fant det betryggende med informasjon om tilstanden - samt forventningsjusteringer knyttet til dette. Hun har gjennomført trening og behandling med god compliance. ',\n",
       " 'Kortvarige smerter intrascpulært, uten mistanke om alvorlig patologi, ved førstegangskonsultasjon. Ingen åpenbare gule flagg. ',\n",
       " 'Hensyn til personlighetstrekk / flink pike / holdning. Utfordre rigiditet og vaner. Fokus på fear avoidance og trygging aller viktigst. ',\n",
       " 'Bevisstgjøring av muskulært spenningsmønster, bryte mønster og få inn mer avspenning i hverdagen. Systematisering og bevisstgjøring av fysisk aktivitet, mestringsorienterte samtaler rundt forventninger og målsetting. Grundig instruksjon i øvelser. Informasjon om forventet god prognose, (lystbetont) aktivitet, variasjon i aktivitet / hvile og i type aktivitet. Aktivitetsregulering. ',\n",
       " 'Mye fokus på informasjon / trygging og normalisering av funksjon. Hjelp til mestring, livsstilsendring. Det har vært et viktig mål å komme tilbake til jobb. M.h.t. pasientens bakgrunn (lav sosioøkonomisk status, inaktiv, lav utdanning) er det viktig å komme raskt tilbake i jobb for å forebygge langvarig redusert arb.deltakelse. ',\n",
       " 'Stengt pga korona restriksjoner rett etter oppstart. Pas har hatt mye ubevisste spenninger og dette har tatt tid å jobbe med (prosess). Tålmodighet og trygging. ',\n",
       " 'Pasienten følte ikke at manuellterapi var rett type behandling for henne på dette tidspunktet.',\n",
       " 'Få øvelser, fikk med program som han kunne gjøre hjemme. Han var motivert for å gjøre noe med sitt skulderproblemet, som ikke var betydelig. ',\n",
       " 'Pasienten var i utgangspunktet usikker på hva som var riktig å gjøre og om noe av det hun gjorde kunne forverre kne- og ryggplagene. Dette førte til bevegelsesfrykt og unngåelsesatferd. Ved å trygge pasienten inn i en smerteredusert bevegelsesbane ble det enklere for henne å få gjennomført treningen hjemme. ',\n",
       " 'På grunn av coronastengingen ble pasienten overlatt til seg selv i en lengre periode. Vi hadde kontakt på telefon, men i ettertid ser jeg at dette ikke ble nok. Hun hadde fått øvelser til egentrening, men disse ble kun sporadisk gjennomført.',\n",
       " 'Mye tid i startfasen ble brukt på at pasienten selv fikk forklare hva hovedproblemet var, og hva som har fungert av behandling tidligere.',\n",
       " 'Pasienten har et komplekst problem, mye plaget med ulcerøs colitt, og har hatt problem med knær og skuldre og et overvektsproblem som særlig går utover knærne. Det har vært Koronastans i behandlingen og han har prøvd å følge opp hjemme.',\n",
       " 'Familiesituasjonen. har små barn, sto mye på knær',\n",
       " 'Uføretrygdet, har treningserfaring og medlem på treningssenter. Sammensatt langvarig smerteproblematikk. Ingen fear avoidance. Fokus på økt deltakelse og aktivitet fremfor vevsfokus en suksessfaktor. ',\n",
       " 'Kompleks smertepaisent. Hyperalgesi. Redsel for å ikke bli bra, utelukkes fra arbeid. Høyt stressnivå. Utredes videre av spesialisthelstjenesten, samarbeider med fastlege og NAV mht mulig omskolering. Oppgir god støtte fra familie og venner.',\n",
       " 'Utbredte muskel og skjelettplager.Mange risikofaktorer( blodtrykk,kolestrol,røyking) Dårlig kommunikasjon med arbeidsgiver.Lite tiltro til bedring/tilbakegang til arbeid, men ønske om å komme i form.   ',\n",
       " '+tidligere treningserfaring, god effekt av fysio tidligere, etablert relasjon fra tidligere beh.- Mange psykososiale faktorer som resulterte i slutt i arbeidslivet. Depresjon.   ',\n",
       " 'Plagene er av helhetlig karakter, med langvarig psykososial belastning og sårbarhet mht stressmekanismer. Pasienten har pr dags dato en jobb med mye støy, mange personer å forholde seg til, der hun samtidig er æreskjær, pliktoppfyllende og ofte har dårlig samvittighet. ',\n",
       " 'Noe vanskelig mht språk',\n",
       " 'Pasient med slitenhetsfølelse, svimmelhet, nakkeplager og hodepine siden høst 19. Dette startet uten spesiell utløsende årsak. Tilstanden var preget av muskulær dysfunksjon og høyt spenningsnivå i nakke med svarende myofaciell palpasjonsømhet i området. Høy belastning og mistrivsel på jobb. To små barm som til tider har sovet dårlig. ',\n",
       " 'God terapeut/pasient alianse. ',\n",
       " 'Hun var usikker hva smertene skyldes og hadde en MR beskrivelse hun ikke forstod/hadde fått forklart',\n",
       " 'Hun hadde frykt for sine smerter, instabilitet om kneet og begrenset sterkt ønsket livsførsel grunnet usikkerhet/frykt. Hun hadde tidligere hos fysio fått beskjed at skulle leve som normalt, hun ga klart uttrykk for at hun opplevde det så usikkert å ikke få konkrete øvelser/råd å jobbe videre med den gang.',\n",
       " 'Plutselig oppstått thorakal scoliose og vingescapula uten andre symptomer. Utredningsbehov.',\n",
       " 'Når hun tar kontakt her i utprøvende behandling med Ventolin fra fastlegen. Ett år siden debut av plager, ingen aktive tiltak før dette, prøver nå altså flere tilnærminger samtidig (medisin og behandling).',\n",
       " 'Langvarige plager, sterk medisin for søvn, mistet plutselig bror 2017, usikker på fremtiden/hvordan skal kunne fungere i jobb, har arbeidet som ikke oppfyllte forventinger\" av hva det skulle være\"',\n",
       " 'Forventningsavklaring og trygging i egentrening.',\n",
       " 'Realistiske forventninger i forhold til rehabiliteringstid. Bevisstgjøring av totalbelastning. Loggføring av treningsbelastning over tid for å kunne justere progresjon kontrollert Avbestilt oppfølging pga Covid19.',\n",
       " 'Pasienten angir ved endt behandling usikkerhet omkring at det har blitt utført adekvat/riktig behandling for aktuelle plage, som hovedårsak til at behandling ble avsluttet og at effekt har uteblitt. ',\n",
       " 'Avklare bekymringer og kommunikasjon rundt frykt for bevegelse og aktivitet. Mestringsorientert fysioterapi.',\n",
       " 'Bevegelsefrykt og mestringstro ble sterkt vektlagt selv med en relativt liten skade/funksjonsnedsettelse. Pasienten trengte trygghet på gode prognoser og få tydelige råd ift målrettet aktivitet og trening med mestringsfølelse.',\n",
       " 'Forslag: Motivasjonen for å gjennomføre treningstiltak falt betraktelig da Covid19 rammet oss. Pasienten var i gang med trening på treningssenter og mistet muligheten til å trene der, samt at hjemmetrening ikke ble prioritert. Samtidig ble den vonde hoften bedre da det generelle aktivitetsnivået og dermed totalbelastningen ble lavere. ',\n",
       " 'Råd,veiledning og motivering til trening og aktivitet.  Ufarliggjøring og forståelse av smerter.',\n",
       " 'Dårlig compliance pga covid 19. Bra trening i forkant av dette.',\n",
       " 'Pasienten angir at det var en utfordring å ikke ha mer oppfølging pga Covid19. Likevel fremheves det at god kommunikasjon om viktigheten av å bevege seg / trene for å lindre / forebygge plager, samt justere intensiteten av de aktivitetene som førte til smertene var viktig.',\n",
       " 'God kommunikasjon. Mye tid til kartlegging av psykososiale faktorer.',\n",
       " 'Bekymret for polaps i rygg og artrose hofte- viktig med samtale og ufarliggjøring rundt diagnoser. God pasientrelasjon før oppstart. ',\n",
       " 'Trener til vanlig på treningsstudio; styrke og løping. Etter 3 mnd hjemmekontor, barna hjemme og nedstengt treningssenter opplever hun økte smerter og slitenhet. Ønsker hjelp med smertelindring for å orke å trene igjen. Hun tror selv smerter har en sammenheng med en vanskelig barndom. ',\n",
       " ' Bekymret for skade etter et fall i 2016. Samtidig mye belastning på jobb og på hjemmebane, fulgt opp på DPS over tid.  ',\n",
       " 'Pasienten har gått til kiropraktor og fysioterapeut over lengre tid før første konsultasjon. Hun har en del utbredte smerter i hele kroppen, mor med lignende smerter og ble som voksen diagnostisert med Bechterev. ',\n",
       " 'Rullerstolbruker pga polio. Ryggsmerter som vanskeliggjør forflytning og funksjon som allerede er begrenset, bekymret for om hun klarer seg selv i ADL. Har gått hos meg tidligere for samme problemstilling med positivt behandlingsresultat. ',\n",
       " 'Kognitiv funksjonell tilnærming.',\n",
       " 'Helhetlig biopsykososial tilnærming.',\n",
       " 'Pasienten driver idrett på høyt nivå, og har vært svært motivert for opptreningen, og compliance har vært meget god. Han har under vegs hatt ny luksasjon, som fører til at forløpet blir lengre enn forventet, men fortsatt ikke indikasjon for kirurgi. ',\n",
       " 'God compliance, har gjennomført trening 2-3 ganger per uke. Motivert pasient, som også ønsker å kunne stå i jobben. ',\n",
       " 'pasienten har hatt lignende plager periodevis tidligere også. tror det å sikre kontinuitet og progresjon i treningen har vær viktig. ufarliggjøring og presisering av å bruke armene så normalt som mulig, også kan ha vært viktig. ',\n",
       " 'Mange faktorer som nok er forsterkende og øker risokoen for div smertetilstander. Smerter flere steder,  operert 20-30 ganger, uføretrygdet, diabetes type 2. Har kanskje ikke kommet godt nok inn på pasienten, mtp dialog rundt hvordan psykosoiale forhold, tidligere plager osv kan være drivere av div smertetilstander. Burde kanskje hatt tettere oppfølging med trening her i en periode, mindre egentrening. ',\n",
       " 'Kortvarig forløp, oppfølging opphørte pga corona. Har ikke kommet i gang igjen etter åpning. ']"
      ]
     },
     "execution_count": 13,
     "metadata": {},
     "output_type": "execute_result"
    }
   ],
   "source": [
    "df_labeled.treat_desc1_3.tolist()"
   ]
  },
  {
   "cell_type": "code",
   "execution_count": null,
   "metadata": {},
   "outputs": [],
   "source": []
  },
  {
   "cell_type": "code",
   "execution_count": 14,
   "metadata": {},
   "outputs": [],
   "source": [
    "df_labeled['physio_id'] = df_labeled['physio_id'].replace(' ', '_', regex=True).str.lower()\n",
    "df_labeled['clinic_id'] = df_labeled['physio_id']"
   ]
  },
  {
   "cell_type": "code",
   "execution_count": 15,
   "metadata": {},
   "outputs": [
    {
     "data": {
      "text/plain": [
       "0     support10\n",
       "1     support10\n",
       "2     support10\n",
       "3     support10\n",
       "4     support10\n",
       "        ...    \n",
       "58     support9\n",
       "59     support9\n",
       "60     support9\n",
       "61     support9\n",
       "62     support9\n",
       "Name: physio_id, Length: 63, dtype: object"
      ]
     },
     "execution_count": 15,
     "metadata": {},
     "output_type": "execute_result"
    }
   ],
   "source": [
    "df_labeled.physio_id"
   ]
  },
  {
   "cell_type": "code",
   "execution_count": 16,
   "metadata": {},
   "outputs": [
    {
     "data": {
      "text/plain": [
       "['support10_1_1963',\n",
       " 'support10_2_1965',\n",
       " 'support10_5_1983',\n",
       " 'support10_6_1958',\n",
       " 'support10_7_1956',\n",
       " 'support10_8_1967',\n",
       " 'support10_9_1966',\n",
       " 'support10_10_1964',\n",
       " 'support10_11_1966',\n",
       " 'support10_12_1950',\n",
       " 'support10_13_1977',\n",
       " 'support11_1808_1969',\n",
       " 'support11_1810_1989',\n",
       " 'support12_31903_1972',\n",
       " 'support12_31910_1968',\n",
       " 'support12_31992_1961',\n",
       " 'support12_32035_1969',\n",
       " 'support13_29310_2002',\n",
       " 'support13_31894_1956',\n",
       " 'support13_31909_1995',\n",
       " 'support13_32177_1961',\n",
       " 'support15_6245_1969',\n",
       " 'support19_5191_1968',\n",
       " 'support23_3_1950',\n",
       " 'support24_101_1984',\n",
       " 'support24_102_1978',\n",
       " 'support26_1001_1950',\n",
       " 'support27_1002_1990',\n",
       " 'support28_2000_1973',\n",
       " 'support28_2002_1981',\n",
       " 'support28_2005_1956',\n",
       " 'support28_2006_1957',\n",
       " 'support31_32359_1979',\n",
       " 'support31_32542_1988',\n",
       " 'support31_32581_1985',\n",
       " 'support31_32753_1994',\n",
       " 'support4_38888_1998',\n",
       " 'support4_39151_1997',\n",
       " 'support4_39178_1999',\n",
       " 'support4_39185_1993',\n",
       " 'support4_39442_1989',\n",
       " 'support5_11785_1956',\n",
       " 'support5_17504_1973',\n",
       " 'support5_26296_1962',\n",
       " 'support5_30160_1992',\n",
       " 'support5_31911_1995',\n",
       " 'support5_31912_1971',\n",
       " 'support5_31959_1969',\n",
       " 'support5_32015_1965',\n",
       " 'support5_32110_1959',\n",
       " 'support5_32111_1998',\n",
       " 'support6_8853_1968',\n",
       " 'support6_24778_1984',\n",
       " 'support6_39465_1967',\n",
       " 'support6_39884_1995',\n",
       " 'support6_39956_1957',\n",
       " 'support7_3816_1984',\n",
       " 'support7_5655_1992',\n",
       " 'support9_2748_1996',\n",
       " 'support9_8017_1973',\n",
       " 'support9_8092_1982',\n",
       " 'support9_9145_1975',\n",
       " 'support9_9327_1955']"
      ]
     },
     "execution_count": 16,
     "metadata": {},
     "output_type": "execute_result"
    }
   ],
   "source": [
    "cols = ['physio_id', 'journal_id', 'birth_year']\n",
    "df_labeled['patient_id'] = df_labeled[cols].apply(lambda row: '_'.join(row.values.astype(str)), axis=1)\n",
    "df_labeled['patient_id'].tolist()"
   ]
  },
  {
   "cell_type": "code",
   "execution_count": 17,
   "metadata": {},
   "outputs": [
    {
     "data": {
      "text/html": [
       "<div>\n",
       "<style scoped>\n",
       "    .dataframe tbody tr th:only-of-type {\n",
       "        vertical-align: middle;\n",
       "    }\n",
       "\n",
       "    .dataframe tbody tr th {\n",
       "        vertical-align: top;\n",
       "    }\n",
       "\n",
       "    .dataframe thead th {\n",
       "        text-align: right;\n",
       "    }\n",
       "</style>\n",
       "<table border=\"1\" class=\"dataframe\">\n",
       "  <thead>\n",
       "    <tr style=\"text-align: right;\">\n",
       "      <th></th>\n",
       "      <th>activity_1</th>\n",
       "      <th>age_1</th>\n",
       "      <th>back_nevro_pow_1</th>\n",
       "      <th>back_nevro_reflex_1</th>\n",
       "      <th>back_nevro_sens_1</th>\n",
       "      <th>back_slr_1</th>\n",
       "      <th>birth_year</th>\n",
       "      <th>bmi_1</th>\n",
       "      <th>body_main_1</th>\n",
       "      <th>childhood_1</th>\n",
       "      <th>...</th>\n",
       "      <th>walk_aid_1</th>\n",
       "      <th>weight_1</th>\n",
       "      <th>work_ability_1</th>\n",
       "      <th>work_ability_3</th>\n",
       "      <th>work_ability_w2</th>\n",
       "      <th>work_ability_w4</th>\n",
       "      <th>work_ability_w8</th>\n",
       "      <th>work_type_1</th>\n",
       "      <th>clinic_id</th>\n",
       "      <th>patient_id</th>\n",
       "    </tr>\n",
       "    <tr>\n",
       "      <th>id</th>\n",
       "      <th></th>\n",
       "      <th></th>\n",
       "      <th></th>\n",
       "      <th></th>\n",
       "      <th></th>\n",
       "      <th></th>\n",
       "      <th></th>\n",
       "      <th></th>\n",
       "      <th></th>\n",
       "      <th></th>\n",
       "      <th></th>\n",
       "      <th></th>\n",
       "      <th></th>\n",
       "      <th></th>\n",
       "      <th></th>\n",
       "      <th></th>\n",
       "      <th></th>\n",
       "      <th></th>\n",
       "      <th></th>\n",
       "      <th></th>\n",
       "      <th></th>\n",
       "    </tr>\n",
       "  </thead>\n",
       "  <tbody>\n",
       "    <tr>\n",
       "      <td>0</td>\n",
       "      <td>slightly reduced</td>\n",
       "      <td>57.0</td>\n",
       "      <td>NaN</td>\n",
       "      <td>NaN</td>\n",
       "      <td>NaN</td>\n",
       "      <td>NaN</td>\n",
       "      <td>1963</td>\n",
       "      <td>24.772097</td>\n",
       "      <td>neck</td>\n",
       "      <td>very good</td>\n",
       "      <td>...</td>\n",
       "      <td>no walkaid</td>\n",
       "      <td>75</td>\n",
       "      <td>8</td>\n",
       "      <td>0</td>\n",
       "      <td>6.0</td>\n",
       "      <td>6.0</td>\n",
       "      <td>1.0</td>\n",
       "      <td>work demand much walking</td>\n",
       "      <td>support10</td>\n",
       "      <td>support10_1_1963</td>\n",
       "    </tr>\n",
       "    <tr>\n",
       "      <td>1</td>\n",
       "      <td>slightly reduced</td>\n",
       "      <td>55.0</td>\n",
       "      <td>NaN</td>\n",
       "      <td>NaN</td>\n",
       "      <td>NaN</td>\n",
       "      <td>NaN</td>\n",
       "      <td>1965</td>\n",
       "      <td>26.573132</td>\n",
       "      <td>multisite/complex</td>\n",
       "      <td>very good</td>\n",
       "      <td>...</td>\n",
       "      <td>no walkaid</td>\n",
       "      <td>75</td>\n",
       "      <td>8</td>\n",
       "      <td>8</td>\n",
       "      <td>7.0</td>\n",
       "      <td>8.0</td>\n",
       "      <td>7.0</td>\n",
       "      <td>work demand much walking</td>\n",
       "      <td>support10</td>\n",
       "      <td>support10_2_1965</td>\n",
       "    </tr>\n",
       "    <tr>\n",
       "      <td>2</td>\n",
       "      <td>slightly reduced</td>\n",
       "      <td>37.0</td>\n",
       "      <td>NaN</td>\n",
       "      <td>NaN</td>\n",
       "      <td>NaN</td>\n",
       "      <td>NaN</td>\n",
       "      <td>1983</td>\n",
       "      <td>27.281748</td>\n",
       "      <td>multisite/complex</td>\n",
       "      <td>good</td>\n",
       "      <td>...</td>\n",
       "      <td>no walkaid</td>\n",
       "      <td>77</td>\n",
       "      <td>8</td>\n",
       "      <td>8</td>\n",
       "      <td>5.0</td>\n",
       "      <td>NaN</td>\n",
       "      <td>NaN</td>\n",
       "      <td>mostly seated</td>\n",
       "      <td>support10</td>\n",
       "      <td>support10_5_1983</td>\n",
       "    </tr>\n",
       "    <tr>\n",
       "      <td>3</td>\n",
       "      <td>slightly reduced</td>\n",
       "      <td>62.0</td>\n",
       "      <td>NaN</td>\n",
       "      <td>NaN</td>\n",
       "      <td>NaN</td>\n",
       "      <td>NaN</td>\n",
       "      <td>1958</td>\n",
       "      <td>30.487806</td>\n",
       "      <td>multisite/complex</td>\n",
       "      <td>good</td>\n",
       "      <td>...</td>\n",
       "      <td>no walkaid</td>\n",
       "      <td>82</td>\n",
       "      <td>8</td>\n",
       "      <td>9</td>\n",
       "      <td>9.0</td>\n",
       "      <td>NaN</td>\n",
       "      <td>9.0</td>\n",
       "      <td>work demands much walking and lifting</td>\n",
       "      <td>support10</td>\n",
       "      <td>support10_6_1958</td>\n",
       "    </tr>\n",
       "    <tr>\n",
       "      <td>4</td>\n",
       "      <td>quite reduced</td>\n",
       "      <td>64.0</td>\n",
       "      <td>NaN</td>\n",
       "      <td>NaN</td>\n",
       "      <td>NaN</td>\n",
       "      <td>no</td>\n",
       "      <td>1956</td>\n",
       "      <td>27.428572</td>\n",
       "      <td>back</td>\n",
       "      <td>very good</td>\n",
       "      <td>...</td>\n",
       "      <td>no walkaid</td>\n",
       "      <td>84</td>\n",
       "      <td>3</td>\n",
       "      <td>2</td>\n",
       "      <td>3.0</td>\n",
       "      <td>3.0</td>\n",
       "      <td>3.0</td>\n",
       "      <td>NaN</td>\n",
       "      <td>support10</td>\n",
       "      <td>support10_7_1956</td>\n",
       "    </tr>\n",
       "  </tbody>\n",
       "</table>\n",
       "<p>5 rows × 352 columns</p>\n",
       "</div>"
      ],
      "text/plain": [
       "          activity_1  age_1 back_nevro_pow_1 back_nevro_reflex_1  \\\n",
       "id                                                                 \n",
       "0   slightly reduced   57.0              NaN                 NaN   \n",
       "1   slightly reduced   55.0              NaN                 NaN   \n",
       "2   slightly reduced   37.0              NaN                 NaN   \n",
       "3   slightly reduced   62.0              NaN                 NaN   \n",
       "4      quite reduced   64.0              NaN                 NaN   \n",
       "\n",
       "   back_nevro_sens_1 back_slr_1  birth_year      bmi_1        body_main_1  \\\n",
       "id                                                                          \n",
       "0                NaN        NaN        1963  24.772097               neck   \n",
       "1                NaN        NaN        1965  26.573132  multisite/complex   \n",
       "2                NaN        NaN        1983  27.281748  multisite/complex   \n",
       "3                NaN        NaN        1958  30.487806  multisite/complex   \n",
       "4                NaN         no        1956  27.428572               back   \n",
       "\n",
       "   childhood_1  ...   walk_aid_1  weight_1 work_ability_1  work_ability_3  \\\n",
       "id              ...                                                         \n",
       "0    very good  ...   no walkaid        75              8               0   \n",
       "1    very good  ...   no walkaid        75              8               8   \n",
       "2         good  ...   no walkaid        77              8               8   \n",
       "3         good  ...   no walkaid        82              8               9   \n",
       "4    very good  ...   no walkaid        84              3               2   \n",
       "\n",
       "    work_ability_w2  work_ability_w4  work_ability_w8  \\\n",
       "id                                                      \n",
       "0               6.0              6.0              1.0   \n",
       "1               7.0              8.0              7.0   \n",
       "2               5.0              NaN              NaN   \n",
       "3               9.0              NaN              9.0   \n",
       "4               3.0              3.0              3.0   \n",
       "\n",
       "                              work_type_1  clinic_id        patient_id  \n",
       "id                                                                      \n",
       "0                work demand much walking  support10  support10_1_1963  \n",
       "1                work demand much walking  support10  support10_2_1965  \n",
       "2                           mostly seated  support10  support10_5_1983  \n",
       "3   work demands much walking and lifting  support10  support10_6_1958  \n",
       "4                                     NaN  support10  support10_7_1956  \n",
       "\n",
       "[5 rows x 352 columns]"
      ]
     },
     "execution_count": 17,
     "metadata": {},
     "output_type": "execute_result"
    }
   ],
   "source": [
    "df_labeled.index.name = 'id'\n",
    "df_labeled.head()"
   ]
  },
  {
   "cell_type": "markdown",
   "metadata": {},
   "source": [
    "# Write the complete updated dataset to an csv file\n",
    "## for: labeled and numeric dataset"
   ]
  },
  {
   "cell_type": "code",
   "execution_count": 18,
   "metadata": {},
   "outputs": [],
   "source": [
    "df_labeled.to_csv( f'{data_dir}1_sp_dataset_labeled.csv', index=True)"
   ]
  },
  {
   "cell_type": "code",
   "execution_count": 19,
   "metadata": {},
   "outputs": [
    {
     "name": "stdout",
     "output_type": "stream",
     "text": [
      "['activity_1', 'age_1', 'back_nevro_pow_1', 'back_nevro_reflex_1', 'back_nevro_sens_1', 'back_slr_1', 'birth_year', 'bmi_1', 'body_main_1', 'childhood_1', 'como_asthma_1', 'como_cancer_1', 'como_count_1', 'como_dementhia_1', 'como_diabetes_1', 'como_fatigue_1', 'como_headache_1', 'como_heart_1', 'como_neuro_1', 'como_osteoporosis_1', 'como_other_1', 'como_other_spec_1', 'como_psych_1', 'como_ra_1', 'como_stomach_pain_1', 'compliance_3', 'consultation_3', 'date_baseline_patient', 'diagnose_1', 'discussed_employer_3', 'discussed_family_3', 'discussed_nav_3', 'discussed_occupational_3', 'education_1', 'education_othersp_1', 'employ_1', 'employ_assess_1', 'employ_assess_3', 'employ_disability_1', 'employ_disability_3', 'employ_disabilityp_1', 'employ_disabilityp_3', 'employ_paid_1', 'employ_paid_3', 'employ_paidp_1', 'employ_paidp_3', 'employ_parentleave_1', 'employ_parentleave_3', 'employ_retired_1', 'employ_retired_3', 'employ_sick_1', 'employ_sick_3', 'employ_sickp_1', 'employ_sickp_3', 'employ_stud_1', 'employ_stud_3', 'employ_unempl_1', 'employ_unpaid_1', 'employ_unpaid_3', 'eq5d_adl_1', 'eq5d_adl_3', 'eq5d_care_1', 'eq5d_care_3', 'eq5d_depr_1', 'eq5d_depr_3', 'eq5d_pain_1', 'eq5d_pain_3', 'eq5d_walk_1', 'eq5d_walk_3', 'ethnicity_1', 'eval_goal_3', 'family_1', 'family_child_1', 'fear_1', 'gender_1', 'gpe_3', 'gpe_w2', 'gpe_w4', 'gpe_w8', 'health_lit_info_1', 'health_lit_sit_1', 'height_1', 'hscl_q10_1', 'hscl_q10_3', 'hscl_q1_1', 'hscl_q2_1', 'hscl_q2_3', 'hscl_q3_1', 'hscl_q3_3', 'hscl_q4_1', 'hscl_q4_3', 'hscl_q5_1', 'hscl_q5_3', 'hscl_q6_1', 'hscl_q6_3', 'hscl_q7_1', 'hscl_q7_3', 'hscl_q8_1', 'hscl_q8_3', 'hscl_q9_1', 'hscl_q9_3', 'hscl_score_1', 'hscl_score_3', 'icpc_letter_1', 'icpc_nr_1', 'journal_id', 'knee_hydrops_1', 'knee_trumatic_1', 'marital_1', 'medic_1', 'medic_3', 'medic_albyle_1', 'medic_albyle_3', 'medic_ibux_1', 'medic_ibux_3', 'medic_number_1', 'medic_number_3', 'medic_other_1', 'medic_other_3', 'medic_other_spec_1', 'medic_other_spec_3', 'medic_paracet_1', 'medic_paracet_3', 'mskhq_pa_1', 'mskhq_pa_3', 'mskhq_q10_1', 'mskhq_q10_3', 'mskhq_q11_1', 'mskhq_q11_3', 'mskhq_q12_1', 'mskhq_q12_3', 'mskhq_q13_1', 'mskhq_q13_3', 'mskhq_q14_1', 'mskhq_q14_3', 'mskhq_q1_1', 'mskhq_q1_3', 'mskhq_q2_1', 'mskhq_q2_3', 'mskhq_q3_1', 'mskhq_q3_3', 'mskhq_q4_1', 'mskhq_q4_3', 'mskhq_q5_1', 'mskhq_q5_3', 'mskhq_q6_1', 'mskhq_q6_3', 'mskhq_q7_1', 'mskhq_q7_3', 'mskhq_q8_1', 'mskhq_q8_3', 'mskhq_q9_1', 'mskhq_q9_3', 'mskhq_score_1', 'mskhq_score_3', 'mskt_q10_1', 'mskt_q1_1', 'mskt_q2_1', 'mskt_q3_1', 'mskt_q4_1', 'mskt_q5_1', 'mskt_q6_1', 'mskt_q7_1', 'mskt_q8_1', 'mskt_q9_1', 'mskt_risk_1', 'mskt_score_1', 'neck_conclusion_1', 'neck_nevro_pow_1', 'neck_nevro_reflex_1', 'neck_nevro_sens_1', 'neck_spurling_1', 'oreb_q10_1', 'oreb_q1_1', 'oreb_q2_1', 'oreb_q2_3', 'oreb_q2_w2', 'oreb_q2_w8', 'oreb_q3_1', 'oreb_q4_1', 'oreb_q5_1', 'oreb_q6_1', 'oreb_q7_1', 'oreb_q8_1', 'oreb_q9_1', 'oreb_score_1', 'out01', 'pain_continuous_1', 'pain_continuous_3', 'pain_duration_1', 'pain_freq_1', 'pain_freq_3', 'pain_lweek_1', 'pain_variation_1', 'pain_variation_3', 'pain_vary_1', 'pain_vary_3', 'painsite_elbow_1', 'painsite_elbow_3', 'painsite_feet_1', 'painsite_feet_3', 'painsite_hand_1', 'painsite_hand_3', 'painsite_head_1', 'painsite_head_3', 'painsite_knee_1', 'painsite_knee_3', 'painsite_lback_1', 'painsite_lback_3', 'painsite_neck_1', 'painsite_neck_3', 'painsite_number_1', 'painsite_number_3', 'painsite_shou_1', 'painsite_shou_3', 'painsite_thigh_1', 'painsite_thigh_3', 'painsite_uback_1', 'painsite_uback_3', 'patient_therapist_q1_3', 'patient_therapist_q2_3', 'patient_therapist_q3_3', 'physio_id', 'physio_spec_3', 'pseq_q1_1', 'pseq_q1_3', 'pseq_q1_w2', 'pseq_q1_w8', 'pseq_q2_1', 'pseq_q2_3', 'pseq_q2_w2', 'pseq_q2_w8', 'pseq_score_1', 'pseq_score_3', 'psfs1_1', 'psfs1_3', 'psfs1_act_1', 'psfs1_act_3', 'psfs1_act_w2', 'psfs1_act_w4', 'psfs1_act_w8', 'psfs1_w2', 'psfs1_w4', 'psfs1_w8', 'qol15D_q14_vital_1', 'qol15D_q14_vital_3', 'qol15D_q5_sleep_1', 'qol15D_q5_sleep_3', 'red_flag_cancer_1', 'red_flag_nightpain_1', 'red_flag_urination_1', 'red_flag_weight_1', 'shoulder_passive_extrot_1', 'smoking_1', 'treat_active_1_much_3', 'treat_active_1_none_3', 'treat_active_1_some_3', 'treat_active_2_much_3', 'treat_active_2_none_3', 'treat_active_2_some_3', 'treat_active_3_much_3', 'treat_active_3_none_3', 'treat_active_3_some_3', 'treat_active_4_much_3', 'treat_active_4_none_3', 'treat_active_4_some_3', 'treat_active_5_much_3', 'treat_active_5_none_3', 'treat_active_5_some_3', 'treat_active_6_much_3', 'treat_active_6_none_3', 'treat_active_6_some_3', 'treat_advice_10_much_3', 'treat_advice_10_none_3', 'treat_advice_10_some_3', 'treat_advice_1_much_3', 'treat_advice_1_none_3', 'treat_advice_1_some_3', 'treat_advice_2_much_3', 'treat_advice_2_none_3', 'treat_advice_2_some_3', 'treat_advice_3_much_3', 'treat_advice_3_none_3', 'treat_advice_3_some_3', 'treat_advice_4_much_3', 'treat_advice_4_none_3', 'treat_advice_4_some_3', 'treat_advice_5_much_3', 'treat_advice_5_none_3', 'treat_advice_5_some_3', 'treat_advice_6_much_3', 'treat_advice_6_none_3', 'treat_advice_6_some_3', 'treat_advice_7_much_3', 'treat_advice_7_none_3', 'treat_advice_7_some_3', 'treat_advice_8_much_3', 'treat_advice_8_none_3', 'treat_advice_8_some_3', 'treat_advice_9_much_3', 'treat_advice_9_none_3', 'treat_advice_9_some_3', 'treat_belief_1', 'treat_benefit_3', 'treat_contin_3', 'treat_desc1_3', 'treat_desc2_3', 'treat_discuss_gp_3', 'treat_discuss_other_3', 'treat_discuss_physio_3', 'treat_discuss_psycho_3', 'treat_discuss_specialist_3', 'treat_expect_3', 'treat_goal_1', 'treat_home_much_3', 'treat_home_none_3', 'treat_home_some_3', 'treat_passive_joint_much_3', 'treat_passive_joint_none_3', 'treat_passive_joint_some_3', 'treat_passive_massage_much_3', 'treat_passive_massage_none_3', 'treat_passive_massage_some_3', 'treat_passive_shockwave_much_3', 'treat_passive_shockwave_none_3', 'treat_passive_shockwave_some_3', 'treat_passive_stretch_much_3', 'treat_passive_stretch_none_3', 'treat_passive_stretch_some_3', 'treat_passive_trigger_much_3', 'treat_passive_trigger_none_3', 'treat_passive_trigger_some_3', 'treat_setting_group_much_3', 'treat_setting_group_none_3', 'treat_setting_group_some_3', 'treat_setting_individual_much_3', 'treat_setting_individual_none_3', 'treat_setting_individual_some_3', 'treat_setting_self_much_3', 'treat_setting_self_none_3', 'treat_setting_self_some_3', 'treatmentfactor_patient_3', 'walk_aid_1', 'weight_1', 'work_ability_1', 'work_ability_3', 'work_ability_w2', 'work_ability_w4', 'work_ability_w8', 'work_type_1', 'clinic_id', 'patient_id']\n"
     ]
    }
   ],
   "source": [
    "print(df_labeled.columns.tolist())"
   ]
  },
  {
   "cell_type": "code",
   "execution_count": null,
   "metadata": {},
   "outputs": [],
   "source": []
  },
  {
   "cell_type": "code",
   "execution_count": 20,
   "metadata": {},
   "outputs": [],
   "source": [
    "df_labeled = pd.read_csv(f'{data_dir}1_sp_dataset_labeled.csv', index_col='id')\n",
    "#df_numeric = pd.read_csv(file_numeric, index_col='id')"
   ]
  },
  {
   "cell_type": "code",
   "execution_count": null,
   "metadata": {},
   "outputs": [],
   "source": [
    "assert df_labeled.body_main_1.dtype.name != 'category' \n",
    "assert df_labeled.body_main_1.dtype.name == 'object' \n",
    "\n",
    "df_labeled.body_main_1.unique()"
   ]
  },
  {
   "cell_type": "code",
   "execution_count": null,
   "metadata": {},
   "outputs": [],
   "source": [
    "assert df_labeled.employ_1.dtype.name != 'category' \n",
    "assert df_labeled.employ_1.dtype.name == 'object' \n",
    "\n",
    "df_labeled.employ_1.unique()"
   ]
  },
  {
   "cell_type": "code",
   "execution_count": 22,
   "metadata": {},
   "outputs": [],
   "source": [
    "outcome_list = [\n",
    "'out01',\n",
    "#'out02'\n",
    "]"
   ]
  },
  {
   "cell_type": "code",
   "execution_count": 23,
   "metadata": {},
   "outputs": [
    {
     "data": {
      "text/html": [
       "<div>\n",
       "<style scoped>\n",
       "    .dataframe tbody tr th:only-of-type {\n",
       "        vertical-align: middle;\n",
       "    }\n",
       "\n",
       "    .dataframe tbody tr th {\n",
       "        vertical-align: top;\n",
       "    }\n",
       "\n",
       "    .dataframe thead th {\n",
       "        text-align: right;\n",
       "    }\n",
       "</style>\n",
       "<table border=\"1\" class=\"dataframe\">\n",
       "  <thead>\n",
       "    <tr style=\"text-align: right;\">\n",
       "      <th></th>\n",
       "      <th>out01</th>\n",
       "    </tr>\n",
       "    <tr>\n",
       "      <th>id</th>\n",
       "      <th></th>\n",
       "    </tr>\n",
       "  </thead>\n",
       "  <tbody>\n",
       "    <tr>\n",
       "      <td>0</td>\n",
       "      <td>0.0</td>\n",
       "    </tr>\n",
       "    <tr>\n",
       "      <td>1</td>\n",
       "      <td>0.0</td>\n",
       "    </tr>\n",
       "    <tr>\n",
       "      <td>2</td>\n",
       "      <td>1.0</td>\n",
       "    </tr>\n",
       "    <tr>\n",
       "      <td>3</td>\n",
       "      <td>1.0</td>\n",
       "    </tr>\n",
       "    <tr>\n",
       "      <td>4</td>\n",
       "      <td>0.0</td>\n",
       "    </tr>\n",
       "    <tr>\n",
       "      <td>5</td>\n",
       "      <td>0.0</td>\n",
       "    </tr>\n",
       "    <tr>\n",
       "      <td>6</td>\n",
       "      <td>0.0</td>\n",
       "    </tr>\n",
       "    <tr>\n",
       "      <td>7</td>\n",
       "      <td>0.0</td>\n",
       "    </tr>\n",
       "    <tr>\n",
       "      <td>8</td>\n",
       "      <td>0.0</td>\n",
       "    </tr>\n",
       "    <tr>\n",
       "      <td>9</td>\n",
       "      <td>1.0</td>\n",
       "    </tr>\n",
       "  </tbody>\n",
       "</table>\n",
       "</div>"
      ],
      "text/plain": [
       "    out01\n",
       "id       \n",
       "0     0.0\n",
       "1     0.0\n",
       "2     1.0\n",
       "3     1.0\n",
       "4     0.0\n",
       "5     0.0\n",
       "6     0.0\n",
       "7     0.0\n",
       "8     0.0\n",
       "9     1.0"
      ]
     },
     "execution_count": 23,
     "metadata": {},
     "output_type": "execute_result"
    }
   ],
   "source": [
    "df_labeled[outcome_list][:10]"
   ]
  },
  {
   "cell_type": "code",
   "execution_count": 24,
   "metadata": {},
   "outputs": [],
   "source": [
    "df = df_labeled.copy( deep=True)"
   ]
  },
  {
   "cell_type": "code",
   "execution_count": 25,
   "metadata": {},
   "outputs": [
    {
     "data": {
      "text/plain": [
       "array(['neck', 'multisite/complex', 'back', 'hip', 'shoulder', 'knee'],\n",
       "      dtype=object)"
      ]
     },
     "execution_count": 25,
     "metadata": {},
     "output_type": "execute_result"
    }
   ],
   "source": [
    "df.body_main_1.unique()"
   ]
  },
  {
   "cell_type": "code",
   "execution_count": 26,
   "metadata": {},
   "outputs": [
    {
     "data": {
      "text/plain": [
       "(63, 352)"
      ]
     },
     "execution_count": 26,
     "metadata": {},
     "output_type": "execute_result"
    }
   ],
   "source": [
    "df.shape"
   ]
  },
  {
   "cell_type": "code",
   "execution_count": 27,
   "metadata": {},
   "outputs": [
    {
     "data": {
      "text/plain": [
       "id\n",
       "0       high school\n",
       "1       high school\n",
       "2       high school\n",
       "3    primary school\n",
       "4       high school\n",
       "Name: education_1, dtype: object"
      ]
     },
     "execution_count": 27,
     "metadata": {},
     "output_type": "execute_result"
    }
   ],
   "source": [
    "df.education_1.head()"
   ]
  },
  {
   "cell_type": "code",
   "execution_count": 28,
   "metadata": {},
   "outputs": [
    {
     "data": {
      "text/plain": [
       "id\n",
       "0                         working or other\n",
       "1                         working or other\n",
       "2                         working or other\n",
       "3                         working or other\n",
       "4    disability pension or work assessment\n",
       "Name: employ_1, dtype: object"
      ]
     },
     "execution_count": 28,
     "metadata": {},
     "output_type": "execute_result"
    }
   ],
   "source": [
    "df.employ_1.head()"
   ]
  },
  {
   "cell_type": "markdown",
   "metadata": {},
   "source": [
    "# \n",
    "### Rounding of the float variables up to 2 decimal places"
   ]
  },
  {
   "cell_type": "code",
   "execution_count": 30,
   "metadata": {},
   "outputs": [
    {
     "name": "stdout",
     "output_type": "stream",
     "text": [
      "bmi_1\n",
      "hscl_score_1\n",
      "hscl_score_3\n"
     ]
    }
   ],
   "source": [
    "round_float_list = ['bmi_1',\n",
    "                    'hscl_score_1',\n",
    "                    \n",
    "                    #'ndi_total_1',  \n",
    "                    #'odi_total_1',  \n",
    "                    #'spadi_total_1',\n",
    "                    #'outcome_allpercent',\n",
    "                    \n",
    "                    'hscl_score_3',\n",
    "                    #'ndi_total_3',  \n",
    "                    #'odi_total_3',\n",
    "                    #'spadi_total_3'\n",
    "                   ]\n",
    "\n",
    "for col_name in round_float_list:\n",
    "    print(col_name)\n",
    "    df[col_name] = df[col_name].round(2)\n",
    "    df_labeled[col_name] = df[col_name].round(2)\n",
    "    #df_numeric[col_name] = df_numeric[col_name].round(2)\n",
    "    \n",
    "# df_labeled.hscl10_mean_1 = df_labeled.hscl10_mean_1.round(2)\n",
    "# df_labeled.ndi_total_1   = df_labeled.ndi_total_1.round(2)\n",
    "# df_labeled.odi_total_1   = df_labeled.odi_total_1.round(2)\n",
    "# df_labeled.spadi_total_1 = df_labeled.spadi_total_1.round(2)\n",
    "# \n",
    "# df_numeric.hscl10_mean_3 = df_numeric.hscl10_mean_3.round(2)\n",
    "# df_numeric.spadi_total_3 = df_numeric.spadi_total_3.round(2)\n",
    "# df_numeric.ndi_total_3   = df_numeric.ndi_total_3.round(2)\n",
    "# df_numeric.odi_total_3   = df_numeric.odi_total_3.round(2)"
   ]
  },
  {
   "cell_type": "code",
   "execution_count": 31,
   "metadata": {},
   "outputs": [],
   "source": [
    "# for testing\n",
    "#print(df_labeled[ round_float_list][:5]);\n",
    "#print(df_numeric[ round_float_list][:5]);"
   ]
  },
  {
   "cell_type": "markdown",
   "metadata": {},
   "source": [
    "## Drop all empty columns"
   ]
  },
  {
   "cell_type": "markdown",
   "metadata": {},
   "source": [
    "#### Issues with complete empty columns ????"
   ]
  },
  {
   "cell_type": "raw",
   "metadata": {},
   "source": [
    "print('Before drop : ', df.shape) # (506, 292)\n",
    "df.dropna( how='all', axis=1, inplace=True)\n",
    "print('After drop : ', df.shape) # (506, 279)\n",
    "\n",
    "print('Before drop : ', df_labeled.shape) # (506, 292)\n",
    "df_labeled.dropna( how='all', axis=1, inplace=True)\n",
    "print('After drop : ', df_labeled.shape) # (506, 279)\n",
    "\n",
    "#print('Before drop : ', df_numeric.shape) # (506, 292)\n",
    "#df_numeric.dropna( how='all', axis=1, inplace=True)\n",
    "#print('After drop : ', df_numeric.shape) # (506, 279)"
   ]
  },
  {
   "cell_type": "markdown",
   "metadata": {},
   "source": [
    "## Function for removing all leading and trailing spaces in a dataframe"
   ]
  },
  {
   "cell_type": "code",
   "execution_count": 32,
   "metadata": {},
   "outputs": [],
   "source": [
    "def remove_leading_trailing_spaces(tempdf=df):\n",
    "    df_obj = tempdf.select_dtypes(['object'])\n",
    "    tempdf[df_obj.columns] = df_obj.apply(lambda x: x.str.strip())\n",
    "    return tempdf"
   ]
  },
  {
   "cell_type": "markdown",
   "metadata": {},
   "source": [
    "## Function to repalce all characters of a string in a dataframe"
   ]
  },
  {
   "cell_type": "code",
   "execution_count": 33,
   "metadata": {},
   "outputs": [],
   "source": [
    "def replace_all_with( old, new, tempdf=df):\n",
    "    temp = tempdf.replace({old: new}, regex=True)\n",
    "    return temp"
   ]
  },
  {
   "cell_type": "raw",
   "metadata": {},
   "source": [
    "df.employment_1 = replace_all_with( 'Working,', 'Working ', df.employment_1)\n",
    "df.employment_1 = replace_all_with( 'Other: Student,retiree,non-paid work', 'Other: Student or retiree or non-paid work', df.employment_1)\n",
    "df_labeled.employment_1 = replace_all_with( 'Working,', 'Working ', df_labeled.employment_1)\n",
    "df_labeled.employment_1 = replace_all_with( 'Other: Student,retiree,non-paid work', 'Other: Student or retiree or non-paid work', df_labeled.employment_1)\n",
    "if( df.columns.contains('employment_3')):\n",
    "    df.employment_3 = replace_all_with( 'Working,', 'Working ', df.employment_3)\n",
    "    df.employment_3 = replace_all_with( 'Other: Student,retiree,non-paid work', 'Other: Student or retiree or non-paid work', df.employment_3)\n",
    "    df.employment_3.unique()"
   ]
  },
  {
   "cell_type": "code",
   "execution_count": 34,
   "metadata": {},
   "outputs": [],
   "source": [
    "# Must throw exception\n",
    "# df_numeric.employment_1 = replace_all_with( 'Working,', 'Working ', df_numeric.employment_1)\n",
    "# df_numeric.employment_1.unique()"
   ]
  },
  {
   "cell_type": "markdown",
   "metadata": {},
   "source": [
    "## Replace all special char"
   ]
  },
  {
   "cell_type": "markdown",
   "metadata": {},
   "source": [
    "### 1. '>' is replaced with 'GT' (Greater Than) and '<' is replaced with 'LT' (Lower/Less Than)"
   ]
  },
  {
   "cell_type": "code",
   "execution_count": 35,
   "metadata": {},
   "outputs": [],
   "source": [
    "#df_labeled.outcome_percent01.unique()"
   ]
  },
  {
   "cell_type": "code",
   "execution_count": 36,
   "metadata": {},
   "outputs": [],
   "source": [
    "df = replace_all_with('>', 'GT ', df)\n",
    "df = replace_all_with('≥', 'GT_EQ ', df)\n",
    "df = replace_all_with('<', 'LT ', df)\n",
    "\n",
    "df_labeled = replace_all_with('>', 'GT ', df_labeled)\n",
    "df_labeled = replace_all_with('≥', 'GT_EQ ', df_labeled)\n",
    "df_labeled = replace_all_with('<', 'LT ', df_labeled)\n",
    "\n",
    "#df_numeric = replace_all_with('>', 'GT ', df_numeric)\n",
    "#df_numeric = replace_all_with('<', 'LT ', df_numeric)"
   ]
  },
  {
   "cell_type": "code",
   "execution_count": 37,
   "metadata": {},
   "outputs": [],
   "source": [
    "#df_labeled.outcome_percent01.unique()"
   ]
  },
  {
   "cell_type": "markdown",
   "metadata": {},
   "source": [
    "### 2. '-'  to  ' - ' for readablity\n",
    "### 3. ';'  to  ':' (colon) to compenseate the next statement (4.) \n",
    "### 4. ','  to  ';' (semicolon) since they represent multiple values for a given attribute, and they will result in a 'csv' file "
   ]
  },
  {
   "cell_type": "code",
   "execution_count": 38,
   "metadata": {},
   "outputs": [],
   "source": [
    "df = replace_all_with( '-', ' - ', df)\n",
    "#df = replace_all_with( ';', ' : ', df)\n",
    "#df = replace_all_with( ',', ' ; ', df)\n",
    "\n",
    "df_labeled = replace_all_with( '-', ' - ', df_labeled)\n",
    "#df_labeled = replace_all_with( ';', ' : ', df_labeled)\n",
    "#df_labeled = replace_all_with( ',', ' ; ', df_labeled)\n",
    "\n",
    "#df_numeric = replace_all_with( '-', ' - ', df_numeric)\n",
    "#df_numeric = replace_all_with( ';', ' : ', df_numeric)\n",
    "#df_numeric = replace_all_with( ',', ' ; ', df_numeric)"
   ]
  },
  {
   "cell_type": "markdown",
   "metadata": {},
   "source": [
    "### 5. '%'  to  ' percent' to resolve the special char ambiguity"
   ]
  },
  {
   "cell_type": "code",
   "execution_count": 39,
   "metadata": {},
   "outputs": [],
   "source": [
    "df = replace_all_with( '%', ' percent', df)\n",
    "df_labeled = replace_all_with( '%', ' percent', df_labeled)\n",
    "#df_numeric = replace_all_with( '%', ' percent', df_numeric)"
   ]
  },
  {
   "cell_type": "code",
   "execution_count": 40,
   "metadata": {},
   "outputs": [
    {
     "data": {
      "text/plain": [
       "array(['neck', 'multisite/complex', 'back', 'hip', 'shoulder', 'knee'],\n",
       "      dtype=object)"
      ]
     },
     "execution_count": 40,
     "metadata": {},
     "output_type": "execute_result"
    }
   ],
   "source": [
    "df.body_main_1.unique()"
   ]
  },
  {
   "cell_type": "code",
   "execution_count": 41,
   "metadata": {},
   "outputs": [],
   "source": [
    "df = replace_all_with( '/', '_', df)\n",
    "df_labeled = replace_all_with( '/', '_', df_labeled)"
   ]
  },
  {
   "cell_type": "code",
   "execution_count": 42,
   "metadata": {},
   "outputs": [
    {
     "data": {
      "text/plain": [
       "array(['neck', 'multisite_complex', 'back', 'hip', 'shoulder', 'knee'],\n",
       "      dtype=object)"
      ]
     },
     "execution_count": 42,
     "metadata": {},
     "output_type": "execute_result"
    }
   ],
   "source": [
    "df.body_main_1.unique() # The data type should not be cateorical type for python"
   ]
  },
  {
   "cell_type": "code",
   "execution_count": 43,
   "metadata": {},
   "outputs": [],
   "source": [
    "#df.body_main_1.cat.rename_categories({'multisite/complex': 'multisite_complex'}, inplace=True)\n",
    "#df_labeled.body_main_1.cat.rename_categories({'multisite/complex': 'multisite_complex'}, inplace=True)"
   ]
  },
  {
   "cell_type": "code",
   "execution_count": null,
   "metadata": {},
   "outputs": [],
   "source": []
  },
  {
   "cell_type": "markdown",
   "metadata": {},
   "source": [
    "### 6. multiple spaces in the text to resolve the ambiguity in categorical values for myCBR"
   ]
  },
  {
   "cell_type": "code",
   "execution_count": 44,
   "metadata": {},
   "outputs": [],
   "source": [
    "df = replace_all_with( '   ', ' ', df)\n",
    "df = replace_all_with( '  ', ' ',  df)\n",
    "\n",
    "df_labeled = replace_all_with( '   ', ' ', df_labeled)\n",
    "df_labeled = replace_all_with( '  ', ' ',  df_labeled)\n",
    "\n",
    "#df_numeric = replace_all_with( '   ', ' ', df_numeric)\n",
    "#df_numeric = replace_all_with( '  ', ' ', df_numeric)"
   ]
  },
  {
   "cell_type": "code",
   "execution_count": 46,
   "metadata": {},
   "outputs": [
    {
     "data": {
      "text/plain": [
       "array([' working or other', 'disability pension or work assessment',\n",
       "       'sick leave'], dtype=object)"
      ]
     },
     "execution_count": 46,
     "metadata": {},
     "output_type": "execute_result"
    }
   ],
   "source": [
    "df.employ_1.unique() # watch for leading and trailing spaces"
   ]
  },
  {
   "cell_type": "code",
   "execution_count": 47,
   "metadata": {},
   "outputs": [],
   "source": [
    "#df_labeled.treat_base[:50]"
   ]
  },
  {
   "cell_type": "markdown",
   "metadata": {},
   "source": [
    "### 7. The attribute was originally like ''No, off and on', where  ',' was replaced to  ';'. But  ';' is the representation for multiple value thus we  need to convert  ';' to  ':' for its intended interpretation."
   ]
  },
  {
   "cell_type": "code",
   "execution_count": 48,
   "metadata": {},
   "outputs": [
    {
     "data": {
      "text/plain": [
       "id\n",
       "0    yes\n",
       "1     no\n",
       "2    yes\n",
       "3    yes\n",
       "4     no\n",
       "Name: pain_continuous_1, dtype: object"
      ]
     },
     "execution_count": 48,
     "metadata": {},
     "output_type": "execute_result"
    }
   ],
   "source": [
    "df.pain_continuous_1.head()"
   ]
  },
  {
   "cell_type": "raw",
   "metadata": {},
   "source": [
    "df.pain_continuous_1 = replace_all_with( 'No ; off and on', 'No : off and on',       df.pain_continuous_1)\n",
    "df.pain_continuous_1 = replace_all_with( 'Yes ; all the time', 'Yes : all the time', df.pain_continuous_1)\n",
    "df.pain_continuous_3 = replace_all_with( 'No ; off and on', 'No : off and on',       df.pain_continuous_3)\n",
    "df.pain_continuous_3 = replace_all_with( 'Yes ; all the time', 'Yes : all the time', df.pain_continuous_3)\n",
    "print(df.pain_continuous_1.unique())\n",
    "print(df.pain_continuous_3.unique())\n",
    "\n",
    "df_labeled.pain_continuous_1 = replace_all_with( 'No ; off and on', 'No : off and on',       df_labeled.pain_continuous_1)\n",
    "df_labeled.pain_continuous_1 = replace_all_with( 'Yes ; all the time', 'Yes : all the time', df_labeled.pain_continuous_1)\n",
    "df_labeled.pain_continuous_3 = replace_all_with( 'No ; off and on', 'No : off and on',       df_labeled.pain_continuous_3)\n",
    "df_labeled.pain_continuous_3 = replace_all_with( 'Yes ; all the time', 'Yes : all the time', df_labeled.pain_continuous_3)\n",
    "print(df_labeled.pain_continuous_1.unique())\n",
    "print(df_labeled.pain_continuous_3.unique())"
   ]
  },
  {
   "cell_type": "code",
   "execution_count": 49,
   "metadata": {},
   "outputs": [
    {
     "data": {
      "text/plain": [
       "array(['1-4', '0', '5 or more', nan], dtype=object)"
      ]
     },
     "execution_count": 49,
     "metadata": {},
     "output_type": "execute_result"
    }
   ],
   "source": [
    "df_labeled.medic_number_1.unique()"
   ]
  },
  {
   "cell_type": "code",
   "execution_count": 51,
   "metadata": {},
   "outputs": [
    {
     "name": "stdout",
     "output_type": "stream",
     "text": [
      "['1to4' '0' '5 or more' nan]\n",
      "['0' '1to4' nan]\n"
     ]
    }
   ],
   "source": [
    "df.medic_number_1 = df.medic_number_1.replace({'-': 'to'}, regex=True)\n",
    "df_labeled.medic_number_1 = df_labeled.medic_number_1.replace({'-': 'to'}, regex=True)\n",
    "print(df.medic_number_1.unique())\n",
    "\n",
    "df.medic_number_3 = df.medic_number_3.replace({'-': 'to'}, regex=True)\n",
    "df_labeled.medic_number_3 = df_labeled.medic_number_3.replace({'-': 'to'}, regex=True)\n",
    "print(df.medic_number_3.unique())\n",
    "\n",
    "#df.medic_number_1.cat.rename_categories({'1-4': '1 to 4'}, inplace=True)\n",
    "#df_labeled.medic_number_1.cat.rename_categories({'1-4': '1 to 4'}, inplace=True)\n",
    "#print(df.medic_number_1.unique())\n",
    "#\n",
    "#df.medic_number_3.cat.rename_categories({'1-4': '1 to 4'}, inplace=True)\n",
    "#df_labeled.medic_number_3.cat.rename_categories({'1-4': '1 to 4'}, inplace=True)\n",
    "#print(df.medic_number_3.unique())\n",
    "##df.treat_int_3 = df.treat_int_3.replace({'-': 'to'}, regex=True)\n",
    "##df.treat_int_3.unique()\n",
    "#\n",
    "##df_labeled.treat_int_3 = df_labeled.treat_int_3.replace({'-': 'to'}, regex=True)\n",
    "##df_labeled.treat_int_3.unique()"
   ]
  },
  {
   "cell_type": "code",
   "execution_count": 52,
   "metadata": {},
   "outputs": [
    {
     "name": "stderr",
     "output_type": "stream",
     "text": [
      "/lhome/amardj/anaconda3/envs/my_env/lib/python3.7/site-packages/ipykernel_launcher.py:1: FutureWarning: The 'contains' method is deprecated and will be removed in a future version. Use 'key in index' instead of 'index.contains(key)'\n",
      "  \"\"\"Entry point for launching an IPython kernel.\n"
     ]
    }
   ],
   "source": [
    "if( df.columns.contains('priokey')):\n",
    "    df.priokey.unique()\n",
    "    df.priokey = df.priokey.replace({';': '-'}, regex=True)\n",
    "\n",
    "    print(df.priokey.unique())"
   ]
  },
  {
   "cell_type": "raw",
   "metadata": {},
   "source": [
    "df.employment_1.unique()"
   ]
  },
  {
   "cell_type": "code",
   "execution_count": 53,
   "metadata": {},
   "outputs": [
    {
     "data": {
      "text/plain": [
       "array([' working or other', 'disability pension or work assessment',\n",
       "       'sick leave'], dtype=object)"
      ]
     },
     "execution_count": 53,
     "metadata": {},
     "output_type": "execute_result"
    }
   ],
   "source": [
    "df.employ_1.unique()"
   ]
  },
  {
   "cell_type": "code",
   "execution_count": 54,
   "metadata": {},
   "outputs": [
    {
     "data": {
      "text/plain": [
       "(63, 352)"
      ]
     },
     "execution_count": 54,
     "metadata": {},
     "output_type": "execute_result"
    }
   ],
   "source": [
    "df.shape  # (*, 355)"
   ]
  },
  {
   "cell_type": "code",
   "execution_count": 55,
   "metadata": {},
   "outputs": [],
   "source": [
    "df.como_other_spec_1.replace({' _ ':'-'}, regex=True, inplace=True)"
   ]
  },
  {
   "cell_type": "code",
   "execution_count": 56,
   "metadata": {},
   "outputs": [],
   "source": [
    "df.treat_goal_1.replace({' _ ':'-'}, regex=True, inplace=True)"
   ]
  },
  {
   "cell_type": "code",
   "execution_count": 57,
   "metadata": {},
   "outputs": [
    {
     "data": {
      "text/plain": [
       "['Smertefri og full jobb',\n",
       " 'Få hjelp til å mestre smertene og riktig tankesett',\n",
       " 'mindre smerter - endre livsstil (kost, søvn, trening)',\n",
       " 'Bli kvitt svimmelheten, full jobb, kommer igang med trening ',\n",
       " 'Mindre smerter og bedre funksjon. Sterkere rygg og mage',\n",
       " 'Opprettholde arbeidsevnen og komme igang med systematisk styrketrening',\n",
       " 'Fortsett være i 50 percent arbeid, gå ned noen kilo og unngå en proteseoperasjon. ',\n",
       " 'Fungere best mulig i hverdag og jobb, ned noen kilo, mindre smerter',\n",
       " 'Være i fullt arbeid, opprettholde aktivitetsnivået og treningen. Øke styrke i overkropp',\n",
       " 'Å bli smertefri i skulderen. Samt en generell økning i styrke i kroppen og litt opp i vekt. ',\n",
       " 'Mindre smerter i hverdagen, med mindre medisinbruk. Kartlegge bredt. ',\n",
       " 'Lære verktøy for påfyll i hverdagen uten å ta beredskapen_kroppslige forsvaret helt.',\n",
       " 'Jobbe med avspenning for dermed å forhåpetligvis påvirke smerten positivt.',\n",
       " 'Smertefrihet.',\n",
       " 'Smertefrihet.',\n",
       " 'Smertefrihet, tillit til og god funksjon i hofta.',\n",
       " 'Bli smertefri ',\n",
       " 'Gjenvinne normal funksjon uten smerte',\n",
       " 'Gjenvinne normal funksjon med regelmessig trening',\n",
       " 'Normal funksjon på jobb og greie å gjennomføre regelmessig trening.',\n",
       " 'Gjenvinne normal funksjon og ikke bli så sliten i hverdagen',\n",
       " 'Redusere hodepine og nakkesmerter',\n",
       " 'Ønsker forklaring på årsak og hjelp til forbedring av funksjon',\n",
       " 'Gå 2 km i strekk uten å stoppe pga. ryggen.',\n",
       " 'Trene opp kneet til bedre funksjon',\n",
       " 'Bedre funksjon og minske smerte i nakke og kjeve',\n",
       " 'Kunne komme i bedre form',\n",
       " 'Fjerne smertene',\n",
       " 'Fjelltur på Ruten til høsten',\n",
       " 'Fungere-klare de daglige aktiviteter hjemme',\n",
       " 'Gå en fjelltur alene. Geitfjellet rundt i terrenget.',\n",
       " 'Kunne gjøre diverse husarbeid uten å måtte dele det opp i flere dager. ',\n",
       " 'Smertefri',\n",
       " 'Håndtere ryggplage',\n",
       " 'Bedre hodepinen',\n",
       " 'Fungere i dagliglivet',\n",
       " 'Informasjon og veiledning om MR svar og videre aktivitetsnivå_trening',\n",
       " 'Få stabilitet om kneet og trygghet til å gjøre aktivitet uten bekymring for at kneet skal svikte',\n",
       " 'Avklare årsak til skjev rygg og vingescapula',\n",
       " 'Bedre respirasjon (dyp) og bli kvitt smertene knyttet til respirasjonen',\n",
       " 'Lette hodepine og redusere smerte_stivhet nakke_brystrygg så kan øke aktivitet med trening og jobb igjen',\n",
       " 'Målrettet, regelmessig og tilpasset trening og aktivitet med mestring og etterhvert progresjon. Optimalisere funksjon (styrke, utholdenhet, bev og koord, samt kognitiv status). Evaluering etter 3 mnd! Compliance & effekt av valgte tiltak',\n",
       " '3 mnd evaluering på gjennomføring og effekt av valgte tiltak. Det er ønskelig med optimalisering av funksjon (styrke, utholdenhet, bevegelighet, koordinasjon & kognitiv status), samt ha en følelse av mestring i hverdagen og trening. ',\n",
       " 'Regelmessig tilpasset trening og aktivitet med mestring. Optimalisere ryggfunksjon (styrke, utholdenhet, bev, koord, samt kognitiv status). Evaluering medio mai 2020. ',\n",
       " 'Regelmessighet i trening og aktivitet med mestringsfølelse. Optimalisere funksjon (styrke, utholdenhet, bevegelighet og koordinasjon, samt kognitiv status). Oppfølging av fysioterapeut. Evaluering mai_juni 2020.',\n",
       " 'Optimalisere funksjon i i uex (styrke, uth., bev og koordinasjon). Nedsatt mobilitet i ankel, samt styrke i leggmuskulatur. I tillegg bli det viktig med stabilitet_koord.',\n",
       " 'Regelmessig tilpasset trening og aktivitet med mestring (fritid, hverdag og trening). Optimalisere funksjon (styrke, uth, bev og koord, samt sørge for at kognitiv status er ok) med målrettet progresjon i trening og aktivitet. 3 mnd perspektiv - evaluering i sluten av mai 2020: compliance og effekt av valgte tiltak. ',\n",
       " 'Regelmessighet i trening og aktivitet med mestringsfølelse. Oppnå regelmessighet i trening primært. Optimalisere funksjon i uex-ankel (styrke, utholdenhet, bevegelighet, koordinasjon, samt kognitiv status). Oppfølging av fysioterapeut. Evaluering etter en tid (3 mnd) - april_mai 2020',\n",
       " 'Optimalisere skulderfunksjon ved å ha regelmessig trening (for å bedre styrke, utholdenhet, bevegelighet og koordinasjon, samt kognitiv status). Evaluering i mai 2020 - compliance og effekt av valgte tiltak. ',\n",
       " 'Regelmessig tilpasset trening i hverdagen med strikk. Hovedfokus ligger på prinsippet variasjon (få rotasjon og ekstensjon i ryggen).Etterhvert også sørge for progresjon i treningen (og evt variasjonen). Oppfølging av fysioterapeut - evaluering etter en stund (2-3mnd)',\n",
       " 'Regelmessighet i trening og aktivitet med mestring. Hovedmål er å optimalisere skulderfunskjon (styrke,utholdenhet, bevegelighet og koordinasjon, samt kognitiv status-gule flagg). Evaluering etter en tid (maks 3 mnd) -compliance og effekt av valgte tiltak. ',\n",
       " 'Bli bedre, bli mindre stiv, styrke muskulatur.',\n",
       " 'Få mindre smerter i dagliglivet',\n",
       " 'Bli smertefri\"- moderert til mindre smerter, bedre bevegelse i nakke\"',\n",
       " 'Ønsker ikke å ha begrensinger i dagliglivet, vil trene og bevege seg som normalt. Liker å være aktiv. ',\n",
       " 'Smertefri\", få tilbake den funksjonene hun hadde før det aktuelle, fungere bedre i dagliglivet\"',\n",
       " 'Smertefri, god funksjon, slipper bekymring',\n",
       " 'Smertefrihet. Normalisert bevegelighet',\n",
       " 'Kune trene og konkurere for fullt innen skiorientering',\n",
       " 'Styrke muskulatur for å kunne løfte og trekke uten smerter. ',\n",
       " 'Unngå å bli sykemeldt. Klare vanlige daglige aktiviteter med mindre smerter. ',\n",
       " 'Hun ønsker å bli smertefri. Kunne utføre dagligdagse aktiviteter og bevegelser lettere. ',\n",
       " 'Bli sterkere for å kunne gå bedre med krykker, gå med protese og bruke VE arm mer i det daglige']"
      ]
     },
     "execution_count": 57,
     "metadata": {},
     "output_type": "execute_result"
    }
   ],
   "source": [
    "df.treat_goal_1.tolist()"
   ]
  },
  {
   "cell_type": "code",
   "execution_count": 58,
   "metadata": {},
   "outputs": [],
   "source": [
    "#df.outcome_percent01 = df.outcome_percent01.replace({'â¥50': 'GT_EQ 50'}, regex=True)\n",
    "#df.outcome_percent01.unique()"
   ]
  },
  {
   "cell_type": "code",
   "execution_count": 59,
   "metadata": {},
   "outputs": [],
   "source": [
    "#df[['outcome_allpercent','outcome_percent','outcome_percent01']][:100]"
   ]
  },
  {
   "cell_type": "code",
   "execution_count": 60,
   "metadata": {},
   "outputs": [],
   "source": [
    "#df_labeled.outcome_percent.unique()"
   ]
  },
  {
   "cell_type": "code",
   "execution_count": 61,
   "metadata": {},
   "outputs": [],
   "source": [
    "#df_labeled.outcome_percent = df_labeled.outcome_percent.replace({'-': 'to'}, regex=True)\n",
    "#df_labeled.outcome_percent = df_labeled.outcome_percent.replace({'change/worse': 'change_worse'}, regex=True)\n",
    "#df_labeled.outcome_percent.unique()"
   ]
  },
  {
   "cell_type": "markdown",
   "metadata": {},
   "source": [
    "## Remove leading or trailing spaces"
   ]
  },
  {
   "cell_type": "code",
   "execution_count": 62,
   "metadata": {},
   "outputs": [],
   "source": [
    "df = remove_leading_trailing_spaces( tempdf=df)\n",
    "\n",
    "df_labeled = remove_leading_trailing_spaces( tempdf=df_labeled)\n",
    "\n",
    "#df_numeric = remove_leading_trailing_spaces( tempdf=df_numeric)"
   ]
  },
  {
   "cell_type": "code",
   "execution_count": 63,
   "metadata": {},
   "outputs": [
    {
     "data": {
      "text/plain": [
       "array(['working or other', 'disability pension or work assessment',\n",
       "       'sick leave'], dtype=object)"
      ]
     },
     "execution_count": 63,
     "metadata": {},
     "output_type": "execute_result"
    }
   ],
   "source": [
    "df.employ_1.unique()"
   ]
  },
  {
   "cell_type": "markdown",
   "metadata": {},
   "source": [
    "## Write the feature engineered dataframe to a \"csv\" file for myCBR analysis"
   ]
  },
  {
   "cell_type": "code",
   "execution_count": 64,
   "metadata": {},
   "outputs": [],
   "source": [
    "df.to_csv( f'{data_dir}2_sp_dataset_clean.csv', index=True)"
   ]
  },
  {
   "cell_type": "code",
   "execution_count": null,
   "metadata": {},
   "outputs": [],
   "source": []
  },
  {
   "cell_type": "code",
   "execution_count": null,
   "metadata": {},
   "outputs": [],
   "source": []
  }
 ],
 "metadata": {
  "kernelspec": {
   "display_name": "Python 3",
   "language": "python",
   "name": "python3"
  },
  "language_info": {
   "codemirror_mode": {
    "name": "ipython",
    "version": 3
   },
   "file_extension": ".py",
   "mimetype": "text/x-python",
   "name": "python",
   "nbconvert_exporter": "python",
   "pygments_lexer": "ipython3",
   "version": "3.7.4"
  }
 },
 "nbformat": 4,
 "nbformat_minor": 4
}

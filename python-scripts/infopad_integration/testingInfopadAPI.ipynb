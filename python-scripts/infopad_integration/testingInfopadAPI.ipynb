{
 "cells": [
  {
   "cell_type": "code",
   "execution_count": 12,
   "metadata": {},
   "outputs": [],
   "source": [
    "import requests\n",
    "import numpy as np\n",
    "\n",
    "resp = requests.get('https://www.infopad.no/admin/api/form?username=support32&password=sup32&projectid=249961487&journalId=1506801&birthYear=1980')\n",
    "#if resp.status_code != 200:\n",
    "#    # This means something went wrong.\n",
    "#    raise ApiError('GET /tasks/ {}'.format(resp.status_code))"
   ]
  },
  {
   "cell_type": "code",
   "execution_count": 15,
   "metadata": {},
   "outputs": [
    {
     "data": {
      "text/plain": [
       "54232"
      ]
     },
     "execution_count": 15,
     "metadata": {},
     "output_type": "execute_result"
    }
   ],
   "source": [
    "len(resp.content)"
   ]
  },
  {
   "cell_type": "code",
   "execution_count": null,
   "metadata": {},
   "outputs": [
    {
     "name": "stdout",
     "output_type": "stream",
     "text": [
      "CPU times: user 3 µs, sys: 0 ns, total: 3 µs\n",
      "Wall time: 4.77 µs\n"
     ]
    }
   ],
   "source": [
    "import http.client\n",
    "import socket\n",
    "\n",
    "% time\n",
    "\n",
    "def get_it(url):\n",
    "    try:\n",
    "        # always set a timeout when you connect to an external server\n",
    "        connection = http.client.HTTPSConnection(url, timeout=2)\n",
    " \n",
    "        connection.request( \"GET\", \"/\")\n",
    "\n",
    "        response = connection.getresponse()\n",
    "\n",
    "        return response.read()\n",
    "    except socket.timeout:\n",
    "        # in a real world scenario you would probably do stuff if the\n",
    "        # socket goes into timeout\n",
    "        pass\n",
    "\n",
    "urls = [\n",
    "    \"www.google.com\",\n",
    "    \"www.youtube.com\",\n",
    "    \"www.wikipedia.org\",\n",
    "    \"www.reddit.com\",\n",
    "    \"www.httpbin.org\"\n",
    "] * 50\n",
    "\n",
    "for url in urls:\n",
    "    get_it(url)"
   ]
  },
  {
   "cell_type": "code",
   "execution_count": 3,
   "metadata": {},
   "outputs": [
    {
     "name": "stdout",
     "output_type": "stream",
     "text": [
      "CPU times: user 2 µs, sys: 1 µs, total: 3 µs\n",
      "Wall time: 5.01 µs\n"
     ]
    }
   ],
   "source": [
    "% time"
   ]
  },
  {
   "cell_type": "code",
   "execution_count": null,
   "metadata": {},
   "outputs": [],
   "source": []
  },
  {
   "cell_type": "code",
   "execution_count": null,
   "metadata": {},
   "outputs": [],
   "source": []
  },
  {
   "cell_type": "code",
   "execution_count": null,
   "metadata": {},
   "outputs": [],
   "source": []
  },
  {
   "cell_type": "code",
   "execution_count": 40,
   "metadata": {},
   "outputs": [
    {
     "name": "stdout",
     "output_type": "stream",
     "text": [
      "31.78308606147766  :  175\n",
      "31.783523082733154  :  175\n",
      "31.7836012840271  :  175\n",
      "31.783656120300293  :  175\n",
      "31.78372311592102  :  175\n",
      "31.783759117126465  :  175\n",
      "35.49129128456116  :  175\n",
      "35.49154305458069  :  175\n",
      "35.491942167282104  :  175\n",
      "35.49201416969299  :  175\n",
      "35.492088079452515  :  175\n",
      "35.492154121398926  :  175\n",
      "35.492210149765015  :  175\n",
      "35.49226713180542  :  175\n",
      "35.49234318733215  :  175\n",
      "35.49242806434631  :  175\n",
      "35.493651151657104  :  175\n",
      "38.5553252696991  :  175\n",
      "40.354592084884644  :  175\n",
      "40.35483694076538  :  175\n",
      "62.62695121765137  :  54232\n",
      "62.62711811065674  :  175\n",
      "62.62718319892883  :  175\n",
      "62.62772512435913  :  175\n",
      "62.627806186676025  :  175\n",
      "62.6278600692749  :  175\n",
      "62.62790822982788  :  175\n",
      "62.62795114517212  :  175\n",
      "62.627997159957886  :  54232\n",
      "62.62806415557861  :  175\n",
      "62.628122091293335  :  175\n",
      "62.62819194793701  :  175\n",
      "62.628255128860474  :  175\n",
      "62.62832307815552  :  175\n",
      "62.6291880607605  :  175\n",
      "62.62925410270691  :  175\n",
      "62.62929821014404  :  54232\n",
      "62.629345178604126  :  175\n",
      "62.629390001297  :  175\n",
      "62.6294310092926  :  175\n",
      "62.62947416305542  :  175\n",
      "62.62951707839966  :  175\n",
      "62.62956690788269  :  175\n",
      "62.62961721420288  :  175\n",
      "62.62966299057007  :  175\n",
      "62.63020896911621  :  175\n",
      "62.63027024269104  :  175\n",
      "62.630319118499756  :  175\n",
      "62.630367040634155  :  175\n",
      "62.63040518760681  :  175\n",
      "62.71535897254944\n",
      "CPU times: user 245 ms, sys: 394 ms, total: 639 ms\n",
      "Wall time: 1min 2s\n"
     ]
    }
   ],
   "source": [
    "%%time\n",
    "# https://dev.to/rhymes/how-to-make-python-code-concurrent-with-3-lines-of-code-2fpe\n",
    "from concurrent.futures import ProcessPoolExecutor as PoolExecutor\n",
    "#from concurrent.futures import ThreadPoolExecutor as PoolExecutor\n",
    "import http.client\n",
    "import socket\n",
    "import requests\n",
    "import numpy as np\n",
    "import time\n",
    "\n",
    "\n",
    "\n",
    "def get_patients(url):\n",
    "    try:\n",
    "        \n",
    "        response = requests.get('https://www.infopad.no/admin/api/form?username=support32&password=sup32&projectid=249961487&journalId=1506801&birthYear=1980')\n",
    "        \n",
    "        #print(len(response.content))\n",
    "\n",
    "        return response.content\n",
    "    except socket.timeout:\n",
    "        # in a real world scenario you would probably do stuff if the\n",
    "        # socket goes into timeout\n",
    "        print(\"timeout\")\n",
    "        pass\n",
    "\n",
    "urls = [\n",
    "    1,2,3,4,5\n",
    "] * 10\n",
    "\n",
    "start = time.time()\n",
    "with PoolExecutor(max_workers=100) as executor:\n",
    "    for body in executor.map(get_patients, urls):\n",
    "        end = time.time()\n",
    "        print( end-start, ' : ', len(body))\n",
    "        pass\n",
    "    \n",
    "print( time.time() - start)"
   ]
  },
  {
   "cell_type": "code",
   "execution_count": 41,
   "metadata": {},
   "outputs": [
    {
     "data": {
      "text/plain": [
       "4.559639930725098"
      ]
     },
     "execution_count": 41,
     "metadata": {},
     "output_type": "execute_result"
    }
   ],
   "source": [
    "start = time.time()\n",
    "response = requests.get('https://www.infopad.no/admin/api/form?username=support32&password=sup32&projectid=249961487&journalId=1506801&birthYear=1980')\n",
    "time.time() - start"
   ]
  },
  {
   "cell_type": "code",
   "execution_count": 32,
   "metadata": {},
   "outputs": [
    {
     "data": {
      "text/plain": [
       "54232"
      ]
     },
     "execution_count": 32,
     "metadata": {},
     "output_type": "execute_result"
    }
   ],
   "source": [
    "len( response.content)"
   ]
  },
  {
   "cell_type": "code",
   "execution_count": 37,
   "metadata": {},
   "outputs": [
    {
     "data": {
      "text/plain": [
       "[1,\n",
       " 2,\n",
       " 3,\n",
       " 4,\n",
       " 5,\n",
       " 1,\n",
       " 2,\n",
       " 3,\n",
       " 4,\n",
       " 5,\n",
       " 1,\n",
       " 2,\n",
       " 3,\n",
       " 4,\n",
       " 5,\n",
       " 1,\n",
       " 2,\n",
       " 3,\n",
       " 4,\n",
       " 5,\n",
       " 1,\n",
       " 2,\n",
       " 3,\n",
       " 4,\n",
       " 5,\n",
       " 1,\n",
       " 2,\n",
       " 3,\n",
       " 4,\n",
       " 5,\n",
       " 1,\n",
       " 2,\n",
       " 3,\n",
       " 4,\n",
       " 5,\n",
       " 1,\n",
       " 2,\n",
       " 3,\n",
       " 4,\n",
       " 5,\n",
       " 1,\n",
       " 2,\n",
       " 3,\n",
       " 4,\n",
       " 5,\n",
       " 1,\n",
       " 2,\n",
       " 3,\n",
       " 4,\n",
       " 5]"
      ]
     },
     "execution_count": 37,
     "metadata": {},
     "output_type": "execute_result"
    }
   ],
   "source": [
    "urls = [\n",
    "    1,2,3,4,5\n",
    "] * 10"
   ]
  },
  {
   "cell_type": "code",
   "execution_count": 27,
   "metadata": {},
   "outputs": [
    {
     "data": {
      "text/plain": [
       "time.struct_time(tm_year=2020, tm_mon=7, tm_mday=1, tm_hour=13, tm_min=53, tm_sec=1, tm_wday=2, tm_yday=183, tm_isdst=1)"
      ]
     },
     "execution_count": 27,
     "metadata": {},
     "output_type": "execute_result"
    }
   ],
   "source": [
    "time.localtime()"
   ]
  },
  {
   "cell_type": "code",
   "execution_count": null,
   "metadata": {},
   "outputs": [],
   "source": []
  }
 ],
 "metadata": {
  "kernelspec": {
   "display_name": "Python 3",
   "language": "python",
   "name": "python3"
  },
  "language_info": {
   "codemirror_mode": {
    "name": "ipython",
    "version": 3
   },
   "file_extension": ".py",
   "mimetype": "text/x-python",
   "name": "python",
   "nbconvert_exporter": "python",
   "pygments_lexer": "ipython3",
   "version": "3.8.3"
  }
 },
 "nbformat": 4,
 "nbformat_minor": 4
}
